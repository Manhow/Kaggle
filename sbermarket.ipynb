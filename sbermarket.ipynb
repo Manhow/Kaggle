{
  "nbformat": 4,
  "nbformat_minor": 0,
  "metadata": {
    "colab": {
      "name": "sbermarket.ipynb",
      "provenance": [],
      "collapsed_sections": [
        "wBXxLNSPmzMV",
        "k8yV08d3hntM",
        "KT1Q-1iWhn7u",
        "mMIyalfUnoBl",
        "z-f4uZV_yQNe",
        "Bi1eAhkYqJIn",
        "vBQQSSbRnF8d",
        "pr1PO5bFnaCG",
        "IDgYZ__hm1ZI",
        "BAHt-y7o0fvb",
        "1n5v3qkr0w69",
        "JcpGbtsI00BE",
        "uO1BtfId1VaW",
        "qitz8qitofBY",
        "VE4cdJxDorOj"
      ]
    },
    "kernelspec": {
      "name": "python3",
      "display_name": "Python 3"
    },
    "language_info": {
      "name": "python"
    }
  },
  "cells": [
    {
      "cell_type": "code",
      "metadata": {
        "colab": {
          "base_uri": "https://localhost:8080/"
        },
        "id": "U2B28lSvhcwY",
        "outputId": "d46aadba-782f-4d5f-9fff-1e47110a73d3"
      },
      "source": [
        "from google.colab import drive\n",
        "drive.mount('/content/drive')"
      ],
      "execution_count": null,
      "outputs": [
        {
          "output_type": "stream",
          "name": "stdout",
          "text": [
            "Mounted at /content/drive\n"
          ]
        }
      ]
    },
    {
      "cell_type": "markdown",
      "metadata": {
        "id": "wBXxLNSPmzMV"
      },
      "source": [
        "# Libs"
      ]
    },
    {
      "cell_type": "code",
      "metadata": {
        "id": "9vUOUVJZhj0I"
      },
      "source": [
        "# Import all the tools\n",
        "import numpy as np\n",
        "import pandas as pd\n",
        "import matplotlib.pyplot as plt\n",
        "import seaborn as sns\n",
        "\n",
        "# plots inside the notebook\n",
        "%matplotlib inline \n",
        "\n",
        "# Models from sklearn\n",
        "from sklearn.linear_model import LogisticRegression # see the map\n",
        "from sklearn.neighbors import KNeighborsClassifier\n",
        "from sklearn.ensemble import RandomForestClassifier\n",
        "from sklearn.naive_bayes import GaussianNB\n",
        "\n",
        "# Model Evaluations\n",
        "from sklearn.model_selection import train_test_split, cross_val_score\n",
        "from sklearn.model_selection import RandomizedSearchCV, GridSearchCV\n",
        "from sklearn.metrics import confusion_matrix, classification_report\n",
        "from sklearn.metrics import precision_score, recall_score, f1_score\n",
        "from sklearn.metrics import plot_roc_curve"
      ],
      "execution_count": null,
      "outputs": []
    },
    {
      "cell_type": "markdown",
      "metadata": {
        "id": "k8yV08d3hntM"
      },
      "source": [
        "# 0. Input Data"
      ]
    },
    {
      "cell_type": "markdown",
      "metadata": {
        "id": "KT1Q-1iWhn7u"
      },
      "source": [
        "## Loading and preparing data"
      ]
    },
    {
      "cell_type": "code",
      "metadata": {
        "id": "bI8jRRnVhsVd"
      },
      "source": [
        "df = pd.read_csv(\"/content/drive/MyDrive/Colab_Notebooks/Sber_market/train.csv\")"
      ],
      "execution_count": null,
      "outputs": []
    },
    {
      "cell_type": "code",
      "metadata": {
        "colab": {
          "base_uri": "https://localhost:8080/"
        },
        "id": "VilPXRPlh-6X",
        "outputId": "cce7917c-b8f1-4340-97b1-bc7b0ec29d37"
      },
      "source": [
        "df"
      ],
      "execution_count": null,
      "outputs": [
        {
          "output_type": "execute_result",
          "data": {
            "text/html": [
              "<div>\n",
              "<style scoped>\n",
              "    .dataframe tbody tr th:only-of-type {\n",
              "        vertical-align: middle;\n",
              "    }\n",
              "\n",
              "    .dataframe tbody tr th {\n",
              "        vertical-align: top;\n",
              "    }\n",
              "\n",
              "    .dataframe thead th {\n",
              "        text-align: right;\n",
              "    }\n",
              "</style>\n",
              "<table border=\"1\" class=\"dataframe\">\n",
              "  <thead>\n",
              "    <tr style=\"text-align: right;\">\n",
              "      <th></th>\n",
              "      <th>user_id</th>\n",
              "      <th>order_completed_at</th>\n",
              "      <th>cart</th>\n",
              "    </tr>\n",
              "  </thead>\n",
              "  <tbody>\n",
              "    <tr>\n",
              "      <th>0</th>\n",
              "      <td>2</td>\n",
              "      <td>2015-03-22 09:25:46</td>\n",
              "      <td>399</td>\n",
              "    </tr>\n",
              "    <tr>\n",
              "      <th>1</th>\n",
              "      <td>2</td>\n",
              "      <td>2015-03-22 09:25:46</td>\n",
              "      <td>14</td>\n",
              "    </tr>\n",
              "    <tr>\n",
              "      <th>2</th>\n",
              "      <td>2</td>\n",
              "      <td>2015-03-22 09:25:46</td>\n",
              "      <td>198</td>\n",
              "    </tr>\n",
              "    <tr>\n",
              "      <th>3</th>\n",
              "      <td>2</td>\n",
              "      <td>2015-03-22 09:25:46</td>\n",
              "      <td>88</td>\n",
              "    </tr>\n",
              "    <tr>\n",
              "      <th>4</th>\n",
              "      <td>2</td>\n",
              "      <td>2015-03-22 09:25:46</td>\n",
              "      <td>157</td>\n",
              "    </tr>\n",
              "    <tr>\n",
              "      <th>...</th>\n",
              "      <td>...</td>\n",
              "      <td>...</td>\n",
              "      <td>...</td>\n",
              "    </tr>\n",
              "    <tr>\n",
              "      <th>3123059</th>\n",
              "      <td>12702</td>\n",
              "      <td>2020-09-03 23:45:45</td>\n",
              "      <td>441</td>\n",
              "    </tr>\n",
              "    <tr>\n",
              "      <th>3123060</th>\n",
              "      <td>12702</td>\n",
              "      <td>2020-09-03 23:45:45</td>\n",
              "      <td>92</td>\n",
              "    </tr>\n",
              "    <tr>\n",
              "      <th>3123061</th>\n",
              "      <td>12702</td>\n",
              "      <td>2020-09-03 23:45:45</td>\n",
              "      <td>431</td>\n",
              "    </tr>\n",
              "    <tr>\n",
              "      <th>3123062</th>\n",
              "      <td>12702</td>\n",
              "      <td>2020-09-03 23:45:45</td>\n",
              "      <td>24</td>\n",
              "    </tr>\n",
              "    <tr>\n",
              "      <th>3123063</th>\n",
              "      <td>12702</td>\n",
              "      <td>2020-09-03 23:45:45</td>\n",
              "      <td>430</td>\n",
              "    </tr>\n",
              "  </tbody>\n",
              "</table>\n",
              "<p>3123064 rows × 3 columns</p>\n",
              "</div>"
            ],
            "text/plain": [
              "         user_id   order_completed_at  cart\n",
              "0              2  2015-03-22 09:25:46   399\n",
              "1              2  2015-03-22 09:25:46    14\n",
              "2              2  2015-03-22 09:25:46   198\n",
              "3              2  2015-03-22 09:25:46    88\n",
              "4              2  2015-03-22 09:25:46   157\n",
              "...          ...                  ...   ...\n",
              "3123059    12702  2020-09-03 23:45:45   441\n",
              "3123060    12702  2020-09-03 23:45:45    92\n",
              "3123061    12702  2020-09-03 23:45:45   431\n",
              "3123062    12702  2020-09-03 23:45:45    24\n",
              "3123063    12702  2020-09-03 23:45:45   430\n",
              "\n",
              "[3123064 rows x 3 columns]"
            ]
          },
          "metadata": {},
          "execution_count": 71
        }
      ]
    },
    {
      "cell_type": "code",
      "metadata": {
        "colab": {
          "base_uri": "https://localhost:8080/"
        },
        "id": "YLWCSKviieV_",
        "outputId": "4161cd0d-6f96-4fc8-a6f3-bc0316814778"
      },
      "source": [
        "df.dtypes"
      ],
      "execution_count": null,
      "outputs": [
        {
          "output_type": "execute_result",
          "data": {
            "text/plain": [
              "user_id                int64\n",
              "order_completed_at    object\n",
              "cart                   int64\n",
              "dtype: object"
            ]
          },
          "metadata": {},
          "execution_count": 72
        }
      ]
    },
    {
      "cell_type": "code",
      "metadata": {
        "colab": {
          "base_uri": "https://localhost:8080/"
        },
        "id": "09Zf49ywiKa0",
        "outputId": "5a315058-3ffa-48f2-ed18-780d49c8f051"
      },
      "source": [
        "df.shape"
      ],
      "execution_count": null,
      "outputs": [
        {
          "output_type": "execute_result",
          "data": {
            "text/plain": [
              "(3123064, 3)"
            ]
          },
          "metadata": {},
          "execution_count": 73
        }
      ]
    },
    {
      "cell_type": "code",
      "metadata": {
        "colab": {
          "base_uri": "https://localhost:8080/"
        },
        "id": "G0P8toKNiV3Z",
        "outputId": "4521eca6-a424-4a7a-b390-460dba4ffde2"
      },
      "source": [
        "df.isna().sum()"
      ],
      "execution_count": null,
      "outputs": [
        {
          "output_type": "execute_result",
          "data": {
            "text/plain": [
              "user_id               0\n",
              "order_completed_at    0\n",
              "cart                  0\n",
              "dtype: int64"
            ]
          },
          "metadata": {},
          "execution_count": 74
        }
      ]
    },
    {
      "cell_type": "code",
      "metadata": {
        "colab": {
          "base_uri": "https://localhost:8080/"
        },
        "id": "ZcDoDJyGoRsF",
        "outputId": "169b0bbd-9d3d-4c81-98f2-cdc265958750"
      },
      "source": [
        "df.head()"
      ],
      "execution_count": null,
      "outputs": [
        {
          "output_type": "execute_result",
          "data": {
            "text/html": [
              "<div>\n",
              "<style scoped>\n",
              "    .dataframe tbody tr th:only-of-type {\n",
              "        vertical-align: middle;\n",
              "    }\n",
              "\n",
              "    .dataframe tbody tr th {\n",
              "        vertical-align: top;\n",
              "    }\n",
              "\n",
              "    .dataframe thead th {\n",
              "        text-align: right;\n",
              "    }\n",
              "</style>\n",
              "<table border=\"1\" class=\"dataframe\">\n",
              "  <thead>\n",
              "    <tr style=\"text-align: right;\">\n",
              "      <th></th>\n",
              "      <th>user_id</th>\n",
              "      <th>order_completed_at</th>\n",
              "      <th>cart</th>\n",
              "    </tr>\n",
              "  </thead>\n",
              "  <tbody>\n",
              "    <tr>\n",
              "      <th>0</th>\n",
              "      <td>2</td>\n",
              "      <td>2015-03-22 09:25:46</td>\n",
              "      <td>399</td>\n",
              "    </tr>\n",
              "    <tr>\n",
              "      <th>1</th>\n",
              "      <td>2</td>\n",
              "      <td>2015-03-22 09:25:46</td>\n",
              "      <td>14</td>\n",
              "    </tr>\n",
              "    <tr>\n",
              "      <th>2</th>\n",
              "      <td>2</td>\n",
              "      <td>2015-03-22 09:25:46</td>\n",
              "      <td>198</td>\n",
              "    </tr>\n",
              "    <tr>\n",
              "      <th>3</th>\n",
              "      <td>2</td>\n",
              "      <td>2015-03-22 09:25:46</td>\n",
              "      <td>88</td>\n",
              "    </tr>\n",
              "    <tr>\n",
              "      <th>4</th>\n",
              "      <td>2</td>\n",
              "      <td>2015-03-22 09:25:46</td>\n",
              "      <td>157</td>\n",
              "    </tr>\n",
              "  </tbody>\n",
              "</table>\n",
              "</div>"
            ],
            "text/plain": [
              "   user_id   order_completed_at  cart\n",
              "0        2  2015-03-22 09:25:46   399\n",
              "1        2  2015-03-22 09:25:46    14\n",
              "2        2  2015-03-22 09:25:46   198\n",
              "3        2  2015-03-22 09:25:46    88\n",
              "4        2  2015-03-22 09:25:46   157"
            ]
          },
          "metadata": {},
          "execution_count": 75
        }
      ]
    },
    {
      "cell_type": "markdown",
      "metadata": {
        "id": "mMIyalfUnoBl"
      },
      "source": [
        "## Convert datetime"
      ]
    },
    {
      "cell_type": "code",
      "metadata": {
        "id": "CEjb_Owlnl-B"
      },
      "source": [
        "df['order_completed_at'] = pd.to_datetime(df['order_completed_at'], format='%Y-%m-%d %H:%M:%S')"
      ],
      "execution_count": null,
      "outputs": []
    },
    {
      "cell_type": "code",
      "metadata": {
        "colab": {
          "base_uri": "https://localhost:8080/"
        },
        "id": "WxkTuLRynyc5",
        "outputId": "17b8ea30-306e-4571-e022-3413bf6361e8"
      },
      "source": [
        "df.dtypes"
      ],
      "execution_count": null,
      "outputs": [
        {
          "output_type": "execute_result",
          "data": {
            "text/plain": [
              "user_id                        int64\n",
              "order_completed_at    datetime64[ns]\n",
              "cart                           int64\n",
              "dtype: object"
            ]
          },
          "metadata": {},
          "execution_count": 77
        }
      ]
    },
    {
      "cell_type": "code",
      "metadata": {
        "id": "kuLGHqTQz3sO"
      },
      "source": [
        "# Make a copy\n",
        "df_tmp = df.copy()"
      ],
      "execution_count": null,
      "outputs": []
    },
    {
      "cell_type": "code",
      "metadata": {
        "colab": {
          "base_uri": "https://localhost:8080/"
        },
        "id": "w6zP7ATez8d-",
        "outputId": "70292dc2-ae71-4f97-a89b-2f113394c429"
      },
      "source": [
        "df.head()"
      ],
      "execution_count": null,
      "outputs": [
        {
          "output_type": "execute_result",
          "data": {
            "text/html": [
              "<div>\n",
              "<style scoped>\n",
              "    .dataframe tbody tr th:only-of-type {\n",
              "        vertical-align: middle;\n",
              "    }\n",
              "\n",
              "    .dataframe tbody tr th {\n",
              "        vertical-align: top;\n",
              "    }\n",
              "\n",
              "    .dataframe thead th {\n",
              "        text-align: right;\n",
              "    }\n",
              "</style>\n",
              "<table border=\"1\" class=\"dataframe\">\n",
              "  <thead>\n",
              "    <tr style=\"text-align: right;\">\n",
              "      <th></th>\n",
              "      <th>user_id</th>\n",
              "      <th>order_completed_at</th>\n",
              "      <th>cart</th>\n",
              "    </tr>\n",
              "  </thead>\n",
              "  <tbody>\n",
              "    <tr>\n",
              "      <th>0</th>\n",
              "      <td>2</td>\n",
              "      <td>2015-03-22 09:25:46</td>\n",
              "      <td>399</td>\n",
              "    </tr>\n",
              "    <tr>\n",
              "      <th>1</th>\n",
              "      <td>2</td>\n",
              "      <td>2015-03-22 09:25:46</td>\n",
              "      <td>14</td>\n",
              "    </tr>\n",
              "    <tr>\n",
              "      <th>2</th>\n",
              "      <td>2</td>\n",
              "      <td>2015-03-22 09:25:46</td>\n",
              "      <td>198</td>\n",
              "    </tr>\n",
              "    <tr>\n",
              "      <th>3</th>\n",
              "      <td>2</td>\n",
              "      <td>2015-03-22 09:25:46</td>\n",
              "      <td>88</td>\n",
              "    </tr>\n",
              "    <tr>\n",
              "      <th>4</th>\n",
              "      <td>2</td>\n",
              "      <td>2015-03-22 09:25:46</td>\n",
              "      <td>157</td>\n",
              "    </tr>\n",
              "  </tbody>\n",
              "</table>\n",
              "</div>"
            ],
            "text/plain": [
              "   user_id  order_completed_at  cart\n",
              "0        2 2015-03-22 09:25:46   399\n",
              "1        2 2015-03-22 09:25:46    14\n",
              "2        2 2015-03-22 09:25:46   198\n",
              "3        2 2015-03-22 09:25:46    88\n",
              "4        2 2015-03-22 09:25:46   157"
            ]
          },
          "metadata": {},
          "execution_count": 79
        }
      ]
    },
    {
      "cell_type": "code",
      "metadata": {
        "id": "wwRYz70q0OtW"
      },
      "source": [
        "df_tmp[\"year\"] = df_tmp.order_completed_at.dt.year\n",
        "df_tmp[\"month\"] = df_tmp.order_completed_at.dt.month\n",
        "df_tmp[\"day\"] = df_tmp.order_completed_at.dt.day\n",
        "df_tmp[\"hour\"] = df_tmp.order_completed_at.dt.hour\n",
        "df_tmp[\"min\"] = df_tmp.order_completed_at.dt.minute\n",
        "df_tmp[\"sec\"] = df_tmp.order_completed_at.dt.second"
      ],
      "execution_count": null,
      "outputs": []
    },
    {
      "cell_type": "code",
      "metadata": {
        "colab": {
          "base_uri": "https://localhost:8080/"
        },
        "id": "XMw-akKx0UjS",
        "outputId": "97e68a69-9616-4a4e-dc2a-b6f578eb49b7"
      },
      "source": [
        "df_tmp.head()"
      ],
      "execution_count": null,
      "outputs": [
        {
          "output_type": "execute_result",
          "data": {
            "text/html": [
              "<div>\n",
              "<style scoped>\n",
              "    .dataframe tbody tr th:only-of-type {\n",
              "        vertical-align: middle;\n",
              "    }\n",
              "\n",
              "    .dataframe tbody tr th {\n",
              "        vertical-align: top;\n",
              "    }\n",
              "\n",
              "    .dataframe thead th {\n",
              "        text-align: right;\n",
              "    }\n",
              "</style>\n",
              "<table border=\"1\" class=\"dataframe\">\n",
              "  <thead>\n",
              "    <tr style=\"text-align: right;\">\n",
              "      <th></th>\n",
              "      <th>user_id</th>\n",
              "      <th>order_completed_at</th>\n",
              "      <th>cart</th>\n",
              "      <th>year</th>\n",
              "      <th>month</th>\n",
              "      <th>day</th>\n",
              "      <th>hour</th>\n",
              "      <th>min</th>\n",
              "      <th>sec</th>\n",
              "    </tr>\n",
              "  </thead>\n",
              "  <tbody>\n",
              "    <tr>\n",
              "      <th>0</th>\n",
              "      <td>2</td>\n",
              "      <td>2015-03-22 09:25:46</td>\n",
              "      <td>399</td>\n",
              "      <td>2015</td>\n",
              "      <td>3</td>\n",
              "      <td>22</td>\n",
              "      <td>9</td>\n",
              "      <td>25</td>\n",
              "      <td>46</td>\n",
              "    </tr>\n",
              "    <tr>\n",
              "      <th>1</th>\n",
              "      <td>2</td>\n",
              "      <td>2015-03-22 09:25:46</td>\n",
              "      <td>14</td>\n",
              "      <td>2015</td>\n",
              "      <td>3</td>\n",
              "      <td>22</td>\n",
              "      <td>9</td>\n",
              "      <td>25</td>\n",
              "      <td>46</td>\n",
              "    </tr>\n",
              "    <tr>\n",
              "      <th>2</th>\n",
              "      <td>2</td>\n",
              "      <td>2015-03-22 09:25:46</td>\n",
              "      <td>198</td>\n",
              "      <td>2015</td>\n",
              "      <td>3</td>\n",
              "      <td>22</td>\n",
              "      <td>9</td>\n",
              "      <td>25</td>\n",
              "      <td>46</td>\n",
              "    </tr>\n",
              "    <tr>\n",
              "      <th>3</th>\n",
              "      <td>2</td>\n",
              "      <td>2015-03-22 09:25:46</td>\n",
              "      <td>88</td>\n",
              "      <td>2015</td>\n",
              "      <td>3</td>\n",
              "      <td>22</td>\n",
              "      <td>9</td>\n",
              "      <td>25</td>\n",
              "      <td>46</td>\n",
              "    </tr>\n",
              "    <tr>\n",
              "      <th>4</th>\n",
              "      <td>2</td>\n",
              "      <td>2015-03-22 09:25:46</td>\n",
              "      <td>157</td>\n",
              "      <td>2015</td>\n",
              "      <td>3</td>\n",
              "      <td>22</td>\n",
              "      <td>9</td>\n",
              "      <td>25</td>\n",
              "      <td>46</td>\n",
              "    </tr>\n",
              "  </tbody>\n",
              "</table>\n",
              "</div>"
            ],
            "text/plain": [
              "   user_id  order_completed_at  cart  year  month  day  hour  min  sec\n",
              "0        2 2015-03-22 09:25:46   399  2015      3   22     9   25   46\n",
              "1        2 2015-03-22 09:25:46    14  2015      3   22     9   25   46\n",
              "2        2 2015-03-22 09:25:46   198  2015      3   22     9   25   46\n",
              "3        2 2015-03-22 09:25:46    88  2015      3   22     9   25   46\n",
              "4        2 2015-03-22 09:25:46   157  2015      3   22     9   25   46"
            ]
          },
          "metadata": {},
          "execution_count": 81
        }
      ]
    },
    {
      "cell_type": "code",
      "metadata": {
        "id": "5DB8Q8e101sK"
      },
      "source": [
        "# Now we can remove datetime column\n",
        "df_tmp.drop(\"order_completed_at\", axis = 1, inplace=True)"
      ],
      "execution_count": null,
      "outputs": []
    },
    {
      "cell_type": "code",
      "metadata": {
        "colab": {
          "base_uri": "https://localhost:8080/"
        },
        "id": "CzX-zFg407Dx",
        "outputId": "7c27347a-9127-4f9a-f04d-547380812fac"
      },
      "source": [
        "df_tmp.head()"
      ],
      "execution_count": null,
      "outputs": [
        {
          "output_type": "execute_result",
          "data": {
            "text/html": [
              "<div>\n",
              "<style scoped>\n",
              "    .dataframe tbody tr th:only-of-type {\n",
              "        vertical-align: middle;\n",
              "    }\n",
              "\n",
              "    .dataframe tbody tr th {\n",
              "        vertical-align: top;\n",
              "    }\n",
              "\n",
              "    .dataframe thead th {\n",
              "        text-align: right;\n",
              "    }\n",
              "</style>\n",
              "<table border=\"1\" class=\"dataframe\">\n",
              "  <thead>\n",
              "    <tr style=\"text-align: right;\">\n",
              "      <th></th>\n",
              "      <th>user_id</th>\n",
              "      <th>cart</th>\n",
              "      <th>year</th>\n",
              "      <th>month</th>\n",
              "      <th>day</th>\n",
              "      <th>hour</th>\n",
              "      <th>min</th>\n",
              "      <th>sec</th>\n",
              "    </tr>\n",
              "  </thead>\n",
              "  <tbody>\n",
              "    <tr>\n",
              "      <th>0</th>\n",
              "      <td>2</td>\n",
              "      <td>399</td>\n",
              "      <td>2015</td>\n",
              "      <td>3</td>\n",
              "      <td>22</td>\n",
              "      <td>9</td>\n",
              "      <td>25</td>\n",
              "      <td>46</td>\n",
              "    </tr>\n",
              "    <tr>\n",
              "      <th>1</th>\n",
              "      <td>2</td>\n",
              "      <td>14</td>\n",
              "      <td>2015</td>\n",
              "      <td>3</td>\n",
              "      <td>22</td>\n",
              "      <td>9</td>\n",
              "      <td>25</td>\n",
              "      <td>46</td>\n",
              "    </tr>\n",
              "    <tr>\n",
              "      <th>2</th>\n",
              "      <td>2</td>\n",
              "      <td>198</td>\n",
              "      <td>2015</td>\n",
              "      <td>3</td>\n",
              "      <td>22</td>\n",
              "      <td>9</td>\n",
              "      <td>25</td>\n",
              "      <td>46</td>\n",
              "    </tr>\n",
              "    <tr>\n",
              "      <th>3</th>\n",
              "      <td>2</td>\n",
              "      <td>88</td>\n",
              "      <td>2015</td>\n",
              "      <td>3</td>\n",
              "      <td>22</td>\n",
              "      <td>9</td>\n",
              "      <td>25</td>\n",
              "      <td>46</td>\n",
              "    </tr>\n",
              "    <tr>\n",
              "      <th>4</th>\n",
              "      <td>2</td>\n",
              "      <td>157</td>\n",
              "      <td>2015</td>\n",
              "      <td>3</td>\n",
              "      <td>22</td>\n",
              "      <td>9</td>\n",
              "      <td>25</td>\n",
              "      <td>46</td>\n",
              "    </tr>\n",
              "  </tbody>\n",
              "</table>\n",
              "</div>"
            ],
            "text/plain": [
              "   user_id  cart  year  month  day  hour  min  sec\n",
              "0        2   399  2015      3   22     9   25   46\n",
              "1        2    14  2015      3   22     9   25   46\n",
              "2        2   198  2015      3   22     9   25   46\n",
              "3        2    88  2015      3   22     9   25   46\n",
              "4        2   157  2015      3   22     9   25   46"
            ]
          },
          "metadata": {},
          "execution_count": 83
        }
      ]
    },
    {
      "cell_type": "code",
      "metadata": {
        "colab": {
          "base_uri": "https://localhost:8080/"
        },
        "id": "5_J-ZJ0l6wWm",
        "outputId": "fed16283-e514-4997-9a42-4bc92773ea2e"
      },
      "source": [
        "df_tmp.shape"
      ],
      "execution_count": null,
      "outputs": [
        {
          "output_type": "execute_result",
          "data": {
            "text/plain": [
              "(3123064, 8)"
            ]
          },
          "metadata": {},
          "execution_count": 84
        }
      ]
    },
    {
      "cell_type": "markdown",
      "metadata": {
        "id": "ggNiovKYojD4"
      },
      "source": [
        "# 1. Data Analysis "
      ]
    },
    {
      "cell_type": "markdown",
      "metadata": {
        "id": "t_3Kfjz5DjZG"
      },
      "source": [
        "## Hist"
      ]
    },
    {
      "cell_type": "code",
      "metadata": {
        "colab": {
          "base_uri": "https://localhost:8080/"
        },
        "id": "SuNPTGnxoTTo",
        "outputId": "5f8bc9db-c501-4ffd-ac85-44ceecbebb36"
      },
      "source": [
        "df.describe()"
      ],
      "execution_count": null,
      "outputs": [
        {
          "output_type": "execute_result",
          "data": {
            "text/html": [
              "<div>\n",
              "<style scoped>\n",
              "    .dataframe tbody tr th:only-of-type {\n",
              "        vertical-align: middle;\n",
              "    }\n",
              "\n",
              "    .dataframe tbody tr th {\n",
              "        vertical-align: top;\n",
              "    }\n",
              "\n",
              "    .dataframe thead th {\n",
              "        text-align: right;\n",
              "    }\n",
              "</style>\n",
              "<table border=\"1\" class=\"dataframe\">\n",
              "  <thead>\n",
              "    <tr style=\"text-align: right;\">\n",
              "      <th></th>\n",
              "      <th>user_id</th>\n",
              "      <th>cart</th>\n",
              "    </tr>\n",
              "  </thead>\n",
              "  <tbody>\n",
              "    <tr>\n",
              "      <th>count</th>\n",
              "      <td>3.123064e+06</td>\n",
              "      <td>3.123064e+06</td>\n",
              "    </tr>\n",
              "    <tr>\n",
              "      <th>mean</th>\n",
              "      <td>7.253373e+03</td>\n",
              "      <td>2.273235e+02</td>\n",
              "    </tr>\n",
              "    <tr>\n",
              "      <th>std</th>\n",
              "      <td>5.337838e+03</td>\n",
              "      <td>2.112867e+02</td>\n",
              "    </tr>\n",
              "    <tr>\n",
              "      <th>min</th>\n",
              "      <td>0.000000e+00</td>\n",
              "      <td>0.000000e+00</td>\n",
              "    </tr>\n",
              "    <tr>\n",
              "      <th>25%</th>\n",
              "      <td>2.884000e+03</td>\n",
              "      <td>4.200000e+01</td>\n",
              "    </tr>\n",
              "    <tr>\n",
              "      <th>50%</th>\n",
              "      <td>6.055000e+03</td>\n",
              "      <td>1.460000e+02</td>\n",
              "    </tr>\n",
              "    <tr>\n",
              "      <th>75%</th>\n",
              "      <td>1.117200e+04</td>\n",
              "      <td>3.990000e+02</td>\n",
              "    </tr>\n",
              "    <tr>\n",
              "      <th>max</th>\n",
              "      <td>1.999900e+04</td>\n",
              "      <td>8.800000e+02</td>\n",
              "    </tr>\n",
              "  </tbody>\n",
              "</table>\n",
              "</div>"
            ],
            "text/plain": [
              "            user_id          cart\n",
              "count  3.123064e+06  3.123064e+06\n",
              "mean   7.253373e+03  2.273235e+02\n",
              "std    5.337838e+03  2.112867e+02\n",
              "min    0.000000e+00  0.000000e+00\n",
              "25%    2.884000e+03  4.200000e+01\n",
              "50%    6.055000e+03  1.460000e+02\n",
              "75%    1.117200e+04  3.990000e+02\n",
              "max    1.999900e+04  8.800000e+02"
            ]
          },
          "metadata": {},
          "execution_count": 85
        }
      ]
    },
    {
      "cell_type": "code",
      "metadata": {
        "colab": {
          "base_uri": "https://localhost:8080/"
        },
        "id": "D0riJ37foVJY",
        "outputId": "534266c8-858f-4b95-8f23-4d5b067f9ec6"
      },
      "source": [
        "df['user_id'].hist()"
      ],
      "execution_count": null,
      "outputs": [
        {
          "output_type": "execute_result",
          "data": {
            "text/plain": [
              "<matplotlib.axes._subplots.AxesSubplot at 0x7fcb684695d0>"
            ]
          },
          "metadata": {},
          "execution_count": 86
        },
        {
          "output_type": "display_data",
          "data": {
            "image/png": "[encoded data removed]",
            "text/plain": [
              "<Figure size 432x288 with 1 Axes>"
            ]
          },
          "metadata": {
            "needs_background": "light"
          }
        }
      ]
    },
    {
      "cell_type": "code",
      "metadata": {
        "colab": {
          "base_uri": "https://localhost:8080/"
        },
        "id": "zsSOICLJoafv",
        "outputId": "42bb0fdb-c66b-4fe9-eabd-764b8c138f15"
      },
      "source": [
        "df['order_completed_at'].hist()"
      ],
      "execution_count": null,
      "outputs": [
        {
          "output_type": "execute_result",
          "data": {
            "text/plain": [
              "<matplotlib.axes._subplots.AxesSubplot at 0x7fcb683a8a90>"
            ]
          },
          "metadata": {},
          "execution_count": 87
        },
        {
          "output_type": "display_data",
          "data": {
            "image/png": "[encoded data removed]",
            "text/plain": [
              "<Figure size 432x288 with 1 Axes>"
            ]
          },
          "metadata": {
            "needs_background": "light"
          }
        }
      ]
    },
    {
      "cell_type": "code",
      "metadata": {
        "colab": {
          "base_uri": "https://localhost:8080/"
        },
        "id": "47BZ9LJtof36",
        "outputId": "0b09103e-c1fc-4fc8-8ae6-c3d6f3bc4d9f"
      },
      "source": [
        "df['cart'].hist(bins=30)"
      ],
      "execution_count": null,
      "outputs": [
        {
          "output_type": "execute_result",
          "data": {
            "text/plain": [
              "<matplotlib.axes._subplots.AxesSubplot at 0x7fcb683248d0>"
            ]
          },
          "metadata": {},
          "execution_count": 88
        },
        {
          "output_type": "display_data",
          "data": {
            "image/png": "[encoded data removed]",
            "text/plain": [
              "<Figure size 432x288 with 1 Axes>"
            ]
          },
          "metadata": {
            "needs_background": "light"
          }
        }
      ]
    },
    {
      "cell_type": "code",
      "metadata": {
        "colab": {
          "base_uri": "https://localhost:8080/"
        },
        "id": "W4jvgxqYor2d",
        "outputId": "22cc6daa-dcfe-4495-9fab-19fa5178b9d0"
      },
      "source": [
        "df.corr()"
      ],
      "execution_count": null,
      "outputs": [
        {
          "output_type": "execute_result",
          "data": {
            "text/html": [
              "<div>\n",
              "<style scoped>\n",
              "    .dataframe tbody tr th:only-of-type {\n",
              "        vertical-align: middle;\n",
              "    }\n",
              "\n",
              "    .dataframe tbody tr th {\n",
              "        vertical-align: top;\n",
              "    }\n",
              "\n",
              "    .dataframe thead th {\n",
              "        text-align: right;\n",
              "    }\n",
              "</style>\n",
              "<table border=\"1\" class=\"dataframe\">\n",
              "  <thead>\n",
              "    <tr style=\"text-align: right;\">\n",
              "      <th></th>\n",
              "      <th>user_id</th>\n",
              "      <th>cart</th>\n",
              "    </tr>\n",
              "  </thead>\n",
              "  <tbody>\n",
              "    <tr>\n",
              "      <th>user_id</th>\n",
              "      <td>1.000000</td>\n",
              "      <td>-0.005773</td>\n",
              "    </tr>\n",
              "    <tr>\n",
              "      <th>cart</th>\n",
              "      <td>-0.005773</td>\n",
              "      <td>1.000000</td>\n",
              "    </tr>\n",
              "  </tbody>\n",
              "</table>\n",
              "</div>"
            ],
            "text/plain": [
              "          user_id      cart\n",
              "user_id  1.000000 -0.005773\n",
              "cart    -0.005773  1.000000"
            ]
          },
          "metadata": {},
          "execution_count": 89
        }
      ]
    },
    {
      "cell_type": "code",
      "metadata": {
        "colab": {
          "base_uri": "https://localhost:8080/"
        },
        "id": "fVmBMhtsovWv",
        "outputId": "8c7dc744-2af1-40b4-8a2e-1a4d8026dac4"
      },
      "source": [
        "# Adjust correlation matrix\n",
        "corr_matrix = df.corr()\n",
        "fig, ax = plt.subplots(figsize=(6,6))\n",
        "ax = sns.heatmap(corr_matrix,\n",
        "                annot=True,\n",
        "                linewidths=0.5,\n",
        "                fmt=\".2f\",\n",
        "                cmap=\"YlGnBu\")\n",
        "\n",
        "bottom, top = ax.get_ylim()\n",
        "ax.set_ylim(bottom + 0.5, top - 0.5)"
      ],
      "execution_count": null,
      "outputs": [
        {
          "output_type": "execute_result",
          "data": {
            "text/plain": [
              "(2.5, -0.5)"
            ]
          },
          "metadata": {},
          "execution_count": 90
        },
        {
          "output_type": "display_data",
          "data": {
            "image/png": "[encoded data removed]",
            "text/plain": [
              "<Figure size 432x432 with 2 Axes>"
            ]
          },
          "metadata": {
            "needs_background": "light"
          }
        }
      ]
    },
    {
      "cell_type": "code",
      "metadata": {
        "colab": {
          "base_uri": "https://localhost:8080/"
        },
        "id": "pkhsg_9zpVEE",
        "outputId": "83ac34cc-ab62-46b3-e0da-c0bf65321bb4"
      },
      "source": [
        "df.head()"
      ],
      "execution_count": null,
      "outputs": [
        {
          "output_type": "execute_result",
          "data": {
            "text/html": [
              "<div>\n",
              "<style scoped>\n",
              "    .dataframe tbody tr th:only-of-type {\n",
              "        vertical-align: middle;\n",
              "    }\n",
              "\n",
              "    .dataframe tbody tr th {\n",
              "        vertical-align: top;\n",
              "    }\n",
              "\n",
              "    .dataframe thead th {\n",
              "        text-align: right;\n",
              "    }\n",
              "</style>\n",
              "<table border=\"1\" class=\"dataframe\">\n",
              "  <thead>\n",
              "    <tr style=\"text-align: right;\">\n",
              "      <th></th>\n",
              "      <th>user_id</th>\n",
              "      <th>order_completed_at</th>\n",
              "      <th>cart</th>\n",
              "    </tr>\n",
              "  </thead>\n",
              "  <tbody>\n",
              "    <tr>\n",
              "      <th>0</th>\n",
              "      <td>2</td>\n",
              "      <td>2015-03-22 09:25:46</td>\n",
              "      <td>399</td>\n",
              "    </tr>\n",
              "    <tr>\n",
              "      <th>1</th>\n",
              "      <td>2</td>\n",
              "      <td>2015-03-22 09:25:46</td>\n",
              "      <td>14</td>\n",
              "    </tr>\n",
              "    <tr>\n",
              "      <th>2</th>\n",
              "      <td>2</td>\n",
              "      <td>2015-03-22 09:25:46</td>\n",
              "      <td>198</td>\n",
              "    </tr>\n",
              "    <tr>\n",
              "      <th>3</th>\n",
              "      <td>2</td>\n",
              "      <td>2015-03-22 09:25:46</td>\n",
              "      <td>88</td>\n",
              "    </tr>\n",
              "    <tr>\n",
              "      <th>4</th>\n",
              "      <td>2</td>\n",
              "      <td>2015-03-22 09:25:46</td>\n",
              "      <td>157</td>\n",
              "    </tr>\n",
              "  </tbody>\n",
              "</table>\n",
              "</div>"
            ],
            "text/plain": [
              "   user_id  order_completed_at  cart\n",
              "0        2 2015-03-22 09:25:46   399\n",
              "1        2 2015-03-22 09:25:46    14\n",
              "2        2 2015-03-22 09:25:46   198\n",
              "3        2 2015-03-22 09:25:46    88\n",
              "4        2 2015-03-22 09:25:46   157"
            ]
          },
          "metadata": {},
          "execution_count": 91
        }
      ]
    },
    {
      "cell_type": "code",
      "metadata": {
        "colab": {
          "base_uri": "https://localhost:8080/"
        },
        "id": "m5BoFEzqoyft",
        "outputId": "f5a362da-289a-4d08-eaed-f832818c5746"
      },
      "source": [
        "import seaborn as sns\n",
        "import matplotlib.pyplot as plt\n",
        "\n",
        "sns.boxplot(data=df['cart']);"
      ],
      "execution_count": null,
      "outputs": [
        {
          "output_type": "display_data",
          "data": {
            "image/png": "[encoded data removed]",
            "text/plain": [
              "<Figure size 432x288 with 1 Axes>"
            ]
          },
          "metadata": {
            "needs_background": "light"
          }
        }
      ]
    },
    {
      "cell_type": "markdown",
      "metadata": {
        "id": "NR8xvsUS15gL"
      },
      "source": [
        "## Check user 1"
      ]
    },
    {
      "cell_type": "code",
      "metadata": {
        "colab": {
          "base_uri": "https://localhost:8080/"
        },
        "id": "xl9aH4VY--_h",
        "outputId": "62a5a3bd-651f-456d-eb71-66a2c7131d26"
      },
      "source": [
        "df_tmp.head()"
      ],
      "execution_count": null,
      "outputs": [
        {
          "output_type": "execute_result",
          "data": {
            "text/html": [
              "<div>\n",
              "<style scoped>\n",
              "    .dataframe tbody tr th:only-of-type {\n",
              "        vertical-align: middle;\n",
              "    }\n",
              "\n",
              "    .dataframe tbody tr th {\n",
              "        vertical-align: top;\n",
              "    }\n",
              "\n",
              "    .dataframe thead th {\n",
              "        text-align: right;\n",
              "    }\n",
              "</style>\n",
              "<table border=\"1\" class=\"dataframe\">\n",
              "  <thead>\n",
              "    <tr style=\"text-align: right;\">\n",
              "      <th></th>\n",
              "      <th>user_id</th>\n",
              "      <th>cart</th>\n",
              "      <th>year</th>\n",
              "      <th>month</th>\n",
              "      <th>day</th>\n",
              "      <th>hour</th>\n",
              "      <th>min</th>\n",
              "      <th>sec</th>\n",
              "    </tr>\n",
              "  </thead>\n",
              "  <tbody>\n",
              "    <tr>\n",
              "      <th>0</th>\n",
              "      <td>2</td>\n",
              "      <td>399</td>\n",
              "      <td>2015</td>\n",
              "      <td>3</td>\n",
              "      <td>22</td>\n",
              "      <td>9</td>\n",
              "      <td>25</td>\n",
              "      <td>46</td>\n",
              "    </tr>\n",
              "    <tr>\n",
              "      <th>1</th>\n",
              "      <td>2</td>\n",
              "      <td>14</td>\n",
              "      <td>2015</td>\n",
              "      <td>3</td>\n",
              "      <td>22</td>\n",
              "      <td>9</td>\n",
              "      <td>25</td>\n",
              "      <td>46</td>\n",
              "    </tr>\n",
              "    <tr>\n",
              "      <th>2</th>\n",
              "      <td>2</td>\n",
              "      <td>198</td>\n",
              "      <td>2015</td>\n",
              "      <td>3</td>\n",
              "      <td>22</td>\n",
              "      <td>9</td>\n",
              "      <td>25</td>\n",
              "      <td>46</td>\n",
              "    </tr>\n",
              "    <tr>\n",
              "      <th>3</th>\n",
              "      <td>2</td>\n",
              "      <td>88</td>\n",
              "      <td>2015</td>\n",
              "      <td>3</td>\n",
              "      <td>22</td>\n",
              "      <td>9</td>\n",
              "      <td>25</td>\n",
              "      <td>46</td>\n",
              "    </tr>\n",
              "    <tr>\n",
              "      <th>4</th>\n",
              "      <td>2</td>\n",
              "      <td>157</td>\n",
              "      <td>2015</td>\n",
              "      <td>3</td>\n",
              "      <td>22</td>\n",
              "      <td>9</td>\n",
              "      <td>25</td>\n",
              "      <td>46</td>\n",
              "    </tr>\n",
              "  </tbody>\n",
              "</table>\n",
              "</div>"
            ],
            "text/plain": [
              "   user_id  cart  year  month  day  hour  min  sec\n",
              "0        2   399  2015      3   22     9   25   46\n",
              "1        2    14  2015      3   22     9   25   46\n",
              "2        2   198  2015      3   22     9   25   46\n",
              "3        2    88  2015      3   22     9   25   46\n",
              "4        2   157  2015      3   22     9   25   46"
            ]
          },
          "metadata": {},
          "execution_count": 93
        }
      ]
    },
    {
      "cell_type": "code",
      "metadata": {
        "colab": {
          "base_uri": "https://localhost:8080/"
        },
        "id": "WGswp4Z-15dR",
        "outputId": "e311ad64-3ee8-4795-90f6-4add211866c6"
      },
      "source": [
        "new_df_user0 = df_tmp.loc[(df_tmp['user_id'] == 0)]\n",
        "new_df_user0[:2]"
      ],
      "execution_count": null,
      "outputs": [
        {
          "output_type": "execute_result",
          "data": {
            "text/html": [
              "<div>\n",
              "<style scoped>\n",
              "    .dataframe tbody tr th:only-of-type {\n",
              "        vertical-align: middle;\n",
              "    }\n",
              "\n",
              "    .dataframe tbody tr th {\n",
              "        vertical-align: top;\n",
              "    }\n",
              "\n",
              "    .dataframe thead th {\n",
              "        text-align: right;\n",
              "    }\n",
              "</style>\n",
              "<table border=\"1\" class=\"dataframe\">\n",
              "  <thead>\n",
              "    <tr style=\"text-align: right;\">\n",
              "      <th></th>\n",
              "      <th>user_id</th>\n",
              "      <th>cart</th>\n",
              "      <th>year</th>\n",
              "      <th>month</th>\n",
              "      <th>day</th>\n",
              "      <th>hour</th>\n",
              "      <th>min</th>\n",
              "      <th>sec</th>\n",
              "    </tr>\n",
              "  </thead>\n",
              "  <tbody>\n",
              "    <tr>\n",
              "      <th>2422913</th>\n",
              "      <td>0</td>\n",
              "      <td>20</td>\n",
              "      <td>2020</td>\n",
              "      <td>7</td>\n",
              "      <td>19</td>\n",
              "      <td>9</td>\n",
              "      <td>59</td>\n",
              "      <td>17</td>\n",
              "    </tr>\n",
              "    <tr>\n",
              "      <th>2422914</th>\n",
              "      <td>0</td>\n",
              "      <td>82</td>\n",
              "      <td>2020</td>\n",
              "      <td>7</td>\n",
              "      <td>19</td>\n",
              "      <td>9</td>\n",
              "      <td>59</td>\n",
              "      <td>17</td>\n",
              "    </tr>\n",
              "  </tbody>\n",
              "</table>\n",
              "</div>"
            ],
            "text/plain": [
              "         user_id  cart  year  month  day  hour  min  sec\n",
              "2422913        0    20  2020      7   19     9   59   17\n",
              "2422914        0    82  2020      7   19     9   59   17"
            ]
          },
          "metadata": {},
          "execution_count": 94
        }
      ]
    },
    {
      "cell_type": "code",
      "metadata": {
        "id": "ctg9IcJX-4On"
      },
      "source": [
        "new_df_user0 = new_df_user0.groupby(['user_id', 'cart']).size().reset_index(name='count')"
      ],
      "execution_count": null,
      "outputs": []
    },
    {
      "cell_type": "code",
      "metadata": {
        "colab": {
          "base_uri": "https://localhost:8080/"
        },
        "id": "rXkM-gQu-4MI",
        "outputId": "b95e4ccf-7bf7-45e2-9312-b42dd187c1df"
      },
      "source": [
        "new_df_user0[:2]"
      ],
      "execution_count": null,
      "outputs": [
        {
          "output_type": "execute_result",
          "data": {
            "text/html": [
              "<div>\n",
              "<style scoped>\n",
              "    .dataframe tbody tr th:only-of-type {\n",
              "        vertical-align: middle;\n",
              "    }\n",
              "\n",
              "    .dataframe tbody tr th {\n",
              "        vertical-align: top;\n",
              "    }\n",
              "\n",
              "    .dataframe thead th {\n",
              "        text-align: right;\n",
              "    }\n",
              "</style>\n",
              "<table border=\"1\" class=\"dataframe\">\n",
              "  <thead>\n",
              "    <tr style=\"text-align: right;\">\n",
              "      <th></th>\n",
              "      <th>user_id</th>\n",
              "      <th>cart</th>\n",
              "      <th>count</th>\n",
              "    </tr>\n",
              "  </thead>\n",
              "  <tbody>\n",
              "    <tr>\n",
              "      <th>0</th>\n",
              "      <td>0</td>\n",
              "      <td>5</td>\n",
              "      <td>1</td>\n",
              "    </tr>\n",
              "    <tr>\n",
              "      <th>1</th>\n",
              "      <td>0</td>\n",
              "      <td>10</td>\n",
              "      <td>1</td>\n",
              "    </tr>\n",
              "  </tbody>\n",
              "</table>\n",
              "</div>"
            ],
            "text/plain": [
              "   user_id  cart  count\n",
              "0        0     5      1\n",
              "1        0    10      1"
            ]
          },
          "metadata": {},
          "execution_count": 96
        }
      ]
    },
    {
      "cell_type": "markdown",
      "metadata": {
        "id": "GjMS-txP-4Jg"
      },
      "source": [
        "## All users agg"
      ]
    },
    {
      "cell_type": "code",
      "metadata": {
        "colab": {
          "base_uri": "https://localhost:8080/",
          "height": 202
        },
        "id": "J-jKzodo-4Gf",
        "outputId": "4eb4ae73-3d45-4e50-9a18-3a82df821f21"
      },
      "source": [
        "df_tmp.head()"
      ],
      "execution_count": null,
      "outputs": [
        {
          "output_type": "execute_result",
          "data": {
            "text/html": [
              "<div>\n",
              "<style scoped>\n",
              "    .dataframe tbody tr th:only-of-type {\n",
              "        vertical-align: middle;\n",
              "    }\n",
              "\n",
              "    .dataframe tbody tr th {\n",
              "        vertical-align: top;\n",
              "    }\n",
              "\n",
              "    .dataframe thead th {\n",
              "        text-align: right;\n",
              "    }\n",
              "</style>\n",
              "<table border=\"1\" class=\"dataframe\">\n",
              "  <thead>\n",
              "    <tr style=\"text-align: right;\">\n",
              "      <th></th>\n",
              "      <th>user_id</th>\n",
              "      <th>cart</th>\n",
              "      <th>year</th>\n",
              "      <th>month</th>\n",
              "      <th>day</th>\n",
              "      <th>hour</th>\n",
              "      <th>min</th>\n",
              "      <th>sec</th>\n",
              "    </tr>\n",
              "  </thead>\n",
              "  <tbody>\n",
              "    <tr>\n",
              "      <th>0</th>\n",
              "      <td>2</td>\n",
              "      <td>399</td>\n",
              "      <td>2015</td>\n",
              "      <td>3</td>\n",
              "      <td>22</td>\n",
              "      <td>9</td>\n",
              "      <td>25</td>\n",
              "      <td>46</td>\n",
              "    </tr>\n",
              "    <tr>\n",
              "      <th>1</th>\n",
              "      <td>2</td>\n",
              "      <td>14</td>\n",
              "      <td>2015</td>\n",
              "      <td>3</td>\n",
              "      <td>22</td>\n",
              "      <td>9</td>\n",
              "      <td>25</td>\n",
              "      <td>46</td>\n",
              "    </tr>\n",
              "    <tr>\n",
              "      <th>2</th>\n",
              "      <td>2</td>\n",
              "      <td>198</td>\n",
              "      <td>2015</td>\n",
              "      <td>3</td>\n",
              "      <td>22</td>\n",
              "      <td>9</td>\n",
              "      <td>25</td>\n",
              "      <td>46</td>\n",
              "    </tr>\n",
              "    <tr>\n",
              "      <th>3</th>\n",
              "      <td>2</td>\n",
              "      <td>88</td>\n",
              "      <td>2015</td>\n",
              "      <td>3</td>\n",
              "      <td>22</td>\n",
              "      <td>9</td>\n",
              "      <td>25</td>\n",
              "      <td>46</td>\n",
              "    </tr>\n",
              "    <tr>\n",
              "      <th>4</th>\n",
              "      <td>2</td>\n",
              "      <td>157</td>\n",
              "      <td>2015</td>\n",
              "      <td>3</td>\n",
              "      <td>22</td>\n",
              "      <td>9</td>\n",
              "      <td>25</td>\n",
              "      <td>46</td>\n",
              "    </tr>\n",
              "  </tbody>\n",
              "</table>\n",
              "</div>"
            ],
            "text/plain": [
              "   user_id  cart  year  month  day  hour  min  sec\n",
              "0        2   399  2015      3   22     9   25   46\n",
              "1        2    14  2015      3   22     9   25   46\n",
              "2        2   198  2015      3   22     9   25   46\n",
              "3        2    88  2015      3   22     9   25   46\n",
              "4        2   157  2015      3   22     9   25   46"
            ]
          },
          "metadata": {},
          "execution_count": 98
        }
      ]
    },
    {
      "cell_type": "code",
      "metadata": {
        "colab": {
          "base_uri": "https://localhost:8080/"
        },
        "id": "XwoeJys5CKM-",
        "outputId": "32ae23d2-2fc9-49f9-9b92-346f03913fca"
      },
      "source": [
        "df.shape"
      ],
      "execution_count": null,
      "outputs": [
        {
          "output_type": "execute_result",
          "data": {
            "text/plain": [
              "(3123064, 3)"
            ]
          },
          "metadata": {},
          "execution_count": 99
        }
      ]
    },
    {
      "cell_type": "code",
      "metadata": {
        "colab": {
          "base_uri": "https://localhost:8080/"
        },
        "id": "YHCr2imfCIqx",
        "outputId": "f2ec56f8-ea22-43ab-80c3-321d718479ec"
      },
      "source": [
        "df_tmp.shape"
      ],
      "execution_count": null,
      "outputs": [
        {
          "output_type": "execute_result",
          "data": {
            "text/plain": [
              "(3123064, 8)"
            ]
          },
          "metadata": {},
          "execution_count": 100
        }
      ]
    },
    {
      "cell_type": "code",
      "metadata": {
        "id": "GapdsaGb15XI"
      },
      "source": [
        "df_count = df_tmp.groupby(['user_id', 'cart']).size().reset_index(name='count')"
      ],
      "execution_count": null,
      "outputs": []
    },
    {
      "cell_type": "code",
      "metadata": {
        "colab": {
          "base_uri": "https://localhost:8080/",
          "height": 415
        },
        "id": "lFfajJlVCECX",
        "outputId": "13cfded7-e49d-49d8-8ffa-1c83d1656f28"
      },
      "source": [
        "df_count"
      ],
      "execution_count": null,
      "outputs": [
        {
          "output_type": "execute_result",
          "data": {
            "text/html": [
              "<div>\n",
              "<style scoped>\n",
              "    .dataframe tbody tr th:only-of-type {\n",
              "        vertical-align: middle;\n",
              "    }\n",
              "\n",
              "    .dataframe tbody tr th {\n",
              "        vertical-align: top;\n",
              "    }\n",
              "\n",
              "    .dataframe thead th {\n",
              "        text-align: right;\n",
              "    }\n",
              "</style>\n",
              "<table border=\"1\" class=\"dataframe\">\n",
              "  <thead>\n",
              "    <tr style=\"text-align: right;\">\n",
              "      <th></th>\n",
              "      <th>user_id</th>\n",
              "      <th>cart</th>\n",
              "      <th>count</th>\n",
              "    </tr>\n",
              "  </thead>\n",
              "  <tbody>\n",
              "    <tr>\n",
              "      <th>0</th>\n",
              "      <td>0</td>\n",
              "      <td>5</td>\n",
              "      <td>1</td>\n",
              "    </tr>\n",
              "    <tr>\n",
              "      <th>1</th>\n",
              "      <td>0</td>\n",
              "      <td>10</td>\n",
              "      <td>1</td>\n",
              "    </tr>\n",
              "    <tr>\n",
              "      <th>2</th>\n",
              "      <td>0</td>\n",
              "      <td>14</td>\n",
              "      <td>2</td>\n",
              "    </tr>\n",
              "    <tr>\n",
              "      <th>3</th>\n",
              "      <td>0</td>\n",
              "      <td>20</td>\n",
              "      <td>1</td>\n",
              "    </tr>\n",
              "    <tr>\n",
              "      <th>4</th>\n",
              "      <td>0</td>\n",
              "      <td>22</td>\n",
              "      <td>1</td>\n",
              "    </tr>\n",
              "    <tr>\n",
              "      <th>...</th>\n",
              "      <td>...</td>\n",
              "      <td>...</td>\n",
              "      <td>...</td>\n",
              "    </tr>\n",
              "    <tr>\n",
              "      <th>1117595</th>\n",
              "      <td>19998</td>\n",
              "      <td>409</td>\n",
              "      <td>1</td>\n",
              "    </tr>\n",
              "    <tr>\n",
              "      <th>1117596</th>\n",
              "      <td>19998</td>\n",
              "      <td>415</td>\n",
              "      <td>2</td>\n",
              "    </tr>\n",
              "    <tr>\n",
              "      <th>1117597</th>\n",
              "      <td>19998</td>\n",
              "      <td>420</td>\n",
              "      <td>2</td>\n",
              "    </tr>\n",
              "    <tr>\n",
              "      <th>1117598</th>\n",
              "      <td>19998</td>\n",
              "      <td>798</td>\n",
              "      <td>1</td>\n",
              "    </tr>\n",
              "    <tr>\n",
              "      <th>1117599</th>\n",
              "      <td>19999</td>\n",
              "      <td>326</td>\n",
              "      <td>3</td>\n",
              "    </tr>\n",
              "  </tbody>\n",
              "</table>\n",
              "<p>1117600 rows × 3 columns</p>\n",
              "</div>"
            ],
            "text/plain": [
              "         user_id  cart  count\n",
              "0              0     5      1\n",
              "1              0    10      1\n",
              "2              0    14      2\n",
              "3              0    20      1\n",
              "4              0    22      1\n",
              "...          ...   ...    ...\n",
              "1117595    19998   409      1\n",
              "1117596    19998   415      2\n",
              "1117597    19998   420      2\n",
              "1117598    19998   798      1\n",
              "1117599    19999   326      3\n",
              "\n",
              "[1117600 rows x 3 columns]"
            ]
          },
          "metadata": {},
          "execution_count": 102
        }
      ]
    },
    {
      "cell_type": "code",
      "metadata": {
        "colab": {
          "base_uri": "https://localhost:8080/"
        },
        "id": "3-7RtyDwCVmG",
        "outputId": "88eb52b5-7162-4a33-f18a-7e36237d8585"
      },
      "source": [
        "df_count.shape"
      ],
      "execution_count": null,
      "outputs": [
        {
          "output_type": "execute_result",
          "data": {
            "text/plain": [
              "(1117600, 3)"
            ]
          },
          "metadata": {},
          "execution_count": 103
        }
      ]
    },
    {
      "cell_type": "code",
      "metadata": {
        "colab": {
          "base_uri": "https://localhost:8080/",
          "height": 140
        },
        "id": "0p--ZLYqCvF6",
        "outputId": "05960eb4-cede-4791-e429-94dc2c73dddc"
      },
      "source": [
        "df_2 = df.loc[(df['user_id'] == 19999)]\n",
        "df_2"
      ],
      "execution_count": null,
      "outputs": [
        {
          "output_type": "execute_result",
          "data": {
            "text/html": [
              "<div>\n",
              "<style scoped>\n",
              "    .dataframe tbody tr th:only-of-type {\n",
              "        vertical-align: middle;\n",
              "    }\n",
              "\n",
              "    .dataframe tbody tr th {\n",
              "        vertical-align: top;\n",
              "    }\n",
              "\n",
              "    .dataframe thead th {\n",
              "        text-align: right;\n",
              "    }\n",
              "</style>\n",
              "<table border=\"1\" class=\"dataframe\">\n",
              "  <thead>\n",
              "    <tr style=\"text-align: right;\">\n",
              "      <th></th>\n",
              "      <th>user_id</th>\n",
              "      <th>order_completed_at</th>\n",
              "      <th>cart</th>\n",
              "    </tr>\n",
              "  </thead>\n",
              "  <tbody>\n",
              "    <tr>\n",
              "      <th>3074014</th>\n",
              "      <td>19999</td>\n",
              "      <td>2020-08-31 18:54:24</td>\n",
              "      <td>326</td>\n",
              "    </tr>\n",
              "    <tr>\n",
              "      <th>3074378</th>\n",
              "      <td>19999</td>\n",
              "      <td>2020-08-31 19:32:08</td>\n",
              "      <td>326</td>\n",
              "    </tr>\n",
              "    <tr>\n",
              "      <th>3074760</th>\n",
              "      <td>19999</td>\n",
              "      <td>2020-08-31 20:08:24</td>\n",
              "      <td>326</td>\n",
              "    </tr>\n",
              "  </tbody>\n",
              "</table>\n",
              "</div>"
            ],
            "text/plain": [
              "         user_id  order_completed_at  cart\n",
              "3074014    19999 2020-08-31 18:54:24   326\n",
              "3074378    19999 2020-08-31 19:32:08   326\n",
              "3074760    19999 2020-08-31 20:08:24   326"
            ]
          },
          "metadata": {},
          "execution_count": 104
        }
      ]
    },
    {
      "cell_type": "code",
      "metadata": {
        "colab": {
          "base_uri": "https://localhost:8080/",
          "height": 79
        },
        "id": "eD5AP-MBCVjr",
        "outputId": "7b049db5-8005-47e0-b0f3-8b0d71928350"
      },
      "source": [
        "new_df_2 = df_count.loc[(df_count['user_id'] == 19999)]\n",
        "new_df_2"
      ],
      "execution_count": null,
      "outputs": [
        {
          "output_type": "execute_result",
          "data": {
            "text/html": [
              "<div>\n",
              "<style scoped>\n",
              "    .dataframe tbody tr th:only-of-type {\n",
              "        vertical-align: middle;\n",
              "    }\n",
              "\n",
              "    .dataframe tbody tr th {\n",
              "        vertical-align: top;\n",
              "    }\n",
              "\n",
              "    .dataframe thead th {\n",
              "        text-align: right;\n",
              "    }\n",
              "</style>\n",
              "<table border=\"1\" class=\"dataframe\">\n",
              "  <thead>\n",
              "    <tr style=\"text-align: right;\">\n",
              "      <th></th>\n",
              "      <th>user_id</th>\n",
              "      <th>cart</th>\n",
              "      <th>count</th>\n",
              "    </tr>\n",
              "  </thead>\n",
              "  <tbody>\n",
              "    <tr>\n",
              "      <th>1117599</th>\n",
              "      <td>19999</td>\n",
              "      <td>326</td>\n",
              "      <td>3</td>\n",
              "    </tr>\n",
              "  </tbody>\n",
              "</table>\n",
              "</div>"
            ],
            "text/plain": [
              "         user_id  cart  count\n",
              "1117599    19999   326      3"
            ]
          },
          "metadata": {},
          "execution_count": 105
        }
      ]
    },
    {
      "cell_type": "code",
      "metadata": {
        "colab": {
          "base_uri": "https://localhost:8080/",
          "height": 202
        },
        "id": "SzJS8QTFcoyH",
        "outputId": "889c57ac-0a93-4ee1-d034-3e1aa2b37413"
      },
      "source": [
        "df_users = df_count.groupby(['user_id']).size().reset_index(name='num')\n",
        "df_users.head()"
      ],
      "execution_count": null,
      "outputs": [
        {
          "output_type": "execute_result",
          "data": {
            "text/html": [
              "<div>\n",
              "<style scoped>\n",
              "    .dataframe tbody tr th:only-of-type {\n",
              "        vertical-align: middle;\n",
              "    }\n",
              "\n",
              "    .dataframe tbody tr th {\n",
              "        vertical-align: top;\n",
              "    }\n",
              "\n",
              "    .dataframe thead th {\n",
              "        text-align: right;\n",
              "    }\n",
              "</style>\n",
              "<table border=\"1\" class=\"dataframe\">\n",
              "  <thead>\n",
              "    <tr style=\"text-align: right;\">\n",
              "      <th></th>\n",
              "      <th>user_id</th>\n",
              "      <th>num</th>\n",
              "    </tr>\n",
              "  </thead>\n",
              "  <tbody>\n",
              "    <tr>\n",
              "      <th>0</th>\n",
              "      <td>0</td>\n",
              "      <td>36</td>\n",
              "    </tr>\n",
              "    <tr>\n",
              "      <th>1</th>\n",
              "      <td>1</td>\n",
              "      <td>20</td>\n",
              "    </tr>\n",
              "    <tr>\n",
              "      <th>2</th>\n",
              "      <td>2</td>\n",
              "      <td>74</td>\n",
              "    </tr>\n",
              "    <tr>\n",
              "      <th>3</th>\n",
              "      <td>3</td>\n",
              "      <td>38</td>\n",
              "    </tr>\n",
              "    <tr>\n",
              "      <th>4</th>\n",
              "      <td>4</td>\n",
              "      <td>50</td>\n",
              "    </tr>\n",
              "  </tbody>\n",
              "</table>\n",
              "</div>"
            ],
            "text/plain": [
              "   user_id  num\n",
              "0        0   36\n",
              "1        1   20\n",
              "2        2   74\n",
              "3        3   38\n",
              "4        4   50"
            ]
          },
          "metadata": {},
          "execution_count": 106
        }
      ]
    },
    {
      "cell_type": "code",
      "metadata": {
        "id": "MQzq-49wdyQu"
      },
      "source": [
        "def p_func(x,y):\n",
        "  s = df_users['num'].loc[x]\n",
        "  if y < s:\n",
        "    return y/s\n",
        "  else: return 1"
      ],
      "execution_count": null,
      "outputs": []
    },
    {
      "cell_type": "code",
      "metadata": {
        "id": "4PNwaan0CD9F"
      },
      "source": [
        "df_count['P'] = df_count.apply(lambda x: p_func(x['user_id'], x['count']), axis=1)"
      ],
      "execution_count": null,
      "outputs": []
    },
    {
      "cell_type": "code",
      "metadata": {
        "colab": {
          "base_uri": "https://localhost:8080/",
          "height": 79
        },
        "id": "96C9AJZYCD6P",
        "outputId": "26d7c0ff-854e-4316-a8d1-5db14a06f094"
      },
      "source": [
        "df_count.loc[(df_count['user_id'] == 19999)].head()"
      ],
      "execution_count": null,
      "outputs": [
        {
          "output_type": "execute_result",
          "data": {
            "text/html": [
              "<div>\n",
              "<style scoped>\n",
              "    .dataframe tbody tr th:only-of-type {\n",
              "        vertical-align: middle;\n",
              "    }\n",
              "\n",
              "    .dataframe tbody tr th {\n",
              "        vertical-align: top;\n",
              "    }\n",
              "\n",
              "    .dataframe thead th {\n",
              "        text-align: right;\n",
              "    }\n",
              "</style>\n",
              "<table border=\"1\" class=\"dataframe\">\n",
              "  <thead>\n",
              "    <tr style=\"text-align: right;\">\n",
              "      <th></th>\n",
              "      <th>user_id</th>\n",
              "      <th>cart</th>\n",
              "      <th>count</th>\n",
              "      <th>P</th>\n",
              "    </tr>\n",
              "  </thead>\n",
              "  <tbody>\n",
              "    <tr>\n",
              "      <th>1117599</th>\n",
              "      <td>19999</td>\n",
              "      <td>326</td>\n",
              "      <td>3</td>\n",
              "      <td>1.0</td>\n",
              "    </tr>\n",
              "  </tbody>\n",
              "</table>\n",
              "</div>"
            ],
            "text/plain": [
              "         user_id  cart  count    P\n",
              "1117599    19999   326      3  1.0"
            ]
          },
          "metadata": {},
          "execution_count": 109
        }
      ]
    },
    {
      "cell_type": "code",
      "metadata": {
        "colab": {
          "base_uri": "https://localhost:8080/"
        },
        "id": "tlr4lF1TCD3n",
        "outputId": "d92a91ac-2f42-4c3f-c81e-145890be5025"
      },
      "source": [
        "df_users['num'].loc[19999]"
      ],
      "execution_count": null,
      "outputs": [
        {
          "output_type": "execute_result",
          "data": {
            "text/plain": [
              "1"
            ]
          },
          "metadata": {},
          "execution_count": 110
        }
      ]
    },
    {
      "cell_type": "markdown",
      "metadata": {
        "id": "GRGyT7HQhHXV"
      },
      "source": [
        "### Boolean"
      ]
    },
    {
      "cell_type": "code",
      "metadata": {
        "id": "h8RvcJ2khw3D"
      },
      "source": [
        "df_mean = df_count.groupby('user_id') \\\n",
        "       .agg({'P':'mean'}) \\\n",
        "       .rename(columns={'P':'mean_P'}) \\\n",
        "       .reset_index()"
      ],
      "execution_count": null,
      "outputs": []
    },
    {
      "cell_type": "code",
      "metadata": {
        "colab": {
          "base_uri": "https://localhost:8080/",
          "height": 202
        },
        "id": "owVsAA-1jCsq",
        "outputId": "74a177b6-505d-4ca2-d2c8-3ffb2e67124d"
      },
      "source": [
        "df_mean[:5]"
      ],
      "execution_count": null,
      "outputs": [
        {
          "output_type": "execute_result",
          "data": {
            "text/html": [
              "<div>\n",
              "<style scoped>\n",
              "    .dataframe tbody tr th:only-of-type {\n",
              "        vertical-align: middle;\n",
              "    }\n",
              "\n",
              "    .dataframe tbody tr th {\n",
              "        vertical-align: top;\n",
              "    }\n",
              "\n",
              "    .dataframe thead th {\n",
              "        text-align: right;\n",
              "    }\n",
              "</style>\n",
              "<table border=\"1\" class=\"dataframe\">\n",
              "  <thead>\n",
              "    <tr style=\"text-align: right;\">\n",
              "      <th></th>\n",
              "      <th>user_id</th>\n",
              "      <th>mean_P</th>\n",
              "    </tr>\n",
              "  </thead>\n",
              "  <tbody>\n",
              "    <tr>\n",
              "      <th>0</th>\n",
              "      <td>0</td>\n",
              "      <td>0.033951</td>\n",
              "    </tr>\n",
              "    <tr>\n",
              "      <th>1</th>\n",
              "      <td>1</td>\n",
              "      <td>0.092500</td>\n",
              "    </tr>\n",
              "    <tr>\n",
              "      <th>2</th>\n",
              "      <td>2</td>\n",
              "      <td>0.031410</td>\n",
              "    </tr>\n",
              "    <tr>\n",
              "      <th>3</th>\n",
              "      <td>3</td>\n",
              "      <td>0.042936</td>\n",
              "    </tr>\n",
              "    <tr>\n",
              "      <th>4</th>\n",
              "      <td>4</td>\n",
              "      <td>0.044800</td>\n",
              "    </tr>\n",
              "  </tbody>\n",
              "</table>\n",
              "</div>"
            ],
            "text/plain": [
              "   user_id    mean_P\n",
              "0        0  0.033951\n",
              "1        1  0.092500\n",
              "2        2  0.031410\n",
              "3        3  0.042936\n",
              "4        4  0.044800"
            ]
          },
          "metadata": {},
          "execution_count": 112
        }
      ]
    },
    {
      "cell_type": "code",
      "metadata": {
        "colab": {
          "base_uri": "https://localhost:8080/"
        },
        "id": "sM9JLUbk7P0H",
        "outputId": "6695657e-4e0c-4de0-bf43-0d478843926b"
      },
      "source": [
        "df_mean['mean_P'].loc[0]"
      ],
      "execution_count": null,
      "outputs": [
        {
          "output_type": "execute_result",
          "data": {
            "text/plain": [
              "0.03395061728395061"
            ]
          },
          "metadata": {},
          "execution_count": 113
        }
      ]
    },
    {
      "cell_type": "code",
      "metadata": {
        "id": "NFu575zChFpF"
      },
      "source": [
        "def p_bool(x,y):\n",
        "  s = df_mean['mean_P'].loc[x]\n",
        "  if y > s :\n",
        "    return 1\n",
        "  else: \n",
        "    return 0  "
      ],
      "execution_count": null,
      "outputs": []
    },
    {
      "cell_type": "code",
      "metadata": {
        "id": "nO-7UOK6hNhG"
      },
      "source": [
        "df_count['target'] = df_count.apply(lambda x: p_bool(x['user_id'], x['P']), axis=1)"
      ],
      "execution_count": null,
      "outputs": []
    },
    {
      "cell_type": "code",
      "metadata": {
        "colab": {
          "base_uri": "https://localhost:8080/",
          "height": 415
        },
        "id": "57MUhqLmhPkt",
        "outputId": "7b24cf80-5f3d-4744-b94b-f9a436f0efe0"
      },
      "source": [
        "df_count"
      ],
      "execution_count": null,
      "outputs": [
        {
          "output_type": "execute_result",
          "data": {
            "text/html": [
              "<div>\n",
              "<style scoped>\n",
              "    .dataframe tbody tr th:only-of-type {\n",
              "        vertical-align: middle;\n",
              "    }\n",
              "\n",
              "    .dataframe tbody tr th {\n",
              "        vertical-align: top;\n",
              "    }\n",
              "\n",
              "    .dataframe thead th {\n",
              "        text-align: right;\n",
              "    }\n",
              "</style>\n",
              "<table border=\"1\" class=\"dataframe\">\n",
              "  <thead>\n",
              "    <tr style=\"text-align: right;\">\n",
              "      <th></th>\n",
              "      <th>user_id</th>\n",
              "      <th>cart</th>\n",
              "      <th>count</th>\n",
              "      <th>P</th>\n",
              "      <th>target</th>\n",
              "    </tr>\n",
              "  </thead>\n",
              "  <tbody>\n",
              "    <tr>\n",
              "      <th>0</th>\n",
              "      <td>0</td>\n",
              "      <td>5</td>\n",
              "      <td>1</td>\n",
              "      <td>0.027778</td>\n",
              "      <td>0</td>\n",
              "    </tr>\n",
              "    <tr>\n",
              "      <th>1</th>\n",
              "      <td>0</td>\n",
              "      <td>10</td>\n",
              "      <td>1</td>\n",
              "      <td>0.027778</td>\n",
              "      <td>0</td>\n",
              "    </tr>\n",
              "    <tr>\n",
              "      <th>2</th>\n",
              "      <td>0</td>\n",
              "      <td>14</td>\n",
              "      <td>2</td>\n",
              "      <td>0.055556</td>\n",
              "      <td>1</td>\n",
              "    </tr>\n",
              "    <tr>\n",
              "      <th>3</th>\n",
              "      <td>0</td>\n",
              "      <td>20</td>\n",
              "      <td>1</td>\n",
              "      <td>0.027778</td>\n",
              "      <td>0</td>\n",
              "    </tr>\n",
              "    <tr>\n",
              "      <th>4</th>\n",
              "      <td>0</td>\n",
              "      <td>22</td>\n",
              "      <td>1</td>\n",
              "      <td>0.027778</td>\n",
              "      <td>0</td>\n",
              "    </tr>\n",
              "    <tr>\n",
              "      <th>...</th>\n",
              "      <td>...</td>\n",
              "      <td>...</td>\n",
              "      <td>...</td>\n",
              "      <td>...</td>\n",
              "      <td>...</td>\n",
              "    </tr>\n",
              "    <tr>\n",
              "      <th>1117595</th>\n",
              "      <td>19998</td>\n",
              "      <td>409</td>\n",
              "      <td>1</td>\n",
              "      <td>0.076923</td>\n",
              "      <td>0</td>\n",
              "    </tr>\n",
              "    <tr>\n",
              "      <th>1117596</th>\n",
              "      <td>19998</td>\n",
              "      <td>415</td>\n",
              "      <td>2</td>\n",
              "      <td>0.153846</td>\n",
              "      <td>1</td>\n",
              "    </tr>\n",
              "    <tr>\n",
              "      <th>1117597</th>\n",
              "      <td>19998</td>\n",
              "      <td>420</td>\n",
              "      <td>2</td>\n",
              "      <td>0.153846</td>\n",
              "      <td>1</td>\n",
              "    </tr>\n",
              "    <tr>\n",
              "      <th>1117598</th>\n",
              "      <td>19998</td>\n",
              "      <td>798</td>\n",
              "      <td>1</td>\n",
              "      <td>0.076923</td>\n",
              "      <td>0</td>\n",
              "    </tr>\n",
              "    <tr>\n",
              "      <th>1117599</th>\n",
              "      <td>19999</td>\n",
              "      <td>326</td>\n",
              "      <td>3</td>\n",
              "      <td>1.000000</td>\n",
              "      <td>1</td>\n",
              "    </tr>\n",
              "  </tbody>\n",
              "</table>\n",
              "<p>1117600 rows × 5 columns</p>\n",
              "</div>"
            ],
            "text/plain": [
              "         user_id  cart  count         P  target\n",
              "0              0     5      1  0.027778       0\n",
              "1              0    10      1  0.027778       0\n",
              "2              0    14      2  0.055556       1\n",
              "3              0    20      1  0.027778       0\n",
              "4              0    22      1  0.027778       0\n",
              "...          ...   ...    ...       ...     ...\n",
              "1117595    19998   409      1  0.076923       0\n",
              "1117596    19998   415      2  0.153846       1\n",
              "1117597    19998   420      2  0.153846       1\n",
              "1117598    19998   798      1  0.076923       0\n",
              "1117599    19999   326      3  1.000000       1\n",
              "\n",
              "[1117600 rows x 5 columns]"
            ]
          },
          "metadata": {},
          "execution_count": 116
        }
      ]
    },
    {
      "cell_type": "markdown",
      "metadata": {
        "id": "z-f4uZV_yQNe"
      },
      "source": [
        "# 2. Modeling (miss this step)"
      ]
    },
    {
      "cell_type": "markdown",
      "metadata": {
        "id": "Bi1eAhkYqJIn"
      },
      "source": [
        "## Normalization for:\n",
        "\n",
        "* Logistic Regression\n",
        "* SVM\n",
        "* PCA\n",
        "* NN"
      ]
    },
    {
      "cell_type": "code",
      "metadata": {
        "id": "6rYGYtv8qI22"
      },
      "source": [
        "# Feature scaling with StandardScaler \n",
        "from sklearn.preprocessing import StandardScaler \n",
        "\n",
        "x = df_count.drop('target', axis=1)\n",
        "y = df_count['target']\n",
        "\n",
        "scale_features_std = StandardScaler() \n",
        "normal_x = scale_features_std.fit_transform(x)"
      ],
      "execution_count": null,
      "outputs": []
    },
    {
      "cell_type": "code",
      "metadata": {
        "id": "BNCQAKKyyMgJ"
      },
      "source": [
        "# Split the data\n",
        "\n",
        "np.random.seed(42)\n",
        "x_train, x_test, y_train, y_test = train_test_split(normal_x, y, test_size=0.2)"
      ],
      "execution_count": null,
      "outputs": []
    },
    {
      "cell_type": "markdown",
      "metadata": {
        "id": "vBQQSSbRnF8d"
      },
      "source": [
        "## `Logistic Regression`, `KNN`, `Random Forest`, `Naive Bayes`"
      ]
    },
    {
      "cell_type": "code",
      "metadata": {
        "id": "MwRTdflclHjm"
      },
      "source": [
        "# Put model in a dictionary\n",
        "models = {\"Logistic Regression\": LogisticRegression(),\n",
        "          \"KNN\": KNeighborsClassifier(),\n",
        "          \"Random Forest\": RandomForestClassifier(),\n",
        "          \"Naive Bayes\": GaussianNB()}\n",
        "\n",
        "# Create the function to fit and score models\n",
        "def fit_and_score(models, x_train, x_test, y_train, y_test):\n",
        "    \"\"\"\n",
        "    Fits and evaluates given ml models\n",
        "    \"\"\"\n",
        "    \n",
        "    # Set random seed\n",
        "    np.random.seed(42)\n",
        "    # Make a dictionary to keep scores\n",
        "    model_scores = {}\n",
        "    #Loop through model\n",
        "    for name, model in models.items():\n",
        "        # Fit the model to the data\n",
        "        model.fit(x_train, y_train)\n",
        "        # Evaluate the model append its scores to model_scores\n",
        "        model_scores[name] = model.score(x_test, y_test)\n",
        "    return model_scores"
      ],
      "execution_count": null,
      "outputs": []
    },
    {
      "cell_type": "code",
      "metadata": {
        "id": "2ehRHerSlWh3",
        "colab": {
          "base_uri": "https://localhost:8080/"
        },
        "outputId": "fa2d8dd8-593c-46ce-c555-59e1fba2de4f"
      },
      "source": [
        "model_scores = fit_and_score(models=models,\n",
        "                            x_train=x_train,\n",
        "                            x_test=x_test,\n",
        "                            y_train=y_train,\n",
        "                            y_test=y_test)\n",
        "model_scores"
      ],
      "execution_count": null,
      "outputs": [
        {
          "output_type": "execute_result",
          "data": {
            "text/plain": [
              "{'KNN': 0.9211077308518253,\n",
              " 'Logistic Regression': 0.8915935934144595,\n",
              " 'Naive Bayes': 0.8502952755905512,\n",
              " 'Random Forest': 0.9626789549033643}"
            ]
          },
          "metadata": {},
          "execution_count": 240
        }
      ]
    },
    {
      "cell_type": "markdown",
      "metadata": {
        "id": "pr1PO5bFnaCG"
      },
      "source": [
        "### Models Comparison"
      ]
    },
    {
      "cell_type": "code",
      "metadata": {
        "id": "LM5Dit72nh1z",
        "colab": {
          "base_uri": "https://localhost:8080/",
          "height": 318
        },
        "outputId": "1c84a7a8-9c04-4348-bc63-03e6756bd91f"
      },
      "source": [
        "models_compare = pd.DataFrame(model_scores, index=[\"accuracy\"])\n",
        "models_compare.plot.bar()"
      ],
      "execution_count": null,
      "outputs": [
        {
          "output_type": "execute_result",
          "data": {
            "text/plain": [
              "<matplotlib.axes._subplots.AxesSubplot at 0x7fe6407b6d10>"
            ]
          },
          "metadata": {},
          "execution_count": 241
        },
        {
          "output_type": "display_data",
          "data": {
            "image/png": "[encoded data removed]",
            "text/plain": [
              "<Figure size 432x288 with 1 Axes>"
            ]
          },
          "metadata": {
            "needs_background": "light"
          }
        }
      ]
    },
    {
      "cell_type": "markdown",
      "metadata": {
        "id": "IDgYZ__hm1ZI"
      },
      "source": [
        "## CatBoost"
      ]
    },
    {
      "cell_type": "code",
      "metadata": {
        "id": "GjoqLvQizO7v",
        "colab": {
          "base_uri": "https://localhost:8080/"
        },
        "outputId": "441267e5-795a-4a3a-f87f-57fd2aaa5d6e"
      },
      "source": [
        "# !pip install catboost"
      ],
      "execution_count": null,
      "outputs": [
        {
          "output_type": "stream",
          "name": "stdout",
          "text": [
            "Collecting catboost\n",
            "  Downloading catboost-1.0.3-cp37-none-manylinux1_x86_64.whl (76.3 MB)\n",
            "\u001b[K     |████████████████████████████████| 76.3 MB 24 kB/s \n",
            "\u001b[?25hRequirement already satisfied: graphviz in /usr/local/lib/python3.7/dist-packages (from catboost) (0.10.1)\n",
            "Requirement already satisfied: scipy in /usr/local/lib/python3.7/dist-packages (from catboost) (1.4.1)\n",
            "Requirement already satisfied: plotly in /usr/local/lib/python3.7/dist-packages (from catboost) (4.4.1)\n",
            "Requirement already satisfied: pandas>=0.24.0 in /usr/local/lib/python3.7/dist-packages (from catboost) (1.1.5)\n",
            "Requirement already satisfied: matplotlib in /usr/local/lib/python3.7/dist-packages (from catboost) (3.2.2)\n",
            "Requirement already satisfied: six in /usr/local/lib/python3.7/dist-packages (from catboost) (1.15.0)\n",
            "Requirement already satisfied: numpy>=1.16.0 in /usr/local/lib/python3.7/dist-packages (from catboost) (1.19.5)\n",
            "Requirement already satisfied: python-dateutil>=2.7.3 in /usr/local/lib/python3.7/dist-packages (from pandas>=0.24.0->catboost) (2.8.2)\n",
            "Requirement already satisfied: pytz>=2017.2 in /usr/local/lib/python3.7/dist-packages (from pandas>=0.24.0->catboost) (2018.9)\n",
            "Requirement already satisfied: pyparsing!=2.0.4,!=2.1.2,!=2.1.6,>=2.0.1 in /usr/local/lib/python3.7/dist-packages (from matplotlib->catboost) (2.4.7)\n",
            "Requirement already satisfied: cycler>=0.10 in /usr/local/lib/python3.7/dist-packages (from matplotlib->catboost) (0.11.0)\n",
            "Requirement already satisfied: kiwisolver>=1.0.1 in /usr/local/lib/python3.7/dist-packages (from matplotlib->catboost) (1.3.2)\n",
            "Requirement already satisfied: retrying>=1.3.3 in /usr/local/lib/python3.7/dist-packages (from plotly->catboost) (1.3.3)\n",
            "Installing collected packages: catboost\n",
            "Successfully installed catboost-1.0.3\n"
          ]
        }
      ]
    },
    {
      "cell_type": "code",
      "metadata": {
        "id": "fKFjbym6m4s4"
      },
      "source": [
        "def plot_feature_importance(importance,names,model_type):\n",
        "\n",
        "    #Create arrays from feature importance and feature names\n",
        "    feature_importance = np.array(importance)\n",
        "    feature_names = np.array(names)\n",
        "\n",
        "    #Create a DataFrame using a Dictionary\n",
        "    data={'feature_names':feature_names,'feature_importance':feature_importance}\n",
        "    fi_df = pd.DataFrame(data)\n",
        "\n",
        "    #Sort the DataFrame in order decreasing feature importance\n",
        "    fi_df.sort_values(by=['feature_importance'], ascending=False,inplace=True)\n",
        "\n",
        "    #Define size of bar plot\n",
        "    plt.figure(figsize=(10,8))\n",
        "    #Plot Searborn bar chart\n",
        "    sns.barplot(x=fi_df['feature_importance'], y=fi_df['feature_names'])\n",
        "    #Add chart labels\n",
        "    plt.title(model_type + 'FEATURE IMPORTANCE')\n",
        "    plt.xlabel('FEATURE IMPORTANCE')\n",
        "    plt.ylabel('FEATURE NAMES')"
      ],
      "execution_count": null,
      "outputs": []
    },
    {
      "cell_type": "code",
      "metadata": {
        "id": "D5sEzZHfm72G",
        "colab": {
          "base_uri": "https://localhost:8080/"
        },
        "outputId": "0d4f03f3-798f-4c42-999b-213999843024"
      },
      "source": [
        "from catboost import CatBoostClassifier\n",
        "model_catboost = CatBoostClassifier(#task_type=\"GPU\",\n",
        "                         loss_function= 'Logloss',\n",
        "                         devices='0:1')\n",
        "model_catboost.fit(x_train, y_train) #plot=True)"
      ],
      "execution_count": null,
      "outputs": [
        {
          "output_type": "stream",
          "name": "stdout",
          "text": [
            "Learning rate set to 0.187574\n",
            "0:\tlearn: 0.3538547\ttotal: 230ms\tremaining: 3m 49s\n",
            "1:\tlearn: 0.2576324\ttotal: 409ms\tremaining: 3m 24s\n",
            "2:\tlearn: 0.2234791\ttotal: 583ms\tremaining: 3m 13s\n",
            "3:\tlearn: 0.2046898\ttotal: 748ms\tremaining: 3m 6s\n",
            "4:\tlearn: 0.1952489\ttotal: 931ms\tremaining: 3m 5s\n",
            "5:\tlearn: 0.1892086\ttotal: 1.09s\tremaining: 3m\n",
            "6:\tlearn: 0.1852883\ttotal: 1.25s\tremaining: 2m 57s\n",
            "7:\tlearn: 0.1820115\ttotal: 1.41s\tremaining: 2m 55s\n",
            "8:\tlearn: 0.1796797\ttotal: 1.58s\tremaining: 2m 54s\n",
            "9:\tlearn: 0.1779671\ttotal: 1.75s\tremaining: 2m 53s\n",
            "10:\tlearn: 0.1768501\ttotal: 1.92s\tremaining: 2m 52s\n",
            "11:\tlearn: 0.1761258\ttotal: 2.09s\tremaining: 2m 52s\n",
            "12:\tlearn: 0.1754957\ttotal: 2.25s\tremaining: 2m 50s\n",
            "13:\tlearn: 0.1750440\ttotal: 2.4s\tremaining: 2m 49s\n",
            "14:\tlearn: 0.1746582\ttotal: 2.55s\tremaining: 2m 47s\n",
            "15:\tlearn: 0.1743238\ttotal: 2.71s\tremaining: 2m 47s\n",
            "16:\tlearn: 0.1740624\ttotal: 2.88s\tremaining: 2m 46s\n",
            "17:\tlearn: 0.1738570\ttotal: 3.04s\tremaining: 2m 46s\n",
            "18:\tlearn: 0.1737357\ttotal: 3.2s\tremaining: 2m 45s\n",
            "19:\tlearn: 0.1735379\ttotal: 3.36s\tremaining: 2m 44s\n",
            "20:\tlearn: 0.1732875\ttotal: 3.51s\tremaining: 2m 43s\n",
            "21:\tlearn: 0.1731592\ttotal: 3.67s\tremaining: 2m 43s\n",
            "22:\tlearn: 0.1730091\ttotal: 3.83s\tremaining: 2m 42s\n",
            "23:\tlearn: 0.1729012\ttotal: 4s\tremaining: 2m 42s\n",
            "24:\tlearn: 0.1727441\ttotal: 4.16s\tremaining: 2m 42s\n",
            "25:\tlearn: 0.1726154\ttotal: 4.32s\tremaining: 2m 41s\n",
            "26:\tlearn: 0.1725018\ttotal: 4.46s\tremaining: 2m 40s\n",
            "27:\tlearn: 0.1723672\ttotal: 4.61s\tremaining: 2m 40s\n",
            "28:\tlearn: 0.1722374\ttotal: 4.78s\tremaining: 2m 39s\n",
            "29:\tlearn: 0.1721381\ttotal: 4.94s\tremaining: 2m 39s\n",
            "30:\tlearn: 0.1720198\ttotal: 5.09s\tremaining: 2m 39s\n",
            "31:\tlearn: 0.1719324\ttotal: 5.24s\tremaining: 2m 38s\n",
            "32:\tlearn: 0.1718205\ttotal: 5.4s\tremaining: 2m 38s\n",
            "33:\tlearn: 0.1717461\ttotal: 5.56s\tremaining: 2m 37s\n",
            "34:\tlearn: 0.1716666\ttotal: 5.72s\tremaining: 2m 37s\n",
            "35:\tlearn: 0.1715905\ttotal: 5.88s\tremaining: 2m 37s\n",
            "36:\tlearn: 0.1715032\ttotal: 6.04s\tremaining: 2m 37s\n",
            "37:\tlearn: 0.1714409\ttotal: 6.2s\tremaining: 2m 36s\n",
            "38:\tlearn: 0.1713338\ttotal: 6.36s\tremaining: 2m 36s\n",
            "39:\tlearn: 0.1712499\ttotal: 6.52s\tremaining: 2m 36s\n",
            "40:\tlearn: 0.1711902\ttotal: 6.68s\tremaining: 2m 36s\n",
            "41:\tlearn: 0.1711199\ttotal: 6.85s\tremaining: 2m 36s\n",
            "42:\tlearn: 0.1710592\ttotal: 7.02s\tremaining: 2m 36s\n",
            "43:\tlearn: 0.1709552\ttotal: 7.17s\tremaining: 2m 35s\n",
            "44:\tlearn: 0.1708886\ttotal: 7.32s\tremaining: 2m 35s\n",
            "45:\tlearn: 0.1708145\ttotal: 7.48s\tremaining: 2m 35s\n",
            "46:\tlearn: 0.1707420\ttotal: 7.65s\tremaining: 2m 35s\n",
            "47:\tlearn: 0.1706072\ttotal: 7.8s\tremaining: 2m 34s\n",
            "48:\tlearn: 0.1705567\ttotal: 7.96s\tremaining: 2m 34s\n",
            "49:\tlearn: 0.1705012\ttotal: 8.12s\tremaining: 2m 34s\n",
            "50:\tlearn: 0.1704399\ttotal: 8.26s\tremaining: 2m 33s\n",
            "51:\tlearn: 0.1703966\ttotal: 8.43s\tremaining: 2m 33s\n",
            "52:\tlearn: 0.1703504\ttotal: 8.59s\tremaining: 2m 33s\n",
            "53:\tlearn: 0.1702999\ttotal: 8.73s\tremaining: 2m 32s\n",
            "54:\tlearn: 0.1702606\ttotal: 8.89s\tremaining: 2m 32s\n",
            "55:\tlearn: 0.1702104\ttotal: 9.05s\tremaining: 2m 32s\n",
            "56:\tlearn: 0.1701459\ttotal: 9.2s\tremaining: 2m 32s\n",
            "57:\tlearn: 0.1700879\ttotal: 9.36s\tremaining: 2m 32s\n",
            "58:\tlearn: 0.1699048\ttotal: 9.52s\tremaining: 2m 31s\n",
            "59:\tlearn: 0.1698654\ttotal: 9.68s\tremaining: 2m 31s\n",
            "60:\tlearn: 0.1698050\ttotal: 9.84s\tremaining: 2m 31s\n",
            "61:\tlearn: 0.1697569\ttotal: 10s\tremaining: 2m 31s\n",
            "62:\tlearn: 0.1697231\ttotal: 10.2s\tremaining: 2m 31s\n",
            "63:\tlearn: 0.1696599\ttotal: 10.3s\tremaining: 2m 31s\n",
            "64:\tlearn: 0.1695832\ttotal: 10.5s\tremaining: 2m 31s\n",
            "65:\tlearn: 0.1695506\ttotal: 10.7s\tremaining: 2m 30s\n",
            "66:\tlearn: 0.1695046\ttotal: 10.8s\tremaining: 2m 30s\n",
            "67:\tlearn: 0.1694729\ttotal: 11s\tremaining: 2m 30s\n",
            "68:\tlearn: 0.1693805\ttotal: 11.1s\tremaining: 2m 30s\n",
            "69:\tlearn: 0.1693420\ttotal: 11.3s\tremaining: 2m 30s\n",
            "70:\tlearn: 0.1692557\ttotal: 11.5s\tremaining: 2m 29s\n",
            "71:\tlearn: 0.1692079\ttotal: 11.6s\tremaining: 2m 29s\n",
            "72:\tlearn: 0.1691205\ttotal: 11.8s\tremaining: 2m 29s\n",
            "73:\tlearn: 0.1690626\ttotal: 11.9s\tremaining: 2m 29s\n",
            "74:\tlearn: 0.1690054\ttotal: 12.1s\tremaining: 2m 29s\n",
            "75:\tlearn: 0.1689568\ttotal: 12.3s\tremaining: 2m 29s\n",
            "76:\tlearn: 0.1689206\ttotal: 12.4s\tremaining: 2m 29s\n",
            "77:\tlearn: 0.1688658\ttotal: 12.6s\tremaining: 2m 28s\n",
            "78:\tlearn: 0.1688095\ttotal: 12.8s\tremaining: 2m 28s\n",
            "79:\tlearn: 0.1687470\ttotal: 12.9s\tremaining: 2m 28s\n",
            "80:\tlearn: 0.1687029\ttotal: 13.1s\tremaining: 2m 28s\n",
            "81:\tlearn: 0.1686643\ttotal: 13.2s\tremaining: 2m 28s\n",
            "82:\tlearn: 0.1685877\ttotal: 13.4s\tremaining: 2m 27s\n",
            "83:\tlearn: 0.1685308\ttotal: 13.5s\tremaining: 2m 27s\n",
            "84:\tlearn: 0.1684842\ttotal: 13.7s\tremaining: 2m 27s\n",
            "85:\tlearn: 0.1684364\ttotal: 13.9s\tremaining: 2m 27s\n",
            "86:\tlearn: 0.1683791\ttotal: 14s\tremaining: 2m 27s\n",
            "87:\tlearn: 0.1683169\ttotal: 14.2s\tremaining: 2m 27s\n",
            "88:\tlearn: 0.1682807\ttotal: 14.4s\tremaining: 2m 27s\n",
            "89:\tlearn: 0.1682436\ttotal: 14.5s\tremaining: 2m 26s\n",
            "90:\tlearn: 0.1682084\ttotal: 14.7s\tremaining: 2m 26s\n",
            "91:\tlearn: 0.1681691\ttotal: 14.8s\tremaining: 2m 26s\n",
            "92:\tlearn: 0.1681102\ttotal: 15s\tremaining: 2m 26s\n",
            "93:\tlearn: 0.1680715\ttotal: 15.2s\tremaining: 2m 26s\n",
            "94:\tlearn: 0.1680507\ttotal: 15.3s\tremaining: 2m 26s\n",
            "95:\tlearn: 0.1680029\ttotal: 15.5s\tremaining: 2m 26s\n",
            "96:\tlearn: 0.1679672\ttotal: 15.7s\tremaining: 2m 25s\n",
            "97:\tlearn: 0.1679265\ttotal: 15.8s\tremaining: 2m 25s\n",
            "98:\tlearn: 0.1678850\ttotal: 16s\tremaining: 2m 25s\n",
            "99:\tlearn: 0.1678327\ttotal: 16.1s\tremaining: 2m 25s\n",
            "100:\tlearn: 0.1677837\ttotal: 16.3s\tremaining: 2m 25s\n",
            "101:\tlearn: 0.1677286\ttotal: 16.5s\tremaining: 2m 24s\n",
            "102:\tlearn: 0.1677132\ttotal: 16.6s\tremaining: 2m 24s\n",
            "103:\tlearn: 0.1676804\ttotal: 16.8s\tremaining: 2m 24s\n",
            "104:\tlearn: 0.1676369\ttotal: 16.9s\tremaining: 2m 24s\n",
            "105:\tlearn: 0.1676067\ttotal: 17.1s\tremaining: 2m 24s\n",
            "106:\tlearn: 0.1675412\ttotal: 17.3s\tremaining: 2m 24s\n",
            "107:\tlearn: 0.1675032\ttotal: 17.4s\tremaining: 2m 23s\n",
            "108:\tlearn: 0.1674690\ttotal: 17.6s\tremaining: 2m 23s\n",
            "109:\tlearn: 0.1673923\ttotal: 17.7s\tremaining: 2m 23s\n",
            "110:\tlearn: 0.1673532\ttotal: 17.9s\tremaining: 2m 23s\n",
            "111:\tlearn: 0.1673117\ttotal: 18.1s\tremaining: 2m 23s\n",
            "112:\tlearn: 0.1672552\ttotal: 18.2s\tremaining: 2m 23s\n",
            "113:\tlearn: 0.1671881\ttotal: 18.4s\tremaining: 2m 22s\n",
            "114:\tlearn: 0.1671431\ttotal: 18.6s\tremaining: 2m 22s\n",
            "115:\tlearn: 0.1671055\ttotal: 18.7s\tremaining: 2m 22s\n",
            "116:\tlearn: 0.1670605\ttotal: 18.9s\tremaining: 2m 22s\n",
            "117:\tlearn: 0.1670439\ttotal: 19.1s\tremaining: 2m 22s\n",
            "118:\tlearn: 0.1669951\ttotal: 19.2s\tremaining: 2m 22s\n",
            "119:\tlearn: 0.1669804\ttotal: 19.4s\tremaining: 2m 22s\n",
            "120:\tlearn: 0.1669602\ttotal: 19.6s\tremaining: 2m 22s\n",
            "121:\tlearn: 0.1669231\ttotal: 19.7s\tremaining: 2m 21s\n",
            "122:\tlearn: 0.1668829\ttotal: 19.9s\tremaining: 2m 21s\n",
            "123:\tlearn: 0.1668425\ttotal: 20s\tremaining: 2m 21s\n",
            "124:\tlearn: 0.1668037\ttotal: 20.2s\tremaining: 2m 21s\n",
            "125:\tlearn: 0.1667256\ttotal: 20.4s\tremaining: 2m 21s\n",
            "126:\tlearn: 0.1666875\ttotal: 20.6s\tremaining: 2m 21s\n",
            "127:\tlearn: 0.1666517\ttotal: 20.7s\tremaining: 2m 21s\n",
            "128:\tlearn: 0.1665713\ttotal: 20.9s\tremaining: 2m 20s\n",
            "129:\tlearn: 0.1665171\ttotal: 21s\tremaining: 2m 20s\n",
            "130:\tlearn: 0.1664506\ttotal: 21.2s\tremaining: 2m 20s\n",
            "131:\tlearn: 0.1664220\ttotal: 21.4s\tremaining: 2m 20s\n",
            "132:\tlearn: 0.1663774\ttotal: 21.5s\tremaining: 2m 20s\n",
            "133:\tlearn: 0.1663446\ttotal: 21.7s\tremaining: 2m 20s\n",
            "134:\tlearn: 0.1662939\ttotal: 21.8s\tremaining: 2m 19s\n",
            "135:\tlearn: 0.1662549\ttotal: 22s\tremaining: 2m 19s\n",
            "136:\tlearn: 0.1662195\ttotal: 22.2s\tremaining: 2m 19s\n",
            "137:\tlearn: 0.1661986\ttotal: 22.3s\tremaining: 2m 19s\n",
            "138:\tlearn: 0.1661454\ttotal: 22.5s\tremaining: 2m 19s\n",
            "139:\tlearn: 0.1660966\ttotal: 22.7s\tremaining: 2m 19s\n",
            "140:\tlearn: 0.1660578\ttotal: 22.8s\tremaining: 2m 19s\n",
            "141:\tlearn: 0.1660358\ttotal: 23s\tremaining: 2m 18s\n",
            "142:\tlearn: 0.1660055\ttotal: 23.2s\tremaining: 2m 18s\n",
            "143:\tlearn: 0.1659781\ttotal: 23.3s\tremaining: 2m 18s\n",
            "144:\tlearn: 0.1659286\ttotal: 23.5s\tremaining: 2m 18s\n",
            "145:\tlearn: 0.1658665\ttotal: 23.6s\tremaining: 2m 18s\n",
            "146:\tlearn: 0.1658169\ttotal: 23.8s\tremaining: 2m 18s\n",
            "147:\tlearn: 0.1658053\ttotal: 23.9s\tremaining: 2m 17s\n",
            "148:\tlearn: 0.1657881\ttotal: 24.1s\tremaining: 2m 17s\n",
            "149:\tlearn: 0.1657672\ttotal: 24.3s\tremaining: 2m 17s\n",
            "150:\tlearn: 0.1657307\ttotal: 24.4s\tremaining: 2m 17s\n",
            "151:\tlearn: 0.1656980\ttotal: 24.6s\tremaining: 2m 17s\n",
            "152:\tlearn: 0.1656396\ttotal: 24.8s\tremaining: 2m 17s\n",
            "153:\tlearn: 0.1656129\ttotal: 24.9s\tremaining: 2m 16s\n",
            "154:\tlearn: 0.1655645\ttotal: 25.1s\tremaining: 2m 16s\n",
            "155:\tlearn: 0.1655107\ttotal: 25.2s\tremaining: 2m 16s\n",
            "156:\tlearn: 0.1654814\ttotal: 25.4s\tremaining: 2m 16s\n",
            "157:\tlearn: 0.1654357\ttotal: 25.6s\tremaining: 2m 16s\n",
            "158:\tlearn: 0.1654238\ttotal: 25.7s\tremaining: 2m 16s\n",
            "159:\tlearn: 0.1653811\ttotal: 25.9s\tremaining: 2m 15s\n",
            "160:\tlearn: 0.1653239\ttotal: 26.1s\tremaining: 2m 15s\n",
            "161:\tlearn: 0.1652804\ttotal: 26.2s\tremaining: 2m 15s\n",
            "162:\tlearn: 0.1652183\ttotal: 26.4s\tremaining: 2m 15s\n",
            "163:\tlearn: 0.1651631\ttotal: 26.6s\tremaining: 2m 15s\n",
            "164:\tlearn: 0.1651459\ttotal: 26.7s\tremaining: 2m 15s\n",
            "165:\tlearn: 0.1650833\ttotal: 26.9s\tremaining: 2m 15s\n",
            "166:\tlearn: 0.1650531\ttotal: 27.1s\tremaining: 2m 14s\n",
            "167:\tlearn: 0.1650313\ttotal: 27.2s\tremaining: 2m 14s\n",
            "168:\tlearn: 0.1650100\ttotal: 27.4s\tremaining: 2m 14s\n",
            "169:\tlearn: 0.1649554\ttotal: 27.5s\tremaining: 2m 14s\n",
            "170:\tlearn: 0.1649187\ttotal: 27.7s\tremaining: 2m 14s\n",
            "171:\tlearn: 0.1648631\ttotal: 27.9s\tremaining: 2m 14s\n",
            "172:\tlearn: 0.1648365\ttotal: 28s\tremaining: 2m 13s\n",
            "173:\tlearn: 0.1648128\ttotal: 28.2s\tremaining: 2m 13s\n",
            "174:\tlearn: 0.1647741\ttotal: 28.3s\tremaining: 2m 13s\n",
            "175:\tlearn: 0.1647277\ttotal: 28.5s\tremaining: 2m 13s\n",
            "176:\tlearn: 0.1646818\ttotal: 28.6s\tremaining: 2m 13s\n",
            "177:\tlearn: 0.1646328\ttotal: 28.8s\tremaining: 2m 13s\n",
            "178:\tlearn: 0.1645914\ttotal: 29s\tremaining: 2m 12s\n",
            "179:\tlearn: 0.1645408\ttotal: 29.1s\tremaining: 2m 12s\n",
            "180:\tlearn: 0.1645015\ttotal: 29.3s\tremaining: 2m 12s\n",
            "181:\tlearn: 0.1644679\ttotal: 29.5s\tremaining: 2m 12s\n",
            "182:\tlearn: 0.1644543\ttotal: 29.6s\tremaining: 2m 12s\n",
            "183:\tlearn: 0.1643969\ttotal: 29.8s\tremaining: 2m 12s\n",
            "184:\tlearn: 0.1643663\ttotal: 29.9s\tremaining: 2m 11s\n",
            "185:\tlearn: 0.1643373\ttotal: 30.1s\tremaining: 2m 11s\n",
            "186:\tlearn: 0.1643116\ttotal: 30.3s\tremaining: 2m 11s\n",
            "187:\tlearn: 0.1642622\ttotal: 30.4s\tremaining: 2m 11s\n",
            "188:\tlearn: 0.1642381\ttotal: 30.6s\tremaining: 2m 11s\n",
            "189:\tlearn: 0.1641846\ttotal: 30.7s\tremaining: 2m 11s\n",
            "190:\tlearn: 0.1641581\ttotal: 30.9s\tremaining: 2m 10s\n",
            "191:\tlearn: 0.1641304\ttotal: 31.1s\tremaining: 2m 10s\n",
            "192:\tlearn: 0.1641029\ttotal: 31.2s\tremaining: 2m 10s\n",
            "193:\tlearn: 0.1640440\ttotal: 31.4s\tremaining: 2m 10s\n",
            "194:\tlearn: 0.1640267\ttotal: 31.6s\tremaining: 2m 10s\n",
            "195:\tlearn: 0.1640027\ttotal: 31.7s\tremaining: 2m 10s\n",
            "196:\tlearn: 0.1639808\ttotal: 31.9s\tremaining: 2m 9s\n",
            "197:\tlearn: 0.1639689\ttotal: 32s\tremaining: 2m 9s\n",
            "198:\tlearn: 0.1639451\ttotal: 32.2s\tremaining: 2m 9s\n",
            "199:\tlearn: 0.1639114\ttotal: 32.4s\tremaining: 2m 9s\n",
            "200:\tlearn: 0.1638652\ttotal: 32.5s\tremaining: 2m 9s\n",
            "201:\tlearn: 0.1638531\ttotal: 32.7s\tremaining: 2m 9s\n",
            "202:\tlearn: 0.1638347\ttotal: 32.9s\tremaining: 2m 9s\n",
            "203:\tlearn: 0.1637672\ttotal: 33s\tremaining: 2m 8s\n",
            "204:\tlearn: 0.1637502\ttotal: 33.2s\tremaining: 2m 8s\n",
            "205:\tlearn: 0.1637251\ttotal: 33.4s\tremaining: 2m 8s\n",
            "206:\tlearn: 0.1636849\ttotal: 33.5s\tremaining: 2m 8s\n",
            "207:\tlearn: 0.1636347\ttotal: 33.7s\tremaining: 2m 8s\n",
            "208:\tlearn: 0.1636248\ttotal: 33.9s\tremaining: 2m 8s\n",
            "209:\tlearn: 0.1635821\ttotal: 34s\tremaining: 2m 8s\n",
            "210:\tlearn: 0.1635308\ttotal: 34.2s\tremaining: 2m 7s\n",
            "211:\tlearn: 0.1635193\ttotal: 34.4s\tremaining: 2m 7s\n",
            "212:\tlearn: 0.1634802\ttotal: 34.5s\tremaining: 2m 7s\n",
            "213:\tlearn: 0.1634288\ttotal: 34.7s\tremaining: 2m 7s\n",
            "214:\tlearn: 0.1633887\ttotal: 34.8s\tremaining: 2m 7s\n",
            "215:\tlearn: 0.1633361\ttotal: 35s\tremaining: 2m 7s\n",
            "216:\tlearn: 0.1633009\ttotal: 35.2s\tremaining: 2m 6s\n",
            "217:\tlearn: 0.1632566\ttotal: 35.3s\tremaining: 2m 6s\n",
            "218:\tlearn: 0.1632100\ttotal: 35.5s\tremaining: 2m 6s\n",
            "219:\tlearn: 0.1631740\ttotal: 35.7s\tremaining: 2m 6s\n",
            "220:\tlearn: 0.1631349\ttotal: 35.8s\tremaining: 2m 6s\n",
            "221:\tlearn: 0.1631002\ttotal: 36s\tremaining: 2m 6s\n",
            "222:\tlearn: 0.1630579\ttotal: 36.2s\tremaining: 2m 5s\n",
            "223:\tlearn: 0.1630203\ttotal: 36.3s\tremaining: 2m 5s\n",
            "224:\tlearn: 0.1629922\ttotal: 36.5s\tremaining: 2m 5s\n",
            "225:\tlearn: 0.1629716\ttotal: 36.6s\tremaining: 2m 5s\n",
            "226:\tlearn: 0.1629218\ttotal: 36.8s\tremaining: 2m 5s\n",
            "227:\tlearn: 0.1628483\ttotal: 36.9s\tremaining: 2m 5s\n",
            "228:\tlearn: 0.1628180\ttotal: 37.1s\tremaining: 2m 4s\n",
            "229:\tlearn: 0.1628087\ttotal: 37.3s\tremaining: 2m 4s\n",
            "230:\tlearn: 0.1627818\ttotal: 37.4s\tremaining: 2m 4s\n",
            "231:\tlearn: 0.1627539\ttotal: 37.6s\tremaining: 2m 4s\n",
            "232:\tlearn: 0.1627157\ttotal: 37.7s\tremaining: 2m 4s\n",
            "233:\tlearn: 0.1627022\ttotal: 37.9s\tremaining: 2m 4s\n",
            "234:\tlearn: 0.1626377\ttotal: 38.1s\tremaining: 2m 3s\n",
            "235:\tlearn: 0.1626279\ttotal: 38.2s\tremaining: 2m 3s\n",
            "236:\tlearn: 0.1626016\ttotal: 38.4s\tremaining: 2m 3s\n",
            "237:\tlearn: 0.1625557\ttotal: 38.6s\tremaining: 2m 3s\n",
            "238:\tlearn: 0.1625207\ttotal: 38.8s\tremaining: 2m 3s\n",
            "239:\tlearn: 0.1624948\ttotal: 38.9s\tremaining: 2m 3s\n",
            "240:\tlearn: 0.1624549\ttotal: 39.1s\tremaining: 2m 3s\n",
            "241:\tlearn: 0.1624380\ttotal: 39.2s\tremaining: 2m 2s\n",
            "242:\tlearn: 0.1624035\ttotal: 39.4s\tremaining: 2m 2s\n",
            "243:\tlearn: 0.1623626\ttotal: 39.5s\tremaining: 2m 2s\n",
            "244:\tlearn: 0.1623402\ttotal: 39.7s\tremaining: 2m 2s\n",
            "245:\tlearn: 0.1623284\ttotal: 39.9s\tremaining: 2m 2s\n",
            "246:\tlearn: 0.1622778\ttotal: 40s\tremaining: 2m 2s\n",
            "247:\tlearn: 0.1622464\ttotal: 40.2s\tremaining: 2m 1s\n",
            "248:\tlearn: 0.1622103\ttotal: 40.3s\tremaining: 2m 1s\n",
            "249:\tlearn: 0.1621890\ttotal: 40.5s\tremaining: 2m 1s\n",
            "250:\tlearn: 0.1621382\ttotal: 40.7s\tremaining: 2m 1s\n",
            "251:\tlearn: 0.1621149\ttotal: 40.8s\tremaining: 2m 1s\n",
            "252:\tlearn: 0.1620852\ttotal: 41s\tremaining: 2m 1s\n",
            "253:\tlearn: 0.1620517\ttotal: 41.2s\tremaining: 2m\n",
            "254:\tlearn: 0.1620360\ttotal: 41.3s\tremaining: 2m\n",
            "255:\tlearn: 0.1620069\ttotal: 41.5s\tremaining: 2m\n",
            "256:\tlearn: 0.1619748\ttotal: 41.6s\tremaining: 2m\n",
            "257:\tlearn: 0.1619435\ttotal: 41.8s\tremaining: 2m\n",
            "258:\tlearn: 0.1619167\ttotal: 42s\tremaining: 2m\n",
            "259:\tlearn: 0.1618617\ttotal: 42.1s\tremaining: 1m 59s\n",
            "260:\tlearn: 0.1618155\ttotal: 42.3s\tremaining: 1m 59s\n",
            "261:\tlearn: 0.1617477\ttotal: 42.5s\tremaining: 1m 59s\n",
            "262:\tlearn: 0.1617339\ttotal: 42.6s\tremaining: 1m 59s\n",
            "263:\tlearn: 0.1617207\ttotal: 42.8s\tremaining: 1m 59s\n",
            "264:\tlearn: 0.1616812\ttotal: 43s\tremaining: 1m 59s\n",
            "265:\tlearn: 0.1616622\ttotal: 43.1s\tremaining: 1m 59s\n",
            "266:\tlearn: 0.1616397\ttotal: 43.3s\tremaining: 1m 58s\n",
            "267:\tlearn: 0.1615794\ttotal: 43.5s\tremaining: 1m 58s\n",
            "268:\tlearn: 0.1615558\ttotal: 43.6s\tremaining: 1m 58s\n",
            "269:\tlearn: 0.1615325\ttotal: 43.8s\tremaining: 1m 58s\n",
            "270:\tlearn: 0.1615190\ttotal: 44s\tremaining: 1m 58s\n",
            "271:\tlearn: 0.1615061\ttotal: 44.1s\tremaining: 1m 58s\n",
            "272:\tlearn: 0.1614970\ttotal: 44.3s\tremaining: 1m 57s\n",
            "273:\tlearn: 0.1614825\ttotal: 44.4s\tremaining: 1m 57s\n",
            "274:\tlearn: 0.1614267\ttotal: 44.6s\tremaining: 1m 57s\n",
            "275:\tlearn: 0.1613728\ttotal: 44.8s\tremaining: 1m 57s\n",
            "276:\tlearn: 0.1613300\ttotal: 44.9s\tremaining: 1m 57s\n",
            "277:\tlearn: 0.1612904\ttotal: 45.1s\tremaining: 1m 57s\n",
            "278:\tlearn: 0.1612402\ttotal: 45.3s\tremaining: 1m 56s\n",
            "279:\tlearn: 0.1611981\ttotal: 45.4s\tremaining: 1m 56s\n",
            "280:\tlearn: 0.1611616\ttotal: 45.6s\tremaining: 1m 56s\n",
            "281:\tlearn: 0.1611236\ttotal: 45.7s\tremaining: 1m 56s\n",
            "282:\tlearn: 0.1610975\ttotal: 45.9s\tremaining: 1m 56s\n",
            "283:\tlearn: 0.1610725\ttotal: 46.1s\tremaining: 1m 56s\n",
            "284:\tlearn: 0.1610479\ttotal: 46.2s\tremaining: 1m 55s\n",
            "285:\tlearn: 0.1610191\ttotal: 46.4s\tremaining: 1m 55s\n",
            "286:\tlearn: 0.1609661\ttotal: 46.6s\tremaining: 1m 55s\n",
            "287:\tlearn: 0.1609428\ttotal: 46.7s\tremaining: 1m 55s\n",
            "288:\tlearn: 0.1609135\ttotal: 46.9s\tremaining: 1m 55s\n",
            "289:\tlearn: 0.1608621\ttotal: 47.1s\tremaining: 1m 55s\n",
            "290:\tlearn: 0.1608210\ttotal: 47.2s\tremaining: 1m 55s\n",
            "291:\tlearn: 0.1607700\ttotal: 47.4s\tremaining: 1m 54s\n",
            "292:\tlearn: 0.1607223\ttotal: 47.5s\tremaining: 1m 54s\n",
            "293:\tlearn: 0.1606881\ttotal: 47.7s\tremaining: 1m 54s\n",
            "294:\tlearn: 0.1606567\ttotal: 47.9s\tremaining: 1m 54s\n",
            "295:\tlearn: 0.1606288\ttotal: 48s\tremaining: 1m 54s\n",
            "296:\tlearn: 0.1605934\ttotal: 48.2s\tremaining: 1m 54s\n",
            "297:\tlearn: 0.1605818\ttotal: 48.3s\tremaining: 1m 53s\n",
            "298:\tlearn: 0.1605625\ttotal: 48.5s\tremaining: 1m 53s\n",
            "299:\tlearn: 0.1605504\ttotal: 48.7s\tremaining: 1m 53s\n",
            "300:\tlearn: 0.1605018\ttotal: 48.8s\tremaining: 1m 53s\n",
            "301:\tlearn: 0.1604819\ttotal: 49s\tremaining: 1m 53s\n",
            "302:\tlearn: 0.1604264\ttotal: 49.2s\tremaining: 1m 53s\n",
            "303:\tlearn: 0.1603941\ttotal: 49.3s\tremaining: 1m 52s\n",
            "304:\tlearn: 0.1603808\ttotal: 49.5s\tremaining: 1m 52s\n",
            "305:\tlearn: 0.1603627\ttotal: 49.7s\tremaining: 1m 52s\n",
            "306:\tlearn: 0.1603464\ttotal: 49.8s\tremaining: 1m 52s\n",
            "307:\tlearn: 0.1603162\ttotal: 50s\tremaining: 1m 52s\n",
            "308:\tlearn: 0.1602937\ttotal: 50.1s\tremaining: 1m 52s\n",
            "309:\tlearn: 0.1602749\ttotal: 50.3s\tremaining: 1m 51s\n",
            "310:\tlearn: 0.1602356\ttotal: 50.5s\tremaining: 1m 51s\n",
            "311:\tlearn: 0.1601992\ttotal: 50.7s\tremaining: 1m 51s\n",
            "312:\tlearn: 0.1601860\ttotal: 50.8s\tremaining: 1m 51s\n",
            "313:\tlearn: 0.1601721\ttotal: 51s\tremaining: 1m 51s\n",
            "314:\tlearn: 0.1601578\ttotal: 51.1s\tremaining: 1m 51s\n",
            "315:\tlearn: 0.1601408\ttotal: 51.3s\tremaining: 1m 51s\n",
            "316:\tlearn: 0.1600990\ttotal: 51.5s\tremaining: 1m 50s\n",
            "317:\tlearn: 0.1600686\ttotal: 51.6s\tremaining: 1m 50s\n",
            "318:\tlearn: 0.1600574\ttotal: 51.8s\tremaining: 1m 50s\n",
            "319:\tlearn: 0.1600355\ttotal: 51.9s\tremaining: 1m 50s\n",
            "320:\tlearn: 0.1600249\ttotal: 52.1s\tremaining: 1m 50s\n",
            "321:\tlearn: 0.1600162\ttotal: 52.3s\tremaining: 1m 50s\n",
            "322:\tlearn: 0.1600059\ttotal: 52.4s\tremaining: 1m 49s\n",
            "323:\tlearn: 0.1599812\ttotal: 52.6s\tremaining: 1m 49s\n",
            "324:\tlearn: 0.1599381\ttotal: 52.8s\tremaining: 1m 49s\n",
            "325:\tlearn: 0.1598973\ttotal: 52.9s\tremaining: 1m 49s\n",
            "326:\tlearn: 0.1598565\ttotal: 53.1s\tremaining: 1m 49s\n",
            "327:\tlearn: 0.1598416\ttotal: 53.2s\tremaining: 1m 49s\n",
            "328:\tlearn: 0.1598142\ttotal: 53.4s\tremaining: 1m 48s\n",
            "329:\tlearn: 0.1597999\ttotal: 53.6s\tremaining: 1m 48s\n",
            "330:\tlearn: 0.1597903\ttotal: 53.8s\tremaining: 1m 48s\n",
            "331:\tlearn: 0.1597729\ttotal: 53.9s\tremaining: 1m 48s\n",
            "332:\tlearn: 0.1597539\ttotal: 54.1s\tremaining: 1m 48s\n",
            "333:\tlearn: 0.1597461\ttotal: 54.2s\tremaining: 1m 48s\n",
            "334:\tlearn: 0.1596886\ttotal: 54.4s\tremaining: 1m 47s\n",
            "335:\tlearn: 0.1596511\ttotal: 54.6s\tremaining: 1m 47s\n",
            "336:\tlearn: 0.1596174\ttotal: 54.7s\tremaining: 1m 47s\n",
            "337:\tlearn: 0.1595872\ttotal: 54.9s\tremaining: 1m 47s\n",
            "338:\tlearn: 0.1595610\ttotal: 55.1s\tremaining: 1m 47s\n",
            "339:\tlearn: 0.1595122\ttotal: 55.2s\tremaining: 1m 47s\n",
            "340:\tlearn: 0.1594757\ttotal: 55.4s\tremaining: 1m 47s\n",
            "341:\tlearn: 0.1594265\ttotal: 55.6s\tremaining: 1m 46s\n",
            "342:\tlearn: 0.1593935\ttotal: 55.7s\tremaining: 1m 46s\n",
            "343:\tlearn: 0.1593557\ttotal: 55.9s\tremaining: 1m 46s\n",
            "344:\tlearn: 0.1593204\ttotal: 56s\tremaining: 1m 46s\n",
            "345:\tlearn: 0.1592896\ttotal: 56.2s\tremaining: 1m 46s\n",
            "346:\tlearn: 0.1592557\ttotal: 56.4s\tremaining: 1m 46s\n",
            "347:\tlearn: 0.1592410\ttotal: 56.5s\tremaining: 1m 45s\n",
            "348:\tlearn: 0.1592270\ttotal: 56.7s\tremaining: 1m 45s\n",
            "349:\tlearn: 0.1592111\ttotal: 56.9s\tremaining: 1m 45s\n",
            "350:\tlearn: 0.1591648\ttotal: 57s\tremaining: 1m 45s\n",
            "351:\tlearn: 0.1591585\ttotal: 57.2s\tremaining: 1m 45s\n",
            "352:\tlearn: 0.1591189\ttotal: 57.3s\tremaining: 1m 45s\n",
            "353:\tlearn: 0.1591072\ttotal: 57.5s\tremaining: 1m 44s\n",
            "354:\tlearn: 0.1590784\ttotal: 57.7s\tremaining: 1m 44s\n",
            "355:\tlearn: 0.1590407\ttotal: 57.8s\tremaining: 1m 44s\n",
            "356:\tlearn: 0.1590202\ttotal: 58s\tremaining: 1m 44s\n",
            "357:\tlearn: 0.1590066\ttotal: 58.2s\tremaining: 1m 44s\n",
            "358:\tlearn: 0.1589941\ttotal: 58.3s\tremaining: 1m 44s\n",
            "359:\tlearn: 0.1589736\ttotal: 58.5s\tremaining: 1m 43s\n",
            "360:\tlearn: 0.1589300\ttotal: 58.7s\tremaining: 1m 43s\n",
            "361:\tlearn: 0.1588621\ttotal: 58.8s\tremaining: 1m 43s\n",
            "362:\tlearn: 0.1588151\ttotal: 59s\tremaining: 1m 43s\n",
            "363:\tlearn: 0.1587875\ttotal: 59.2s\tremaining: 1m 43s\n",
            "364:\tlearn: 0.1587636\ttotal: 59.3s\tremaining: 1m 43s\n",
            "365:\tlearn: 0.1587333\ttotal: 59.5s\tremaining: 1m 43s\n",
            "366:\tlearn: 0.1587197\ttotal: 59.6s\tremaining: 1m 42s\n",
            "367:\tlearn: 0.1586756\ttotal: 59.8s\tremaining: 1m 42s\n",
            "368:\tlearn: 0.1586451\ttotal: 60s\tremaining: 1m 42s\n",
            "369:\tlearn: 0.1586279\ttotal: 1m\tremaining: 1m 42s\n",
            "370:\tlearn: 0.1586129\ttotal: 1m\tremaining: 1m 42s\n",
            "371:\tlearn: 0.1585970\ttotal: 1m\tremaining: 1m 42s\n",
            "372:\tlearn: 0.1585831\ttotal: 1m\tremaining: 1m 41s\n",
            "373:\tlearn: 0.1585667\ttotal: 1m\tremaining: 1m 41s\n",
            "374:\tlearn: 0.1585204\ttotal: 1m\tremaining: 1m 41s\n",
            "375:\tlearn: 0.1584938\ttotal: 1m 1s\tremaining: 1m 41s\n",
            "376:\tlearn: 0.1584740\ttotal: 1m 1s\tremaining: 1m 41s\n",
            "377:\tlearn: 0.1584404\ttotal: 1m 1s\tremaining: 1m 41s\n",
            "378:\tlearn: 0.1584158\ttotal: 1m 1s\tremaining: 1m 40s\n",
            "379:\tlearn: 0.1583887\ttotal: 1m 1s\tremaining: 1m 40s\n",
            "380:\tlearn: 0.1583389\ttotal: 1m 1s\tremaining: 1m 40s\n",
            "381:\tlearn: 0.1583106\ttotal: 1m 2s\tremaining: 1m 40s\n",
            "382:\tlearn: 0.1582750\ttotal: 1m 2s\tremaining: 1m 40s\n",
            "383:\tlearn: 0.1582585\ttotal: 1m 2s\tremaining: 1m 40s\n",
            "384:\tlearn: 0.1582283\ttotal: 1m 2s\tremaining: 1m 39s\n",
            "385:\tlearn: 0.1582111\ttotal: 1m 2s\tremaining: 1m 39s\n",
            "386:\tlearn: 0.1582003\ttotal: 1m 2s\tremaining: 1m 39s\n",
            "387:\tlearn: 0.1581900\ttotal: 1m 3s\tremaining: 1m 39s\n",
            "388:\tlearn: 0.1581835\ttotal: 1m 3s\tremaining: 1m 39s\n",
            "389:\tlearn: 0.1581448\ttotal: 1m 3s\tremaining: 1m 39s\n",
            "390:\tlearn: 0.1581295\ttotal: 1m 3s\tremaining: 1m 38s\n",
            "391:\tlearn: 0.1580942\ttotal: 1m 3s\tremaining: 1m 38s\n",
            "392:\tlearn: 0.1580411\ttotal: 1m 3s\tremaining: 1m 38s\n",
            "393:\tlearn: 0.1579786\ttotal: 1m 4s\tremaining: 1m 38s\n",
            "394:\tlearn: 0.1579513\ttotal: 1m 4s\tremaining: 1m 38s\n",
            "395:\tlearn: 0.1579223\ttotal: 1m 4s\tremaining: 1m 38s\n",
            "396:\tlearn: 0.1578961\ttotal: 1m 4s\tremaining: 1m 38s\n",
            "397:\tlearn: 0.1578589\ttotal: 1m 4s\tremaining: 1m 37s\n",
            "398:\tlearn: 0.1578174\ttotal: 1m 4s\tremaining: 1m 37s\n",
            "399:\tlearn: 0.1578047\ttotal: 1m 5s\tremaining: 1m 37s\n",
            "400:\tlearn: 0.1577762\ttotal: 1m 5s\tremaining: 1m 37s\n",
            "401:\tlearn: 0.1577494\ttotal: 1m 5s\tremaining: 1m 37s\n",
            "402:\tlearn: 0.1577354\ttotal: 1m 5s\tremaining: 1m 37s\n",
            "403:\tlearn: 0.1577185\ttotal: 1m 5s\tremaining: 1m 36s\n",
            "404:\tlearn: 0.1576833\ttotal: 1m 5s\tremaining: 1m 36s\n",
            "405:\tlearn: 0.1576519\ttotal: 1m 5s\tremaining: 1m 36s\n",
            "406:\tlearn: 0.1576287\ttotal: 1m 6s\tremaining: 1m 36s\n",
            "407:\tlearn: 0.1576004\ttotal: 1m 6s\tremaining: 1m 36s\n",
            "408:\tlearn: 0.1575879\ttotal: 1m 6s\tremaining: 1m 36s\n",
            "409:\tlearn: 0.1575769\ttotal: 1m 6s\tremaining: 1m 35s\n",
            "410:\tlearn: 0.1575668\ttotal: 1m 6s\tremaining: 1m 35s\n",
            "411:\tlearn: 0.1575487\ttotal: 1m 6s\tremaining: 1m 35s\n",
            "412:\tlearn: 0.1575283\ttotal: 1m 7s\tremaining: 1m 35s\n",
            "413:\tlearn: 0.1575071\ttotal: 1m 7s\tremaining: 1m 35s\n",
            "414:\tlearn: 0.1574632\ttotal: 1m 7s\tremaining: 1m 35s\n",
            "415:\tlearn: 0.1574343\ttotal: 1m 7s\tremaining: 1m 34s\n",
            "416:\tlearn: 0.1574062\ttotal: 1m 7s\tremaining: 1m 34s\n",
            "417:\tlearn: 0.1573676\ttotal: 1m 7s\tremaining: 1m 34s\n",
            "418:\tlearn: 0.1573203\ttotal: 1m 8s\tremaining: 1m 34s\n",
            "419:\tlearn: 0.1572826\ttotal: 1m 8s\tremaining: 1m 34s\n",
            "420:\tlearn: 0.1572461\ttotal: 1m 8s\tremaining: 1m 34s\n",
            "421:\tlearn: 0.1572181\ttotal: 1m 8s\tremaining: 1m 33s\n",
            "422:\tlearn: 0.1571864\ttotal: 1m 8s\tremaining: 1m 33s\n",
            "423:\tlearn: 0.1571656\ttotal: 1m 8s\tremaining: 1m 33s\n",
            "424:\tlearn: 0.1571095\ttotal: 1m 9s\tremaining: 1m 33s\n",
            "425:\tlearn: 0.1570657\ttotal: 1m 9s\tremaining: 1m 33s\n",
            "426:\tlearn: 0.1570302\ttotal: 1m 9s\tremaining: 1m 33s\n",
            "427:\tlearn: 0.1570016\ttotal: 1m 9s\tremaining: 1m 33s\n",
            "428:\tlearn: 0.1569727\ttotal: 1m 9s\tremaining: 1m 32s\n",
            "429:\tlearn: 0.1569427\ttotal: 1m 9s\tremaining: 1m 32s\n",
            "430:\tlearn: 0.1569055\ttotal: 1m 10s\tremaining: 1m 32s\n",
            "431:\tlearn: 0.1568805\ttotal: 1m 10s\tremaining: 1m 32s\n",
            "432:\tlearn: 0.1568414\ttotal: 1m 10s\tremaining: 1m 32s\n",
            "433:\tlearn: 0.1567900\ttotal: 1m 10s\tremaining: 1m 32s\n",
            "434:\tlearn: 0.1567566\ttotal: 1m 10s\tremaining: 1m 31s\n",
            "435:\tlearn: 0.1567350\ttotal: 1m 10s\tremaining: 1m 31s\n",
            "436:\tlearn: 0.1566737\ttotal: 1m 11s\tremaining: 1m 31s\n",
            "437:\tlearn: 0.1566499\ttotal: 1m 11s\tremaining: 1m 31s\n",
            "438:\tlearn: 0.1566266\ttotal: 1m 11s\tremaining: 1m 31s\n",
            "439:\tlearn: 0.1566124\ttotal: 1m 11s\tremaining: 1m 31s\n",
            "440:\tlearn: 0.1565608\ttotal: 1m 11s\tremaining: 1m 30s\n",
            "441:\tlearn: 0.1564930\ttotal: 1m 11s\tremaining: 1m 30s\n",
            "442:\tlearn: 0.1564638\ttotal: 1m 12s\tremaining: 1m 30s\n",
            "443:\tlearn: 0.1564253\ttotal: 1m 12s\tremaining: 1m 30s\n",
            "444:\tlearn: 0.1564110\ttotal: 1m 12s\tremaining: 1m 30s\n",
            "445:\tlearn: 0.1563993\ttotal: 1m 12s\tremaining: 1m 30s\n",
            "446:\tlearn: 0.1563825\ttotal: 1m 12s\tremaining: 1m 30s\n",
            "447:\tlearn: 0.1563715\ttotal: 1m 12s\tremaining: 1m 29s\n",
            "448:\tlearn: 0.1563568\ttotal: 1m 13s\tremaining: 1m 29s\n",
            "449:\tlearn: 0.1563241\ttotal: 1m 13s\tremaining: 1m 29s\n",
            "450:\tlearn: 0.1562981\ttotal: 1m 13s\tremaining: 1m 29s\n",
            "451:\tlearn: 0.1562823\ttotal: 1m 13s\tremaining: 1m 29s\n",
            "452:\tlearn: 0.1562652\ttotal: 1m 13s\tremaining: 1m 29s\n",
            "453:\tlearn: 0.1562544\ttotal: 1m 13s\tremaining: 1m 28s\n",
            "454:\tlearn: 0.1562401\ttotal: 1m 14s\tremaining: 1m 28s\n",
            "455:\tlearn: 0.1562083\ttotal: 1m 14s\tremaining: 1m 28s\n",
            "456:\tlearn: 0.1561858\ttotal: 1m 14s\tremaining: 1m 28s\n",
            "457:\tlearn: 0.1561756\ttotal: 1m 14s\tremaining: 1m 28s\n",
            "458:\tlearn: 0.1561628\ttotal: 1m 14s\tremaining: 1m 28s\n",
            "459:\tlearn: 0.1561508\ttotal: 1m 14s\tremaining: 1m 27s\n",
            "460:\tlearn: 0.1561400\ttotal: 1m 15s\tremaining: 1m 27s\n",
            "461:\tlearn: 0.1561306\ttotal: 1m 15s\tremaining: 1m 27s\n",
            "462:\tlearn: 0.1561197\ttotal: 1m 15s\tremaining: 1m 27s\n",
            "463:\tlearn: 0.1561041\ttotal: 1m 15s\tremaining: 1m 27s\n",
            "464:\tlearn: 0.1560902\ttotal: 1m 15s\tremaining: 1m 27s\n",
            "465:\tlearn: 0.1560659\ttotal: 1m 15s\tremaining: 1m 26s\n",
            "466:\tlearn: 0.1560329\ttotal: 1m 16s\tremaining: 1m 26s\n",
            "467:\tlearn: 0.1559748\ttotal: 1m 16s\tremaining: 1m 26s\n",
            "468:\tlearn: 0.1559394\ttotal: 1m 16s\tremaining: 1m 26s\n",
            "469:\tlearn: 0.1559094\ttotal: 1m 16s\tremaining: 1m 26s\n",
            "470:\tlearn: 0.1558874\ttotal: 1m 16s\tremaining: 1m 26s\n",
            "471:\tlearn: 0.1558710\ttotal: 1m 16s\tremaining: 1m 25s\n",
            "472:\tlearn: 0.1558280\ttotal: 1m 17s\tremaining: 1m 25s\n",
            "473:\tlearn: 0.1558074\ttotal: 1m 17s\tremaining: 1m 25s\n",
            "474:\tlearn: 0.1557888\ttotal: 1m 17s\tremaining: 1m 25s\n",
            "475:\tlearn: 0.1557606\ttotal: 1m 17s\tremaining: 1m 25s\n",
            "476:\tlearn: 0.1557127\ttotal: 1m 17s\tremaining: 1m 25s\n",
            "477:\tlearn: 0.1556847\ttotal: 1m 17s\tremaining: 1m 24s\n",
            "478:\tlearn: 0.1556459\ttotal: 1m 18s\tremaining: 1m 24s\n",
            "479:\tlearn: 0.1556225\ttotal: 1m 18s\tremaining: 1m 24s\n",
            "480:\tlearn: 0.1556159\ttotal: 1m 18s\tremaining: 1m 24s\n",
            "481:\tlearn: 0.1555772\ttotal: 1m 18s\tremaining: 1m 24s\n",
            "482:\tlearn: 0.1555619\ttotal: 1m 18s\tremaining: 1m 24s\n",
            "483:\tlearn: 0.1555534\ttotal: 1m 18s\tremaining: 1m 24s\n",
            "484:\tlearn: 0.1555387\ttotal: 1m 18s\tremaining: 1m 23s\n",
            "485:\tlearn: 0.1555330\ttotal: 1m 19s\tremaining: 1m 23s\n",
            "486:\tlearn: 0.1555099\ttotal: 1m 19s\tremaining: 1m 23s\n",
            "487:\tlearn: 0.1554804\ttotal: 1m 19s\tremaining: 1m 23s\n",
            "488:\tlearn: 0.1554317\ttotal: 1m 19s\tremaining: 1m 23s\n",
            "489:\tlearn: 0.1554176\ttotal: 1m 19s\tremaining: 1m 23s\n",
            "490:\tlearn: 0.1554001\ttotal: 1m 19s\tremaining: 1m 22s\n",
            "491:\tlearn: 0.1553883\ttotal: 1m 20s\tremaining: 1m 22s\n",
            "492:\tlearn: 0.1553769\ttotal: 1m 20s\tremaining: 1m 22s\n",
            "493:\tlearn: 0.1553107\ttotal: 1m 20s\tremaining: 1m 22s\n",
            "494:\tlearn: 0.1552866\ttotal: 1m 20s\tremaining: 1m 22s\n",
            "495:\tlearn: 0.1552585\ttotal: 1m 20s\tremaining: 1m 22s\n",
            "496:\tlearn: 0.1552184\ttotal: 1m 20s\tremaining: 1m 21s\n",
            "497:\tlearn: 0.1551680\ttotal: 1m 21s\tremaining: 1m 21s\n",
            "498:\tlearn: 0.1551460\ttotal: 1m 21s\tremaining: 1m 21s\n",
            "499:\tlearn: 0.1551176\ttotal: 1m 21s\tremaining: 1m 21s\n",
            "500:\tlearn: 0.1550863\ttotal: 1m 21s\tremaining: 1m 21s\n",
            "501:\tlearn: 0.1550767\ttotal: 1m 21s\tremaining: 1m 21s\n",
            "502:\tlearn: 0.1550662\ttotal: 1m 21s\tremaining: 1m 20s\n",
            "503:\tlearn: 0.1550361\ttotal: 1m 22s\tremaining: 1m 20s\n",
            "504:\tlearn: 0.1549801\ttotal: 1m 22s\tremaining: 1m 20s\n",
            "505:\tlearn: 0.1549717\ttotal: 1m 22s\tremaining: 1m 20s\n",
            "506:\tlearn: 0.1549574\ttotal: 1m 22s\tremaining: 1m 20s\n",
            "507:\tlearn: 0.1549470\ttotal: 1m 22s\tremaining: 1m 20s\n",
            "508:\tlearn: 0.1549272\ttotal: 1m 22s\tremaining: 1m 19s\n",
            "509:\tlearn: 0.1549200\ttotal: 1m 23s\tremaining: 1m 19s\n",
            "510:\tlearn: 0.1549026\ttotal: 1m 23s\tremaining: 1m 19s\n",
            "511:\tlearn: 0.1548854\ttotal: 1m 23s\tremaining: 1m 19s\n",
            "512:\tlearn: 0.1548693\ttotal: 1m 23s\tremaining: 1m 19s\n",
            "513:\tlearn: 0.1548358\ttotal: 1m 23s\tremaining: 1m 19s\n",
            "514:\tlearn: 0.1547921\ttotal: 1m 23s\tremaining: 1m 18s\n",
            "515:\tlearn: 0.1547393\ttotal: 1m 24s\tremaining: 1m 18s\n",
            "516:\tlearn: 0.1547105\ttotal: 1m 24s\tremaining: 1m 18s\n",
            "517:\tlearn: 0.1546927\ttotal: 1m 24s\tremaining: 1m 18s\n",
            "518:\tlearn: 0.1546619\ttotal: 1m 24s\tremaining: 1m 18s\n",
            "519:\tlearn: 0.1546395\ttotal: 1m 24s\tremaining: 1m 18s\n",
            "520:\tlearn: 0.1546046\ttotal: 1m 24s\tremaining: 1m 18s\n",
            "521:\tlearn: 0.1545633\ttotal: 1m 25s\tremaining: 1m 17s\n",
            "522:\tlearn: 0.1545174\ttotal: 1m 25s\tremaining: 1m 17s\n",
            "523:\tlearn: 0.1544962\ttotal: 1m 25s\tremaining: 1m 17s\n",
            "524:\tlearn: 0.1544811\ttotal: 1m 25s\tremaining: 1m 17s\n",
            "525:\tlearn: 0.1544218\ttotal: 1m 25s\tremaining: 1m 17s\n",
            "526:\tlearn: 0.1543964\ttotal: 1m 25s\tremaining: 1m 17s\n",
            "527:\tlearn: 0.1543795\ttotal: 1m 26s\tremaining: 1m 16s\n",
            "528:\tlearn: 0.1543458\ttotal: 1m 26s\tremaining: 1m 16s\n",
            "529:\tlearn: 0.1543379\ttotal: 1m 26s\tremaining: 1m 16s\n",
            "530:\tlearn: 0.1543000\ttotal: 1m 26s\tremaining: 1m 16s\n",
            "531:\tlearn: 0.1542569\ttotal: 1m 26s\tremaining: 1m 16s\n",
            "532:\tlearn: 0.1542272\ttotal: 1m 26s\tremaining: 1m 16s\n",
            "533:\tlearn: 0.1542097\ttotal: 1m 27s\tremaining: 1m 15s\n",
            "534:\tlearn: 0.1541918\ttotal: 1m 27s\tremaining: 1m 15s\n",
            "535:\tlearn: 0.1541671\ttotal: 1m 27s\tremaining: 1m 15s\n",
            "536:\tlearn: 0.1541320\ttotal: 1m 27s\tremaining: 1m 15s\n",
            "537:\tlearn: 0.1541068\ttotal: 1m 27s\tremaining: 1m 15s\n",
            "538:\tlearn: 0.1540697\ttotal: 1m 27s\tremaining: 1m 15s\n",
            "539:\tlearn: 0.1540310\ttotal: 1m 27s\tremaining: 1m 14s\n",
            "540:\tlearn: 0.1540101\ttotal: 1m 28s\tremaining: 1m 14s\n",
            "541:\tlearn: 0.1539699\ttotal: 1m 28s\tremaining: 1m 14s\n",
            "542:\tlearn: 0.1539248\ttotal: 1m 28s\tremaining: 1m 14s\n",
            "543:\tlearn: 0.1539093\ttotal: 1m 28s\tremaining: 1m 14s\n",
            "544:\tlearn: 0.1538961\ttotal: 1m 28s\tremaining: 1m 14s\n",
            "545:\tlearn: 0.1538761\ttotal: 1m 28s\tremaining: 1m 13s\n",
            "546:\tlearn: 0.1538607\ttotal: 1m 29s\tremaining: 1m 13s\n",
            "547:\tlearn: 0.1538372\ttotal: 1m 29s\tremaining: 1m 13s\n",
            "548:\tlearn: 0.1538211\ttotal: 1m 29s\tremaining: 1m 13s\n",
            "549:\tlearn: 0.1538114\ttotal: 1m 29s\tremaining: 1m 13s\n",
            "550:\tlearn: 0.1537975\ttotal: 1m 29s\tremaining: 1m 13s\n",
            "551:\tlearn: 0.1537773\ttotal: 1m 29s\tremaining: 1m 12s\n",
            "552:\tlearn: 0.1537604\ttotal: 1m 30s\tremaining: 1m 12s\n",
            "553:\tlearn: 0.1537471\ttotal: 1m 30s\tremaining: 1m 12s\n",
            "554:\tlearn: 0.1537331\ttotal: 1m 30s\tremaining: 1m 12s\n",
            "555:\tlearn: 0.1537199\ttotal: 1m 30s\tremaining: 1m 12s\n",
            "556:\tlearn: 0.1537111\ttotal: 1m 30s\tremaining: 1m 12s\n",
            "557:\tlearn: 0.1536808\ttotal: 1m 30s\tremaining: 1m 12s\n",
            "558:\tlearn: 0.1536690\ttotal: 1m 31s\tremaining: 1m 11s\n",
            "559:\tlearn: 0.1536581\ttotal: 1m 31s\tremaining: 1m 11s\n",
            "560:\tlearn: 0.1536431\ttotal: 1m 31s\tremaining: 1m 11s\n",
            "561:\tlearn: 0.1536166\ttotal: 1m 31s\tremaining: 1m 11s\n",
            "562:\tlearn: 0.1535847\ttotal: 1m 31s\tremaining: 1m 11s\n",
            "563:\tlearn: 0.1535689\ttotal: 1m 31s\tremaining: 1m 11s\n",
            "564:\tlearn: 0.1535592\ttotal: 1m 32s\tremaining: 1m 10s\n",
            "565:\tlearn: 0.1535428\ttotal: 1m 32s\tremaining: 1m 10s\n",
            "566:\tlearn: 0.1535356\ttotal: 1m 32s\tremaining: 1m 10s\n",
            "567:\tlearn: 0.1535215\ttotal: 1m 32s\tremaining: 1m 10s\n",
            "568:\tlearn: 0.1534907\ttotal: 1m 32s\tremaining: 1m 10s\n",
            "569:\tlearn: 0.1534553\ttotal: 1m 32s\tremaining: 1m 10s\n",
            "570:\tlearn: 0.1534202\ttotal: 1m 33s\tremaining: 1m 9s\n",
            "571:\tlearn: 0.1533394\ttotal: 1m 33s\tremaining: 1m 9s\n",
            "572:\tlearn: 0.1533299\ttotal: 1m 33s\tremaining: 1m 9s\n",
            "573:\tlearn: 0.1532961\ttotal: 1m 33s\tremaining: 1m 9s\n",
            "574:\tlearn: 0.1532521\ttotal: 1m 33s\tremaining: 1m 9s\n",
            "575:\tlearn: 0.1531996\ttotal: 1m 33s\tremaining: 1m 9s\n",
            "576:\tlearn: 0.1531848\ttotal: 1m 34s\tremaining: 1m 8s\n",
            "577:\tlearn: 0.1531724\ttotal: 1m 34s\tremaining: 1m 8s\n",
            "578:\tlearn: 0.1531258\ttotal: 1m 34s\tremaining: 1m 8s\n",
            "579:\tlearn: 0.1531020\ttotal: 1m 34s\tremaining: 1m 8s\n",
            "580:\tlearn: 0.1530770\ttotal: 1m 34s\tremaining: 1m 8s\n",
            "581:\tlearn: 0.1530677\ttotal: 1m 34s\tremaining: 1m 8s\n",
            "582:\tlearn: 0.1530517\ttotal: 1m 35s\tremaining: 1m 7s\n",
            "583:\tlearn: 0.1530170\ttotal: 1m 35s\tremaining: 1m 7s\n",
            "584:\tlearn: 0.1529672\ttotal: 1m 35s\tremaining: 1m 7s\n",
            "585:\tlearn: 0.1529543\ttotal: 1m 35s\tremaining: 1m 7s\n",
            "586:\tlearn: 0.1529082\ttotal: 1m 35s\tremaining: 1m 7s\n",
            "587:\tlearn: 0.1528951\ttotal: 1m 35s\tremaining: 1m 7s\n",
            "588:\tlearn: 0.1528832\ttotal: 1m 36s\tremaining: 1m 6s\n",
            "589:\tlearn: 0.1528550\ttotal: 1m 36s\tremaining: 1m 6s\n",
            "590:\tlearn: 0.1528362\ttotal: 1m 36s\tremaining: 1m 6s\n",
            "591:\tlearn: 0.1528234\ttotal: 1m 36s\tremaining: 1m 6s\n",
            "592:\tlearn: 0.1528143\ttotal: 1m 36s\tremaining: 1m 6s\n",
            "593:\tlearn: 0.1527925\ttotal: 1m 36s\tremaining: 1m 6s\n",
            "594:\tlearn: 0.1527773\ttotal: 1m 36s\tremaining: 1m 6s\n",
            "595:\tlearn: 0.1527612\ttotal: 1m 37s\tremaining: 1m 5s\n",
            "596:\tlearn: 0.1527536\ttotal: 1m 37s\tremaining: 1m 5s\n",
            "597:\tlearn: 0.1527443\ttotal: 1m 37s\tremaining: 1m 5s\n",
            "598:\tlearn: 0.1527375\ttotal: 1m 37s\tremaining: 1m 5s\n",
            "599:\tlearn: 0.1527064\ttotal: 1m 37s\tremaining: 1m 5s\n",
            "600:\tlearn: 0.1526906\ttotal: 1m 37s\tremaining: 1m 5s\n",
            "601:\tlearn: 0.1526706\ttotal: 1m 38s\tremaining: 1m 4s\n",
            "602:\tlearn: 0.1526492\ttotal: 1m 38s\tremaining: 1m 4s\n",
            "603:\tlearn: 0.1526428\ttotal: 1m 38s\tremaining: 1m 4s\n",
            "604:\tlearn: 0.1526329\ttotal: 1m 38s\tremaining: 1m 4s\n",
            "605:\tlearn: 0.1526202\ttotal: 1m 38s\tremaining: 1m 4s\n",
            "606:\tlearn: 0.1526083\ttotal: 1m 38s\tremaining: 1m 4s\n",
            "607:\tlearn: 0.1525847\ttotal: 1m 39s\tremaining: 1m 3s\n",
            "608:\tlearn: 0.1525696\ttotal: 1m 39s\tremaining: 1m 3s\n",
            "609:\tlearn: 0.1525520\ttotal: 1m 39s\tremaining: 1m 3s\n",
            "610:\tlearn: 0.1525393\ttotal: 1m 39s\tremaining: 1m 3s\n",
            "611:\tlearn: 0.1524973\ttotal: 1m 39s\tremaining: 1m 3s\n",
            "612:\tlearn: 0.1524855\ttotal: 1m 39s\tremaining: 1m 3s\n",
            "613:\tlearn: 0.1524764\ttotal: 1m 40s\tremaining: 1m 2s\n",
            "614:\tlearn: 0.1524559\ttotal: 1m 40s\tremaining: 1m 2s\n",
            "615:\tlearn: 0.1524430\ttotal: 1m 40s\tremaining: 1m 2s\n",
            "616:\tlearn: 0.1524199\ttotal: 1m 40s\tremaining: 1m 2s\n",
            "617:\tlearn: 0.1523802\ttotal: 1m 40s\tremaining: 1m 2s\n",
            "618:\tlearn: 0.1523555\ttotal: 1m 40s\tremaining: 1m 2s\n",
            "619:\tlearn: 0.1523217\ttotal: 1m 41s\tremaining: 1m 1s\n",
            "620:\tlearn: 0.1522629\ttotal: 1m 41s\tremaining: 1m 1s\n",
            "621:\tlearn: 0.1522520\ttotal: 1m 41s\tremaining: 1m 1s\n",
            "622:\tlearn: 0.1522254\ttotal: 1m 41s\tremaining: 1m 1s\n",
            "623:\tlearn: 0.1522013\ttotal: 1m 41s\tremaining: 1m 1s\n",
            "624:\tlearn: 0.1521827\ttotal: 1m 41s\tremaining: 1m 1s\n",
            "625:\tlearn: 0.1521614\ttotal: 1m 42s\tremaining: 1m\n",
            "626:\tlearn: 0.1521428\ttotal: 1m 42s\tremaining: 1m\n",
            "627:\tlearn: 0.1521140\ttotal: 1m 42s\tremaining: 1m\n",
            "628:\tlearn: 0.1521043\ttotal: 1m 42s\tremaining: 1m\n",
            "629:\tlearn: 0.1520954\ttotal: 1m 42s\tremaining: 1m\n",
            "630:\tlearn: 0.1520866\ttotal: 1m 42s\tremaining: 1m\n",
            "631:\tlearn: 0.1520655\ttotal: 1m 42s\tremaining: 60s\n",
            "632:\tlearn: 0.1520525\ttotal: 1m 43s\tremaining: 59.8s\n",
            "633:\tlearn: 0.1520311\ttotal: 1m 43s\tremaining: 59.6s\n",
            "634:\tlearn: 0.1520183\ttotal: 1m 43s\tremaining: 59.5s\n",
            "635:\tlearn: 0.1519939\ttotal: 1m 43s\tremaining: 59.3s\n",
            "636:\tlearn: 0.1519833\ttotal: 1m 43s\tremaining: 59.1s\n",
            "637:\tlearn: 0.1519664\ttotal: 1m 43s\tremaining: 59s\n",
            "638:\tlearn: 0.1519498\ttotal: 1m 44s\tremaining: 58.8s\n",
            "639:\tlearn: 0.1519238\ttotal: 1m 44s\tremaining: 58.7s\n",
            "640:\tlearn: 0.1518934\ttotal: 1m 44s\tremaining: 58.5s\n",
            "641:\tlearn: 0.1518779\ttotal: 1m 44s\tremaining: 58.3s\n",
            "642:\tlearn: 0.1518720\ttotal: 1m 44s\tremaining: 58.2s\n",
            "643:\tlearn: 0.1518648\ttotal: 1m 44s\tremaining: 58s\n",
            "644:\tlearn: 0.1518300\ttotal: 1m 45s\tremaining: 57.8s\n",
            "645:\tlearn: 0.1518096\ttotal: 1m 45s\tremaining: 57.7s\n",
            "646:\tlearn: 0.1517992\ttotal: 1m 45s\tremaining: 57.5s\n",
            "647:\tlearn: 0.1517924\ttotal: 1m 45s\tremaining: 57.4s\n",
            "648:\tlearn: 0.1517784\ttotal: 1m 45s\tremaining: 57.2s\n",
            "649:\tlearn: 0.1517651\ttotal: 1m 45s\tremaining: 57s\n",
            "650:\tlearn: 0.1517407\ttotal: 1m 46s\tremaining: 56.9s\n",
            "651:\tlearn: 0.1517217\ttotal: 1m 46s\tremaining: 56.7s\n",
            "652:\tlearn: 0.1516878\ttotal: 1m 46s\tremaining: 56.5s\n",
            "653:\tlearn: 0.1516628\ttotal: 1m 46s\tremaining: 56.4s\n",
            "654:\tlearn: 0.1516286\ttotal: 1m 46s\tremaining: 56.2s\n",
            "655:\tlearn: 0.1516102\ttotal: 1m 46s\tremaining: 56s\n",
            "656:\tlearn: 0.1515926\ttotal: 1m 47s\tremaining: 55.9s\n",
            "657:\tlearn: 0.1515759\ttotal: 1m 47s\tremaining: 55.7s\n",
            "658:\tlearn: 0.1515427\ttotal: 1m 47s\tremaining: 55.6s\n",
            "659:\tlearn: 0.1515083\ttotal: 1m 47s\tremaining: 55.4s\n",
            "660:\tlearn: 0.1514763\ttotal: 1m 47s\tremaining: 55.3s\n",
            "661:\tlearn: 0.1514366\ttotal: 1m 47s\tremaining: 55.1s\n",
            "662:\tlearn: 0.1514205\ttotal: 1m 48s\tremaining: 54.9s\n",
            "663:\tlearn: 0.1513452\ttotal: 1m 48s\tremaining: 54.8s\n",
            "664:\tlearn: 0.1513185\ttotal: 1m 48s\tremaining: 54.6s\n",
            "665:\tlearn: 0.1512882\ttotal: 1m 48s\tremaining: 54.4s\n",
            "666:\tlearn: 0.1512657\ttotal: 1m 48s\tremaining: 54.3s\n",
            "667:\tlearn: 0.1512405\ttotal: 1m 48s\tremaining: 54.1s\n",
            "668:\tlearn: 0.1512190\ttotal: 1m 49s\tremaining: 54s\n",
            "669:\tlearn: 0.1511943\ttotal: 1m 49s\tremaining: 53.8s\n",
            "670:\tlearn: 0.1511624\ttotal: 1m 49s\tremaining: 53.6s\n",
            "671:\tlearn: 0.1511506\ttotal: 1m 49s\tremaining: 53.5s\n",
            "672:\tlearn: 0.1511396\ttotal: 1m 49s\tremaining: 53.3s\n",
            "673:\tlearn: 0.1511291\ttotal: 1m 49s\tremaining: 53.1s\n",
            "674:\tlearn: 0.1510966\ttotal: 1m 50s\tremaining: 53s\n",
            "675:\tlearn: 0.1510872\ttotal: 1m 50s\tremaining: 52.8s\n",
            "676:\tlearn: 0.1510622\ttotal: 1m 50s\tremaining: 52.7s\n",
            "677:\tlearn: 0.1510191\ttotal: 1m 50s\tremaining: 52.5s\n",
            "678:\tlearn: 0.1509857\ttotal: 1m 50s\tremaining: 52.3s\n",
            "679:\tlearn: 0.1509761\ttotal: 1m 50s\tremaining: 52.2s\n",
            "680:\tlearn: 0.1509623\ttotal: 1m 51s\tremaining: 52s\n",
            "681:\tlearn: 0.1509511\ttotal: 1m 51s\tremaining: 51.8s\n",
            "682:\tlearn: 0.1509052\ttotal: 1m 51s\tremaining: 51.7s\n",
            "683:\tlearn: 0.1508758\ttotal: 1m 51s\tremaining: 51.5s\n",
            "684:\tlearn: 0.1508515\ttotal: 1m 51s\tremaining: 51.4s\n",
            "685:\tlearn: 0.1508334\ttotal: 1m 51s\tremaining: 51.2s\n",
            "686:\tlearn: 0.1508114\ttotal: 1m 52s\tremaining: 51s\n",
            "687:\tlearn: 0.1507705\ttotal: 1m 52s\tremaining: 50.9s\n",
            "688:\tlearn: 0.1507480\ttotal: 1m 52s\tremaining: 50.7s\n",
            "689:\tlearn: 0.1507299\ttotal: 1m 52s\tremaining: 50.5s\n",
            "690:\tlearn: 0.1507250\ttotal: 1m 52s\tremaining: 50.4s\n",
            "691:\tlearn: 0.1507150\ttotal: 1m 52s\tremaining: 50.2s\n",
            "692:\tlearn: 0.1506580\ttotal: 1m 52s\tremaining: 50.1s\n",
            "693:\tlearn: 0.1506368\ttotal: 1m 53s\tremaining: 49.9s\n",
            "694:\tlearn: 0.1506012\ttotal: 1m 53s\tremaining: 49.7s\n",
            "695:\tlearn: 0.1505865\ttotal: 1m 53s\tremaining: 49.6s\n",
            "696:\tlearn: 0.1505591\ttotal: 1m 53s\tremaining: 49.4s\n",
            "697:\tlearn: 0.1505220\ttotal: 1m 53s\tremaining: 49.2s\n",
            "698:\tlearn: 0.1505034\ttotal: 1m 53s\tremaining: 49.1s\n",
            "699:\tlearn: 0.1504964\ttotal: 1m 54s\tremaining: 48.9s\n",
            "700:\tlearn: 0.1504860\ttotal: 1m 54s\tremaining: 48.7s\n",
            "701:\tlearn: 0.1504801\ttotal: 1m 54s\tremaining: 48.6s\n",
            "702:\tlearn: 0.1504539\ttotal: 1m 54s\tremaining: 48.4s\n",
            "703:\tlearn: 0.1504337\ttotal: 1m 54s\tremaining: 48.3s\n",
            "704:\tlearn: 0.1503909\ttotal: 1m 54s\tremaining: 48.1s\n",
            "705:\tlearn: 0.1503687\ttotal: 1m 55s\tremaining: 47.9s\n",
            "706:\tlearn: 0.1503544\ttotal: 1m 55s\tremaining: 47.8s\n",
            "707:\tlearn: 0.1503419\ttotal: 1m 55s\tremaining: 47.6s\n",
            "708:\tlearn: 0.1503316\ttotal: 1m 55s\tremaining: 47.4s\n",
            "709:\tlearn: 0.1503210\ttotal: 1m 55s\tremaining: 47.3s\n",
            "710:\tlearn: 0.1503108\ttotal: 1m 55s\tremaining: 47.1s\n",
            "711:\tlearn: 0.1503006\ttotal: 1m 56s\tremaining: 47s\n",
            "712:\tlearn: 0.1502952\ttotal: 1m 56s\tremaining: 46.8s\n",
            "713:\tlearn: 0.1502685\ttotal: 1m 56s\tremaining: 46.6s\n",
            "714:\tlearn: 0.1502567\ttotal: 1m 56s\tremaining: 46.5s\n",
            "715:\tlearn: 0.1502125\ttotal: 1m 56s\tremaining: 46.3s\n",
            "716:\tlearn: 0.1501916\ttotal: 1m 56s\tremaining: 46.1s\n",
            "717:\tlearn: 0.1501623\ttotal: 1m 57s\tremaining: 46s\n",
            "718:\tlearn: 0.1501537\ttotal: 1m 57s\tremaining: 45.8s\n",
            "719:\tlearn: 0.1501398\ttotal: 1m 57s\tremaining: 45.6s\n",
            "720:\tlearn: 0.1501295\ttotal: 1m 57s\tremaining: 45.5s\n",
            "721:\tlearn: 0.1501038\ttotal: 1m 57s\tremaining: 45.3s\n",
            "722:\tlearn: 0.1500892\ttotal: 1m 57s\tremaining: 45.2s\n",
            "723:\tlearn: 0.1500695\ttotal: 1m 58s\tremaining: 45s\n",
            "724:\tlearn: 0.1500397\ttotal: 1m 58s\tremaining: 44.8s\n",
            "725:\tlearn: 0.1500327\ttotal: 1m 58s\tremaining: 44.7s\n",
            "726:\tlearn: 0.1500239\ttotal: 1m 58s\tremaining: 44.5s\n",
            "727:\tlearn: 0.1500042\ttotal: 1m 58s\tremaining: 44.3s\n",
            "728:\tlearn: 0.1499900\ttotal: 1m 58s\tremaining: 44.2s\n",
            "729:\tlearn: 0.1499666\ttotal: 1m 59s\tremaining: 44s\n",
            "730:\tlearn: 0.1499465\ttotal: 1m 59s\tremaining: 43.9s\n",
            "731:\tlearn: 0.1499364\ttotal: 1m 59s\tremaining: 43.7s\n",
            "732:\tlearn: 0.1499258\ttotal: 1m 59s\tremaining: 43.5s\n",
            "733:\tlearn: 0.1499111\ttotal: 1m 59s\tremaining: 43.4s\n",
            "734:\tlearn: 0.1498969\ttotal: 1m 59s\tremaining: 43.2s\n",
            "735:\tlearn: 0.1498784\ttotal: 2m\tremaining: 43s\n",
            "736:\tlearn: 0.1498606\ttotal: 2m\tremaining: 42.9s\n",
            "737:\tlearn: 0.1498541\ttotal: 2m\tremaining: 42.7s\n",
            "738:\tlearn: 0.1498454\ttotal: 2m\tremaining: 42.6s\n",
            "739:\tlearn: 0.1498389\ttotal: 2m\tremaining: 42.4s\n",
            "740:\tlearn: 0.1498324\ttotal: 2m\tremaining: 42.2s\n",
            "741:\tlearn: 0.1498113\ttotal: 2m\tremaining: 42.1s\n",
            "742:\tlearn: 0.1497859\ttotal: 2m 1s\tremaining: 41.9s\n",
            "743:\tlearn: 0.1497631\ttotal: 2m 1s\tremaining: 41.7s\n",
            "744:\tlearn: 0.1497243\ttotal: 2m 1s\tremaining: 41.6s\n",
            "745:\tlearn: 0.1497105\ttotal: 2m 1s\tremaining: 41.4s\n",
            "746:\tlearn: 0.1496946\ttotal: 2m 1s\tremaining: 41.3s\n",
            "747:\tlearn: 0.1496873\ttotal: 2m 1s\tremaining: 41.1s\n",
            "748:\tlearn: 0.1496625\ttotal: 2m 2s\tremaining: 40.9s\n",
            "749:\tlearn: 0.1496563\ttotal: 2m 2s\tremaining: 40.8s\n",
            "750:\tlearn: 0.1495967\ttotal: 2m 2s\tremaining: 40.6s\n",
            "751:\tlearn: 0.1495807\ttotal: 2m 2s\tremaining: 40.4s\n",
            "752:\tlearn: 0.1495560\ttotal: 2m 2s\tremaining: 40.3s\n",
            "753:\tlearn: 0.1495365\ttotal: 2m 2s\tremaining: 40.1s\n",
            "754:\tlearn: 0.1494978\ttotal: 2m 3s\tremaining: 40s\n",
            "755:\tlearn: 0.1494693\ttotal: 2m 3s\tremaining: 39.8s\n",
            "756:\tlearn: 0.1494460\ttotal: 2m 3s\tremaining: 39.6s\n",
            "757:\tlearn: 0.1494370\ttotal: 2m 3s\tremaining: 39.5s\n",
            "758:\tlearn: 0.1494071\ttotal: 2m 3s\tremaining: 39.3s\n",
            "759:\tlearn: 0.1493938\ttotal: 2m 3s\tremaining: 39.1s\n",
            "760:\tlearn: 0.1493815\ttotal: 2m 4s\tremaining: 39s\n",
            "761:\tlearn: 0.1493768\ttotal: 2m 4s\tremaining: 38.8s\n",
            "762:\tlearn: 0.1493569\ttotal: 2m 4s\tremaining: 38.6s\n",
            "763:\tlearn: 0.1493359\ttotal: 2m 4s\tremaining: 38.5s\n",
            "764:\tlearn: 0.1493301\ttotal: 2m 4s\tremaining: 38.3s\n",
            "765:\tlearn: 0.1493116\ttotal: 2m 4s\tremaining: 38.1s\n",
            "766:\tlearn: 0.1493016\ttotal: 2m 5s\tremaining: 38s\n",
            "767:\tlearn: 0.1492964\ttotal: 2m 5s\tremaining: 37.8s\n",
            "768:\tlearn: 0.1492470\ttotal: 2m 5s\tremaining: 37.7s\n",
            "769:\tlearn: 0.1492121\ttotal: 2m 5s\tremaining: 37.5s\n",
            "770:\tlearn: 0.1492001\ttotal: 2m 5s\tremaining: 37.3s\n",
            "771:\tlearn: 0.1491826\ttotal: 2m 5s\tremaining: 37.2s\n",
            "772:\tlearn: 0.1491585\ttotal: 2m 6s\tremaining: 37s\n",
            "773:\tlearn: 0.1491461\ttotal: 2m 6s\tremaining: 36.8s\n",
            "774:\tlearn: 0.1491397\ttotal: 2m 6s\tremaining: 36.7s\n",
            "775:\tlearn: 0.1491148\ttotal: 2m 6s\tremaining: 36.5s\n",
            "776:\tlearn: 0.1490900\ttotal: 2m 6s\tremaining: 36.4s\n",
            "777:\tlearn: 0.1490702\ttotal: 2m 6s\tremaining: 36.2s\n",
            "778:\tlearn: 0.1490429\ttotal: 2m 6s\tremaining: 36s\n",
            "779:\tlearn: 0.1490189\ttotal: 2m 7s\tremaining: 35.9s\n",
            "780:\tlearn: 0.1489887\ttotal: 2m 7s\tremaining: 35.7s\n",
            "781:\tlearn: 0.1489777\ttotal: 2m 7s\tremaining: 35.5s\n",
            "782:\tlearn: 0.1489468\ttotal: 2m 7s\tremaining: 35.4s\n",
            "783:\tlearn: 0.1489190\ttotal: 2m 7s\tremaining: 35.2s\n",
            "784:\tlearn: 0.1489133\ttotal: 2m 7s\tremaining: 35.1s\n",
            "785:\tlearn: 0.1488658\ttotal: 2m 8s\tremaining: 34.9s\n",
            "786:\tlearn: 0.1488509\ttotal: 2m 8s\tremaining: 34.7s\n",
            "787:\tlearn: 0.1488357\ttotal: 2m 8s\tremaining: 34.6s\n",
            "788:\tlearn: 0.1488082\ttotal: 2m 8s\tremaining: 34.4s\n",
            "789:\tlearn: 0.1487743\ttotal: 2m 8s\tremaining: 34.2s\n",
            "790:\tlearn: 0.1487410\ttotal: 2m 8s\tremaining: 34.1s\n",
            "791:\tlearn: 0.1487021\ttotal: 2m 9s\tremaining: 33.9s\n",
            "792:\tlearn: 0.1486775\ttotal: 2m 9s\tremaining: 33.7s\n",
            "793:\tlearn: 0.1486510\ttotal: 2m 9s\tremaining: 33.6s\n",
            "794:\tlearn: 0.1486462\ttotal: 2m 9s\tremaining: 33.4s\n",
            "795:\tlearn: 0.1486389\ttotal: 2m 9s\tremaining: 33.3s\n",
            "796:\tlearn: 0.1486120\ttotal: 2m 9s\tremaining: 33.1s\n",
            "797:\tlearn: 0.1485883\ttotal: 2m 10s\tremaining: 32.9s\n",
            "798:\tlearn: 0.1485755\ttotal: 2m 10s\tremaining: 32.8s\n",
            "799:\tlearn: 0.1485523\ttotal: 2m 10s\tremaining: 32.6s\n",
            "800:\tlearn: 0.1485278\ttotal: 2m 10s\tremaining: 32.4s\n",
            "801:\tlearn: 0.1485056\ttotal: 2m 10s\tremaining: 32.3s\n",
            "802:\tlearn: 0.1484812\ttotal: 2m 10s\tremaining: 32.1s\n",
            "803:\tlearn: 0.1484627\ttotal: 2m 11s\tremaining: 32s\n",
            "804:\tlearn: 0.1484440\ttotal: 2m 11s\tremaining: 31.8s\n",
            "805:\tlearn: 0.1484195\ttotal: 2m 11s\tremaining: 31.6s\n",
            "806:\tlearn: 0.1483951\ttotal: 2m 11s\tremaining: 31.5s\n",
            "807:\tlearn: 0.1483606\ttotal: 2m 11s\tremaining: 31.3s\n",
            "808:\tlearn: 0.1483510\ttotal: 2m 12s\tremaining: 31.2s\n",
            "809:\tlearn: 0.1483169\ttotal: 2m 12s\tremaining: 31s\n",
            "810:\tlearn: 0.1482874\ttotal: 2m 12s\tremaining: 30.8s\n",
            "811:\tlearn: 0.1482499\ttotal: 2m 12s\tremaining: 30.7s\n",
            "812:\tlearn: 0.1482024\ttotal: 2m 12s\tremaining: 30.5s\n",
            "813:\tlearn: 0.1481781\ttotal: 2m 12s\tremaining: 30.4s\n",
            "814:\tlearn: 0.1481448\ttotal: 2m 13s\tremaining: 30.2s\n",
            "815:\tlearn: 0.1481201\ttotal: 2m 13s\tremaining: 30s\n",
            "816:\tlearn: 0.1481074\ttotal: 2m 13s\tremaining: 29.9s\n",
            "817:\tlearn: 0.1480650\ttotal: 2m 13s\tremaining: 29.7s\n",
            "818:\tlearn: 0.1480373\ttotal: 2m 13s\tremaining: 29.5s\n",
            "819:\tlearn: 0.1480112\ttotal: 2m 13s\tremaining: 29.4s\n",
            "820:\tlearn: 0.1479910\ttotal: 2m 14s\tremaining: 29.2s\n",
            "821:\tlearn: 0.1479535\ttotal: 2m 14s\tremaining: 29.1s\n",
            "822:\tlearn: 0.1479250\ttotal: 2m 14s\tremaining: 28.9s\n",
            "823:\tlearn: 0.1478579\ttotal: 2m 14s\tremaining: 28.7s\n",
            "824:\tlearn: 0.1478305\ttotal: 2m 14s\tremaining: 28.6s\n",
            "825:\tlearn: 0.1477980\ttotal: 2m 14s\tremaining: 28.4s\n",
            "826:\tlearn: 0.1477703\ttotal: 2m 14s\tremaining: 28.2s\n",
            "827:\tlearn: 0.1477563\ttotal: 2m 15s\tremaining: 28.1s\n",
            "828:\tlearn: 0.1477442\ttotal: 2m 15s\tremaining: 27.9s\n",
            "829:\tlearn: 0.1477279\ttotal: 2m 15s\tremaining: 27.7s\n",
            "830:\tlearn: 0.1477045\ttotal: 2m 15s\tremaining: 27.6s\n",
            "831:\tlearn: 0.1476805\ttotal: 2m 15s\tremaining: 27.4s\n",
            "832:\tlearn: 0.1476679\ttotal: 2m 15s\tremaining: 27.3s\n",
            "833:\tlearn: 0.1476324\ttotal: 2m 16s\tremaining: 27.1s\n",
            "834:\tlearn: 0.1475904\ttotal: 2m 16s\tremaining: 26.9s\n",
            "835:\tlearn: 0.1475854\ttotal: 2m 16s\tremaining: 26.8s\n",
            "836:\tlearn: 0.1475586\ttotal: 2m 16s\tremaining: 26.6s\n",
            "837:\tlearn: 0.1475480\ttotal: 2m 16s\tremaining: 26.4s\n",
            "838:\tlearn: 0.1475265\ttotal: 2m 16s\tremaining: 26.3s\n",
            "839:\tlearn: 0.1475063\ttotal: 2m 17s\tremaining: 26.1s\n",
            "840:\tlearn: 0.1474817\ttotal: 2m 17s\tremaining: 26s\n",
            "841:\tlearn: 0.1474555\ttotal: 2m 17s\tremaining: 25.8s\n",
            "842:\tlearn: 0.1474485\ttotal: 2m 17s\tremaining: 25.6s\n",
            "843:\tlearn: 0.1474212\ttotal: 2m 17s\tremaining: 25.5s\n",
            "844:\tlearn: 0.1473918\ttotal: 2m 17s\tremaining: 25.3s\n",
            "845:\tlearn: 0.1473827\ttotal: 2m 18s\tremaining: 25.1s\n",
            "846:\tlearn: 0.1473473\ttotal: 2m 18s\tremaining: 25s\n",
            "847:\tlearn: 0.1473292\ttotal: 2m 18s\tremaining: 24.8s\n",
            "848:\tlearn: 0.1473202\ttotal: 2m 18s\tremaining: 24.7s\n",
            "849:\tlearn: 0.1472997\ttotal: 2m 18s\tremaining: 24.5s\n",
            "850:\tlearn: 0.1472879\ttotal: 2m 18s\tremaining: 24.3s\n",
            "851:\tlearn: 0.1472842\ttotal: 2m 19s\tremaining: 24.2s\n",
            "852:\tlearn: 0.1472761\ttotal: 2m 19s\tremaining: 24s\n",
            "853:\tlearn: 0.1472575\ttotal: 2m 19s\tremaining: 23.8s\n",
            "854:\tlearn: 0.1472424\ttotal: 2m 19s\tremaining: 23.7s\n",
            "855:\tlearn: 0.1472291\ttotal: 2m 19s\tremaining: 23.5s\n",
            "856:\tlearn: 0.1472238\ttotal: 2m 19s\tremaining: 23.3s\n",
            "857:\tlearn: 0.1472137\ttotal: 2m 20s\tremaining: 23.2s\n",
            "858:\tlearn: 0.1472022\ttotal: 2m 20s\tremaining: 23s\n",
            "859:\tlearn: 0.1471833\ttotal: 2m 20s\tremaining: 22.9s\n",
            "860:\tlearn: 0.1471585\ttotal: 2m 20s\tremaining: 22.7s\n",
            "861:\tlearn: 0.1471211\ttotal: 2m 20s\tremaining: 22.5s\n",
            "862:\tlearn: 0.1470855\ttotal: 2m 20s\tremaining: 22.4s\n",
            "863:\tlearn: 0.1470571\ttotal: 2m 21s\tremaining: 22.2s\n",
            "864:\tlearn: 0.1470428\ttotal: 2m 21s\tremaining: 22s\n",
            "865:\tlearn: 0.1470173\ttotal: 2m 21s\tremaining: 21.9s\n",
            "866:\tlearn: 0.1469914\ttotal: 2m 21s\tremaining: 21.7s\n",
            "867:\tlearn: 0.1469820\ttotal: 2m 21s\tremaining: 21.5s\n",
            "868:\tlearn: 0.1469727\ttotal: 2m 21s\tremaining: 21.4s\n",
            "869:\tlearn: 0.1469552\ttotal: 2m 22s\tremaining: 21.2s\n",
            "870:\tlearn: 0.1469482\ttotal: 2m 22s\tremaining: 21.1s\n",
            "871:\tlearn: 0.1469292\ttotal: 2m 22s\tremaining: 20.9s\n",
            "872:\tlearn: 0.1469180\ttotal: 2m 22s\tremaining: 20.7s\n",
            "873:\tlearn: 0.1469008\ttotal: 2m 22s\tremaining: 20.6s\n",
            "874:\tlearn: 0.1468873\ttotal: 2m 22s\tremaining: 20.4s\n",
            "875:\tlearn: 0.1468740\ttotal: 2m 22s\tremaining: 20.2s\n",
            "876:\tlearn: 0.1468566\ttotal: 2m 23s\tremaining: 20.1s\n",
            "877:\tlearn: 0.1468481\ttotal: 2m 23s\tremaining: 19.9s\n",
            "878:\tlearn: 0.1468093\ttotal: 2m 23s\tremaining: 19.8s\n",
            "879:\tlearn: 0.1467793\ttotal: 2m 23s\tremaining: 19.6s\n",
            "880:\tlearn: 0.1467394\ttotal: 2m 23s\tremaining: 19.4s\n",
            "881:\tlearn: 0.1467238\ttotal: 2m 23s\tremaining: 19.3s\n",
            "882:\tlearn: 0.1467189\ttotal: 2m 24s\tremaining: 19.1s\n",
            "883:\tlearn: 0.1467095\ttotal: 2m 24s\tremaining: 18.9s\n",
            "884:\tlearn: 0.1466846\ttotal: 2m 24s\tremaining: 18.8s\n",
            "885:\tlearn: 0.1466411\ttotal: 2m 24s\tremaining: 18.6s\n",
            "886:\tlearn: 0.1465988\ttotal: 2m 24s\tremaining: 18.4s\n",
            "887:\tlearn: 0.1465895\ttotal: 2m 24s\tremaining: 18.3s\n",
            "888:\tlearn: 0.1465620\ttotal: 2m 25s\tremaining: 18.1s\n",
            "889:\tlearn: 0.1465529\ttotal: 2m 25s\tremaining: 18s\n",
            "890:\tlearn: 0.1465477\ttotal: 2m 25s\tremaining: 17.8s\n",
            "891:\tlearn: 0.1465260\ttotal: 2m 25s\tremaining: 17.6s\n",
            "892:\tlearn: 0.1465080\ttotal: 2m 25s\tremaining: 17.5s\n",
            "893:\tlearn: 0.1464968\ttotal: 2m 25s\tremaining: 17.3s\n",
            "894:\tlearn: 0.1464858\ttotal: 2m 26s\tremaining: 17.1s\n",
            "895:\tlearn: 0.1464645\ttotal: 2m 26s\tremaining: 17s\n",
            "896:\tlearn: 0.1464421\ttotal: 2m 26s\tremaining: 16.8s\n",
            "897:\tlearn: 0.1464085\ttotal: 2m 26s\tremaining: 16.6s\n",
            "898:\tlearn: 0.1463792\ttotal: 2m 26s\tremaining: 16.5s\n",
            "899:\tlearn: 0.1463684\ttotal: 2m 26s\tremaining: 16.3s\n",
            "900:\tlearn: 0.1463541\ttotal: 2m 27s\tremaining: 16.2s\n",
            "901:\tlearn: 0.1463309\ttotal: 2m 27s\tremaining: 16s\n",
            "902:\tlearn: 0.1463191\ttotal: 2m 27s\tremaining: 15.8s\n",
            "903:\tlearn: 0.1463110\ttotal: 2m 27s\tremaining: 15.7s\n",
            "904:\tlearn: 0.1462981\ttotal: 2m 27s\tremaining: 15.5s\n",
            "905:\tlearn: 0.1462845\ttotal: 2m 27s\tremaining: 15.3s\n",
            "906:\tlearn: 0.1462669\ttotal: 2m 28s\tremaining: 15.2s\n",
            "907:\tlearn: 0.1462605\ttotal: 2m 28s\tremaining: 15s\n",
            "908:\tlearn: 0.1462536\ttotal: 2m 28s\tremaining: 14.9s\n",
            "909:\tlearn: 0.1462399\ttotal: 2m 28s\tremaining: 14.7s\n",
            "910:\tlearn: 0.1462307\ttotal: 2m 28s\tremaining: 14.5s\n",
            "911:\tlearn: 0.1462238\ttotal: 2m 28s\tremaining: 14.4s\n",
            "912:\tlearn: 0.1462150\ttotal: 2m 29s\tremaining: 14.2s\n",
            "913:\tlearn: 0.1462052\ttotal: 2m 29s\tremaining: 14s\n",
            "914:\tlearn: 0.1461863\ttotal: 2m 29s\tremaining: 13.9s\n",
            "915:\tlearn: 0.1461633\ttotal: 2m 29s\tremaining: 13.7s\n",
            "916:\tlearn: 0.1461565\ttotal: 2m 29s\tremaining: 13.5s\n",
            "917:\tlearn: 0.1461521\ttotal: 2m 29s\tremaining: 13.4s\n",
            "918:\tlearn: 0.1461413\ttotal: 2m 30s\tremaining: 13.2s\n",
            "919:\tlearn: 0.1461319\ttotal: 2m 30s\tremaining: 13.1s\n",
            "920:\tlearn: 0.1461035\ttotal: 2m 30s\tremaining: 12.9s\n",
            "921:\tlearn: 0.1460765\ttotal: 2m 30s\tremaining: 12.7s\n",
            "922:\tlearn: 0.1460695\ttotal: 2m 30s\tremaining: 12.6s\n",
            "923:\tlearn: 0.1460617\ttotal: 2m 30s\tremaining: 12.4s\n",
            "924:\tlearn: 0.1460381\ttotal: 2m 30s\tremaining: 12.2s\n",
            "925:\tlearn: 0.1460321\ttotal: 2m 31s\tremaining: 12.1s\n",
            "926:\tlearn: 0.1459794\ttotal: 2m 31s\tremaining: 11.9s\n",
            "927:\tlearn: 0.1459560\ttotal: 2m 31s\tremaining: 11.8s\n",
            "928:\tlearn: 0.1459272\ttotal: 2m 31s\tremaining: 11.6s\n",
            "929:\tlearn: 0.1459184\ttotal: 2m 31s\tremaining: 11.4s\n",
            "930:\tlearn: 0.1459041\ttotal: 2m 31s\tremaining: 11.3s\n",
            "931:\tlearn: 0.1458972\ttotal: 2m 32s\tremaining: 11.1s\n",
            "932:\tlearn: 0.1458825\ttotal: 2m 32s\tremaining: 10.9s\n",
            "933:\tlearn: 0.1458528\ttotal: 2m 32s\tremaining: 10.8s\n",
            "934:\tlearn: 0.1458468\ttotal: 2m 32s\tremaining: 10.6s\n",
            "935:\tlearn: 0.1458409\ttotal: 2m 32s\tremaining: 10.4s\n",
            "936:\tlearn: 0.1458261\ttotal: 2m 32s\tremaining: 10.3s\n",
            "937:\tlearn: 0.1458121\ttotal: 2m 33s\tremaining: 10.1s\n",
            "938:\tlearn: 0.1457954\ttotal: 2m 33s\tremaining: 9.96s\n",
            "939:\tlearn: 0.1457749\ttotal: 2m 33s\tremaining: 9.79s\n",
            "940:\tlearn: 0.1457526\ttotal: 2m 33s\tremaining: 9.63s\n",
            "941:\tlearn: 0.1457389\ttotal: 2m 33s\tremaining: 9.47s\n",
            "942:\tlearn: 0.1457099\ttotal: 2m 33s\tremaining: 9.3s\n",
            "943:\tlearn: 0.1456912\ttotal: 2m 34s\tremaining: 9.14s\n",
            "944:\tlearn: 0.1456571\ttotal: 2m 34s\tremaining: 8.98s\n",
            "945:\tlearn: 0.1456351\ttotal: 2m 34s\tremaining: 8.81s\n",
            "946:\tlearn: 0.1456104\ttotal: 2m 34s\tremaining: 8.65s\n",
            "947:\tlearn: 0.1455922\ttotal: 2m 34s\tremaining: 8.49s\n",
            "948:\tlearn: 0.1455778\ttotal: 2m 34s\tremaining: 8.32s\n",
            "949:\tlearn: 0.1455480\ttotal: 2m 35s\tremaining: 8.16s\n",
            "950:\tlearn: 0.1455381\ttotal: 2m 35s\tremaining: 8s\n",
            "951:\tlearn: 0.1455341\ttotal: 2m 35s\tremaining: 7.83s\n",
            "952:\tlearn: 0.1455276\ttotal: 2m 35s\tremaining: 7.67s\n",
            "953:\tlearn: 0.1455183\ttotal: 2m 35s\tremaining: 7.51s\n",
            "954:\tlearn: 0.1454796\ttotal: 2m 35s\tremaining: 7.34s\n",
            "955:\tlearn: 0.1454543\ttotal: 2m 36s\tremaining: 7.18s\n",
            "956:\tlearn: 0.1454269\ttotal: 2m 36s\tremaining: 7.02s\n",
            "957:\tlearn: 0.1454096\ttotal: 2m 36s\tremaining: 6.85s\n",
            "958:\tlearn: 0.1453819\ttotal: 2m 36s\tremaining: 6.69s\n",
            "959:\tlearn: 0.1453612\ttotal: 2m 36s\tremaining: 6.53s\n",
            "960:\tlearn: 0.1453306\ttotal: 2m 36s\tremaining: 6.36s\n",
            "961:\tlearn: 0.1452753\ttotal: 2m 37s\tremaining: 6.2s\n",
            "962:\tlearn: 0.1452523\ttotal: 2m 37s\tremaining: 6.04s\n",
            "963:\tlearn: 0.1452318\ttotal: 2m 37s\tremaining: 5.88s\n",
            "964:\tlearn: 0.1452182\ttotal: 2m 37s\tremaining: 5.71s\n",
            "965:\tlearn: 0.1451957\ttotal: 2m 37s\tremaining: 5.55s\n",
            "966:\tlearn: 0.1451845\ttotal: 2m 37s\tremaining: 5.38s\n",
            "967:\tlearn: 0.1451381\ttotal: 2m 37s\tremaining: 5.22s\n",
            "968:\tlearn: 0.1451280\ttotal: 2m 38s\tremaining: 5.06s\n",
            "969:\tlearn: 0.1451229\ttotal: 2m 38s\tremaining: 4.89s\n",
            "970:\tlearn: 0.1451179\ttotal: 2m 38s\tremaining: 4.73s\n",
            "971:\tlearn: 0.1451095\ttotal: 2m 38s\tremaining: 4.57s\n",
            "972:\tlearn: 0.1451025\ttotal: 2m 38s\tremaining: 4.41s\n",
            "973:\tlearn: 0.1450979\ttotal: 2m 38s\tremaining: 4.24s\n",
            "974:\tlearn: 0.1450882\ttotal: 2m 39s\tremaining: 4.08s\n",
            "975:\tlearn: 0.1450748\ttotal: 2m 39s\tremaining: 3.92s\n",
            "976:\tlearn: 0.1450703\ttotal: 2m 39s\tremaining: 3.75s\n",
            "977:\tlearn: 0.1450573\ttotal: 2m 39s\tremaining: 3.59s\n",
            "978:\tlearn: 0.1450512\ttotal: 2m 39s\tremaining: 3.43s\n",
            "979:\tlearn: 0.1450313\ttotal: 2m 39s\tremaining: 3.26s\n",
            "980:\tlearn: 0.1450175\ttotal: 2m 40s\tremaining: 3.1s\n",
            "981:\tlearn: 0.1450023\ttotal: 2m 40s\tremaining: 2.94s\n",
            "982:\tlearn: 0.1449957\ttotal: 2m 40s\tremaining: 2.77s\n",
            "983:\tlearn: 0.1449786\ttotal: 2m 40s\tremaining: 2.61s\n",
            "984:\tlearn: 0.1449733\ttotal: 2m 40s\tremaining: 2.45s\n",
            "985:\tlearn: 0.1449556\ttotal: 2m 40s\tremaining: 2.28s\n",
            "986:\tlearn: 0.1449435\ttotal: 2m 41s\tremaining: 2.12s\n",
            "987:\tlearn: 0.1448980\ttotal: 2m 41s\tremaining: 1.96s\n",
            "988:\tlearn: 0.1448930\ttotal: 2m 41s\tremaining: 1.79s\n",
            "989:\tlearn: 0.1448729\ttotal: 2m 41s\tremaining: 1.63s\n",
            "990:\tlearn: 0.1448455\ttotal: 2m 41s\tremaining: 1.47s\n",
            "991:\tlearn: 0.1448204\ttotal: 2m 41s\tremaining: 1.3s\n",
            "992:\tlearn: 0.1447981\ttotal: 2m 42s\tremaining: 1.14s\n",
            "993:\tlearn: 0.1447678\ttotal: 2m 42s\tremaining: 979ms\n",
            "994:\tlearn: 0.1447528\ttotal: 2m 42s\tremaining: 816ms\n",
            "995:\tlearn: 0.1447436\ttotal: 2m 42s\tremaining: 653ms\n",
            "996:\tlearn: 0.1447338\ttotal: 2m 42s\tremaining: 489ms\n",
            "997:\tlearn: 0.1447257\ttotal: 2m 42s\tremaining: 326ms\n",
            "998:\tlearn: 0.1447188\ttotal: 2m 42s\tremaining: 163ms\n",
            "999:\tlearn: 0.1447108\ttotal: 2m 43s\tremaining: 0us\n"
          ]
        },
        {
          "output_type": "execute_result",
          "data": {
            "text/plain": [
              "<catboost.core.CatBoostClassifier at 0x7fdf52fd3410>"
            ]
          },
          "metadata": {},
          "execution_count": 52
        }
      ]
    },
    {
      "cell_type": "code",
      "metadata": {
        "colab": {
          "base_uri": "https://localhost:8080/"
        },
        "id": "PFHGrWhEnnuP",
        "outputId": "b2abccc8-afae-45ad-fa06-8492ed44ba0a"
      },
      "source": [
        "model_catboost.score(x_test, y_test)"
      ],
      "execution_count": null,
      "outputs": [
        {
          "output_type": "execute_result",
          "data": {
            "text/plain": [
              "0.9349543664996421"
            ]
          },
          "metadata": {},
          "execution_count": 53
        }
      ]
    },
    {
      "cell_type": "code",
      "metadata": {
        "id": "1xaj_VoEm_s8"
      },
      "source": [
        "# plot_feature_importance(model_catboost.feature_importances_, x_train.columns, 'CatBoost ')"
      ],
      "execution_count": null,
      "outputs": []
    },
    {
      "cell_type": "markdown",
      "metadata": {
        "id": "BAHt-y7o0fvb"
      },
      "source": [
        "## Hyperparameter tuning"
      ]
    },
    {
      "cell_type": "markdown",
      "metadata": {
        "id": "1n5v3qkr0w69"
      },
      "source": [
        "### KNN"
      ]
    },
    {
      "cell_type": "code",
      "metadata": {
        "id": "f5140502"
      },
      "source": [
        "# # Let's tune KNN\n",
        "\n",
        "# train_scores = []\n",
        "# test_scores = []\n",
        "\n",
        "# # Create a list of different values for n_neighbours\n",
        "# neighbors = range(1,5)\n",
        "\n",
        "# # Setup KNN instance\n",
        "# knn = KNeighborsClassifier()\n",
        "\n",
        "# # Loop through different n_neughbors\n",
        "# for i in neighbors: # default = 5\n",
        "#     knn.set_params(n_neighbors=i)\n",
        "    \n",
        "#     # Fit the algorithm\n",
        "#     knn.fit(x_train, y_train)\n",
        "    \n",
        "#     # Update the training scores list\n",
        "#     train_scores.append(knn.score(x_train, y_train))\n",
        "    \n",
        "#     # Update the test scores list\n",
        "#     test_scores.append(knn.score(x_test, y_test))"
      ],
      "execution_count": null,
      "outputs": []
    },
    {
      "cell_type": "code",
      "metadata": {
        "id": "a27418c8"
      },
      "source": [
        "train_scores"
      ],
      "execution_count": null,
      "outputs": []
    },
    {
      "cell_type": "code",
      "metadata": {
        "id": "946a4eac"
      },
      "source": [
        "test_scores"
      ],
      "execution_count": null,
      "outputs": []
    },
    {
      "cell_type": "code",
      "metadata": {
        "id": "650bbe35"
      },
      "source": [
        "plt.plot(neighbors, train_scores, label=\"Train score\")\n",
        "plt.plot(neighbors, test_scores,label=\"Test score\")\n",
        "plt.xlabel(\"Number of neighbors\")\n",
        "plt.ylabel(\"Model score\")\n",
        "plt.legend()\n",
        "plt.xticks(np.arange(1, 20, 1))\n",
        "print(f\"Maximum KNN score on the test data: {max(test_scores)*100:.2f}%\")"
      ],
      "execution_count": null,
      "outputs": []
    },
    {
      "cell_type": "markdown",
      "metadata": {
        "id": "JcpGbtsI00BE"
      },
      "source": [
        "### LogisticRegression"
      ]
    },
    {
      "cell_type": "code",
      "metadata": {
        "id": "izcblPpa3FYS"
      },
      "source": [
        "# Create a hyperparameter grid for logisticRegression\n",
        "log_reg_grid = {\"C\": np.logspace(-4, 4, 20),\n",
        "               \"solver\": [\"liblinear\"]} #return log scale"
      ],
      "execution_count": null,
      "outputs": []
    },
    {
      "cell_type": "code",
      "metadata": {
        "id": "uJ5gbiID07OX"
      },
      "source": [
        "# Tune LogisticRegression\n",
        "\n",
        "np.random.seed(42)\n",
        "\n",
        "# Setup\n",
        "rs_log_reg = RandomizedSearchCV(LogisticRegression(),\n",
        "                               param_distributions=log_reg_grid,\n",
        "                               cv=5,\n",
        "                               n_iter=20,\n",
        "                               verbose=True)\n",
        "\n",
        "# Fit \n",
        "rs_log_reg.fit(x_train, y_train)"
      ],
      "execution_count": null,
      "outputs": []
    },
    {
      "cell_type": "code",
      "metadata": {
        "id": "I5mrYGjC3KsA"
      },
      "source": [
        "rs_log_reg.best_params_"
      ],
      "execution_count": null,
      "outputs": []
    },
    {
      "cell_type": "code",
      "metadata": {
        "id": "m7GLSe4G3Lw5"
      },
      "source": [
        "rs_log_reg.score(x_test,y_test)"
      ],
      "execution_count": null,
      "outputs": []
    },
    {
      "cell_type": "markdown",
      "metadata": {
        "id": "uO1BtfId1VaW"
      },
      "source": [
        "###RandomForestClassifier"
      ]
    },
    {
      "cell_type": "code",
      "metadata": {
        "id": "fzNceNlm1WbM"
      },
      "source": [
        "# Setup random seed\n",
        "np.random.seed(42)\n",
        "\n",
        "# Setup hyperparams..\n",
        "rs_rf = RandomizedSearchCV(RandomForestClassifier(),\n",
        "                          param_distributions=rf_grid,\n",
        "                          cv=5,\n",
        "                          n_iter=20,\n",
        "                          verbose =True,\n",
        "                           n_jobs=-1)\n",
        "\n",
        "# Fit \n",
        "rs_rf.fit(x_train, y_train)"
      ],
      "execution_count": null,
      "outputs": []
    },
    {
      "cell_type": "code",
      "metadata": {
        "id": "djJOsvhV11Sh"
      },
      "source": [
        "rs_rf.best_params_"
      ],
      "execution_count": null,
      "outputs": []
    },
    {
      "cell_type": "code",
      "metadata": {
        "id": "fJqDYhk812Sa"
      },
      "source": [
        "rs_rf.score(x_test, y_test)"
      ],
      "execution_count": null,
      "outputs": []
    },
    {
      "cell_type": "code",
      "metadata": {
        "id": "VWUVjeUO1327"
      },
      "source": [
        "model_scores"
      ],
      "execution_count": null,
      "outputs": []
    },
    {
      "cell_type": "markdown",
      "metadata": {
        "id": "qitz8qitofBY"
      },
      "source": [
        "# 3. Evaluating our tuned ml model (miss this step)\n",
        "\n",
        "* ROC curve and AUC score\n",
        "* Confusion matrix\n",
        "* Classification report\n",
        "* Precision\n",
        "* Recall\n",
        "* F1 score"
      ]
    },
    {
      "cell_type": "code",
      "metadata": {
        "id": "5b46e900",
        "colab": {
          "base_uri": "https://localhost:8080/",
          "height": 194
        },
        "outputId": "5c8e7288-adc5-42c1-aa88-366c5f9a1ea1"
      },
      "source": [
        "# Make predcitions with tuned model\n",
        "y_preds = gs_log_reg.predict(x_test)\n",
        "y_preds"
      ],
      "execution_count": null,
      "outputs": [
        {
          "output_type": "error",
          "ename": "NameError",
          "evalue": "ignored",
          "traceback": [
            "\u001b[0;31m---------------------------------------------------------------------------\u001b[0m",
            "\u001b[0;31mNameError\u001b[0m                                 Traceback (most recent call last)",
            "\u001b[0;32m<ipython-input-242-88bb5347fe84>\u001b[0m in \u001b[0;36m<module>\u001b[0;34m()\u001b[0m\n\u001b[1;32m      1\u001b[0m \u001b[0;31m# Make predcitions with tuned model\u001b[0m\u001b[0;34m\u001b[0m\u001b[0;34m\u001b[0m\u001b[0;34m\u001b[0m\u001b[0m\n\u001b[0;32m----> 2\u001b[0;31m \u001b[0my_preds\u001b[0m \u001b[0;34m=\u001b[0m \u001b[0mgs_log_reg\u001b[0m\u001b[0;34m.\u001b[0m\u001b[0mpredict\u001b[0m\u001b[0;34m(\u001b[0m\u001b[0mx_test\u001b[0m\u001b[0;34m)\u001b[0m\u001b[0;34m\u001b[0m\u001b[0;34m\u001b[0m\u001b[0m\n\u001b[0m\u001b[1;32m      3\u001b[0m \u001b[0my_preds\u001b[0m\u001b[0;34m\u001b[0m\u001b[0;34m\u001b[0m\u001b[0m\n",
            "\u001b[0;31mNameError\u001b[0m: name 'gs_log_reg' is not defined"
          ]
        }
      ]
    },
    {
      "cell_type": "code",
      "metadata": {
        "id": "edcb8c87",
        "outputId": "c7fe2ea4-9af4-41a4-cee4-72aef3b3a966"
      },
      "source": [
        "y_test"
      ],
      "execution_count": null,
      "outputs": [
        {
          "data": {
            "text/plain": [
              "179    0\n",
              "228    0\n",
              "111    1\n",
              "246    0\n",
              "60     1\n",
              "      ..\n",
              "249    0\n",
              "104    1\n",
              "300    0\n",
              "193    0\n",
              "184    0\n",
              "Name: target, Length: 61, dtype: int64"
            ]
          },
          "execution_count": 41,
          "metadata": {},
          "output_type": "execute_result"
        }
      ]
    },
    {
      "cell_type": "code",
      "metadata": {
        "id": "5392617d",
        "outputId": "aadc189f-5a99-4b9c-a2c0-0433c98e307e"
      },
      "source": [
        "# We need consfusion matrix before ROC curve\n",
        "# Import ROC curve from sklearn.netrics module\n",
        "# Plot ROC curve and calculate AUC metric\n",
        "plot_roc_curve(gs_log_reg, x_test, y_test)"
      ],
      "execution_count": null,
      "outputs": [
        {
          "data": {
            "text/plain": [
              "<sklearn.metrics._plot.roc_curve.RocCurveDisplay at 0x1e3ab0a4d60>"
            ]
          },
          "execution_count": 42,
          "metadata": {},
          "output_type": "execute_result"
        },
        {
          "data": {
            "image/png": "[encoded data removed]",
            "text/plain": [
              "<Figure size 432x288 with 1 Axes>"
            ]
          },
          "metadata": {
            "needs_background": "light"
          },
          "output_type": "display_data"
        }
      ]
    },
    {
      "cell_type": "code",
      "metadata": {
        "id": "dce94f7e",
        "outputId": "635b5fdb-9ed8-4843-894f-99a1720bed90"
      },
      "source": [
        "# Confusion matrix\n",
        "print(confusion_matrix(y_test, y_preds))"
      ],
      "execution_count": null,
      "outputs": [
        {
          "name": "stdout",
          "output_type": "stream",
          "text": [
            "[[25  4]\n",
            " [ 3 29]]\n"
          ]
        }
      ]
    },
    {
      "cell_type": "code",
      "metadata": {
        "id": "dffab1d8",
        "outputId": "acc9409a-f3f9-4930-db20-20af1f315be0"
      },
      "source": [
        "sns.set(font_scale=1.5)\n",
        "\n",
        "def plot_conf_max(y_test, y_preds):\n",
        "    \"\"\"\n",
        "    Plots a confusion matrux using Seaborn's heatmap()\n",
        "    \"\"\"\n",
        "    fig, ax = plt.subplots(figsize=(3,3))\n",
        "    ax = sns.heatmap(confusion_matrix(y_test, y_preds),\n",
        "                    annot=True,\n",
        "                    cbar=False)\n",
        "    plt.xlabel(\"True label\")\n",
        "    plt.ylabel(\"Predicted label\")\n",
        "    \n",
        "   # bottom, top = ax.get_ylim()\n",
        "    #ax.set_ylim(bottom + 0.5, top - 0.5)\n",
        "    \n",
        "plot_conf_max(y_test, y_preds)"
      ],
      "execution_count": null,
      "outputs": [
        {
          "data": {
            "image/png": "[encoded data removed]",
            "text/plain": [
              "<Figure size 216x216 with 1 Axes>"
            ]
          },
          "metadata": {},
          "output_type": "display_data"
        }
      ]
    },
    {
      "cell_type": "code",
      "metadata": {
        "id": "1b59e238",
        "outputId": "7eb05d49-ed89-41e6-b53c-2b3ac01a62b7"
      },
      "source": [
        "print(classification_report(y_test, y_preds))"
      ],
      "execution_count": null,
      "outputs": [
        {
          "name": "stdout",
          "output_type": "stream",
          "text": [
            "              precision    recall  f1-score   support\n",
            "\n",
            "           0       0.89      0.86      0.88        29\n",
            "           1       0.88      0.91      0.89        32\n",
            "\n",
            "    accuracy                           0.89        61\n",
            "   macro avg       0.89      0.88      0.88        61\n",
            "weighted avg       0.89      0.89      0.89        61\n",
            "\n"
          ]
        }
      ]
    },
    {
      "cell_type": "markdown",
      "metadata": {
        "id": "VE4cdJxDorOj"
      },
      "source": [
        "## Calculate evaluating metrics using cross-validation\n",
        "\n",
        "`cross_val_score()`"
      ]
    },
    {
      "cell_type": "code",
      "metadata": {
        "id": "65838c44",
        "outputId": "901c71ca-bf8f-4e5d-814d-41007beb2ece"
      },
      "source": [
        "# Check best hyperparameters\n",
        "gs_log_reg.best_params_"
      ],
      "execution_count": null,
      "outputs": [
        {
          "data": {
            "text/plain": [
              "{'C': 0.23357214690901212, 'solver': 'liblinear'}"
            ]
          },
          "execution_count": 46,
          "metadata": {},
          "output_type": "execute_result"
        }
      ]
    },
    {
      "cell_type": "code",
      "metadata": {
        "id": "6539dec2"
      },
      "source": [
        "# Create a new classifier with best parameters\n",
        "clf = LogisticRegression(C=0.23357214690901212,\n",
        "                        solver=\"liblinear\")"
      ],
      "execution_count": null,
      "outputs": []
    },
    {
      "cell_type": "code",
      "metadata": {
        "id": "ce5eef7c",
        "outputId": "73a94612-8641-46c6-ff3f-990b39912f2e"
      },
      "source": [
        "# Cross-validated accuracy\n",
        "cv_acc = cross_val_score(clf,x,y, cv=5, scoring=\"accuracy\")\n",
        "cv_acc = np.mean(cv_acc)\n",
        "cv_acc"
      ],
      "execution_count": null,
      "outputs": [
        {
          "data": {
            "text/plain": [
              "0.8479781420765027"
            ]
          },
          "execution_count": 48,
          "metadata": {},
          "output_type": "execute_result"
        }
      ]
    },
    {
      "cell_type": "code",
      "metadata": {
        "id": "e5af2bd8",
        "outputId": "67796245-6b9f-4d80-a417-3062bb151114"
      },
      "source": [
        "# Cross-validated precision\n",
        "cv_precision = cross_val_score(clf,x,y, cv=5, scoring=\"precision\")\n",
        "cv_precision = np.mean(cv_precision)\n",
        "cv_precision"
      ],
      "execution_count": null,
      "outputs": [
        {
          "data": {
            "text/plain": [
              "0.8215873015873015"
            ]
          },
          "execution_count": 49,
          "metadata": {},
          "output_type": "execute_result"
        }
      ]
    },
    {
      "cell_type": "code",
      "metadata": {
        "id": "d1b18058",
        "outputId": "850732c7-b08c-48ed-816e-d506aa254971"
      },
      "source": [
        "# Cross-validated recall\n",
        "cv_recall = cross_val_score(clf,x,y, cv=5, scoring=\"recall\")\n",
        "cv_recall  = np.mean(cv_recall )\n",
        "cv_recall "
      ],
      "execution_count": null,
      "outputs": [
        {
          "data": {
            "text/plain": [
              "0.9272727272727274"
            ]
          },
          "execution_count": 50,
          "metadata": {},
          "output_type": "execute_result"
        }
      ]
    },
    {
      "cell_type": "code",
      "metadata": {
        "id": "ab5a096b",
        "outputId": "ec3563b7-6f02-42b2-b219-e7ae1427e3e2"
      },
      "source": [
        "# Cross-validated f1\n",
        "cv_f1 = cross_val_score(clf,x,y, cv=5, scoring=\"f1\")\n",
        "cv_f1  = np.mean(cv_f1 )\n",
        "cv_f1 "
      ],
      "execution_count": null,
      "outputs": [
        {
          "data": {
            "text/plain": [
              "0.8705403543192143"
            ]
          },
          "execution_count": 51,
          "metadata": {},
          "output_type": "execute_result"
        }
      ]
    },
    {
      "cell_type": "code",
      "metadata": {
        "id": "2feda058",
        "outputId": "d6ea90d9-09e0-4de6-b93c-699811933771"
      },
      "source": [
        "# Visualize cross-validated metrics\n",
        "cv_metrics = pd.DataFrame({\"Accuracy\": cv_acc,\n",
        "                          \"Precision\": cv_precision,\n",
        "                          \"Recall\": cv_recall,\n",
        "                          \"F1\": cv_f1}, index=[0])\n",
        "\n",
        "cv_metrics.T.plot.bar(title=\"Cross-validated classification metrics\",\n",
        "                      legend=False)"
      ],
      "execution_count": null,
      "outputs": [
        {
          "data": {
            "text/plain": [
              "<AxesSubplot:title={'center':'Cross-validated classification metrics'}>"
            ]
          },
          "execution_count": 52,
          "metadata": {},
          "output_type": "execute_result"
        },
        {
          "data": {
            "image/png": "[encoded data removed]",
            "text/plain": [
              "<Figure size 432x288 with 1 Axes>"
            ]
          },
          "metadata": {},
          "output_type": "display_data"
        }
      ]
    },
    {
      "cell_type": "markdown",
      "metadata": {
        "id": "w3CBM9MSqhcs"
      },
      "source": [
        "# 4. Output"
      ]
    },
    {
      "cell_type": "code",
      "metadata": {
        "id": "xRLvVmu3rl9t"
      },
      "source": [
        "sample_sub = pd.read_csv(\"/content/drive/MyDrive/Colab_Notebooks/Sber_market/sample_submission.csv\")"
      ],
      "execution_count": null,
      "outputs": []
    },
    {
      "cell_type": "code",
      "metadata": {
        "colab": {
          "base_uri": "https://localhost:8080/",
          "height": 415
        },
        "id": "Zn4wLSY_sNSJ",
        "outputId": "4bef1f1f-3637-4b67-defd-65a5e3f1d2d7"
      },
      "source": [
        "sample_sub"
      ],
      "execution_count": null,
      "outputs": [
        {
          "output_type": "execute_result",
          "data": {
            "text/html": [
              "<div>\n",
              "<style scoped>\n",
              "    .dataframe tbody tr th:only-of-type {\n",
              "        vertical-align: middle;\n",
              "    }\n",
              "\n",
              "    .dataframe tbody tr th {\n",
              "        vertical-align: top;\n",
              "    }\n",
              "\n",
              "    .dataframe thead th {\n",
              "        text-align: right;\n",
              "    }\n",
              "</style>\n",
              "<table border=\"1\" class=\"dataframe\">\n",
              "  <thead>\n",
              "    <tr style=\"text-align: right;\">\n",
              "      <th></th>\n",
              "      <th>id</th>\n",
              "      <th>target</th>\n",
              "    </tr>\n",
              "  </thead>\n",
              "  <tbody>\n",
              "    <tr>\n",
              "      <th>0</th>\n",
              "      <td>0;133</td>\n",
              "      <td>0</td>\n",
              "    </tr>\n",
              "    <tr>\n",
              "      <th>1</th>\n",
              "      <td>0;5</td>\n",
              "      <td>1</td>\n",
              "    </tr>\n",
              "    <tr>\n",
              "      <th>2</th>\n",
              "      <td>0;10</td>\n",
              "      <td>0</td>\n",
              "    </tr>\n",
              "    <tr>\n",
              "      <th>3</th>\n",
              "      <td>0;396</td>\n",
              "      <td>1</td>\n",
              "    </tr>\n",
              "    <tr>\n",
              "      <th>4</th>\n",
              "      <td>0;14</td>\n",
              "      <td>0</td>\n",
              "    </tr>\n",
              "    <tr>\n",
              "      <th>...</th>\n",
              "      <td>...</td>\n",
              "      <td>...</td>\n",
              "    </tr>\n",
              "    <tr>\n",
              "      <th>790444</th>\n",
              "      <td>19998;26</td>\n",
              "      <td>0</td>\n",
              "    </tr>\n",
              "    <tr>\n",
              "      <th>790445</th>\n",
              "      <td>19998;31</td>\n",
              "      <td>0</td>\n",
              "    </tr>\n",
              "    <tr>\n",
              "      <th>790446</th>\n",
              "      <td>19998;29</td>\n",
              "      <td>1</td>\n",
              "    </tr>\n",
              "    <tr>\n",
              "      <th>790447</th>\n",
              "      <td>19998;798</td>\n",
              "      <td>1</td>\n",
              "    </tr>\n",
              "    <tr>\n",
              "      <th>790448</th>\n",
              "      <td>19998;415</td>\n",
              "      <td>1</td>\n",
              "    </tr>\n",
              "  </tbody>\n",
              "</table>\n",
              "<p>790449 rows × 2 columns</p>\n",
              "</div>"
            ],
            "text/plain": [
              "               id  target\n",
              "0           0;133       0\n",
              "1             0;5       1\n",
              "2            0;10       0\n",
              "3           0;396       1\n",
              "4            0;14       0\n",
              "...           ...     ...\n",
              "790444   19998;26       0\n",
              "790445   19998;31       0\n",
              "790446   19998;29       1\n",
              "790447  19998;798       1\n",
              "790448  19998;415       1\n",
              "\n",
              "[790449 rows x 2 columns]"
            ]
          },
          "metadata": {},
          "execution_count": 118
        }
      ]
    },
    {
      "cell_type": "code",
      "metadata": {
        "colab": {
          "base_uri": "https://localhost:8080/"
        },
        "id": "gg2aiuL4tOc_",
        "outputId": "cfa5dc0a-6370-4eba-e310-69f7185a8277"
      },
      "source": [
        "sample_sub.shape"
      ],
      "execution_count": null,
      "outputs": [
        {
          "output_type": "execute_result",
          "data": {
            "text/plain": [
              "(790449, 2)"
            ]
          },
          "metadata": {},
          "execution_count": 119
        }
      ]
    },
    {
      "cell_type": "code",
      "metadata": {
        "colab": {
          "base_uri": "https://localhost:8080/"
        },
        "id": "kR8Oa4P_sW2p",
        "outputId": "381c3fb7-3c48-4806-a9a2-7fe8d1ebf9d6"
      },
      "source": [
        "sample_sub.dtypes"
      ],
      "execution_count": null,
      "outputs": [
        {
          "output_type": "execute_result",
          "data": {
            "text/plain": [
              "id        object\n",
              "target     int64\n",
              "dtype: object"
            ]
          },
          "metadata": {},
          "execution_count": 120
        }
      ]
    },
    {
      "cell_type": "markdown",
      "metadata": {
        "id": "hzdpkBDEsSN8"
      },
      "source": [
        "## Convert id's"
      ]
    },
    {
      "cell_type": "code",
      "metadata": {
        "colab": {
          "base_uri": "https://localhost:8080/",
          "height": 202
        },
        "id": "V5L6pwSEo9yj",
        "outputId": "91f87623-acdd-40eb-e702-ca81d510c154"
      },
      "source": [
        "df_count.head()"
      ],
      "execution_count": null,
      "outputs": [
        {
          "output_type": "execute_result",
          "data": {
            "text/html": [
              "<div>\n",
              "<style scoped>\n",
              "    .dataframe tbody tr th:only-of-type {\n",
              "        vertical-align: middle;\n",
              "    }\n",
              "\n",
              "    .dataframe tbody tr th {\n",
              "        vertical-align: top;\n",
              "    }\n",
              "\n",
              "    .dataframe thead th {\n",
              "        text-align: right;\n",
              "    }\n",
              "</style>\n",
              "<table border=\"1\" class=\"dataframe\">\n",
              "  <thead>\n",
              "    <tr style=\"text-align: right;\">\n",
              "      <th></th>\n",
              "      <th>user_id</th>\n",
              "      <th>cart</th>\n",
              "      <th>count</th>\n",
              "      <th>P</th>\n",
              "      <th>target</th>\n",
              "    </tr>\n",
              "  </thead>\n",
              "  <tbody>\n",
              "    <tr>\n",
              "      <th>0</th>\n",
              "      <td>0</td>\n",
              "      <td>5</td>\n",
              "      <td>1</td>\n",
              "      <td>0.027778</td>\n",
              "      <td>0</td>\n",
              "    </tr>\n",
              "    <tr>\n",
              "      <th>1</th>\n",
              "      <td>0</td>\n",
              "      <td>10</td>\n",
              "      <td>1</td>\n",
              "      <td>0.027778</td>\n",
              "      <td>0</td>\n",
              "    </tr>\n",
              "    <tr>\n",
              "      <th>2</th>\n",
              "      <td>0</td>\n",
              "      <td>14</td>\n",
              "      <td>2</td>\n",
              "      <td>0.055556</td>\n",
              "      <td>1</td>\n",
              "    </tr>\n",
              "    <tr>\n",
              "      <th>3</th>\n",
              "      <td>0</td>\n",
              "      <td>20</td>\n",
              "      <td>1</td>\n",
              "      <td>0.027778</td>\n",
              "      <td>0</td>\n",
              "    </tr>\n",
              "    <tr>\n",
              "      <th>4</th>\n",
              "      <td>0</td>\n",
              "      <td>22</td>\n",
              "      <td>1</td>\n",
              "      <td>0.027778</td>\n",
              "      <td>0</td>\n",
              "    </tr>\n",
              "  </tbody>\n",
              "</table>\n",
              "</div>"
            ],
            "text/plain": [
              "   user_id  cart  count         P  target\n",
              "0        0     5      1  0.027778       0\n",
              "1        0    10      1  0.027778       0\n",
              "2        0    14      2  0.055556       1\n",
              "3        0    20      1  0.027778       0\n",
              "4        0    22      1  0.027778       0"
            ]
          },
          "metadata": {},
          "execution_count": 121
        }
      ]
    },
    {
      "cell_type": "code",
      "metadata": {
        "colab": {
          "base_uri": "https://localhost:8080/",
          "height": 415
        },
        "id": "eY6eRiUMnypI",
        "outputId": "892818f8-467f-475b-cb2a-e068edffa271"
      },
      "source": [
        "final_df = df_count\n",
        "final_df"
      ],
      "execution_count": null,
      "outputs": [
        {
          "output_type": "execute_result",
          "data": {
            "text/html": [
              "<div>\n",
              "<style scoped>\n",
              "    .dataframe tbody tr th:only-of-type {\n",
              "        vertical-align: middle;\n",
              "    }\n",
              "\n",
              "    .dataframe tbody tr th {\n",
              "        vertical-align: top;\n",
              "    }\n",
              "\n",
              "    .dataframe thead th {\n",
              "        text-align: right;\n",
              "    }\n",
              "</style>\n",
              "<table border=\"1\" class=\"dataframe\">\n",
              "  <thead>\n",
              "    <tr style=\"text-align: right;\">\n",
              "      <th></th>\n",
              "      <th>user_id</th>\n",
              "      <th>cart</th>\n",
              "      <th>count</th>\n",
              "      <th>P</th>\n",
              "      <th>target</th>\n",
              "    </tr>\n",
              "  </thead>\n",
              "  <tbody>\n",
              "    <tr>\n",
              "      <th>0</th>\n",
              "      <td>0</td>\n",
              "      <td>5</td>\n",
              "      <td>1</td>\n",
              "      <td>0.027778</td>\n",
              "      <td>0</td>\n",
              "    </tr>\n",
              "    <tr>\n",
              "      <th>1</th>\n",
              "      <td>0</td>\n",
              "      <td>10</td>\n",
              "      <td>1</td>\n",
              "      <td>0.027778</td>\n",
              "      <td>0</td>\n",
              "    </tr>\n",
              "    <tr>\n",
              "      <th>2</th>\n",
              "      <td>0</td>\n",
              "      <td>14</td>\n",
              "      <td>2</td>\n",
              "      <td>0.055556</td>\n",
              "      <td>1</td>\n",
              "    </tr>\n",
              "    <tr>\n",
              "      <th>3</th>\n",
              "      <td>0</td>\n",
              "      <td>20</td>\n",
              "      <td>1</td>\n",
              "      <td>0.027778</td>\n",
              "      <td>0</td>\n",
              "    </tr>\n",
              "    <tr>\n",
              "      <th>4</th>\n",
              "      <td>0</td>\n",
              "      <td>22</td>\n",
              "      <td>1</td>\n",
              "      <td>0.027778</td>\n",
              "      <td>0</td>\n",
              "    </tr>\n",
              "    <tr>\n",
              "      <th>...</th>\n",
              "      <td>...</td>\n",
              "      <td>...</td>\n",
              "      <td>...</td>\n",
              "      <td>...</td>\n",
              "      <td>...</td>\n",
              "    </tr>\n",
              "    <tr>\n",
              "      <th>1117595</th>\n",
              "      <td>19998</td>\n",
              "      <td>409</td>\n",
              "      <td>1</td>\n",
              "      <td>0.076923</td>\n",
              "      <td>0</td>\n",
              "    </tr>\n",
              "    <tr>\n",
              "      <th>1117596</th>\n",
              "      <td>19998</td>\n",
              "      <td>415</td>\n",
              "      <td>2</td>\n",
              "      <td>0.153846</td>\n",
              "      <td>1</td>\n",
              "    </tr>\n",
              "    <tr>\n",
              "      <th>1117597</th>\n",
              "      <td>19998</td>\n",
              "      <td>420</td>\n",
              "      <td>2</td>\n",
              "      <td>0.153846</td>\n",
              "      <td>1</td>\n",
              "    </tr>\n",
              "    <tr>\n",
              "      <th>1117598</th>\n",
              "      <td>19998</td>\n",
              "      <td>798</td>\n",
              "      <td>1</td>\n",
              "      <td>0.076923</td>\n",
              "      <td>0</td>\n",
              "    </tr>\n",
              "    <tr>\n",
              "      <th>1117599</th>\n",
              "      <td>19999</td>\n",
              "      <td>326</td>\n",
              "      <td>3</td>\n",
              "      <td>1.000000</td>\n",
              "      <td>1</td>\n",
              "    </tr>\n",
              "  </tbody>\n",
              "</table>\n",
              "<p>1117600 rows × 5 columns</p>\n",
              "</div>"
            ],
            "text/plain": [
              "         user_id  cart  count         P  target\n",
              "0              0     5      1  0.027778       0\n",
              "1              0    10      1  0.027778       0\n",
              "2              0    14      2  0.055556       1\n",
              "3              0    20      1  0.027778       0\n",
              "4              0    22      1  0.027778       0\n",
              "...          ...   ...    ...       ...     ...\n",
              "1117595    19998   409      1  0.076923       0\n",
              "1117596    19998   415      2  0.153846       1\n",
              "1117597    19998   420      2  0.153846       1\n",
              "1117598    19998   798      1  0.076923       0\n",
              "1117599    19999   326      3  1.000000       1\n",
              "\n",
              "[1117600 rows x 5 columns]"
            ]
          },
          "metadata": {},
          "execution_count": 122
        }
      ]
    },
    {
      "cell_type": "code",
      "metadata": {
        "colab": {
          "base_uri": "https://localhost:8080/",
          "height": 202
        },
        "id": "upOTUpCvnCMx",
        "outputId": "057bd513-6a59-47e7-8fe9-414a0d6caa92"
      },
      "source": [
        "final_df['id'] = final_df.user_id.astype(str) + ';' + final_df.cart.astype(str)\n",
        "final_df.head()"
      ],
      "execution_count": null,
      "outputs": [
        {
          "output_type": "execute_result",
          "data": {
            "text/html": [
              "<div>\n",
              "<style scoped>\n",
              "    .dataframe tbody tr th:only-of-type {\n",
              "        vertical-align: middle;\n",
              "    }\n",
              "\n",
              "    .dataframe tbody tr th {\n",
              "        vertical-align: top;\n",
              "    }\n",
              "\n",
              "    .dataframe thead th {\n",
              "        text-align: right;\n",
              "    }\n",
              "</style>\n",
              "<table border=\"1\" class=\"dataframe\">\n",
              "  <thead>\n",
              "    <tr style=\"text-align: right;\">\n",
              "      <th></th>\n",
              "      <th>user_id</th>\n",
              "      <th>cart</th>\n",
              "      <th>count</th>\n",
              "      <th>P</th>\n",
              "      <th>target</th>\n",
              "      <th>id</th>\n",
              "    </tr>\n",
              "  </thead>\n",
              "  <tbody>\n",
              "    <tr>\n",
              "      <th>0</th>\n",
              "      <td>0</td>\n",
              "      <td>5</td>\n",
              "      <td>1</td>\n",
              "      <td>0.027778</td>\n",
              "      <td>0</td>\n",
              "      <td>0;5</td>\n",
              "    </tr>\n",
              "    <tr>\n",
              "      <th>1</th>\n",
              "      <td>0</td>\n",
              "      <td>10</td>\n",
              "      <td>1</td>\n",
              "      <td>0.027778</td>\n",
              "      <td>0</td>\n",
              "      <td>0;10</td>\n",
              "    </tr>\n",
              "    <tr>\n",
              "      <th>2</th>\n",
              "      <td>0</td>\n",
              "      <td>14</td>\n",
              "      <td>2</td>\n",
              "      <td>0.055556</td>\n",
              "      <td>1</td>\n",
              "      <td>0;14</td>\n",
              "    </tr>\n",
              "    <tr>\n",
              "      <th>3</th>\n",
              "      <td>0</td>\n",
              "      <td>20</td>\n",
              "      <td>1</td>\n",
              "      <td>0.027778</td>\n",
              "      <td>0</td>\n",
              "      <td>0;20</td>\n",
              "    </tr>\n",
              "    <tr>\n",
              "      <th>4</th>\n",
              "      <td>0</td>\n",
              "      <td>22</td>\n",
              "      <td>1</td>\n",
              "      <td>0.027778</td>\n",
              "      <td>0</td>\n",
              "      <td>0;22</td>\n",
              "    </tr>\n",
              "  </tbody>\n",
              "</table>\n",
              "</div>"
            ],
            "text/plain": [
              "   user_id  cart  count         P  target    id\n",
              "0        0     5      1  0.027778       0   0;5\n",
              "1        0    10      1  0.027778       0  0;10\n",
              "2        0    14      2  0.055556       1  0;14\n",
              "3        0    20      1  0.027778       0  0;20\n",
              "4        0    22      1  0.027778       0  0;22"
            ]
          },
          "metadata": {},
          "execution_count": 123
        }
      ]
    },
    {
      "cell_type": "code",
      "metadata": {
        "colab": {
          "base_uri": "https://localhost:8080/",
          "height": 202
        },
        "id": "rdebwbP-po51",
        "outputId": "127452a9-e1a5-4ee7-8e90-99ee5af24c8f"
      },
      "source": [
        "final_df = final_df.drop('user_id', axis=1)\n",
        "final_df = final_df.drop('cart', axis=1)\n",
        "final_df = final_df.drop('count', axis=1)\n",
        "final_df = final_df.drop('P', axis=1)\n",
        "final_df.head()"
      ],
      "execution_count": null,
      "outputs": [
        {
          "output_type": "execute_result",
          "data": {
            "text/html": [
              "<div>\n",
              "<style scoped>\n",
              "    .dataframe tbody tr th:only-of-type {\n",
              "        vertical-align: middle;\n",
              "    }\n",
              "\n",
              "    .dataframe tbody tr th {\n",
              "        vertical-align: top;\n",
              "    }\n",
              "\n",
              "    .dataframe thead th {\n",
              "        text-align: right;\n",
              "    }\n",
              "</style>\n",
              "<table border=\"1\" class=\"dataframe\">\n",
              "  <thead>\n",
              "    <tr style=\"text-align: right;\">\n",
              "      <th></th>\n",
              "      <th>target</th>\n",
              "      <th>id</th>\n",
              "    </tr>\n",
              "  </thead>\n",
              "  <tbody>\n",
              "    <tr>\n",
              "      <th>0</th>\n",
              "      <td>0</td>\n",
              "      <td>0;5</td>\n",
              "    </tr>\n",
              "    <tr>\n",
              "      <th>1</th>\n",
              "      <td>0</td>\n",
              "      <td>0;10</td>\n",
              "    </tr>\n",
              "    <tr>\n",
              "      <th>2</th>\n",
              "      <td>1</td>\n",
              "      <td>0;14</td>\n",
              "    </tr>\n",
              "    <tr>\n",
              "      <th>3</th>\n",
              "      <td>0</td>\n",
              "      <td>0;20</td>\n",
              "    </tr>\n",
              "    <tr>\n",
              "      <th>4</th>\n",
              "      <td>0</td>\n",
              "      <td>0;22</td>\n",
              "    </tr>\n",
              "  </tbody>\n",
              "</table>\n",
              "</div>"
            ],
            "text/plain": [
              "   target    id\n",
              "0       0   0;5\n",
              "1       0  0;10\n",
              "2       1  0;14\n",
              "3       0  0;20\n",
              "4       0  0;22"
            ]
          },
          "metadata": {},
          "execution_count": 124
        }
      ]
    },
    {
      "cell_type": "code",
      "metadata": {
        "id": "KhCjTNMaqk9g"
      },
      "source": [
        "columns_titles = ['id','target']\n",
        "final_df=final_df.reindex(columns=columns_titles)"
      ],
      "execution_count": null,
      "outputs": []
    },
    {
      "cell_type": "code",
      "metadata": {
        "colab": {
          "base_uri": "https://localhost:8080/",
          "height": 202
        },
        "id": "WgWfOwtOsuOh",
        "outputId": "5d9c45fd-3167-4279-c8ba-a138747e87e0"
      },
      "source": [
        "final_df.head()"
      ],
      "execution_count": null,
      "outputs": [
        {
          "output_type": "execute_result",
          "data": {
            "text/html": [
              "<div>\n",
              "<style scoped>\n",
              "    .dataframe tbody tr th:only-of-type {\n",
              "        vertical-align: middle;\n",
              "    }\n",
              "\n",
              "    .dataframe tbody tr th {\n",
              "        vertical-align: top;\n",
              "    }\n",
              "\n",
              "    .dataframe thead th {\n",
              "        text-align: right;\n",
              "    }\n",
              "</style>\n",
              "<table border=\"1\" class=\"dataframe\">\n",
              "  <thead>\n",
              "    <tr style=\"text-align: right;\">\n",
              "      <th></th>\n",
              "      <th>id</th>\n",
              "      <th>target</th>\n",
              "    </tr>\n",
              "  </thead>\n",
              "  <tbody>\n",
              "    <tr>\n",
              "      <th>0</th>\n",
              "      <td>0;5</td>\n",
              "      <td>0</td>\n",
              "    </tr>\n",
              "    <tr>\n",
              "      <th>1</th>\n",
              "      <td>0;10</td>\n",
              "      <td>0</td>\n",
              "    </tr>\n",
              "    <tr>\n",
              "      <th>2</th>\n",
              "      <td>0;14</td>\n",
              "      <td>1</td>\n",
              "    </tr>\n",
              "    <tr>\n",
              "      <th>3</th>\n",
              "      <td>0;20</td>\n",
              "      <td>0</td>\n",
              "    </tr>\n",
              "    <tr>\n",
              "      <th>4</th>\n",
              "      <td>0;22</td>\n",
              "      <td>0</td>\n",
              "    </tr>\n",
              "  </tbody>\n",
              "</table>\n",
              "</div>"
            ],
            "text/plain": [
              "     id  target\n",
              "0   0;5       0\n",
              "1  0;10       0\n",
              "2  0;14       1\n",
              "3  0;20       0\n",
              "4  0;22       0"
            ]
          },
          "metadata": {},
          "execution_count": 126
        }
      ]
    },
    {
      "cell_type": "code",
      "metadata": {
        "colab": {
          "base_uri": "https://localhost:8080/"
        },
        "id": "ESI4haOwrZNd",
        "outputId": "eac2f770-6d72-4529-846b-3963c126a42f"
      },
      "source": [
        "final_df.dtypes"
      ],
      "execution_count": null,
      "outputs": [
        {
          "output_type": "execute_result",
          "data": {
            "text/plain": [
              "id        object\n",
              "target     int64\n",
              "dtype: object"
            ]
          },
          "metadata": {},
          "execution_count": 127
        }
      ]
    },
    {
      "cell_type": "markdown",
      "metadata": {
        "id": "xSMuw5Durb0v"
      },
      "source": [
        "## left joint"
      ]
    },
    {
      "cell_type": "code",
      "metadata": {
        "colab": {
          "base_uri": "https://localhost:8080/",
          "height": 415
        },
        "id": "63wlV2Jfsg_w",
        "outputId": "3b1e320e-c3cb-478c-8e75-532a8abe09f4"
      },
      "source": [
        "load_df = sample_sub.merge(final_df, on='id', how='left')\n",
        "load_df"
      ],
      "execution_count": null,
      "outputs": [
        {
          "output_type": "execute_result",
          "data": {
            "text/html": [
              "<div>\n",
              "<style scoped>\n",
              "    .dataframe tbody tr th:only-of-type {\n",
              "        vertical-align: middle;\n",
              "    }\n",
              "\n",
              "    .dataframe tbody tr th {\n",
              "        vertical-align: top;\n",
              "    }\n",
              "\n",
              "    .dataframe thead th {\n",
              "        text-align: right;\n",
              "    }\n",
              "</style>\n",
              "<table border=\"1\" class=\"dataframe\">\n",
              "  <thead>\n",
              "    <tr style=\"text-align: right;\">\n",
              "      <th></th>\n",
              "      <th>id</th>\n",
              "      <th>target_x</th>\n",
              "      <th>target_y</th>\n",
              "    </tr>\n",
              "  </thead>\n",
              "  <tbody>\n",
              "    <tr>\n",
              "      <th>0</th>\n",
              "      <td>0;133</td>\n",
              "      <td>0</td>\n",
              "      <td>0</td>\n",
              "    </tr>\n",
              "    <tr>\n",
              "      <th>1</th>\n",
              "      <td>0;5</td>\n",
              "      <td>1</td>\n",
              "      <td>0</td>\n",
              "    </tr>\n",
              "    <tr>\n",
              "      <th>2</th>\n",
              "      <td>0;10</td>\n",
              "      <td>0</td>\n",
              "      <td>0</td>\n",
              "    </tr>\n",
              "    <tr>\n",
              "      <th>3</th>\n",
              "      <td>0;396</td>\n",
              "      <td>1</td>\n",
              "      <td>0</td>\n",
              "    </tr>\n",
              "    <tr>\n",
              "      <th>4</th>\n",
              "      <td>0;14</td>\n",
              "      <td>0</td>\n",
              "      <td>1</td>\n",
              "    </tr>\n",
              "    <tr>\n",
              "      <th>...</th>\n",
              "      <td>...</td>\n",
              "      <td>...</td>\n",
              "      <td>...</td>\n",
              "    </tr>\n",
              "    <tr>\n",
              "      <th>790444</th>\n",
              "      <td>19998;26</td>\n",
              "      <td>0</td>\n",
              "      <td>0</td>\n",
              "    </tr>\n",
              "    <tr>\n",
              "      <th>790445</th>\n",
              "      <td>19998;31</td>\n",
              "      <td>0</td>\n",
              "      <td>0</td>\n",
              "    </tr>\n",
              "    <tr>\n",
              "      <th>790446</th>\n",
              "      <td>19998;29</td>\n",
              "      <td>1</td>\n",
              "      <td>0</td>\n",
              "    </tr>\n",
              "    <tr>\n",
              "      <th>790447</th>\n",
              "      <td>19998;798</td>\n",
              "      <td>1</td>\n",
              "      <td>0</td>\n",
              "    </tr>\n",
              "    <tr>\n",
              "      <th>790448</th>\n",
              "      <td>19998;415</td>\n",
              "      <td>1</td>\n",
              "      <td>1</td>\n",
              "    </tr>\n",
              "  </tbody>\n",
              "</table>\n",
              "<p>790449 rows × 3 columns</p>\n",
              "</div>"
            ],
            "text/plain": [
              "               id  target_x  target_y\n",
              "0           0;133         0         0\n",
              "1             0;5         1         0\n",
              "2            0;10         0         0\n",
              "3           0;396         1         0\n",
              "4            0;14         0         1\n",
              "...           ...       ...       ...\n",
              "790444   19998;26         0         0\n",
              "790445   19998;31         0         0\n",
              "790446   19998;29         1         0\n",
              "790447  19998;798         1         0\n",
              "790448  19998;415         1         1\n",
              "\n",
              "[790449 rows x 3 columns]"
            ]
          },
          "metadata": {},
          "execution_count": 128
        }
      ]
    },
    {
      "cell_type": "code",
      "metadata": {
        "colab": {
          "base_uri": "https://localhost:8080/",
          "height": 415
        },
        "id": "obZIV8H-ucJ8",
        "outputId": "064c35ad-40ff-472e-f8a9-2ae02ae91ec7"
      },
      "source": [
        "load_df = load_df.drop('target_x', axis = 1)\n",
        "load_df"
      ],
      "execution_count": null,
      "outputs": [
        {
          "output_type": "execute_result",
          "data": {
            "text/html": [
              "<div>\n",
              "<style scoped>\n",
              "    .dataframe tbody tr th:only-of-type {\n",
              "        vertical-align: middle;\n",
              "    }\n",
              "\n",
              "    .dataframe tbody tr th {\n",
              "        vertical-align: top;\n",
              "    }\n",
              "\n",
              "    .dataframe thead th {\n",
              "        text-align: right;\n",
              "    }\n",
              "</style>\n",
              "<table border=\"1\" class=\"dataframe\">\n",
              "  <thead>\n",
              "    <tr style=\"text-align: right;\">\n",
              "      <th></th>\n",
              "      <th>id</th>\n",
              "      <th>target</th>\n",
              "    </tr>\n",
              "  </thead>\n",
              "  <tbody>\n",
              "    <tr>\n",
              "      <th>0</th>\n",
              "      <td>0;133</td>\n",
              "      <td>0</td>\n",
              "    </tr>\n",
              "    <tr>\n",
              "      <th>1</th>\n",
              "      <td>0;5</td>\n",
              "      <td>0</td>\n",
              "    </tr>\n",
              "    <tr>\n",
              "      <th>2</th>\n",
              "      <td>0;10</td>\n",
              "      <td>0</td>\n",
              "    </tr>\n",
              "    <tr>\n",
              "      <th>3</th>\n",
              "      <td>0;396</td>\n",
              "      <td>0</td>\n",
              "    </tr>\n",
              "    <tr>\n",
              "      <th>4</th>\n",
              "      <td>0;14</td>\n",
              "      <td>1</td>\n",
              "    </tr>\n",
              "    <tr>\n",
              "      <th>...</th>\n",
              "      <td>...</td>\n",
              "      <td>...</td>\n",
              "    </tr>\n",
              "    <tr>\n",
              "      <th>790444</th>\n",
              "      <td>19998;26</td>\n",
              "      <td>0</td>\n",
              "    </tr>\n",
              "    <tr>\n",
              "      <th>790445</th>\n",
              "      <td>19998;31</td>\n",
              "      <td>0</td>\n",
              "    </tr>\n",
              "    <tr>\n",
              "      <th>790446</th>\n",
              "      <td>19998;29</td>\n",
              "      <td>0</td>\n",
              "    </tr>\n",
              "    <tr>\n",
              "      <th>790447</th>\n",
              "      <td>19998;798</td>\n",
              "      <td>0</td>\n",
              "    </tr>\n",
              "    <tr>\n",
              "      <th>790448</th>\n",
              "      <td>19998;415</td>\n",
              "      <td>1</td>\n",
              "    </tr>\n",
              "  </tbody>\n",
              "</table>\n",
              "<p>790449 rows × 2 columns</p>\n",
              "</div>"
            ],
            "text/plain": [
              "               id  target\n",
              "0           0;133       0\n",
              "1             0;5       0\n",
              "2            0;10       0\n",
              "3           0;396       0\n",
              "4            0;14       1\n",
              "...           ...     ...\n",
              "790444   19998;26       0\n",
              "790445   19998;31       0\n",
              "790446   19998;29       0\n",
              "790447  19998;798       0\n",
              "790448  19998;415       1\n",
              "\n",
              "[790449 rows x 2 columns]"
            ]
          },
          "metadata": {},
          "execution_count": 130
        }
      ]
    },
    {
      "cell_type": "code",
      "metadata": {
        "colab": {
          "base_uri": "https://localhost:8080/",
          "height": 415
        },
        "id": "Z57QFRxCuvya",
        "outputId": "910d9a5e-13d8-49f0-8213-a14b37555b0e"
      },
      "source": [
        "load_df.rename(columns={'target_y': 'target'}, inplace=True)\n",
        "load_df"
      ],
      "execution_count": null,
      "outputs": [
        {
          "output_type": "execute_result",
          "data": {
            "text/html": [
              "<div>\n",
              "<style scoped>\n",
              "    .dataframe tbody tr th:only-of-type {\n",
              "        vertical-align: middle;\n",
              "    }\n",
              "\n",
              "    .dataframe tbody tr th {\n",
              "        vertical-align: top;\n",
              "    }\n",
              "\n",
              "    .dataframe thead th {\n",
              "        text-align: right;\n",
              "    }\n",
              "</style>\n",
              "<table border=\"1\" class=\"dataframe\">\n",
              "  <thead>\n",
              "    <tr style=\"text-align: right;\">\n",
              "      <th></th>\n",
              "      <th>id</th>\n",
              "      <th>target</th>\n",
              "    </tr>\n",
              "  </thead>\n",
              "  <tbody>\n",
              "    <tr>\n",
              "      <th>0</th>\n",
              "      <td>0;133</td>\n",
              "      <td>0</td>\n",
              "    </tr>\n",
              "    <tr>\n",
              "      <th>1</th>\n",
              "      <td>0;5</td>\n",
              "      <td>0</td>\n",
              "    </tr>\n",
              "    <tr>\n",
              "      <th>2</th>\n",
              "      <td>0;10</td>\n",
              "      <td>0</td>\n",
              "    </tr>\n",
              "    <tr>\n",
              "      <th>3</th>\n",
              "      <td>0;396</td>\n",
              "      <td>0</td>\n",
              "    </tr>\n",
              "    <tr>\n",
              "      <th>4</th>\n",
              "      <td>0;14</td>\n",
              "      <td>1</td>\n",
              "    </tr>\n",
              "    <tr>\n",
              "      <th>...</th>\n",
              "      <td>...</td>\n",
              "      <td>...</td>\n",
              "    </tr>\n",
              "    <tr>\n",
              "      <th>790444</th>\n",
              "      <td>19998;26</td>\n",
              "      <td>0</td>\n",
              "    </tr>\n",
              "    <tr>\n",
              "      <th>790445</th>\n",
              "      <td>19998;31</td>\n",
              "      <td>0</td>\n",
              "    </tr>\n",
              "    <tr>\n",
              "      <th>790446</th>\n",
              "      <td>19998;29</td>\n",
              "      <td>0</td>\n",
              "    </tr>\n",
              "    <tr>\n",
              "      <th>790447</th>\n",
              "      <td>19998;798</td>\n",
              "      <td>0</td>\n",
              "    </tr>\n",
              "    <tr>\n",
              "      <th>790448</th>\n",
              "      <td>19998;415</td>\n",
              "      <td>1</td>\n",
              "    </tr>\n",
              "  </tbody>\n",
              "</table>\n",
              "<p>790449 rows × 2 columns</p>\n",
              "</div>"
            ],
            "text/plain": [
              "               id  target\n",
              "0           0;133       0\n",
              "1             0;5       0\n",
              "2            0;10       0\n",
              "3           0;396       0\n",
              "4            0;14       1\n",
              "...           ...     ...\n",
              "790444   19998;26       0\n",
              "790445   19998;31       0\n",
              "790446   19998;29       0\n",
              "790447  19998;798       0\n",
              "790448  19998;415       1\n",
              "\n",
              "[790449 rows x 2 columns]"
            ]
          },
          "metadata": {},
          "execution_count": 131
        }
      ]
    },
    {
      "cell_type": "code",
      "metadata": {
        "id": "26REI8IXvSCz"
      },
      "source": [
        "load_df.to_csv(\"/content/drive/MyDrive/Colab_Notebooks/outputs/sample_submission.csv\", index=False)"
      ],
      "execution_count": null,
      "outputs": []
    }
  ]
}