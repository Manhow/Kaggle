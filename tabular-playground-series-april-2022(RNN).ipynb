{
 "cells": [
  {
   "cell_type": "markdown",
   "id": "c2ca9ca4",
   "metadata": {},
   "source": [
    "# Tabular Playground Series - Apr 2022"
   ]
  },
  {
   "cell_type": "markdown",
   "id": "ee52f38d",
   "metadata": {},
   "source": [
    "In this competition, you'll classify 60-second sequences of sensor data, indicating whether a subject was in either of two activity states for the duration of the sequence.\n",
    "\n",
    "1. **train.csv** - the training set, comprising ~26,000 60-second recordings of thirteen biological sensors for almost one thousand experimental participants\n",
    "* `sequence` - a unique id for each sequence\n",
    "* `subject` - a unique id for the subject in the experiment\n",
    "* `step` - time step of the recording, in one second intervals\n",
    "* `sensor_00` - sensor_12 - the value for each of the thirteen sensors at that time step\n",
    "\n",
    "2. **train_labels.csv** - the class label for each sequence.\n",
    "* `sequence` - the unique id for each sequence.\n",
    "* `state` - the state associated to each sequence. This is the `target` which you are trying to predict.\n",
    "\n",
    "3. **test.csv** - the test set. For each of the ~12,000 sequences, you should predict a value for that sequence's state.\n",
    "4. **sample_submission.csv** - a sample submission file in the correct format."
   ]
  },
  {
   "cell_type": "markdown",
   "id": "06d621d9",
   "metadata": {},
   "source": [
    "# Data overview"
   ]
  },
  {
   "cell_type": "code",
   "execution_count": 1,
   "id": "2b5c1f6a",
   "metadata": {
    "ExecuteTime": {
     "end_time": "2022-04-02T15:16:20.657859Z",
     "start_time": "2022-04-02T15:16:06.825271Z"
    }
   },
   "outputs": [
    {
     "name": "stdout",
     "output_type": "stream",
     "text": [
      "Train Shape: (1558080, 16)\n",
      "Missing Data: 0\n",
      "Duplicates: 0\n",
      "Memory usage: 190.0\n",
      "\n",
      "Test Shape: (733080, 16)\n",
      "Missing Data: 0\n",
      "Duplicates: 0\n",
      "Memory usage: 89.487\n",
      "\n",
      "No duplicates\n"
     ]
    }
   ],
   "source": [
    "# Import all the tools\n",
    "import warnings\n",
    "from tqdm import tqdm_notebook\n",
    "import seaborn as sns\n",
    "from plotly.offline import init_notebook_mode\n",
    "import matplotlib.pyplot as plt\n",
    "import plotly.graph_objects as go\n",
    "import plotly.express as px\n",
    "import os  # access to folder\n",
    "from os import path\n",
    "import pandas as pd\n",
    "import numpy as np\n",
    "from tqdm.notebook import tqdm\n",
    "import tensorflow as tf\n",
    "import time\n",
    "import logging\n",
    "import gc\n",
    "\n",
    "from tensorflow.keras.layers import *\n",
    "from tensorflow.keras import *\n",
    "from tensorflow.keras.callbacks import *\n",
    "from sklearn.model_selection import KFold\n",
    "from tensorflow.keras.metrics import AUC\n",
    "from sklearn.model_selection import train_test_split\n",
    "# from sklearn.impute import IterativeImputer\n",
    "warnings.filterwarnings(\"ignore\")\n",
    "\n",
    "cwd = os.getcwd()\n",
    "cwd = cwd.replace('\\\\', '/')\n",
    "\n",
    "train = pd.read_csv(cwd + \"/tab_April/train.csv\")\n",
    "train_labels = pd.read_csv(cwd + \"/tab_April/train_labels.csv\")\n",
    "test = pd.read_csv(cwd + \"/tab_April/test.csv\")\n",
    "sub = pd.read_csv(cwd + \"/tab_April/sample_submission.csv\")\n",
    "\n",
    "# plots inside the notebook\n",
    "%matplotlib inline\n",
    "print('Train Shape: {}\\nMissing Data: {}\\nDuplicates: {}\\nMemory usage: {}\\n'.format(\n",
    "    train.shape, train.isna().sum().sum(), train.duplicated().sum(), np.around(train.memory_usage().sum() / 1024**2), 2))\n",
    "print('Test Shape: {}\\nMissing Data: {}\\nDuplicates: {}\\nMemory usage: {}\\n'.format(\n",
    "    test.shape, test.isna().sum().sum(), test.duplicated().sum(), np.around(test.memory_usage().sum() / 1024**2, 3)))\n",
    "\n",
    "# remove duplicates from train\n",
    "train_d = train.drop_duplicates()\n",
    "\n",
    "if train.shape == train_d.shape:\n",
    "    print('No duplicates')\n",
    "else:\n",
    "    print('Dropping Duplicates\\nNew Train Shape: {}'.format(train_d.shape))\n",
    "\n",
    "df_data = pd.concat([train_d, test])"
   ]
  },
  {
   "cell_type": "code",
   "execution_count": 2,
   "id": "86c1db52",
   "metadata": {
    "ExecuteTime": {
     "end_time": "2022-04-02T15:16:20.687895Z",
     "start_time": "2022-04-02T15:16:20.658865Z"
    }
   },
   "outputs": [
    {
     "data": {
      "text/html": [
       "<div>\n",
       "<style scoped>\n",
       "    .dataframe tbody tr th:only-of-type {\n",
       "        vertical-align: middle;\n",
       "    }\n",
       "\n",
       "    .dataframe tbody tr th {\n",
       "        vertical-align: top;\n",
       "    }\n",
       "\n",
       "    .dataframe thead th {\n",
       "        text-align: right;\n",
       "    }\n",
       "</style>\n",
       "<table border=\"1\" class=\"dataframe\">\n",
       "  <thead>\n",
       "    <tr style=\"text-align: right;\">\n",
       "      <th></th>\n",
       "      <th>sequence</th>\n",
       "      <th>subject</th>\n",
       "      <th>step</th>\n",
       "      <th>sensor_00</th>\n",
       "      <th>sensor_01</th>\n",
       "      <th>sensor_02</th>\n",
       "      <th>sensor_03</th>\n",
       "      <th>sensor_04</th>\n",
       "      <th>sensor_05</th>\n",
       "      <th>sensor_06</th>\n",
       "      <th>sensor_07</th>\n",
       "      <th>sensor_08</th>\n",
       "      <th>sensor_09</th>\n",
       "      <th>sensor_10</th>\n",
       "      <th>sensor_11</th>\n",
       "      <th>sensor_12</th>\n",
       "    </tr>\n",
       "  </thead>\n",
       "  <tbody>\n",
       "    <tr>\n",
       "      <th>0</th>\n",
       "      <td>0</td>\n",
       "      <td>47</td>\n",
       "      <td>0</td>\n",
       "      <td>-0.196291</td>\n",
       "      <td>0.112395</td>\n",
       "      <td>1.0</td>\n",
       "      <td>0.329204</td>\n",
       "      <td>-1.004660</td>\n",
       "      <td>-0.131638</td>\n",
       "      <td>-0.127505</td>\n",
       "      <td>0.368702</td>\n",
       "      <td>-0.1</td>\n",
       "      <td>-0.963873</td>\n",
       "      <td>-0.985069</td>\n",
       "      <td>0.531893</td>\n",
       "      <td>4.751492</td>\n",
       "    </tr>\n",
       "    <tr>\n",
       "      <th>1</th>\n",
       "      <td>0</td>\n",
       "      <td>47</td>\n",
       "      <td>1</td>\n",
       "      <td>-0.447450</td>\n",
       "      <td>0.134454</td>\n",
       "      <td>1.0</td>\n",
       "      <td>-0.658407</td>\n",
       "      <td>0.162495</td>\n",
       "      <td>0.340314</td>\n",
       "      <td>-0.209472</td>\n",
       "      <td>-0.867176</td>\n",
       "      <td>0.2</td>\n",
       "      <td>-0.301301</td>\n",
       "      <td>0.082733</td>\n",
       "      <td>-0.231481</td>\n",
       "      <td>0.454390</td>\n",
       "    </tr>\n",
       "    <tr>\n",
       "      <th>2</th>\n",
       "      <td>0</td>\n",
       "      <td>47</td>\n",
       "      <td>2</td>\n",
       "      <td>0.326893</td>\n",
       "      <td>-0.694328</td>\n",
       "      <td>1.0</td>\n",
       "      <td>0.330088</td>\n",
       "      <td>0.473678</td>\n",
       "      <td>1.280479</td>\n",
       "      <td>-0.094718</td>\n",
       "      <td>0.535878</td>\n",
       "      <td>1.4</td>\n",
       "      <td>1.002168</td>\n",
       "      <td>0.449221</td>\n",
       "      <td>-0.586420</td>\n",
       "      <td>-4.736147</td>\n",
       "    </tr>\n",
       "    <tr>\n",
       "      <th>3</th>\n",
       "      <td>0</td>\n",
       "      <td>47</td>\n",
       "      <td>3</td>\n",
       "      <td>0.523184</td>\n",
       "      <td>0.751050</td>\n",
       "      <td>1.0</td>\n",
       "      <td>0.976991</td>\n",
       "      <td>-0.563287</td>\n",
       "      <td>-0.720269</td>\n",
       "      <td>0.793260</td>\n",
       "      <td>0.951145</td>\n",
       "      <td>-0.3</td>\n",
       "      <td>-0.995665</td>\n",
       "      <td>-0.434290</td>\n",
       "      <td>1.344650</td>\n",
       "      <td>0.429241</td>\n",
       "    </tr>\n",
       "    <tr>\n",
       "      <th>4</th>\n",
       "      <td>0</td>\n",
       "      <td>47</td>\n",
       "      <td>4</td>\n",
       "      <td>0.272025</td>\n",
       "      <td>1.074580</td>\n",
       "      <td>1.0</td>\n",
       "      <td>-0.136283</td>\n",
       "      <td>0.398579</td>\n",
       "      <td>0.044877</td>\n",
       "      <td>0.560109</td>\n",
       "      <td>-0.541985</td>\n",
       "      <td>-0.9</td>\n",
       "      <td>1.055636</td>\n",
       "      <td>0.812631</td>\n",
       "      <td>0.123457</td>\n",
       "      <td>-0.223359</td>\n",
       "    </tr>\n",
       "  </tbody>\n",
       "</table>\n",
       "</div>"
      ],
      "text/plain": [
       "   sequence  subject  step  sensor_00  sensor_01  sensor_02  sensor_03  \\\n",
       "0         0       47     0  -0.196291   0.112395        1.0   0.329204   \n",
       "1         0       47     1  -0.447450   0.134454        1.0  -0.658407   \n",
       "2         0       47     2   0.326893  -0.694328        1.0   0.330088   \n",
       "3         0       47     3   0.523184   0.751050        1.0   0.976991   \n",
       "4         0       47     4   0.272025   1.074580        1.0  -0.136283   \n",
       "\n",
       "   sensor_04  sensor_05  sensor_06  sensor_07  sensor_08  sensor_09  \\\n",
       "0  -1.004660  -0.131638  -0.127505   0.368702       -0.1  -0.963873   \n",
       "1   0.162495   0.340314  -0.209472  -0.867176        0.2  -0.301301   \n",
       "2   0.473678   1.280479  -0.094718   0.535878        1.4   1.002168   \n",
       "3  -0.563287  -0.720269   0.793260   0.951145       -0.3  -0.995665   \n",
       "4   0.398579   0.044877   0.560109  -0.541985       -0.9   1.055636   \n",
       "\n",
       "   sensor_10  sensor_11  sensor_12  \n",
       "0  -0.985069   0.531893   4.751492  \n",
       "1   0.082733  -0.231481   0.454390  \n",
       "2   0.449221  -0.586420  -4.736147  \n",
       "3  -0.434290   1.344650   0.429241  \n",
       "4   0.812631   0.123457  -0.223359  "
      ]
     },
     "execution_count": 2,
     "metadata": {},
     "output_type": "execute_result"
    }
   ],
   "source": [
    "df_data.head(5)"
   ]
  },
  {
   "cell_type": "code",
   "execution_count": 3,
   "id": "e134a591",
   "metadata": {
    "ExecuteTime": {
     "end_time": "2022-04-02T15:16:20.703893Z",
     "start_time": "2022-04-02T15:16:20.689865Z"
    }
   },
   "outputs": [],
   "source": [
    "def reduce_mem_usage(df, verbose=True):\n",
    "    numerics = ['int8','int16', 'int32', 'int64', 'float16', 'float32', 'float64']\n",
    "    start_mem = df.memory_usage().sum() / 1024**2\n",
    "\n",
    "    for col in df.columns:\n",
    "        col_type = df[col].dtypes\n",
    "\n",
    "        if col_type in numerics:\n",
    "            c_min = df[col].min()\n",
    "            c_max = df[col].max()\n",
    "\n",
    "            if str(col_type)[:3] == 'int':\n",
    "                if c_min > np.iinfo(np.int8).min and c_max < np.iinfo(np.int8).max:\n",
    "                    df[col] = df[col].astype(np.int8)\n",
    "                elif c_min > np.iinfo(np.int16).min and c_max < np.iinfo(np.int16).max:\n",
    "                    df[col] = df[col].astype(np.int16)\n",
    "                elif c_min > np.iinfo(np.int32).min and c_max < np.iinfo(np.int32).max:\n",
    "                    df[col] = df[col].astype(np.int32)\n",
    "                elif c_min > np.iinfo(np.int64).min and c_max < np.iinfo(np.int64).max:\n",
    "                    df[col] = df[col].astype(np.int64)  \n",
    "            else:\n",
    "                if c_min > np.finfo(np.float32).min and c_max < np.finfo(np.float32).max:\n",
    "                    df[col] = df[col].astype(np.float32)\n",
    "                else:\n",
    "                    df[col] = df[col].astype(np.float64)\n",
    "\n",
    "    end_mem = df.memory_usage().sum() / 1024**2\n",
    "\n",
    "    if verbose:\n",
    "        print('Mem. usage decreased to {:5.2f} Mb ({:.1f}% reduction)'.format(end_mem, 100 * (start_mem - end_mem) / start_mem))\n",
    " \n",
    "    return df"
   ]
  },
  {
   "cell_type": "markdown",
   "id": "b32ae10a",
   "metadata": {},
   "source": [
    "# EDA & FE"
   ]
  },
  {
   "cell_type": "code",
   "execution_count": 4,
   "id": "518a0e4b",
   "metadata": {
    "ExecuteTime": {
     "end_time": "2022-04-02T15:16:20.813912Z",
     "start_time": "2022-04-02T15:16:20.704868Z"
    }
   },
   "outputs": [
    {
     "data": {
      "image/png": "[encoded data removed]",
      "text/plain": [
       "<Figure size 720x360 with 1 Axes>"
      ]
     },
     "metadata": {
      "needs_background": "light"
     },
     "output_type": "display_data"
    }
   ],
   "source": [
    "plt.figure(figsize=(10,5))\n",
    "sns.countplot(y=train_labels['state'], palette='cool', orient='h')\n",
    "plt.show()"
   ]
  },
  {
   "cell_type": "code",
   "execution_count": 5,
   "id": "6ea34642",
   "metadata": {
    "ExecuteTime": {
     "end_time": "2022-04-02T15:16:20.829043Z",
     "start_time": "2022-04-02T15:16:20.814866Z"
    }
   },
   "outputs": [
    {
     "data": {
      "text/plain": [
       "sequence       int64\n",
       "subject        int64\n",
       "step           int64\n",
       "sensor_00    float64\n",
       "sensor_01    float64\n",
       "sensor_02    float64\n",
       "sensor_03    float64\n",
       "sensor_04    float64\n",
       "sensor_05    float64\n",
       "sensor_06    float64\n",
       "sensor_07    float64\n",
       "sensor_08    float64\n",
       "sensor_09    float64\n",
       "sensor_10    float64\n",
       "sensor_11    float64\n",
       "sensor_12    float64\n",
       "dtype: object"
      ]
     },
     "execution_count": 5,
     "metadata": {},
     "output_type": "execute_result"
    }
   ],
   "source": [
    "df_data.dtypes"
   ]
  },
  {
   "cell_type": "code",
   "execution_count": 6,
   "id": "f7f7f9be",
   "metadata": {
    "ExecuteTime": {
     "end_time": "2022-04-02T15:16:22.111916Z",
     "start_time": "2022-04-02T15:16:20.830917Z"
    }
   },
   "outputs": [
    {
     "data": {
      "text/html": [
       "<style type=\"text/css\">\n",
       "#T_a23d3_row0_col1 {\n",
       "  width: 10em;\n",
       "  height: 80%;\n",
       "  background: linear-gradient(90deg,#205ff2 2.6%, transparent 2.6%);\n",
       "}\n",
       "#T_a23d3_row0_col2 {\n",
       "  background-color: #fff1ea;\n",
       "  color: #000000;\n",
       "}\n",
       "#T_a23d3_row0_col5 {\n",
       "  background-color: #4257c9;\n",
       "  color: #f1f1f1;\n",
       "}\n",
       "#T_a23d3_row1_col1, #T_a23d3_row2_col1, #T_a23d3_row3_col1, #T_a23d3_row4_col1, #T_a23d3_row6_col1, #T_a23d3_row8_col1, #T_a23d3_row9_col1, #T_a23d3_row11_col1, #T_a23d3_row12_col1, #T_a23d3_row13_col1, #T_a23d3_row14_col1, #T_a23d3_row15_col1 {\n",
       "  width: 10em;\n",
       "  height: 80%;\n",
       "  background: linear-gradient(90deg,#205ff2 0.0%, transparent 0.0%);\n",
       "}\n",
       "#T_a23d3_row1_col2, #T_a23d3_row2_col2, #T_a23d3_row3_col2, #T_a23d3_row4_col2, #T_a23d3_row5_col2, #T_a23d3_row6_col2, #T_a23d3_row8_col2, #T_a23d3_row9_col2, #T_a23d3_row10_col2, #T_a23d3_row11_col2, #T_a23d3_row12_col2, #T_a23d3_row13_col2, #T_a23d3_row14_col2, #T_a23d3_row15_col2 {\n",
       "  background-color: #fff5f0;\n",
       "  color: #000000;\n",
       "}\n",
       "#T_a23d3_row1_col5, #T_a23d3_row2_col5, #T_a23d3_row3_col5, #T_a23d3_row4_col5, #T_a23d3_row5_col5, #T_a23d3_row6_col5, #T_a23d3_row8_col5, #T_a23d3_row9_col5, #T_a23d3_row10_col5, #T_a23d3_row11_col5, #T_a23d3_row12_col5, #T_a23d3_row13_col5, #T_a23d3_row14_col5, #T_a23d3_row15_col5 {\n",
       "  background-color: #3b4cc0;\n",
       "  color: #f1f1f1;\n",
       "}\n",
       "#T_a23d3_row5_col1 {\n",
       "  width: 10em;\n",
       "  height: 80%;\n",
       "  background: linear-gradient(90deg,#205ff2 0.2%, transparent 0.2%);\n",
       "}\n",
       "#T_a23d3_row7_col1 {\n",
       "  width: 10em;\n",
       "  height: 80%;\n",
       "  background: linear-gradient(90deg,#205ff2 100.0%, transparent 100.0%);\n",
       "}\n",
       "#T_a23d3_row7_col2 {\n",
       "  background-color: #67000d;\n",
       "  color: #f1f1f1;\n",
       "}\n",
       "#T_a23d3_row7_col5 {\n",
       "  background-color: #b40426;\n",
       "  color: #f1f1f1;\n",
       "}\n",
       "#T_a23d3_row10_col1 {\n",
       "  width: 10em;\n",
       "  height: 80%;\n",
       "}\n",
       "</style>\n",
       "<table id=\"T_a23d3_\">\n",
       "  <thead>\n",
       "    <tr>\n",
       "      <th class=\"blank level0\" >&nbsp;</th>\n",
       "      <th class=\"col_heading level0 col0\" >count</th>\n",
       "      <th class=\"col_heading level0 col1\" >mean</th>\n",
       "      <th class=\"col_heading level0 col2\" >std</th>\n",
       "      <th class=\"col_heading level0 col3\" >min</th>\n",
       "      <th class=\"col_heading level0 col4\" >25%</th>\n",
       "      <th class=\"col_heading level0 col5\" >50%</th>\n",
       "      <th class=\"col_heading level0 col6\" >75%</th>\n",
       "      <th class=\"col_heading level0 col7\" >max</th>\n",
       "    </tr>\n",
       "  </thead>\n",
       "  <tbody>\n",
       "    <tr>\n",
       "      <th id=\"T_a23d3_level0_row0\" class=\"row_heading level0 row0\" >subject</th>\n",
       "      <td id=\"T_a23d3_row0_col0\" class=\"data row0 col0\" >2291160.000000</td>\n",
       "      <td id=\"T_a23d3_row0_col1\" class=\"data row0 col1\" >490.887158</td>\n",
       "      <td id=\"T_a23d3_row0_col2\" class=\"data row0 col2\" >287.621359</td>\n",
       "      <td id=\"T_a23d3_row0_col3\" class=\"data row0 col3\" >0.000000</td>\n",
       "      <td id=\"T_a23d3_row0_col4\" class=\"data row0 col4\" >238.000000</td>\n",
       "      <td id=\"T_a23d3_row0_col5\" class=\"data row0 col5\" >492.000000</td>\n",
       "      <td id=\"T_a23d3_row0_col6\" class=\"data row0 col6\" >742.000000</td>\n",
       "      <td id=\"T_a23d3_row0_col7\" class=\"data row0 col7\" >990.000000</td>\n",
       "    </tr>\n",
       "    <tr>\n",
       "      <th id=\"T_a23d3_level0_row1\" class=\"row_heading level0 row1\" >sensor_01</th>\n",
       "      <td id=\"T_a23d3_row1_col0\" class=\"data row1 col0\" >2291160.000000</td>\n",
       "      <td id=\"T_a23d3_row1_col1\" class=\"data row1 col1\" >-0.001039</td>\n",
       "      <td id=\"T_a23d3_row1_col2\" class=\"data row1 col2\" >4.466203</td>\n",
       "      <td id=\"T_a23d3_row1_col3\" class=\"data row1 col3\" >-457.260504</td>\n",
       "      <td id=\"T_a23d3_row1_col4\" class=\"data row1 col4\" >-0.483193</td>\n",
       "      <td id=\"T_a23d3_row1_col5\" class=\"data row1 col5\" >0.003151</td>\n",
       "      <td id=\"T_a23d3_row1_col6\" class=\"data row1 col6\" >0.492647</td>\n",
       "      <td id=\"T_a23d3_row1_col7\" class=\"data row1 col7\" >551.537815</td>\n",
       "    </tr>\n",
       "    <tr>\n",
       "      <th id=\"T_a23d3_level0_row2\" class=\"row_heading level0 row2\" >sensor_00</th>\n",
       "      <td id=\"T_a23d3_row2_col0\" class=\"data row2 col0\" >2291160.000000</td>\n",
       "      <td id=\"T_a23d3_row2_col1\" class=\"data row2 col1\" >0.000363</td>\n",
       "      <td id=\"T_a23d3_row2_col2\" class=\"data row2 col2\" >2.747429</td>\n",
       "      <td id=\"T_a23d3_row2_col3\" class=\"data row2 col3\" >-375.063369</td>\n",
       "      <td id=\"T_a23d3_row2_col4\" class=\"data row2 col4\" >-0.499227</td>\n",
       "      <td id=\"T_a23d3_row2_col5\" class=\"data row2 col5\" >-0.003091</td>\n",
       "      <td id=\"T_a23d3_row2_col6\" class=\"data row2 col6\" >0.483771</td>\n",
       "      <td id=\"T_a23d3_row2_col7\" class=\"data row2 col7\" >403.787481</td>\n",
       "    </tr>\n",
       "    <tr>\n",
       "      <th id=\"T_a23d3_level0_row3\" class=\"row_heading level0 row3\" >sensor_06</th>\n",
       "      <td id=\"T_a23d3_row3_col0\" class=\"data row3 col0\" >2291160.000000</td>\n",
       "      <td id=\"T_a23d3_row3_col1\" class=\"data row3 col1\" >-0.000827</td>\n",
       "      <td id=\"T_a23d3_row3_col2\" class=\"data row3 col2\" >3.370294</td>\n",
       "      <td id=\"T_a23d3_row3_col3\" class=\"data row3 col3\" >-470.504554</td>\n",
       "      <td id=\"T_a23d3_row3_col4\" class=\"data row3 col4\" >-0.491803</td>\n",
       "      <td id=\"T_a23d3_row3_col5\" class=\"data row3 col5\" >0.000911</td>\n",
       "      <td id=\"T_a23d3_row3_col6\" class=\"data row3 col6\" >0.490893</td>\n",
       "      <td id=\"T_a23d3_row3_col7\" class=\"data row3 col7\" >484.381603</td>\n",
       "    </tr>\n",
       "    <tr>\n",
       "      <th id=\"T_a23d3_level0_row4\" class=\"row_heading level0 row4\" >sensor_04</th>\n",
       "      <td id=\"T_a23d3_row4_col0\" class=\"data row4 col0\" >2291160.000000</td>\n",
       "      <td id=\"T_a23d3_row4_col1\" class=\"data row4 col1\" >-0.001293</td>\n",
       "      <td id=\"T_a23d3_row4_col2\" class=\"data row4 col2\" >1.749201</td>\n",
       "      <td id=\"T_a23d3_row4_col3\" class=\"data row4 col3\" >-24.754551</td>\n",
       "      <td id=\"T_a23d3_row4_col4\" class=\"data row4 col4\" >-0.488546</td>\n",
       "      <td id=\"T_a23d3_row4_col5\" class=\"data row4 col5\" >-0.000951</td>\n",
       "      <td id=\"T_a23d3_row4_col6\" class=\"data row4 col6\" >0.486831</td>\n",
       "      <td id=\"T_a23d3_row4_col7\" class=\"data row4 col7\" >24.872865</td>\n",
       "    </tr>\n",
       "    <tr>\n",
       "      <th id=\"T_a23d3_level0_row5\" class=\"row_heading level0 row5\" >step</th>\n",
       "      <td id=\"T_a23d3_row5_col0\" class=\"data row5 col0\" >2291160.000000</td>\n",
       "      <td id=\"T_a23d3_row5_col1\" class=\"data row5 col1\" >29.500000</td>\n",
       "      <td id=\"T_a23d3_row5_col2\" class=\"data row5 col2\" >17.318106</td>\n",
       "      <td id=\"T_a23d3_row5_col3\" class=\"data row5 col3\" >0.000000</td>\n",
       "      <td id=\"T_a23d3_row5_col4\" class=\"data row5 col4\" >14.750000</td>\n",
       "      <td id=\"T_a23d3_row5_col5\" class=\"data row5 col5\" >29.500000</td>\n",
       "      <td id=\"T_a23d3_row5_col6\" class=\"data row5 col6\" >44.250000</td>\n",
       "      <td id=\"T_a23d3_row5_col7\" class=\"data row5 col7\" >59.000000</td>\n",
       "    </tr>\n",
       "    <tr>\n",
       "      <th id=\"T_a23d3_level0_row6\" class=\"row_heading level0 row6\" >sensor_08</th>\n",
       "      <td id=\"T_a23d3_row6_col0\" class=\"data row6 col0\" >2291160.000000</td>\n",
       "      <td id=\"T_a23d3_row6_col1\" class=\"data row6 col1\" >-0.000019</td>\n",
       "      <td id=\"T_a23d3_row6_col2\" class=\"data row6 col2\" >4.663098</td>\n",
       "      <td id=\"T_a23d3_row6_col3\" class=\"data row6 col3\" >-544.900000</td>\n",
       "      <td id=\"T_a23d3_row6_col4\" class=\"data row6 col4\" >-0.500000</td>\n",
       "      <td id=\"T_a23d3_row6_col5\" class=\"data row6 col5\" >0.000000</td>\n",
       "      <td id=\"T_a23d3_row6_col6\" class=\"data row6 col6\" >0.500000</td>\n",
       "      <td id=\"T_a23d3_row6_col7\" class=\"data row6 col7\" >769.600000</td>\n",
       "    </tr>\n",
       "    <tr>\n",
       "      <th id=\"T_a23d3_level0_row7\" class=\"row_heading level0 row7\" >sequence</th>\n",
       "      <td id=\"T_a23d3_row7_col0\" class=\"data row7 col0\" >2291160.000000</td>\n",
       "      <td id=\"T_a23d3_row7_col1\" class=\"data row7 col1\" >19092.500000</td>\n",
       "      <td id=\"T_a23d3_row7_col2\" class=\"data row7 col2\" >11023.351091</td>\n",
       "      <td id=\"T_a23d3_row7_col3\" class=\"data row7 col3\" >0.000000</td>\n",
       "      <td id=\"T_a23d3_row7_col4\" class=\"data row7 col4\" >9546.000000</td>\n",
       "      <td id=\"T_a23d3_row7_col5\" class=\"data row7 col5\" >19092.500000</td>\n",
       "      <td id=\"T_a23d3_row7_col6\" class=\"data row7 col6\" >28639.000000</td>\n",
       "      <td id=\"T_a23d3_row7_col7\" class=\"data row7 col7\" >38185.000000</td>\n",
       "    </tr>\n",
       "    <tr>\n",
       "      <th id=\"T_a23d3_level0_row8\" class=\"row_heading level0 row8\" >sensor_11</th>\n",
       "      <td id=\"T_a23d3_row8_col0\" class=\"data row8 col0\" >2291160.000000</td>\n",
       "      <td id=\"T_a23d3_row8_col1\" class=\"data row8 col1\" >-0.003435</td>\n",
       "      <td id=\"T_a23d3_row8_col2\" class=\"data row8 col2\" >4.490679</td>\n",
       "      <td id=\"T_a23d3_row8_col3\" class=\"data row8 col3\" >-443.709877</td>\n",
       "      <td id=\"T_a23d3_row8_col4\" class=\"data row8 col4\" >-0.482510</td>\n",
       "      <td id=\"T_a23d3_row8_col5\" class=\"data row8 col5\" >0.003086</td>\n",
       "      <td id=\"T_a23d3_row8_col6\" class=\"data row8 col6\" >0.491770</td>\n",
       "      <td id=\"T_a23d3_row8_col7\" class=\"data row8 col7\" >448.020576</td>\n",
       "    </tr>\n",
       "    <tr>\n",
       "      <th id=\"T_a23d3_level0_row9\" class=\"row_heading level0 row9\" >sensor_03</th>\n",
       "      <td id=\"T_a23d3_row9_col0\" class=\"data row9 col0\" >2291160.000000</td>\n",
       "      <td id=\"T_a23d3_row9_col1\" class=\"data row9 col1\" >-0.002250</td>\n",
       "      <td id=\"T_a23d3_row9_col2\" class=\"data row9 col2\" >4.261084</td>\n",
       "      <td id=\"T_a23d3_row9_col3\" class=\"data row9 col3\" >-425.277876</td>\n",
       "      <td id=\"T_a23d3_row9_col4\" class=\"data row9 col4\" >-0.491150</td>\n",
       "      <td id=\"T_a23d3_row9_col5\" class=\"data row9 col5\" >0.000885</td>\n",
       "      <td id=\"T_a23d3_row9_col6\" class=\"data row9 col6\" >0.487611</td>\n",
       "      <td id=\"T_a23d3_row9_col7\" class=\"data row9 col7\" >498.469027</td>\n",
       "    </tr>\n",
       "    <tr>\n",
       "      <th id=\"T_a23d3_level0_row10\" class=\"row_heading level0 row10\" >sensor_02</th>\n",
       "      <td id=\"T_a23d3_row10_col0\" class=\"data row10 col0\" >2291160.000000</td>\n",
       "      <td id=\"T_a23d3_row10_col1\" class=\"data row10 col1\" >-0.217954</td>\n",
       "      <td id=\"T_a23d3_row10_col2\" class=\"data row10 col2\" >2.310527</td>\n",
       "      <td id=\"T_a23d3_row10_col3\" class=\"data row10 col3\" >-31.659476</td>\n",
       "      <td id=\"T_a23d3_row10_col4\" class=\"data row10 col4\" >-0.626153</td>\n",
       "      <td id=\"T_a23d3_row10_col5\" class=\"data row10 col5\" >0.000000</td>\n",
       "      <td id=\"T_a23d3_row10_col6\" class=\"data row10 col6\" >0.333847</td>\n",
       "      <td id=\"T_a23d3_row10_col7\" class=\"data row10 col7\" >1.666667</td>\n",
       "    </tr>\n",
       "    <tr>\n",
       "      <th id=\"T_a23d3_level0_row11\" class=\"row_heading level0 row11\" >sensor_10</th>\n",
       "      <td id=\"T_a23d3_row11_col0\" class=\"data row11 col0\" >2291160.000000</td>\n",
       "      <td id=\"T_a23d3_row11_col1\" class=\"data row11 col1\" >-0.000139</td>\n",
       "      <td id=\"T_a23d3_row11_col2\" class=\"data row11 col2\" >1.980841</td>\n",
       "      <td id=\"T_a23d3_row11_col3\" class=\"data row11 col3\" >-43.732803</td>\n",
       "      <td id=\"T_a23d3_row11_col4\" class=\"data row11 col4\" >-0.481321</td>\n",
       "      <td id=\"T_a23d3_row11_col5\" class=\"data row11 col5\" >-0.001104</td>\n",
       "      <td id=\"T_a23d3_row11_col6\" class=\"data row11 col6\" >0.480885</td>\n",
       "      <td id=\"T_a23d3_row11_col7\" class=\"data row11 col7\" >41.865588</td>\n",
       "    </tr>\n",
       "    <tr>\n",
       "      <th id=\"T_a23d3_level0_row12\" class=\"row_heading level0 row12\" >sensor_07</th>\n",
       "      <td id=\"T_a23d3_row12_col0\" class=\"data row12 col0\" >2291160.000000</td>\n",
       "      <td id=\"T_a23d3_row12_col1\" class=\"data row12 col1\" >0.000242</td>\n",
       "      <td id=\"T_a23d3_row12_col2\" class=\"data row12 col2\" >3.099620</td>\n",
       "      <td id=\"T_a23d3_row12_col3\" class=\"data row12 col3\" >-407.011450</td>\n",
       "      <td id=\"T_a23d3_row12_col4\" class=\"data row12 col4\" >-0.499237</td>\n",
       "      <td id=\"T_a23d3_row12_col5\" class=\"data row12 col5\" >-0.002290</td>\n",
       "      <td id=\"T_a23d3_row12_col6\" class=\"data row12 col6\" >0.481679</td>\n",
       "      <td id=\"T_a23d3_row12_col7\" class=\"data row12 col7\" >331.254198</td>\n",
       "    </tr>\n",
       "    <tr>\n",
       "      <th id=\"T_a23d3_level0_row13\" class=\"row_heading level0 row13\" >sensor_05</th>\n",
       "      <td id=\"T_a23d3_row13_col0\" class=\"data row13 col0\" >2291160.000000</td>\n",
       "      <td id=\"T_a23d3_row13_col1\" class=\"data row13 col1\" >-0.001735</td>\n",
       "      <td id=\"T_a23d3_row13_col2\" class=\"data row13 col2\" >1.601893</td>\n",
       "      <td id=\"T_a23d3_row13_col3\" class=\"data row13 col3\" >-74.982797</td>\n",
       "      <td id=\"T_a23d3_row13_col4\" class=\"data row13 col4\" >-0.489903</td>\n",
       "      <td id=\"T_a23d3_row13_col5\" class=\"data row13 col5\" >0.002244</td>\n",
       "      <td id=\"T_a23d3_row13_col6\" class=\"data row13 col6\" >0.513089</td>\n",
       "      <td id=\"T_a23d3_row13_col7\" class=\"data row13 col7\" >77.915482</td>\n",
       "    </tr>\n",
       "    <tr>\n",
       "      <th id=\"T_a23d3_level0_row14\" class=\"row_heading level0 row14\" >sensor_09</th>\n",
       "      <td id=\"T_a23d3_row14_col0\" class=\"data row14 col0\" >2291160.000000</td>\n",
       "      <td id=\"T_a23d3_row14_col1\" class=\"data row14 col1\" >0.001277</td>\n",
       "      <td id=\"T_a23d3_row14_col2\" class=\"data row14 col2\" >2.659309</td>\n",
       "      <td id=\"T_a23d3_row14_col3\" class=\"data row14 col3\" >-312.634393</td>\n",
       "      <td id=\"T_a23d3_row14_col4\" class=\"data row14 col4\" >-0.516618</td>\n",
       "      <td id=\"T_a23d3_row14_col5\" class=\"data row14 col5\" >-0.001445</td>\n",
       "      <td id=\"T_a23d3_row14_col6\" class=\"data row14 col6\" >0.509393</td>\n",
       "      <td id=\"T_a23d3_row14_col7\" class=\"data row14 col7\" >367.981214</td>\n",
       "    </tr>\n",
       "    <tr>\n",
       "      <th id=\"T_a23d3_level0_row15\" class=\"row_heading level0 row15\" >sensor_12</th>\n",
       "      <td id=\"T_a23d3_row15_col0\" class=\"data row15 col0\" >2291160.000000</td>\n",
       "      <td id=\"T_a23d3_row15_col1\" class=\"data row15 col1\" >-0.008596</td>\n",
       "      <td id=\"T_a23d3_row15_col2\" class=\"data row15 col2\" >39.669326</td>\n",
       "      <td id=\"T_a23d3_row15_col3\" class=\"data row15 col3\" >-612.549446</td>\n",
       "      <td id=\"T_a23d3_row15_col4\" class=\"data row15 col4\" >-0.661125</td>\n",
       "      <td id=\"T_a23d3_row15_col5\" class=\"data row15 col5\" >0.000000</td>\n",
       "      <td id=\"T_a23d3_row15_col6\" class=\"data row15 col6\" >0.652600</td>\n",
       "      <td id=\"T_a23d3_row15_col7\" class=\"data row15 col7\" >630.511083</td>\n",
       "    </tr>\n",
       "  </tbody>\n",
       "</table>\n"
      ],
      "text/plain": [
       "<pandas.io.formats.style.Styler at 0x15f00d22370>"
      ]
     },
     "execution_count": 6,
     "metadata": {},
     "output_type": "execute_result"
    }
   ],
   "source": [
    "df_data.sample(16, axis=1).describe().T.style.bar(\n",
    "    subset=[\"mean\"], color=\"#205ff2\"\n",
    ").background_gradient(subset=[\"std\"], cmap=\"Reds\").background_gradient(\n",
    "    subset=[\"50%\"], cmap=\"coolwarm\"\n",
    ")"
   ]
  },
  {
   "cell_type": "code",
   "execution_count": 7,
   "id": "92c5612a",
   "metadata": {
    "ExecuteTime": {
     "end_time": "2022-04-02T15:16:22.127915Z",
     "start_time": "2022-04-02T15:16:22.113917Z"
    }
   },
   "outputs": [
    {
     "data": {
      "text/html": [
       "<div>\n",
       "<style scoped>\n",
       "    .dataframe tbody tr th:only-of-type {\n",
       "        vertical-align: middle;\n",
       "    }\n",
       "\n",
       "    .dataframe tbody tr th {\n",
       "        vertical-align: top;\n",
       "    }\n",
       "\n",
       "    .dataframe thead th {\n",
       "        text-align: right;\n",
       "    }\n",
       "</style>\n",
       "<table border=\"1\" class=\"dataframe\">\n",
       "  <thead>\n",
       "    <tr style=\"text-align: right;\">\n",
       "      <th></th>\n",
       "      <th>sequence</th>\n",
       "      <th>state</th>\n",
       "    </tr>\n",
       "  </thead>\n",
       "  <tbody>\n",
       "    <tr>\n",
       "      <th>0</th>\n",
       "      <td>0</td>\n",
       "      <td>0</td>\n",
       "    </tr>\n",
       "    <tr>\n",
       "      <th>1</th>\n",
       "      <td>1</td>\n",
       "      <td>1</td>\n",
       "    </tr>\n",
       "    <tr>\n",
       "      <th>2</th>\n",
       "      <td>2</td>\n",
       "      <td>1</td>\n",
       "    </tr>\n",
       "    <tr>\n",
       "      <th>3</th>\n",
       "      <td>3</td>\n",
       "      <td>1</td>\n",
       "    </tr>\n",
       "    <tr>\n",
       "      <th>4</th>\n",
       "      <td>4</td>\n",
       "      <td>1</td>\n",
       "    </tr>\n",
       "  </tbody>\n",
       "</table>\n",
       "</div>"
      ],
      "text/plain": [
       "   sequence  state\n",
       "0         0      0\n",
       "1         1      1\n",
       "2         2      1\n",
       "3         3      1\n",
       "4         4      1"
      ]
     },
     "execution_count": 7,
     "metadata": {},
     "output_type": "execute_result"
    }
   ],
   "source": [
    "train_labels[:5]"
   ]
  },
  {
   "cell_type": "markdown",
   "id": "32478a8b",
   "metadata": {},
   "source": [
    "Let's `merge` data with a `taget` value:"
   ]
  },
  {
   "cell_type": "code",
   "execution_count": 8,
   "id": "c892c427",
   "metadata": {
    "ExecuteTime": {
     "end_time": "2022-04-02T15:16:22.441918Z",
     "start_time": "2022-04-02T15:16:22.128918Z"
    }
   },
   "outputs": [
    {
     "data": {
      "text/html": [
       "<div>\n",
       "<style scoped>\n",
       "    .dataframe tbody tr th:only-of-type {\n",
       "        vertical-align: middle;\n",
       "    }\n",
       "\n",
       "    .dataframe tbody tr th {\n",
       "        vertical-align: top;\n",
       "    }\n",
       "\n",
       "    .dataframe thead th {\n",
       "        text-align: right;\n",
       "    }\n",
       "</style>\n",
       "<table border=\"1\" class=\"dataframe\">\n",
       "  <thead>\n",
       "    <tr style=\"text-align: right;\">\n",
       "      <th></th>\n",
       "      <th>sequence</th>\n",
       "      <th>subject</th>\n",
       "      <th>step</th>\n",
       "      <th>sensor_00</th>\n",
       "      <th>sensor_01</th>\n",
       "      <th>sensor_02</th>\n",
       "      <th>sensor_03</th>\n",
       "      <th>sensor_04</th>\n",
       "      <th>sensor_05</th>\n",
       "      <th>sensor_06</th>\n",
       "      <th>sensor_07</th>\n",
       "      <th>sensor_08</th>\n",
       "      <th>sensor_09</th>\n",
       "      <th>sensor_10</th>\n",
       "      <th>sensor_11</th>\n",
       "      <th>sensor_12</th>\n",
       "      <th>state</th>\n",
       "    </tr>\n",
       "  </thead>\n",
       "  <tbody>\n",
       "    <tr>\n",
       "      <th>0</th>\n",
       "      <td>0</td>\n",
       "      <td>47</td>\n",
       "      <td>0</td>\n",
       "      <td>-0.196291</td>\n",
       "      <td>0.112395</td>\n",
       "      <td>1.0</td>\n",
       "      <td>0.329204</td>\n",
       "      <td>-1.004660</td>\n",
       "      <td>-0.131638</td>\n",
       "      <td>-0.127505</td>\n",
       "      <td>0.368702</td>\n",
       "      <td>-0.1</td>\n",
       "      <td>-0.963873</td>\n",
       "      <td>-0.985069</td>\n",
       "      <td>0.531893</td>\n",
       "      <td>4.751492</td>\n",
       "      <td>0.0</td>\n",
       "    </tr>\n",
       "    <tr>\n",
       "      <th>1</th>\n",
       "      <td>0</td>\n",
       "      <td>47</td>\n",
       "      <td>1</td>\n",
       "      <td>-0.447450</td>\n",
       "      <td>0.134454</td>\n",
       "      <td>1.0</td>\n",
       "      <td>-0.658407</td>\n",
       "      <td>0.162495</td>\n",
       "      <td>0.340314</td>\n",
       "      <td>-0.209472</td>\n",
       "      <td>-0.867176</td>\n",
       "      <td>0.2</td>\n",
       "      <td>-0.301301</td>\n",
       "      <td>0.082733</td>\n",
       "      <td>-0.231481</td>\n",
       "      <td>0.454390</td>\n",
       "      <td>0.0</td>\n",
       "    </tr>\n",
       "    <tr>\n",
       "      <th>2</th>\n",
       "      <td>0</td>\n",
       "      <td>47</td>\n",
       "      <td>2</td>\n",
       "      <td>0.326893</td>\n",
       "      <td>-0.694328</td>\n",
       "      <td>1.0</td>\n",
       "      <td>0.330088</td>\n",
       "      <td>0.473678</td>\n",
       "      <td>1.280479</td>\n",
       "      <td>-0.094718</td>\n",
       "      <td>0.535878</td>\n",
       "      <td>1.4</td>\n",
       "      <td>1.002168</td>\n",
       "      <td>0.449221</td>\n",
       "      <td>-0.586420</td>\n",
       "      <td>-4.736147</td>\n",
       "      <td>0.0</td>\n",
       "    </tr>\n",
       "    <tr>\n",
       "      <th>3</th>\n",
       "      <td>0</td>\n",
       "      <td>47</td>\n",
       "      <td>3</td>\n",
       "      <td>0.523184</td>\n",
       "      <td>0.751050</td>\n",
       "      <td>1.0</td>\n",
       "      <td>0.976991</td>\n",
       "      <td>-0.563287</td>\n",
       "      <td>-0.720269</td>\n",
       "      <td>0.793260</td>\n",
       "      <td>0.951145</td>\n",
       "      <td>-0.3</td>\n",
       "      <td>-0.995665</td>\n",
       "      <td>-0.434290</td>\n",
       "      <td>1.344650</td>\n",
       "      <td>0.429241</td>\n",
       "      <td>0.0</td>\n",
       "    </tr>\n",
       "    <tr>\n",
       "      <th>4</th>\n",
       "      <td>0</td>\n",
       "      <td>47</td>\n",
       "      <td>4</td>\n",
       "      <td>0.272025</td>\n",
       "      <td>1.074580</td>\n",
       "      <td>1.0</td>\n",
       "      <td>-0.136283</td>\n",
       "      <td>0.398579</td>\n",
       "      <td>0.044877</td>\n",
       "      <td>0.560109</td>\n",
       "      <td>-0.541985</td>\n",
       "      <td>-0.9</td>\n",
       "      <td>1.055636</td>\n",
       "      <td>0.812631</td>\n",
       "      <td>0.123457</td>\n",
       "      <td>-0.223359</td>\n",
       "      <td>0.0</td>\n",
       "    </tr>\n",
       "  </tbody>\n",
       "</table>\n",
       "</div>"
      ],
      "text/plain": [
       "   sequence  subject  step  sensor_00  sensor_01  sensor_02  sensor_03  \\\n",
       "0         0       47     0  -0.196291   0.112395        1.0   0.329204   \n",
       "1         0       47     1  -0.447450   0.134454        1.0  -0.658407   \n",
       "2         0       47     2   0.326893  -0.694328        1.0   0.330088   \n",
       "3         0       47     3   0.523184   0.751050        1.0   0.976991   \n",
       "4         0       47     4   0.272025   1.074580        1.0  -0.136283   \n",
       "\n",
       "   sensor_04  sensor_05  sensor_06  sensor_07  sensor_08  sensor_09  \\\n",
       "0  -1.004660  -0.131638  -0.127505   0.368702       -0.1  -0.963873   \n",
       "1   0.162495   0.340314  -0.209472  -0.867176        0.2  -0.301301   \n",
       "2   0.473678   1.280479  -0.094718   0.535878        1.4   1.002168   \n",
       "3  -0.563287  -0.720269   0.793260   0.951145       -0.3  -0.995665   \n",
       "4   0.398579   0.044877   0.560109  -0.541985       -0.9   1.055636   \n",
       "\n",
       "   sensor_10  sensor_11  sensor_12  state  \n",
       "0  -0.985069   0.531893   4.751492    0.0  \n",
       "1   0.082733  -0.231481   0.454390    0.0  \n",
       "2   0.449221  -0.586420  -4.736147    0.0  \n",
       "3  -0.434290   1.344650   0.429241    0.0  \n",
       "4   0.812631   0.123457  -0.223359    0.0  "
      ]
     },
     "execution_count": 8,
     "metadata": {},
     "output_type": "execute_result"
    }
   ],
   "source": [
    "df_data = df_data.merge(train_labels, on='sequence', how='left')\n",
    "df_data[:5]"
   ]
  },
  {
   "cell_type": "code",
   "execution_count": 9,
   "id": "aa709bc8",
   "metadata": {
    "ExecuteTime": {
     "end_time": "2022-04-02T15:16:22.456917Z",
     "start_time": "2022-04-02T15:16:22.445916Z"
    }
   },
   "outputs": [],
   "source": [
    "# df_data.loc[(df_data['sequence'] == 1)]"
   ]
  },
  {
   "cell_type": "markdown",
   "id": "cffd6f57",
   "metadata": {},
   "source": [
    "## Baseline"
   ]
  },
  {
   "cell_type": "code",
   "execution_count": 10,
   "id": "a784236b",
   "metadata": {
    "ExecuteTime": {
     "end_time": "2022-04-02T15:16:23.299009Z",
     "start_time": "2022-04-02T15:16:22.457917Z"
    }
   },
   "outputs": [
    {
     "name": "stdout",
     "output_type": "stream",
     "text": [
      "Mem. usage decreased to 99.56 Mb (50.7% reduction)\n"
     ]
    }
   ],
   "source": [
    "def baseline(X, y):\n",
    "    from sklearn.model_selection import cross_val_score\n",
    "    from sklearn.ensemble import RandomForestClassifier\n",
    "#     X = reduce_mem_usage(X)\n",
    "    model = RandomForestClassifier()\n",
    "    cv = cross_val_score(\n",
    "        model, X, y, cv=2, scoring=\"accuracy\", n_jobs=-1\n",
    "    )\n",
    "#     score = cv.mean()\n",
    "    score = cv\n",
    "    print(f\"Baseline accuracy: {score}\")\n",
    "    return score\n",
    "\n",
    "train_base = df_data[df_data.state.isnull() == False].copy() #limit rows to reduce time \n",
    "train_base.drop('sequence', axis=1, inplace=True) # remove id (sequence)\n",
    "train_base = reduce_mem_usage(train_base) # memory reduction\n",
    "X = train_base.drop('state', axis=1)\n",
    "y = train_base['state']\n",
    "\n",
    "# %time baseline(X,y)\n",
    "\n",
    "\n",
    "# Baseline accuracy: [0.64863293 0.65158914]\n",
    "# CPU times: total: 344 ms\n",
    "# Wall time: 7min 12s"
   ]
  },
  {
   "cell_type": "markdown",
   "id": "508c5e39",
   "metadata": {},
   "source": [
    "# Modeling"
   ]
  },
  {
   "cell_type": "markdown",
   "id": "50749e3a",
   "metadata": {},
   "source": [
    "Let us use `Long short-term memory (LSTM)` as we are considering `memory-data`"
   ]
  },
  {
   "cell_type": "code",
   "execution_count": 11,
   "id": "ec98b860",
   "metadata": {
    "ExecuteTime": {
     "end_time": "2022-04-02T15:16:24.306770Z",
     "start_time": "2022-04-02T15:16:23.300953Z"
    }
   },
   "outputs": [],
   "source": [
    "from sklearn.preprocessing import RobustScaler\n",
    "\n",
    "window  = 60\n",
    "\n",
    "# remove unnecessary columns\n",
    "df_data.drop(['sequence', 'subject', 'step'], axis=1, inplace=True)\n",
    "df_train = df_data[df_data.state.isnull() == False]\n",
    "df_test = df_data[df_data.state.isnull() == True]\n",
    "\n",
    "# y\n",
    "y = df_train['state'].to_numpy().reshape(-1, window)\n",
    "\n",
    "# remove target\n",
    "df_test.drop(['state'], axis=1, inplace=True)\n",
    "df_train.drop('state', axis=1, inplace=True)\n",
    "\n",
    "# standartization\n",
    "rb = RobustScaler()\n",
    "rb.fit(df_train)\n",
    "df_train = rb.transform(df_train)\n",
    "df_test = rb.transform(df_test)\n",
    "\n",
    "# reshape to get new array\n",
    "df_train = df_train.reshape(-1, window, df_train.shape[-1])\n",
    "df_test = df_test.reshape(-1, window, df_test.shape[-1])\n",
    "\n",
    "# X\n",
    "X = df_train"
   ]
  },
  {
   "cell_type": "code",
   "execution_count": 12,
   "id": "24194dfa",
   "metadata": {
    "ExecuteTime": {
     "end_time": "2022-04-02T15:16:24.321772Z",
     "start_time": "2022-04-02T15:16:24.308770Z"
    }
   },
   "outputs": [],
   "source": [
    "def plotHist(hist):\n",
    "    plt.plot(hist.history[\"auc\"])\n",
    "    plt.plot(hist.history[\"val_auc\"])\n",
    "    plt.title(\"model performance\")\n",
    "    plt.ylabel(\"area_under_curve\")\n",
    "    plt.xlabel(\"epoch\")\n",
    "    plt.legend([\"train\", \"validation\"], loc=\"upper left\")\n",
    "    plt.show()"
   ]
  },
  {
   "cell_type": "markdown",
   "id": "addeb42c",
   "metadata": {},
   "source": [
    "Tensorflow `Bi-LSTM:`"
   ]
  },
  {
   "cell_type": "code",
   "execution_count": 13,
   "id": "03c8c433",
   "metadata": {
    "ExecuteTime": {
     "end_time": "2022-04-02T15:16:24.337770Z",
     "start_time": "2022-04-02T15:16:24.324773Z"
    }
   },
   "outputs": [],
   "source": [
    "from tensorflow.distribute import Strategy\n",
    "def createModel():   \n",
    "    \n",
    "    model = Sequential([\n",
    "\n",
    "        Input(shape=(window , X.shape[-1])),\n",
    "        Bidirectional(LSTM(700, return_sequences=True)),\n",
    "        Bidirectional(LSTM(512, return_sequences=True)),\n",
    "        Bidirectional(LSTM(256, return_sequences=True)),\n",
    "        Bidirectional(LSTM(128, return_sequences=True)),\n",
    "        Dense(128, activation='selu'),\n",
    "        Dense(1, activation=\"sigmoid\")\n",
    "    ])\n",
    "\n",
    "    model.compile(optimizer=\"adam\",loss=\"binary_crossentropy\", metrics=[AUC(name = 'auc')])\n",
    "    return(model)"
   ]
  },
  {
   "cell_type": "code",
   "execution_count": null,
   "id": "65c19a6d",
   "metadata": {
    "ExecuteTime": {
     "end_time": "2022-04-02T15:16:25.141771Z",
     "start_time": "2022-04-02T15:16:25.141771Z"
    }
   },
   "outputs": [],
   "source": [
    "from sklearn.model_selection import KFold\n",
    "from keras.callbacks import EarlyStopping\n",
    "kf = KFold(n_splits=10, shuffle=True, random_state=42)\n",
    "\n",
    "test_preds = []\n",
    "\n",
    "for fold, (train_idx, test_idx) in enumerate(kf.split(X, y)):\n",
    "    print(f\"****** fold: {fold+1} *******\")\n",
    "    X_train, X_valid = X[train_idx], X[test_idx]\n",
    "    y_train, y_valid = y[train_idx], y[test_idx]\n",
    "    \n",
    "    es = EarlyStopping(monitor='val_accuracy',mode='max', patience=2, verbose=1, restore_best_weights=True)\n",
    "    \n",
    "    model = createModel()\n",
    "        \n",
    "    history = model.fit(X_train, y_train, validation_data=(X_valid, y_valid), epochs=50, batch_size = 256, callbacks = [es])\n",
    "    test_preds.append(model.predict(df_test).squeeze())\n",
    "    plotHist(history)\n",
    "    del X_train, X_valid, y_train, y_valid, model, history\n",
    "    gc.collect()  "
   ]
  },
  {
   "cell_type": "code",
   "execution_count": null,
   "id": "dd1cda87",
   "metadata": {
    "ExecuteTime": {
     "end_time": "2022-04-02T15:16:25.144771Z",
     "start_time": "2022-04-02T15:16:25.144771Z"
    }
   },
   "outputs": [],
   "source": [
    "# model = createModel()\n",
    "\n",
    "# history = model.fit(X, y, epochs=12, batch_size = 256)"
   ]
  },
  {
   "cell_type": "code",
   "execution_count": null,
   "id": "3af5d13f",
   "metadata": {
    "ExecuteTime": {
     "end_time": "2022-04-02T15:16:25.146770Z",
     "start_time": "2022-04-02T15:16:25.146770Z"
    }
   },
   "outputs": [],
   "source": [
    "plotHist(history)"
   ]
  },
  {
   "cell_type": "code",
   "execution_count": null,
   "id": "fd64945f",
   "metadata": {
    "ExecuteTime": {
     "end_time": "2022-04-02T15:16:25.148772Z",
     "start_time": "2022-04-02T15:16:25.148772Z"
    }
   },
   "outputs": [],
   "source": [
    "# y_pred = model.predict(df_test).squeeze()"
   ]
  },
  {
   "cell_type": "markdown",
   "id": "75ea4071",
   "metadata": {
    "ExecuteTime": {
     "end_time": "2022-04-01T21:43:42.669501Z",
     "start_time": "2022-04-01T21:43:42.655472Z"
    }
   },
   "source": [
    "# Submission"
   ]
  },
  {
   "cell_type": "code",
   "execution_count": null,
   "id": "0a47156e",
   "metadata": {
    "ExecuteTime": {
     "end_time": "2022-04-02T15:16:25.150772Z",
     "start_time": "2022-04-02T15:16:25.150772Z"
    }
   },
   "outputs": [],
   "source": [
    "# l = []\n",
    "# for i in range(0, len(y_pred)):\n",
    "#     if sum(y_pred[i]/60) > 0.5:\n",
    "#         l.append(1)\n",
    "#     else:\n",
    "#         l.append(0)"
   ]
  },
  {
   "cell_type": "code",
   "execution_count": null,
   "id": "61a21a18",
   "metadata": {
    "ExecuteTime": {
     "end_time": "2022-04-02T15:16:25.152773Z",
     "start_time": "2022-04-02T15:16:25.152773Z"
    }
   },
   "outputs": [],
   "source": [
    "sub[\"state\"] = sum(test_preds)/kf.n_splits\n",
    "\n",
    "# sub[\"state\"] = l\n",
    "sub.to_csv('E:/downloads/submission.csv', index=False)\n",
    "sub   "
   ]
  },
  {
   "cell_type": "code",
   "execution_count": null,
   "id": "5618eab0",
   "metadata": {},
   "outputs": [],
   "source": []
  }
 ],
 "metadata": {
  "kernelspec": {
   "display_name": "Python 3 (ipykernel)",
   "language": "python",
   "name": "python3"
  },
  "language_info": {
   "codemirror_mode": {
    "name": "ipython",
    "version": 3
   },
   "file_extension": ".py",
   "mimetype": "text/x-python",
   "name": "python",
   "nbconvert_exporter": "python",
   "pygments_lexer": "ipython3",
   "version": "3.9.10"
  },
  "toc": {
   "base_numbering": 1,
   "nav_menu": {},
   "number_sections": true,
   "sideBar": true,
   "skip_h1_title": false,
   "title_cell": "Table of Contents",
   "title_sidebar": "Contents",
   "toc_cell": false,
   "toc_position": {
    "height": "calc(100% - 180px)",
    "left": "10px",
    "top": "150px",
    "width": "350.214px"
   },
   "toc_section_display": true,
   "toc_window_display": true
  }
 },
 "nbformat": 4,
 "nbformat_minor": 5
}
