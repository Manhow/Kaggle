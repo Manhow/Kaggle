{
 "cells": [
  {
   "cell_type": "markdown",
   "id": "12f3fb3e",
   "metadata": {},
   "source": [
    "# Spaceship Titanic"
   ]
  },
  {
   "cell_type": "markdown",
   "id": "128852a3",
   "metadata": {},
   "source": [
    "Welcome to the year 2912, where your data science skills are needed to solve a cosmic mystery. We've received a transmission from four lightyears away and things aren't looking good.\n",
    "\n",
    "The Spaceship Titanic was an interstellar passenger liner launched a month ago. With almost 13,000 passengers on board, the vessel set out on its maiden voyage transporting emigrants from our solar system to three newly habitable exoplanets orbiting nearby stars.\n",
    "\n",
    "While rounding Alpha Centauri en route to its first destination—the torrid 55 Cancri E—the unwary Spaceship Titanic collided with a spacetime anomaly hidden within a dust cloud. Sadly, it met a similar fate as its namesake from 1000 years before. Though the ship stayed intact, almost half of the passengers were transported to an alternate dimension!\n",
    "\n",
    "To help rescue crews and retrieve the lost passengers, you are challenged to predict which passengers were transported by the anomaly using records recovered from the spaceship’s damaged computer system.\n",
    "\n",
    "Help save them and change history!\n",
    "\n",
    "**train.csv - Personal records for about two-thirds (~8700) of the passengers, to be used as training data.**\n",
    "* `PassengerId` - A unique Id for each passenger. Each Id takes the form gggg_pp where gggg indicates a group the passenger is travelling with and pp is their number within the group. People in a group are often family members, but not always.\n",
    "* `HomePlanet` - The planet the passenger departed from, typically their planet of permanent residence.\n",
    "* `CryoSleep` - Indicates whether the passenger elected to be put into suspended animation for the duration of the voyage. Passengers in cryosleep are confined to their cabins.\n",
    "* `Cabin` - The cabin number where the passenger is staying. Takes the form deck/num/side, where side can be either P for Port or S for Starboard.\n",
    "* `Destination` - The planet the passenger will be debarking to.\n",
    "* `Age`- The age of the passenger.\n",
    "* `VIP` - Whether the passenger has paid for special VIP service during the voyage.\n",
    "* `RoomService, FoodCourt, ShoppingMall, Spa, VRDeck` - Amount the passenger has billed at each of the Spaceship Titanic's many luxury amenities.\n",
    "* `Name` - The first and last names of the passenger.\n",
    "* `Transported` - Whether the passenger was transported to another dimension. This is the `target`, the column you are trying to predict.\n",
    "**test.csv - Personal records for the remaining one-third (~4300) of the passengers, to be used as test data.Your task is to predict the value of Transported for the passengers in this set.**\n",
    "**sample_submission.csv - A submission file in the correct format.**\n",
    "* `PassengerId` - Id for each passenger in the test set.\n",
    "* `Transported` - The target. For each passenger, predict either True or False.\n",
    "\n",
    "Metrics: `accuracy`\n"
   ]
  },
  {
   "cell_type": "markdown",
   "id": "a91b170c",
   "metadata": {},
   "source": [
    "# Data overview"
   ]
  },
  {
   "cell_type": "code",
   "execution_count": 48,
   "id": "a1895880",
   "metadata": {
    "ExecuteTime": {
     "end_time": "2022-02-27T13:21:16.811548Z",
     "start_time": "2022-02-27T13:21:15.276074Z"
    }
   },
   "outputs": [
    {
     "name": "stdout",
     "output_type": "stream",
     "text": [
      "Train Shape: (8693, 14)\n",
      "Missing Data: 2324\n",
      "Duplicates: 0\n",
      "\n",
      "Test Shape: (4277, 13)\n",
      "Missing Data: 1117\n",
      "Duplicates: 0\n",
      "\n",
      "No duplicates\n"
     ]
    }
   ],
   "source": [
    "# Import all the tools\n",
    "import warnings\n",
    "from tqdm import tqdm_notebook\n",
    "import seaborn as sns\n",
    "from plotly.offline import init_notebook_mode\n",
    "import matplotlib.pyplot as plt\n",
    "import plotly.graph_objects as go\n",
    "import plotly.express as px\n",
    "import pandas as pd\n",
    "import numpy as np\n",
    "from sklearn.experimental import enable_iterative_imputer\n",
    "from tqdm.notebook import tqdm\n",
    "from sklearn.neighbors import KNeighborsClassifier\n",
    "from sklearn.model_selection import StratifiedKFold\n",
    "from sklearn.model_selection import train_test_split\n",
    "from sklearn.ensemble import ExtraTreesClassifier, BaggingClassifier, RandomForestClassifier\n",
    "from sklearn.metrics import accuracy_score\n",
    "# from sklearn.impute import IterativeImputer\n",
    "warnings.filterwarnings(\"ignore\")\n",
    "\n",
    "train = pd.read_csv(\"C:/Users\\misha\\Desktop/sample_project_1/spaceship/train.csv\")\n",
    "test = pd.read_csv(\"C:/Users\\misha\\Desktop/sample_project_1/spaceship/test.csv\")\n",
    "sub = pd.read_csv('C:/Users\\misha\\Desktop/sample_project_1/spaceship/sample_submission.csv')\n",
    "\n",
    "# plots inside the notebook\n",
    "%matplotlib inline\n",
    "print('Train Shape: {}\\nMissing Data: {}\\nDuplicates: {}\\n'.format(\n",
    "    train.shape, train.isna().sum().sum(), train.duplicated().sum()))\n",
    "print('Test Shape: {}\\nMissing Data: {}\\nDuplicates: {}\\n'.format(\n",
    "    test.shape, test.isna().sum().sum(), test.duplicated().sum()))\n",
    "train_d = train.drop_duplicates()\n",
    "\n",
    "if train.shape == train_d.shape:\n",
    "    print('No duplicates')\n",
    "else:\n",
    "    print('Dropping Duplicates\\nNew Train Shape: {}'.format(train_d.shape))"
   ]
  },
  {
   "cell_type": "code",
   "execution_count": 5,
   "id": "1d08ef1e",
   "metadata": {
    "ExecuteTime": {
     "end_time": "2022-02-27T13:21:16.827551Z",
     "start_time": "2022-02-27T13:21:16.812548Z"
    }
   },
   "outputs": [
    {
     "data": {
      "text/html": [
       "<div>\n",
       "<style scoped>\n",
       "    .dataframe tbody tr th:only-of-type {\n",
       "        vertical-align: middle;\n",
       "    }\n",
       "\n",
       "    .dataframe tbody tr th {\n",
       "        vertical-align: top;\n",
       "    }\n",
       "\n",
       "    .dataframe thead th {\n",
       "        text-align: right;\n",
       "    }\n",
       "</style>\n",
       "<table border=\"1\" class=\"dataframe\">\n",
       "  <thead>\n",
       "    <tr style=\"text-align: right;\">\n",
       "      <th></th>\n",
       "      <th>PassengerId</th>\n",
       "      <th>HomePlanet</th>\n",
       "      <th>CryoSleep</th>\n",
       "      <th>Cabin</th>\n",
       "      <th>Destination</th>\n",
       "      <th>Age</th>\n",
       "      <th>VIP</th>\n",
       "      <th>RoomService</th>\n",
       "      <th>FoodCourt</th>\n",
       "      <th>ShoppingMall</th>\n",
       "      <th>Spa</th>\n",
       "      <th>VRDeck</th>\n",
       "      <th>Name</th>\n",
       "      <th>Transported</th>\n",
       "    </tr>\n",
       "  </thead>\n",
       "  <tbody>\n",
       "    <tr>\n",
       "      <th>0</th>\n",
       "      <td>0001_01</td>\n",
       "      <td>Europa</td>\n",
       "      <td>False</td>\n",
       "      <td>B/0/P</td>\n",
       "      <td>TRAPPIST-1e</td>\n",
       "      <td>39.0</td>\n",
       "      <td>False</td>\n",
       "      <td>0.0</td>\n",
       "      <td>0.0</td>\n",
       "      <td>0.0</td>\n",
       "      <td>0.0</td>\n",
       "      <td>0.0</td>\n",
       "      <td>Maham Ofracculy</td>\n",
       "      <td>False</td>\n",
       "    </tr>\n",
       "    <tr>\n",
       "      <th>1</th>\n",
       "      <td>0002_01</td>\n",
       "      <td>Earth</td>\n",
       "      <td>False</td>\n",
       "      <td>F/0/S</td>\n",
       "      <td>TRAPPIST-1e</td>\n",
       "      <td>24.0</td>\n",
       "      <td>False</td>\n",
       "      <td>109.0</td>\n",
       "      <td>9.0</td>\n",
       "      <td>25.0</td>\n",
       "      <td>549.0</td>\n",
       "      <td>44.0</td>\n",
       "      <td>Juanna Vines</td>\n",
       "      <td>True</td>\n",
       "    </tr>\n",
       "    <tr>\n",
       "      <th>2</th>\n",
       "      <td>0003_01</td>\n",
       "      <td>Europa</td>\n",
       "      <td>False</td>\n",
       "      <td>A/0/S</td>\n",
       "      <td>TRAPPIST-1e</td>\n",
       "      <td>58.0</td>\n",
       "      <td>True</td>\n",
       "      <td>43.0</td>\n",
       "      <td>3576.0</td>\n",
       "      <td>0.0</td>\n",
       "      <td>6715.0</td>\n",
       "      <td>49.0</td>\n",
       "      <td>Altark Susent</td>\n",
       "      <td>False</td>\n",
       "    </tr>\n",
       "  </tbody>\n",
       "</table>\n",
       "</div>"
      ],
      "text/plain": [
       "  PassengerId HomePlanet CryoSleep  Cabin  Destination   Age    VIP  \\\n",
       "0     0001_01     Europa     False  B/0/P  TRAPPIST-1e  39.0  False   \n",
       "1     0002_01      Earth     False  F/0/S  TRAPPIST-1e  24.0  False   \n",
       "2     0003_01     Europa     False  A/0/S  TRAPPIST-1e  58.0   True   \n",
       "\n",
       "   RoomService  FoodCourt  ShoppingMall     Spa  VRDeck             Name  \\\n",
       "0          0.0        0.0           0.0     0.0     0.0  Maham Ofracculy   \n",
       "1        109.0        9.0          25.0   549.0    44.0     Juanna Vines   \n",
       "2         43.0     3576.0           0.0  6715.0    49.0    Altark Susent   \n",
       "\n",
       "   Transported  \n",
       "0        False  \n",
       "1         True  \n",
       "2        False  "
      ]
     },
     "execution_count": 5,
     "metadata": {},
     "output_type": "execute_result"
    }
   ],
   "source": [
    "train.head(3)"
   ]
  },
  {
   "cell_type": "code",
   "execution_count": 6,
   "id": "6b4927d2",
   "metadata": {
    "ExecuteTime": {
     "end_time": "2022-02-27T13:21:16.843555Z",
     "start_time": "2022-02-27T13:21:16.828553Z"
    }
   },
   "outputs": [
    {
     "data": {
      "text/html": [
       "<div>\n",
       "<style scoped>\n",
       "    .dataframe tbody tr th:only-of-type {\n",
       "        vertical-align: middle;\n",
       "    }\n",
       "\n",
       "    .dataframe tbody tr th {\n",
       "        vertical-align: top;\n",
       "    }\n",
       "\n",
       "    .dataframe thead th {\n",
       "        text-align: right;\n",
       "    }\n",
       "</style>\n",
       "<table border=\"1\" class=\"dataframe\">\n",
       "  <thead>\n",
       "    <tr style=\"text-align: right;\">\n",
       "      <th></th>\n",
       "      <th>PassengerId</th>\n",
       "      <th>HomePlanet</th>\n",
       "      <th>CryoSleep</th>\n",
       "      <th>Cabin</th>\n",
       "      <th>Destination</th>\n",
       "      <th>Age</th>\n",
       "      <th>VIP</th>\n",
       "      <th>RoomService</th>\n",
       "      <th>FoodCourt</th>\n",
       "      <th>ShoppingMall</th>\n",
       "      <th>Spa</th>\n",
       "      <th>VRDeck</th>\n",
       "      <th>Name</th>\n",
       "    </tr>\n",
       "  </thead>\n",
       "  <tbody>\n",
       "    <tr>\n",
       "      <th>0</th>\n",
       "      <td>0013_01</td>\n",
       "      <td>Earth</td>\n",
       "      <td>True</td>\n",
       "      <td>G/3/S</td>\n",
       "      <td>TRAPPIST-1e</td>\n",
       "      <td>27.0</td>\n",
       "      <td>False</td>\n",
       "      <td>0.0</td>\n",
       "      <td>0.0</td>\n",
       "      <td>0.0</td>\n",
       "      <td>0.0</td>\n",
       "      <td>0.0</td>\n",
       "      <td>Nelly Carsoning</td>\n",
       "    </tr>\n",
       "    <tr>\n",
       "      <th>1</th>\n",
       "      <td>0018_01</td>\n",
       "      <td>Earth</td>\n",
       "      <td>False</td>\n",
       "      <td>F/4/S</td>\n",
       "      <td>TRAPPIST-1e</td>\n",
       "      <td>19.0</td>\n",
       "      <td>False</td>\n",
       "      <td>0.0</td>\n",
       "      <td>9.0</td>\n",
       "      <td>0.0</td>\n",
       "      <td>2823.0</td>\n",
       "      <td>0.0</td>\n",
       "      <td>Lerome Peckers</td>\n",
       "    </tr>\n",
       "    <tr>\n",
       "      <th>2</th>\n",
       "      <td>0019_01</td>\n",
       "      <td>Europa</td>\n",
       "      <td>True</td>\n",
       "      <td>C/0/S</td>\n",
       "      <td>55 Cancri e</td>\n",
       "      <td>31.0</td>\n",
       "      <td>False</td>\n",
       "      <td>0.0</td>\n",
       "      <td>0.0</td>\n",
       "      <td>0.0</td>\n",
       "      <td>0.0</td>\n",
       "      <td>0.0</td>\n",
       "      <td>Sabih Unhearfus</td>\n",
       "    </tr>\n",
       "  </tbody>\n",
       "</table>\n",
       "</div>"
      ],
      "text/plain": [
       "  PassengerId HomePlanet CryoSleep  Cabin  Destination   Age    VIP  \\\n",
       "0     0013_01      Earth      True  G/3/S  TRAPPIST-1e  27.0  False   \n",
       "1     0018_01      Earth     False  F/4/S  TRAPPIST-1e  19.0  False   \n",
       "2     0019_01     Europa      True  C/0/S  55 Cancri e  31.0  False   \n",
       "\n",
       "   RoomService  FoodCourt  ShoppingMall     Spa  VRDeck             Name  \n",
       "0          0.0        0.0           0.0     0.0     0.0  Nelly Carsoning  \n",
       "1          0.0        9.0           0.0  2823.0     0.0   Lerome Peckers  \n",
       "2          0.0        0.0           0.0     0.0     0.0  Sabih Unhearfus  "
      ]
     },
     "execution_count": 6,
     "metadata": {},
     "output_type": "execute_result"
    }
   ],
   "source": [
    "test.head(3)"
   ]
  },
  {
   "cell_type": "markdown",
   "id": "865411c1",
   "metadata": {},
   "source": [
    "This is a classificataion task with two classes: 1 or 0. Let's encode the target value"
   ]
  },
  {
   "cell_type": "code",
   "execution_count": 4,
   "id": "2dc3b1ff",
   "metadata": {
    "ExecuteTime": {
     "end_time": "2022-02-27T13:21:16.859558Z",
     "start_time": "2022-02-27T13:21:16.844555Z"
    }
   },
   "outputs": [
    {
     "data": {
      "text/html": [
       "<div>\n",
       "<style scoped>\n",
       "    .dataframe tbody tr th:only-of-type {\n",
       "        vertical-align: middle;\n",
       "    }\n",
       "\n",
       "    .dataframe tbody tr th {\n",
       "        vertical-align: top;\n",
       "    }\n",
       "\n",
       "    .dataframe thead th {\n",
       "        text-align: right;\n",
       "    }\n",
       "</style>\n",
       "<table border=\"1\" class=\"dataframe\">\n",
       "  <thead>\n",
       "    <tr style=\"text-align: right;\">\n",
       "      <th></th>\n",
       "      <th>PassengerId</th>\n",
       "      <th>HomePlanet</th>\n",
       "      <th>CryoSleep</th>\n",
       "      <th>Cabin</th>\n",
       "      <th>Destination</th>\n",
       "      <th>Age</th>\n",
       "      <th>VIP</th>\n",
       "      <th>RoomService</th>\n",
       "      <th>FoodCourt</th>\n",
       "      <th>ShoppingMall</th>\n",
       "      <th>Spa</th>\n",
       "      <th>VRDeck</th>\n",
       "      <th>Name</th>\n",
       "      <th>Transported</th>\n",
       "    </tr>\n",
       "  </thead>\n",
       "  <tbody>\n",
       "    <tr>\n",
       "      <th>0</th>\n",
       "      <td>0001_01</td>\n",
       "      <td>Europa</td>\n",
       "      <td>False</td>\n",
       "      <td>B/0/P</td>\n",
       "      <td>TRAPPIST-1e</td>\n",
       "      <td>39.0</td>\n",
       "      <td>False</td>\n",
       "      <td>0.0</td>\n",
       "      <td>0.0</td>\n",
       "      <td>0.0</td>\n",
       "      <td>0.0</td>\n",
       "      <td>0.0</td>\n",
       "      <td>Maham Ofracculy</td>\n",
       "      <td>0</td>\n",
       "    </tr>\n",
       "    <tr>\n",
       "      <th>1</th>\n",
       "      <td>0002_01</td>\n",
       "      <td>Earth</td>\n",
       "      <td>False</td>\n",
       "      <td>F/0/S</td>\n",
       "      <td>TRAPPIST-1e</td>\n",
       "      <td>24.0</td>\n",
       "      <td>False</td>\n",
       "      <td>109.0</td>\n",
       "      <td>9.0</td>\n",
       "      <td>25.0</td>\n",
       "      <td>549.0</td>\n",
       "      <td>44.0</td>\n",
       "      <td>Juanna Vines</td>\n",
       "      <td>1</td>\n",
       "    </tr>\n",
       "    <tr>\n",
       "      <th>2</th>\n",
       "      <td>0003_01</td>\n",
       "      <td>Europa</td>\n",
       "      <td>False</td>\n",
       "      <td>A/0/S</td>\n",
       "      <td>TRAPPIST-1e</td>\n",
       "      <td>58.0</td>\n",
       "      <td>True</td>\n",
       "      <td>43.0</td>\n",
       "      <td>3576.0</td>\n",
       "      <td>0.0</td>\n",
       "      <td>6715.0</td>\n",
       "      <td>49.0</td>\n",
       "      <td>Altark Susent</td>\n",
       "      <td>0</td>\n",
       "    </tr>\n",
       "  </tbody>\n",
       "</table>\n",
       "</div>"
      ],
      "text/plain": [
       "  PassengerId HomePlanet CryoSleep  Cabin  Destination   Age    VIP  \\\n",
       "0     0001_01     Europa     False  B/0/P  TRAPPIST-1e  39.0  False   \n",
       "1     0002_01      Earth     False  F/0/S  TRAPPIST-1e  24.0  False   \n",
       "2     0003_01     Europa     False  A/0/S  TRAPPIST-1e  58.0   True   \n",
       "\n",
       "   RoomService  FoodCourt  ShoppingMall     Spa  VRDeck             Name  \\\n",
       "0          0.0        0.0           0.0     0.0     0.0  Maham Ofracculy   \n",
       "1        109.0        9.0          25.0   549.0    44.0     Juanna Vines   \n",
       "2         43.0     3576.0           0.0  6715.0    49.0    Altark Susent   \n",
       "\n",
       "   Transported  \n",
       "0            0  \n",
       "1            1  \n",
       "2            0  "
      ]
     },
     "execution_count": 4,
     "metadata": {},
     "output_type": "execute_result"
    }
   ],
   "source": [
    "train['Transported'] = train['Transported'].astype(int)\n",
    "train.head(3)"
   ]
  },
  {
   "cell_type": "markdown",
   "id": "0f0307e1",
   "metadata": {},
   "source": [
    "# EDA & FE"
   ]
  },
  {
   "cell_type": "code",
   "execution_count": 5,
   "id": "b637614e",
   "metadata": {
    "ExecuteTime": {
     "end_time": "2022-02-27T13:21:16.875562Z",
     "start_time": "2022-02-27T13:21:16.860560Z"
    },
    "scrolled": true
   },
   "outputs": [
    {
     "data": {
      "text/plain": [
       "PassengerId      object\n",
       "HomePlanet       object\n",
       "CryoSleep        object\n",
       "Cabin            object\n",
       "Destination      object\n",
       "Age             float64\n",
       "VIP              object\n",
       "RoomService     float64\n",
       "FoodCourt       float64\n",
       "ShoppingMall    float64\n",
       "Spa             float64\n",
       "VRDeck          float64\n",
       "Name             object\n",
       "Transported       int32\n",
       "dtype: object"
      ]
     },
     "execution_count": 5,
     "metadata": {},
     "output_type": "execute_result"
    }
   ],
   "source": [
    "train.dtypes"
   ]
  },
  {
   "cell_type": "code",
   "execution_count": 6,
   "id": "cd43a4b3",
   "metadata": {
    "ExecuteTime": {
     "end_time": "2022-02-27T13:21:16.891566Z",
     "start_time": "2022-02-27T13:21:16.876563Z"
    },
    "scrolled": false
   },
   "outputs": [
    {
     "data": {
      "text/plain": [
       "PassengerId       0\n",
       "HomePlanet      201\n",
       "CryoSleep       217\n",
       "Cabin           199\n",
       "Destination     182\n",
       "Age             179\n",
       "VIP             203\n",
       "RoomService     181\n",
       "FoodCourt       183\n",
       "ShoppingMall    208\n",
       "Spa             183\n",
       "VRDeck          188\n",
       "Name            200\n",
       "Transported       0\n",
       "dtype: int64"
      ]
     },
     "execution_count": 6,
     "metadata": {},
     "output_type": "execute_result"
    }
   ],
   "source": [
    "train.isna().sum()"
   ]
  },
  {
   "cell_type": "code",
   "execution_count": 7,
   "id": "2d6f2364",
   "metadata": {
    "ExecuteTime": {
     "end_time": "2022-02-27T13:21:16.907569Z",
     "start_time": "2022-02-27T13:21:16.892567Z"
    }
   },
   "outputs": [
    {
     "data": {
      "text/plain": [
       "PassengerId       0\n",
       "HomePlanet       87\n",
       "CryoSleep        93\n",
       "Cabin           100\n",
       "Destination      92\n",
       "Age              91\n",
       "VIP              93\n",
       "RoomService      82\n",
       "FoodCourt       106\n",
       "ShoppingMall     98\n",
       "Spa             101\n",
       "VRDeck           80\n",
       "Name             94\n",
       "dtype: int64"
      ]
     },
     "execution_count": 7,
     "metadata": {},
     "output_type": "execute_result"
    }
   ],
   "source": [
    "test.isna().sum()"
   ]
  },
  {
   "cell_type": "markdown",
   "id": "ee75ade0",
   "metadata": {},
   "source": [
    "## Target"
   ]
  },
  {
   "cell_type": "code",
   "execution_count": 7,
   "id": "e92f0546",
   "metadata": {
    "ExecuteTime": {
     "end_time": "2022-02-27T13:21:17.019594Z",
     "start_time": "2022-02-27T13:21:16.908570Z"
    }
   },
   "outputs": [
    {
     "data": {
      "image/png": "[encoded data removed]",
      "text/plain": [
       "<Figure size 720x360 with 1 Axes>"
      ]
     },
     "metadata": {
      "needs_background": "light"
     },
     "output_type": "display_data"
    }
   ],
   "source": [
    "plt.figure(figsize=(10,5))\n",
    "sns.countplot(y=train['Transported'], palette='cool', orient='h')\n",
    "plt.show()"
   ]
  },
  {
   "cell_type": "markdown",
   "id": "694e9b98",
   "metadata": {},
   "source": [
    "## Create features"
   ]
  },
  {
   "cell_type": "code",
   "execution_count": 49,
   "id": "fb054080",
   "metadata": {
    "ExecuteTime": {
     "end_time": "2022-02-27T13:21:17.099612Z",
     "start_time": "2022-02-27T13:21:17.020596Z"
    },
    "scrolled": true
   },
   "outputs": [
    {
     "name": "stdout",
     "output_type": "stream",
     "text": [
      "(8693, 25) (4277, 25)\n"
     ]
    }
   ],
   "source": [
    "y = train['Transported']\n",
    "train.drop('Transported',axis=1, inplace=True)\n",
    "y = y.astype(int)\n",
    "\n",
    "train['Ageismissing'] = train['Age'].isnull()\n",
    "train['Ageismissing'] = train['Ageismissing'].astype(int)\n",
    "train['Age'].fillna(train['Age'].mean(), inplace=True)\n",
    "test['Ageismissing'] = test['Age'].isnull()\n",
    "test['Ageismissing'] = test['Ageismissing'].astype(int)\n",
    "test['Age'].fillna(test['Age'].mean(), inplace=True)\n",
    "\n",
    "train['RoomService'].fillna(0, inplace=True)\n",
    "test['RoomService'].fillna(0, inplace=True)\n",
    "train['PaidRoomService'] = train['RoomService'] > 0\n",
    "train['PaidRoomService'] = train['PaidRoomService'].astype(int)\n",
    "test['PaidRoomService'] = test['RoomService'] > 0\n",
    "test['PaidRoomService'] = test['PaidRoomService'].astype(int)\n",
    "\n",
    "train['FoodCourt'].fillna(0, inplace=True)\n",
    "test['FoodCourt'].fillna(0, inplace=True)\n",
    "train['PaidFoodCourt'] = train['FoodCourt'] > 0\n",
    "train['PaidFoodCourt'] = train['PaidFoodCourt'].astype(int)\n",
    "test['PaidFoodCourt'] = test['FoodCourt'] > 0\n",
    "test['PaidFoodCourt'] = test['PaidFoodCourt'].astype(int)\n",
    "\n",
    "train['ShoppingMall'].fillna(0, inplace=True)\n",
    "test['ShoppingMall'].fillna(0, inplace=True)\n",
    "train['PaidShoppingMall'] = train['ShoppingMall'] > 0\n",
    "train['PaidShoppingMall'] = train['PaidShoppingMall'].astype(int)\n",
    "test['PaidShoppingMall'] = test['ShoppingMall'] > 0\n",
    "test['PaidShoppingMall'] = test['PaidShoppingMall'].astype(int)\n",
    "\n",
    "train['Spa'].fillna(0, inplace=True)\n",
    "test['Spa'].fillna(0, inplace=True)\n",
    "train['PaidSpa'] = train['Spa'] > 0\n",
    "train['PaidSpa'] = train['PaidSpa'].astype(int)\n",
    "test['PaidSpa'] = test['Spa'] > 0\n",
    "test['PaidSpa'] = test['PaidSpa'].astype(int)\n",
    "\n",
    "train['VRDeck'].fillna(0, inplace=True)\n",
    "test['VRDeck'].fillna(0, inplace=True)\n",
    "train['PaidVRDeck'] = train['VRDeck'] > 0\n",
    "train['PaidVRDeck'] = train['PaidVRDeck'].astype(int)\n",
    "test['PaidVRDeck'] = test['VRDeck'] > 0\n",
    "test['PaidVRDeck'] = test['PaidVRDeck'].astype(int)\n",
    "\n",
    "\n",
    "\n",
    "train['TotalSpend'] = train['RoomService'] + train['FoodCourt'] + train['ShoppingMall'] + train['Spa'] + train['VRDeck']\n",
    "train['PctRoomService'] = train['RoomService']/train['TotalSpend']\n",
    "train['PctFoodCourt'] = train['FoodCourt']/train['TotalSpend']\n",
    "train['PctShoppingMall'] = train['ShoppingMall']/train['TotalSpend']\n",
    "train['PctSpa'] = train['Spa']/train['TotalSpend']\n",
    "train['PctVRDeck'] = train['VRDeck']/train['TotalSpend']\n",
    "fill_cols = ['PctRoomService', 'PctFoodCourt', 'PctShoppingMall', 'PctSpa', 'PctVRDeck']\n",
    "train[fill_cols] = train[fill_cols].fillna(0)\n",
    "\n",
    "test['TotalSpend'] = test['RoomService'] + test['FoodCourt'] + test['ShoppingMall'] + test['Spa'] + test['VRDeck']\n",
    "test['PctRoomService'] = test['RoomService']/test['TotalSpend']\n",
    "test['PctFoodCourt'] = test['FoodCourt']/test['TotalSpend']\n",
    "test['PctShoppingMall'] = test['ShoppingMall']/test['TotalSpend']\n",
    "test['PctSpa'] = test['Spa']/test['TotalSpend']\n",
    "test['PctVRDeck'] = test['VRDeck']/test['TotalSpend']\n",
    "fill_cols = ['PctRoomService', 'PctFoodCourt', 'PctShoppingMall', 'PctSpa', 'PctVRDeck']\n",
    "test[fill_cols] = test[fill_cols].fillna(0)\n",
    "\n",
    "# cabin\n",
    "train.loc[train['Cabin'].isnull(), 'Cabin'] = 'None/None/None'\n",
    "test.loc[test['Cabin'].isnull(), 'Cabin'] = 'None/None/None'\n",
    "# train['Deck'] = train['Cabin'].apply(lambda x: str(x).split('/')[0])\n",
    "# train['Side'] = train['Cabin'].apply(lambda x: str(x).split('/')[2])\n",
    "# test['Deck'] = test['Cabin'].apply(lambda x: str(x).split('/')[0])\n",
    "# test['Side'] = test['Cabin'].apply(lambda x: str(x).split('/')[2])\n",
    "train[['deck', 'num','side']] = train['Cabin'].str.split('/', expand=True)\n",
    "test[['deck', 'num','side']] = test['Cabin'].str.split('/', expand=True)\n",
    "\n",
    "\n",
    "train['deck']=train['deck'].replace({'A':0, 'B':1, 'C':2, 'D':3, 'E':4, 'F':5, 'G':6, 'T':7, 'None':8})\n",
    "test['deck']=test['deck'].replace({'A':0, 'B':1, 'C':2, 'D':3, 'E':4, 'F':5, 'G':6, 'T':7, 'None':8})\n",
    "train['side']=train['side'].replace({'S':0, 'P':1,'None':2})\n",
    "test['side']=test['side'].replace({'S':0, 'P':1,'None':2})\n",
    "# train_deck = pd.get_dummies(train[[\"Deck\"]])\n",
    "# test_deck = pd.get_dummies(test[[\"Deck\"]])\n",
    "# train = pd.concat([train, train_deck], axis=1)\n",
    "# test = pd.concat([test, test_deck], axis=1)\n",
    "# train.drop('Deck', axis=1, inplace=True)\n",
    "# test.drop('Deck', axis=1, inplace=True)\n",
    "\n",
    "# train_Side = pd.get_dummies(train[[\"Side\"]])\n",
    "# test_Side = pd.get_dummies(test[[\"Side\"]])\n",
    "# train = pd.concat([train, train_Side], axis=1)\n",
    "# test = pd.concat([test, test_Side], axis=1)\n",
    "# train.drop('Side', axis=1, inplace=True)\n",
    "# test.drop('Side', axis=1, inplace=True)\n",
    "\n",
    "\n",
    "# HomePlanet\n",
    "train['HomePlanet'].fillna('None', inplace=True)\n",
    "test['HomePlanet'].fillna('None', inplace=True)\n",
    "train['HomePlanet'] = train['HomePlanet'].map({'Earth': 0, 'Europa': 1,'Mars': 2, 'None': 3})\n",
    "test['HomePlanet'] = test['HomePlanet'].map({'Earth': 0, 'Europa': 1,'Mars': 2, 'None': 3})\n",
    "\n",
    "# Destination\n",
    "train['Destination'].fillna('None', inplace=True)\n",
    "test['Destination'].fillna('None', inplace=True)\n",
    "train['Destination'] = train['Destination'].map({'55 Cancri e': 0, 'PSO J318.5-22': 1,'TRAPPIST-1e': 2, 'None': 3})\n",
    "test['Destination'] = test['Destination'].map({'55 Cancri e': 0, 'PSO J318.5-22': 1,'TRAPPIST-1e': 2, 'None': 3})\n",
    "\n",
    "# PassengerId\n",
    "train.drop('PassengerId', axis=1, inplace=True)\n",
    "test.drop('PassengerId', axis=1, inplace=True)\n",
    "# Name\n",
    "train.drop('Name', axis=1, inplace=True)\n",
    "test.drop('Name', axis=1, inplace=True)\n",
    "\n",
    "# CryoSleep & VIP\n",
    "train['CryoSleep'] = train['CryoSleep'].fillna(False)\n",
    "train['VIP'] = train['VIP'].fillna(False)\n",
    "test['CryoSleep'] = test['CryoSleep'].fillna(False)\n",
    "test['VIP'] = test['VIP'].fillna(False)\n",
    "\n",
    "bool_type = ['VIP', 'CryoSleep']\n",
    "train[bool_type] = train[bool_type].astype(int)\n",
    "test[bool_type] = test[bool_type].astype(int)\n",
    "\n",
    "train['PaidVRDeck'] = train['PaidVRDeck'].astype(int)\n",
    "\n",
    "train.drop('Cabin', axis=1, inplace=True)\n",
    "test.drop('Cabin', axis=1, inplace=True)\n",
    "\n",
    "\n",
    "print(train.shape, test.shape)"
   ]
  },
  {
   "cell_type": "code",
   "execution_count": 50,
   "id": "190ede04",
   "metadata": {
    "ExecuteTime": {
     "end_time": "2022-02-27T13:21:17.115616Z",
     "start_time": "2022-02-27T13:21:17.101613Z"
    }
   },
   "outputs": [
    {
     "data": {
      "text/html": [
       "<div>\n",
       "<style scoped>\n",
       "    .dataframe tbody tr th:only-of-type {\n",
       "        vertical-align: middle;\n",
       "    }\n",
       "\n",
       "    .dataframe tbody tr th {\n",
       "        vertical-align: top;\n",
       "    }\n",
       "\n",
       "    .dataframe thead th {\n",
       "        text-align: right;\n",
       "    }\n",
       "</style>\n",
       "<table border=\"1\" class=\"dataframe\">\n",
       "  <thead>\n",
       "    <tr style=\"text-align: right;\">\n",
       "      <th></th>\n",
       "      <th>HomePlanet</th>\n",
       "      <th>CryoSleep</th>\n",
       "      <th>Destination</th>\n",
       "      <th>Age</th>\n",
       "      <th>VIP</th>\n",
       "      <th>RoomService</th>\n",
       "      <th>FoodCourt</th>\n",
       "      <th>ShoppingMall</th>\n",
       "      <th>Spa</th>\n",
       "      <th>VRDeck</th>\n",
       "      <th>...</th>\n",
       "      <th>PaidVRDeck</th>\n",
       "      <th>TotalSpend</th>\n",
       "      <th>PctRoomService</th>\n",
       "      <th>PctFoodCourt</th>\n",
       "      <th>PctShoppingMall</th>\n",
       "      <th>PctSpa</th>\n",
       "      <th>PctVRDeck</th>\n",
       "      <th>deck</th>\n",
       "      <th>num</th>\n",
       "      <th>side</th>\n",
       "    </tr>\n",
       "  </thead>\n",
       "  <tbody>\n",
       "    <tr>\n",
       "      <th>0</th>\n",
       "      <td>1</td>\n",
       "      <td>0</td>\n",
       "      <td>2</td>\n",
       "      <td>39.0</td>\n",
       "      <td>0</td>\n",
       "      <td>0.0</td>\n",
       "      <td>0.0</td>\n",
       "      <td>0.0</td>\n",
       "      <td>0.0</td>\n",
       "      <td>0.0</td>\n",
       "      <td>...</td>\n",
       "      <td>0</td>\n",
       "      <td>0.0</td>\n",
       "      <td>0.000000</td>\n",
       "      <td>0.000000</td>\n",
       "      <td>0.000000</td>\n",
       "      <td>0.000000</td>\n",
       "      <td>0.000000</td>\n",
       "      <td>1</td>\n",
       "      <td>0</td>\n",
       "      <td>1</td>\n",
       "    </tr>\n",
       "    <tr>\n",
       "      <th>1</th>\n",
       "      <td>0</td>\n",
       "      <td>0</td>\n",
       "      <td>2</td>\n",
       "      <td>24.0</td>\n",
       "      <td>0</td>\n",
       "      <td>109.0</td>\n",
       "      <td>9.0</td>\n",
       "      <td>25.0</td>\n",
       "      <td>549.0</td>\n",
       "      <td>44.0</td>\n",
       "      <td>...</td>\n",
       "      <td>1</td>\n",
       "      <td>736.0</td>\n",
       "      <td>0.148098</td>\n",
       "      <td>0.012228</td>\n",
       "      <td>0.033967</td>\n",
       "      <td>0.745924</td>\n",
       "      <td>0.059783</td>\n",
       "      <td>5</td>\n",
       "      <td>0</td>\n",
       "      <td>0</td>\n",
       "    </tr>\n",
       "  </tbody>\n",
       "</table>\n",
       "<p>2 rows × 25 columns</p>\n",
       "</div>"
      ],
      "text/plain": [
       "   HomePlanet  CryoSleep  Destination   Age  VIP  RoomService  FoodCourt  \\\n",
       "0           1          0            2  39.0    0          0.0        0.0   \n",
       "1           0          0            2  24.0    0        109.0        9.0   \n",
       "\n",
       "   ShoppingMall    Spa  VRDeck  ...  PaidVRDeck  TotalSpend  PctRoomService  \\\n",
       "0           0.0    0.0     0.0  ...           0         0.0        0.000000   \n",
       "1          25.0  549.0    44.0  ...           1       736.0        0.148098   \n",
       "\n",
       "   PctFoodCourt  PctShoppingMall    PctSpa  PctVRDeck  deck  num  side  \n",
       "0      0.000000         0.000000  0.000000   0.000000     1    0     1  \n",
       "1      0.012228         0.033967  0.745924   0.059783     5    0     0  \n",
       "\n",
       "[2 rows x 25 columns]"
      ]
     },
     "execution_count": 50,
     "metadata": {},
     "output_type": "execute_result"
    }
   ],
   "source": [
    "train.head(2)"
   ]
  },
  {
   "cell_type": "code",
   "execution_count": 51,
   "id": "39f41197",
   "metadata": {
    "ExecuteTime": {
     "end_time": "2022-02-27T13:21:17.131620Z",
     "start_time": "2022-02-27T13:21:17.116617Z"
    },
    "scrolled": false
   },
   "outputs": [
    {
     "data": {
      "text/html": [
       "<div>\n",
       "<style scoped>\n",
       "    .dataframe tbody tr th:only-of-type {\n",
       "        vertical-align: middle;\n",
       "    }\n",
       "\n",
       "    .dataframe tbody tr th {\n",
       "        vertical-align: top;\n",
       "    }\n",
       "\n",
       "    .dataframe thead th {\n",
       "        text-align: right;\n",
       "    }\n",
       "</style>\n",
       "<table border=\"1\" class=\"dataframe\">\n",
       "  <thead>\n",
       "    <tr style=\"text-align: right;\">\n",
       "      <th></th>\n",
       "      <th>HomePlanet</th>\n",
       "      <th>CryoSleep</th>\n",
       "      <th>Destination</th>\n",
       "      <th>Age</th>\n",
       "      <th>VIP</th>\n",
       "      <th>RoomService</th>\n",
       "      <th>FoodCourt</th>\n",
       "      <th>ShoppingMall</th>\n",
       "      <th>Spa</th>\n",
       "      <th>VRDeck</th>\n",
       "      <th>...</th>\n",
       "      <th>PaidVRDeck</th>\n",
       "      <th>TotalSpend</th>\n",
       "      <th>PctRoomService</th>\n",
       "      <th>PctFoodCourt</th>\n",
       "      <th>PctShoppingMall</th>\n",
       "      <th>PctSpa</th>\n",
       "      <th>PctVRDeck</th>\n",
       "      <th>deck</th>\n",
       "      <th>num</th>\n",
       "      <th>side</th>\n",
       "    </tr>\n",
       "  </thead>\n",
       "  <tbody>\n",
       "    <tr>\n",
       "      <th>0</th>\n",
       "      <td>0</td>\n",
       "      <td>1</td>\n",
       "      <td>2</td>\n",
       "      <td>27.0</td>\n",
       "      <td>0</td>\n",
       "      <td>0.0</td>\n",
       "      <td>0.0</td>\n",
       "      <td>0.0</td>\n",
       "      <td>0.0</td>\n",
       "      <td>0.0</td>\n",
       "      <td>...</td>\n",
       "      <td>0</td>\n",
       "      <td>0.0</td>\n",
       "      <td>0.0</td>\n",
       "      <td>0.000000</td>\n",
       "      <td>0.0</td>\n",
       "      <td>0.000000</td>\n",
       "      <td>0.0</td>\n",
       "      <td>6</td>\n",
       "      <td>3</td>\n",
       "      <td>0</td>\n",
       "    </tr>\n",
       "    <tr>\n",
       "      <th>1</th>\n",
       "      <td>0</td>\n",
       "      <td>0</td>\n",
       "      <td>2</td>\n",
       "      <td>19.0</td>\n",
       "      <td>0</td>\n",
       "      <td>0.0</td>\n",
       "      <td>9.0</td>\n",
       "      <td>0.0</td>\n",
       "      <td>2823.0</td>\n",
       "      <td>0.0</td>\n",
       "      <td>...</td>\n",
       "      <td>0</td>\n",
       "      <td>2832.0</td>\n",
       "      <td>0.0</td>\n",
       "      <td>0.003178</td>\n",
       "      <td>0.0</td>\n",
       "      <td>0.996822</td>\n",
       "      <td>0.0</td>\n",
       "      <td>5</td>\n",
       "      <td>4</td>\n",
       "      <td>0</td>\n",
       "    </tr>\n",
       "  </tbody>\n",
       "</table>\n",
       "<p>2 rows × 25 columns</p>\n",
       "</div>"
      ],
      "text/plain": [
       "   HomePlanet  CryoSleep  Destination   Age  VIP  RoomService  FoodCourt  \\\n",
       "0           0          1            2  27.0    0          0.0        0.0   \n",
       "1           0          0            2  19.0    0          0.0        9.0   \n",
       "\n",
       "   ShoppingMall     Spa  VRDeck  ...  PaidVRDeck  TotalSpend  PctRoomService  \\\n",
       "0           0.0     0.0     0.0  ...           0         0.0             0.0   \n",
       "1           0.0  2823.0     0.0  ...           0      2832.0             0.0   \n",
       "\n",
       "   PctFoodCourt  PctShoppingMall    PctSpa  PctVRDeck  deck  num  side  \n",
       "0      0.000000              0.0  0.000000        0.0     6    3     0  \n",
       "1      0.003178              0.0  0.996822        0.0     5    4     0  \n",
       "\n",
       "[2 rows x 25 columns]"
      ]
     },
     "execution_count": 51,
     "metadata": {},
     "output_type": "execute_result"
    }
   ],
   "source": [
    "test.head(2)"
   ]
  },
  {
   "cell_type": "code",
   "execution_count": 12,
   "id": "aebd7811",
   "metadata": {
    "ExecuteTime": {
     "end_time": "2022-02-27T13:21:17.147623Z",
     "start_time": "2022-02-27T13:21:17.132621Z"
    }
   },
   "outputs": [
    {
     "data": {
      "text/plain": [
       "0"
      ]
     },
     "execution_count": 12,
     "metadata": {},
     "output_type": "execute_result"
    }
   ],
   "source": [
    "train.isna().sum().sum()"
   ]
  },
  {
   "cell_type": "markdown",
   "id": "b6485620",
   "metadata": {},
   "source": [
    "## PCA"
   ]
  },
  {
   "cell_type": "code",
   "execution_count": 13,
   "id": "e4dbcc94",
   "metadata": {
    "ExecuteTime": {
     "end_time": "2022-02-27T13:21:17.163627Z",
     "start_time": "2022-02-27T13:21:17.148624Z"
    },
    "scrolled": true
   },
   "outputs": [],
   "source": [
    "# from sklearn.preprocessing import StandardScaler \n",
    "# train_standard = StandardScaler().fit_transform(train)\n",
    "\n",
    "# train_standard = pd.DataFrame(train_standard, index=train.index, columns=train.columns)\n",
    "# train_standard.head(2)"
   ]
  },
  {
   "cell_type": "code",
   "execution_count": 14,
   "id": "41acb196",
   "metadata": {
    "ExecuteTime": {
     "end_time": "2022-02-27T13:21:17.179631Z",
     "start_time": "2022-02-27T13:21:17.164628Z"
    }
   },
   "outputs": [],
   "source": [
    "# from sklearn.decomposition import PCA\n",
    "# pca = PCA(n_components=10)\n",
    "# principalComponents = pca.fit_transform(train_standard)\n",
    "# principalDf = pd.DataFrame(data = principalComponents, columns = ['pc1', 'pc2', 'pc3', 'pc4', 'pc5', 'pc6', 'pc7', 'pc8', 'pc9', 'pc10'])\n",
    "# principalDf.head(2)"
   ]
  },
  {
   "cell_type": "code",
   "execution_count": 15,
   "id": "d97f72c8",
   "metadata": {
    "ExecuteTime": {
     "end_time": "2022-02-27T13:21:17.195634Z",
     "start_time": "2022-02-27T13:21:17.180632Z"
    }
   },
   "outputs": [],
   "source": [
    "# pca.explained_variance_ratio_"
   ]
  },
  {
   "cell_type": "code",
   "execution_count": 16,
   "id": "690a623b",
   "metadata": {
    "ExecuteTime": {
     "end_time": "2022-02-27T13:21:17.211637Z",
     "start_time": "2022-02-27T13:21:17.196635Z"
    }
   },
   "outputs": [],
   "source": [
    "# print(np.cumsum((pca.explained_variance_ratio_)))"
   ]
  },
  {
   "cell_type": "code",
   "execution_count": 17,
   "id": "d3f5da8b",
   "metadata": {
    "ExecuteTime": {
     "end_time": "2022-02-27T13:21:17.227641Z",
     "start_time": "2022-02-27T13:21:17.212639Z"
    }
   },
   "outputs": [],
   "source": [
    "# train = pd.concat([train, principalDf], axis = 1)\n",
    "# train.head(2)"
   ]
  },
  {
   "cell_type": "code",
   "execution_count": 18,
   "id": "dea0feb6",
   "metadata": {
    "ExecuteTime": {
     "end_time": "2022-02-27T13:21:17.243644Z",
     "start_time": "2022-02-27T13:21:17.228642Z"
    }
   },
   "outputs": [],
   "source": [
    "# # test\n",
    "# test_standard = StandardScaler().fit_transform(test)\n",
    "# test_standard = pd.DataFrame(test_standard, index=test.index, columns=test.columns)\n",
    "\n",
    "\n",
    "# pca = PCA(n_components=10)\n",
    "# principalComponents = pca.fit_transform(test_standard)\n",
    "# principalDf = pd.DataFrame(data = principalComponents, columns = ['pc1', 'pc2', 'pc3', 'pc4', 'pc5', 'pc6', 'pc7', 'pc8', 'pc9', 'pc10'])\n",
    "# test = pd.concat([test, principalDf], axis = 1)"
   ]
  },
  {
   "cell_type": "code",
   "execution_count": 19,
   "id": "258c448d",
   "metadata": {
    "ExecuteTime": {
     "end_time": "2022-02-27T13:21:17.259648Z",
     "start_time": "2022-02-27T13:21:17.244646Z"
    }
   },
   "outputs": [],
   "source": [
    "# print(np.cumsum((pca.explained_variance_ratio_)))"
   ]
  },
  {
   "cell_type": "code",
   "execution_count": 20,
   "id": "0888cc97",
   "metadata": {
    "ExecuteTime": {
     "end_time": "2022-02-27T13:21:17.274651Z",
     "start_time": "2022-02-27T13:21:17.260649Z"
    }
   },
   "outputs": [],
   "source": [
    "# print(train.shape, test.shape)"
   ]
  },
  {
   "cell_type": "markdown",
   "id": "d9687b8c",
   "metadata": {},
   "source": [
    "# Modeling"
   ]
  },
  {
   "cell_type": "markdown",
   "id": "eae65fb5",
   "metadata": {},
   "source": [
    "## CV"
   ]
  },
  {
   "cell_type": "code",
   "execution_count": 60,
   "id": "bd5982da",
   "metadata": {
    "ExecuteTime": {
     "start_time": "2022-02-27T14:26:43.307Z"
    },
    "code_folding": [],
    "scrolled": true
   },
   "outputs": [
    {
     "name": "stdout",
     "output_type": "stream",
     "text": [
      "300\n",
      "fold :  1 Validation score:  0.7586206896551724 \n",
      "fold :  2 Validation score:  0.7931034482758621 \n",
      "fold :  3 Validation score:  0.7931034482758621 \n",
      "fold :  4 Validation score:  0.8275862068965517 \n",
      "fold :  5 Validation score:  0.896551724137931 \n",
      "fold :  6 Validation score:  0.9310344827586207 \n",
      "fold :  7 Validation score:  0.7586206896551724 \n",
      "fold :  8 Validation score:  0.7931034482758621 \n",
      "fold :  9 Validation score:  0.8620689655172413 \n",
      "fold :  10 Validation score:  0.7931034482758621 \n",
      "fold :  11 Validation score:  0.6896551724137931 \n",
      "fold :  12 Validation score:  0.8275862068965517 \n",
      "fold :  13 Validation score:  0.896551724137931 \n",
      "fold :  14 Validation score:  0.7241379310344828 \n",
      "fold :  15 Validation score:  0.8275862068965517 \n",
      "fold :  16 Validation score:  0.8275862068965517 \n",
      "fold :  17 Validation score:  0.8620689655172413 \n",
      "fold :  18 Validation score:  0.4482758620689655 \n",
      "fold :  19 Validation score:  0.7586206896551724 \n",
      "fold :  20 Validation score:  0.8275862068965517 \n",
      "fold :  21 Validation score:  0.7241379310344828 \n",
      "fold :  22 Validation score:  0.7241379310344828 \n",
      "fold :  23 Validation score:  0.7931034482758621 \n",
      "fold :  24 Validation score:  0.8275862068965517 \n",
      "fold :  25 Validation score:  0.7241379310344828 \n",
      "fold :  26 Validation score:  0.7931034482758621 \n",
      "fold :  27 Validation score:  0.6896551724137931 \n",
      "fold :  28 Validation score:  0.896551724137931 \n",
      "fold :  29 Validation score:  0.9655172413793104 \n",
      "fold :  30 Validation score:  0.8620689655172413 \n",
      "fold :  31 Validation score:  1.0 \n",
      "fold :  32 Validation score:  0.8275862068965517 \n",
      "fold :  33 Validation score:  0.8275862068965517 \n",
      "fold :  34 Validation score:  0.6896551724137931 \n",
      "fold :  35 Validation score:  0.8275862068965517 \n",
      "fold :  36 Validation score:  0.8620689655172413 \n",
      "fold :  37 Validation score:  0.8620689655172413 \n",
      "fold :  38 Validation score:  0.9310344827586207 \n",
      "fold :  39 Validation score:  0.6896551724137931 \n",
      "fold :  40 Validation score:  0.8620689655172413 \n",
      "fold :  41 Validation score:  0.7586206896551724 \n",
      "fold :  42 Validation score:  0.8620689655172413 \n",
      "fold :  43 Validation score:  0.8275862068965517 \n",
      "fold :  44 Validation score:  0.7931034482758621 \n",
      "fold :  45 Validation score:  0.8275862068965517 \n",
      "fold :  46 Validation score:  0.7586206896551724 \n",
      "fold :  47 Validation score:  0.7586206896551724 \n",
      "fold :  48 Validation score:  0.7586206896551724 \n",
      "fold :  49 Validation score:  0.6896551724137931 \n",
      "fold :  50 Validation score:  0.8620689655172413 \n",
      "fold :  51 Validation score:  0.7241379310344828 \n",
      "fold :  52 Validation score:  0.896551724137931 \n",
      "fold :  53 Validation score:  0.8275862068965517 \n",
      "fold :  54 Validation score:  0.8620689655172413 \n",
      "fold :  55 Validation score:  0.896551724137931 \n",
      "fold :  56 Validation score:  0.8275862068965517 \n",
      "fold :  57 Validation score:  0.8620689655172413 \n",
      "fold :  58 Validation score:  0.8275862068965517 \n",
      "fold :  59 Validation score:  0.9310344827586207 \n",
      "fold :  60 Validation score:  0.9655172413793104 \n",
      "fold :  61 Validation score:  0.8275862068965517 \n",
      "fold :  62 Validation score:  0.7931034482758621 \n",
      "fold :  63 Validation score:  0.8620689655172413 \n",
      "fold :  64 Validation score:  0.7931034482758621 \n",
      "fold :  65 Validation score:  0.8620689655172413 \n",
      "fold :  66 Validation score:  0.6896551724137931 \n",
      "fold :  67 Validation score:  0.9310344827586207 \n",
      "fold :  68 Validation score:  0.8275862068965517 \n",
      "fold :  69 Validation score:  0.8275862068965517 \n",
      "fold :  70 Validation score:  0.7931034482758621 \n",
      "fold :  71 Validation score:  0.8275862068965517 \n",
      "fold :  72 Validation score:  0.8275862068965517 \n",
      "fold :  73 Validation score:  0.8620689655172413 \n",
      "fold :  74 Validation score:  0.8275862068965517 \n",
      "fold :  75 Validation score:  0.9310344827586207 \n",
      "fold :  76 Validation score:  0.8275862068965517 \n",
      "fold :  77 Validation score:  0.6551724137931034 \n",
      "fold :  78 Validation score:  0.7931034482758621 \n",
      "fold :  79 Validation score:  0.896551724137931 \n",
      "fold :  80 Validation score:  0.7241379310344828 \n",
      "fold :  81 Validation score:  0.896551724137931 \n",
      "fold :  82 Validation score:  0.7586206896551724 \n",
      "fold :  83 Validation score:  0.7586206896551724 \n",
      "fold :  84 Validation score:  0.896551724137931 \n",
      "fold :  85 Validation score:  0.6896551724137931 \n",
      "fold :  86 Validation score:  0.896551724137931 \n",
      "fold :  87 Validation score:  0.7586206896551724 \n",
      "fold :  88 Validation score:  0.8620689655172413 \n",
      "fold :  89 Validation score:  0.9310344827586207 \n",
      "fold :  90 Validation score:  0.7586206896551724 \n",
      "fold :  91 Validation score:  0.896551724137931 \n",
      "fold :  92 Validation score:  0.9310344827586207 \n",
      "fold :  93 Validation score:  0.7586206896551724 \n",
      "fold :  94 Validation score:  0.7931034482758621 \n",
      "fold :  95 Validation score:  1.0 \n",
      "fold :  96 Validation score:  0.7931034482758621 \n",
      "fold :  97 Validation score:  0.896551724137931 \n",
      "fold :  98 Validation score:  0.8620689655172413 \n",
      "fold :  99 Validation score:  0.8275862068965517 \n",
      "fold :  100 Validation score:  0.7931034482758621 \n",
      "fold :  101 Validation score:  0.8275862068965517 \n",
      "fold :  102 Validation score:  0.9310344827586207 \n",
      "fold :  103 Validation score:  0.6551724137931034 \n",
      "fold :  104 Validation score:  0.8275862068965517 \n",
      "fold :  105 Validation score:  0.8275862068965517 \n",
      "fold :  106 Validation score:  0.8620689655172413 \n",
      "fold :  107 Validation score:  0.896551724137931 \n",
      "fold :  108 Validation score:  0.7241379310344828 \n",
      "fold :  109 Validation score:  0.8620689655172413 \n",
      "fold :  110 Validation score:  0.6551724137931034 \n",
      "fold :  111 Validation score:  0.8620689655172413 \n",
      "fold :  112 Validation score:  0.7931034482758621 \n",
      "fold :  113 Validation score:  0.7586206896551724 \n",
      "fold :  114 Validation score:  0.7931034482758621 \n",
      "fold :  115 Validation score:  0.7931034482758621 \n",
      "fold :  116 Validation score:  0.896551724137931 \n",
      "fold :  117 Validation score:  0.7931034482758621 \n",
      "fold :  118 Validation score:  0.8275862068965517 \n",
      "fold :  119 Validation score:  0.8275862068965517 \n",
      "fold :  120 Validation score:  0.9310344827586207 \n",
      "fold :  121 Validation score:  0.7586206896551724 \n",
      "fold :  122 Validation score:  0.7586206896551724 \n",
      "fold :  123 Validation score:  0.7931034482758621 \n",
      "fold :  124 Validation score:  0.8275862068965517 \n",
      "fold :  125 Validation score:  0.8620689655172413 \n",
      "fold :  126 Validation score:  0.7241379310344828 \n",
      "fold :  127 Validation score:  0.7586206896551724 \n",
      "fold :  128 Validation score:  0.7931034482758621 \n",
      "fold :  129 Validation score:  0.8275862068965517 \n",
      "fold :  130 Validation score:  0.7931034482758621 \n",
      "fold :  131 Validation score:  0.896551724137931 \n",
      "fold :  132 Validation score:  0.8620689655172413 \n",
      "fold :  133 Validation score:  0.8620689655172413 \n",
      "fold :  134 Validation score:  0.8620689655172413 \n",
      "fold :  135 Validation score:  0.7931034482758621 \n",
      "fold :  136 Validation score:  0.7931034482758621 \n",
      "fold :  137 Validation score:  0.7586206896551724 \n",
      "fold :  138 Validation score:  0.7931034482758621 \n",
      "fold :  139 Validation score:  0.7586206896551724 \n",
      "fold :  140 Validation score:  0.896551724137931 \n",
      "fold :  141 Validation score:  0.9310344827586207 \n",
      "fold :  142 Validation score:  0.8620689655172413 \n",
      "fold :  143 Validation score:  0.8620689655172413 \n",
      "fold :  144 Validation score:  0.8620689655172413 \n",
      "fold :  145 Validation score:  0.7586206896551724 \n",
      "fold :  146 Validation score:  0.7931034482758621 \n",
      "fold :  147 Validation score:  0.7931034482758621 \n",
      "fold :  148 Validation score:  0.7931034482758621 \n",
      "fold :  149 Validation score:  0.8620689655172413 \n",
      "fold :  150 Validation score:  0.7931034482758621 \n",
      "fold :  151 Validation score:  0.7586206896551724 \n",
      "fold :  152 Validation score:  0.7586206896551724 \n",
      "fold :  153 Validation score:  0.7931034482758621 \n",
      "fold :  154 Validation score:  0.7931034482758621 \n",
      "fold :  155 Validation score:  0.7586206896551724 \n",
      "fold :  156 Validation score:  0.8620689655172413 \n",
      "fold :  157 Validation score:  0.8620689655172413 \n",
      "fold :  158 Validation score:  0.8620689655172413 \n",
      "fold :  159 Validation score:  0.8275862068965517 \n",
      "fold :  160 Validation score:  0.8620689655172413 \n",
      "fold :  161 Validation score:  0.9655172413793104 \n",
      "fold :  162 Validation score:  0.7586206896551724 \n",
      "fold :  163 Validation score:  0.896551724137931 \n",
      "fold :  164 Validation score:  0.896551724137931 \n"
     ]
    },
    {
     "name": "stdout",
     "output_type": "stream",
     "text": [
      "fold :  165 Validation score:  0.8275862068965517 \n",
      "fold :  166 Validation score:  0.6551724137931034 \n",
      "fold :  167 Validation score:  0.7931034482758621 \n",
      "fold :  168 Validation score:  0.8275862068965517 \n",
      "fold :  169 Validation score:  0.7931034482758621 \n",
      "fold :  170 Validation score:  0.8620689655172413 \n",
      "fold :  171 Validation score:  0.7241379310344828 \n",
      "fold :  172 Validation score:  0.8620689655172413 \n",
      "fold :  173 Validation score:  0.8275862068965517 \n",
      "fold :  174 Validation score:  0.8275862068965517 \n",
      "fold :  175 Validation score:  0.7586206896551724 \n",
      "fold :  176 Validation score:  0.896551724137931 \n",
      "fold :  177 Validation score:  0.8275862068965517 \n",
      "fold :  178 Validation score:  0.7931034482758621 \n",
      "fold :  179 Validation score:  0.896551724137931 \n",
      "fold :  180 Validation score:  0.8275862068965517 \n",
      "fold :  181 Validation score:  0.7586206896551724 \n",
      "fold :  182 Validation score:  0.8620689655172413 \n",
      "fold :  183 Validation score:  0.8275862068965517 \n",
      "fold :  184 Validation score:  0.7586206896551724 \n",
      "fold :  185 Validation score:  0.9655172413793104 \n",
      "fold :  186 Validation score:  0.8620689655172413 \n",
      "fold :  187 Validation score:  0.7586206896551724 \n",
      "fold :  188 Validation score:  0.8620689655172413 \n",
      "fold :  189 Validation score:  0.6896551724137931 \n",
      "fold :  190 Validation score:  0.7241379310344828 \n",
      "fold :  191 Validation score:  0.7931034482758621 \n",
      "fold :  192 Validation score:  0.7931034482758621 \n",
      "fold :  193 Validation score:  0.7586206896551724 \n",
      "fold :  194 Validation score:  0.7586206896551724 \n",
      "fold :  195 Validation score:  0.6551724137931034 \n",
      "fold :  196 Validation score:  1.0 \n",
      "fold :  197 Validation score:  0.7931034482758621 \n",
      "fold :  198 Validation score:  0.7931034482758621 \n",
      "fold :  199 Validation score:  0.6896551724137931 \n",
      "fold :  200 Validation score:  0.896551724137931 \n",
      "fold :  201 Validation score:  0.7241379310344828 \n",
      "fold :  202 Validation score:  0.7241379310344828 \n",
      "fold :  203 Validation score:  0.8275862068965517 \n",
      "fold :  204 Validation score:  0.8620689655172413 \n",
      "fold :  205 Validation score:  0.896551724137931 \n",
      "fold :  206 Validation score:  0.7931034482758621 \n",
      "fold :  207 Validation score:  0.7586206896551724 \n",
      "fold :  208 Validation score:  0.7586206896551724 \n",
      "fold :  209 Validation score:  0.7241379310344828 \n",
      "fold :  210 Validation score:  0.8275862068965517 \n",
      "fold :  211 Validation score:  0.7241379310344828 \n",
      "fold :  212 Validation score:  0.7931034482758621 \n",
      "fold :  213 Validation score:  0.7931034482758621 \n",
      "fold :  214 Validation score:  0.7241379310344828 \n",
      "fold :  215 Validation score:  0.8620689655172413 \n",
      "fold :  216 Validation score:  0.8275862068965517 \n",
      "fold :  217 Validation score:  0.7586206896551724 \n",
      "fold :  218 Validation score:  0.7931034482758621 \n",
      "fold :  219 Validation score:  0.8620689655172413 \n",
      "fold :  220 Validation score:  0.8275862068965517 \n",
      "fold :  221 Validation score:  0.896551724137931 \n",
      "fold :  222 Validation score:  0.8620689655172413 \n",
      "fold :  223 Validation score:  0.8620689655172413 \n",
      "fold :  224 Validation score:  0.8620689655172413 \n",
      "fold :  225 Validation score:  0.6896551724137931 \n",
      "fold :  226 Validation score:  0.896551724137931 \n",
      "fold :  227 Validation score:  0.896551724137931 \n",
      "fold :  228 Validation score:  0.7586206896551724 \n",
      "fold :  229 Validation score:  0.896551724137931 \n",
      "fold :  230 Validation score:  0.7241379310344828 \n",
      "fold :  231 Validation score:  0.8620689655172413 \n",
      "fold :  232 Validation score:  0.7931034482758621 \n",
      "fold :  233 Validation score:  0.7586206896551724 \n",
      "fold :  234 Validation score:  0.8620689655172413 \n",
      "fold :  235 Validation score:  0.9310344827586207 \n",
      "fold :  236 Validation score:  0.7931034482758621 \n",
      "fold :  237 Validation score:  0.9310344827586207 \n",
      "fold :  238 Validation score:  0.8620689655172413 \n",
      "fold :  239 Validation score:  0.7241379310344828 \n",
      "fold :  240 Validation score:  0.8275862068965517 \n",
      "fold :  241 Validation score:  0.896551724137931 \n",
      "fold :  242 Validation score:  0.7586206896551724 \n",
      "fold :  243 Validation score:  0.8620689655172413 \n",
      "fold :  244 Validation score:  0.8620689655172413 \n",
      "fold :  245 Validation score:  0.8275862068965517 \n",
      "fold :  246 Validation score:  0.7241379310344828 \n",
      "fold :  247 Validation score:  0.8620689655172413 \n",
      "fold :  248 Validation score:  0.7241379310344828 \n",
      "fold :  249 Validation score:  0.896551724137931 \n",
      "fold :  250 Validation score:  0.9310344827586207 \n",
      "fold :  251 Validation score:  0.7931034482758621 \n",
      "fold :  252 Validation score:  0.7241379310344828 \n",
      "fold :  253 Validation score:  0.7931034482758621 \n",
      "fold :  254 Validation score:  0.8275862068965517 \n",
      "fold :  255 Validation score:  0.7586206896551724 \n",
      "fold :  256 Validation score:  0.7931034482758621 \n",
      "fold :  257 Validation score:  0.896551724137931 \n",
      "fold :  258 Validation score:  0.7586206896551724 \n",
      "fold :  259 Validation score:  0.7586206896551724 \n",
      "fold :  260 Validation score:  0.8275862068965517 \n",
      "fold :  261 Validation score:  0.8620689655172413 \n",
      "fold :  262 Validation score:  0.7931034482758621 \n",
      "fold :  263 Validation score:  0.7931034482758621 \n",
      "fold :  264 Validation score:  0.7931034482758621 \n",
      "fold :  265 Validation score:  0.896551724137931 \n",
      "fold :  266 Validation score:  0.7931034482758621 \n",
      "fold :  267 Validation score:  0.8275862068965517 \n",
      "fold :  268 Validation score:  0.6551724137931034 \n",
      "fold :  269 Validation score:  0.7241379310344828 \n",
      "fold :  270 Validation score:  0.7586206896551724 \n",
      "fold :  271 Validation score:  0.896551724137931 \n",
      "fold :  272 Validation score:  0.8275862068965517 \n",
      "fold :  273 Validation score:  0.7586206896551724 \n",
      "fold :  274 Validation score:  0.8620689655172413 \n",
      "fold :  275 Validation score:  0.9655172413793104 \n",
      "fold :  276 Validation score:  0.8620689655172413 \n",
      "fold :  277 Validation score:  0.7931034482758621 \n",
      "fold :  278 Validation score:  0.7931034482758621 \n",
      "fold :  279 Validation score:  0.896551724137931 \n",
      "fold :  280 Validation score:  0.9310344827586207 \n",
      "fold :  281 Validation score:  0.7931034482758621 \n",
      "fold :  282 Validation score:  0.9310344827586207 \n",
      "fold :  283 Validation score:  0.896551724137931 \n",
      "fold :  284 Validation score:  0.9310344827586207 \n",
      "fold :  285 Validation score:  0.7586206896551724 \n",
      "fold :  286 Validation score:  0.6551724137931034 \n",
      "fold :  287 Validation score:  0.7241379310344828 \n",
      "fold :  288 Validation score:  0.8620689655172413 \n",
      "fold :  289 Validation score:  0.7241379310344828 \n",
      "fold :  290 Validation score:  0.7931034482758621 \n",
      "fold :  291 Validation score:  0.7586206896551724 \n",
      "fold :  292 Validation score:  0.8275862068965517 \n",
      "fold :  293 Validation score:  0.7931034482758621 \n",
      "fold :  294 Validation score:  0.75 \n",
      "fold :  295 Validation score:  0.8571428571428571 \n",
      "fold :  296 Validation score:  0.9285714285714286 \n",
      "fold :  297 Validation score:  0.8928571428571429 \n",
      "fold :  298 Validation score:  0.75 \n",
      "fold :  299 Validation score:  0.7857142857142857 \n",
      "fold :  300 Validation score:  0.7857142857142857 \n"
     ]
    }
   ],
   "source": [
    "from catboost import CatBoostClassifier\n",
    "import statistics\n",
    "\n",
    "#scores_on_split = []\n",
    "#for N_SPLITS in range(20,40):\n",
    "\n",
    "N_SPLITS = 300 # 200 is the best score on LB\n",
    "N_ESTIMATORS = 1000 \n",
    "RANDOM_STATE = 42 \n",
    "params = {\n",
    "       'n_estimators' : N_ESTIMATORS,\n",
    "        'n_jobs' : -1,\n",
    "         'random_state' : RANDOM_STATE\n",
    "}\n",
    "\n",
    "    #train_X, valid_X, train_y, valid_y = train_test_split(X, y, test_size = 0.2, random_state = RANDOM_STATE)\n",
    "\n",
    "scores_2 = []\n",
    "scores_3 = []\n",
    "\n",
    "X = train\n",
    "\n",
    "y_probs_2 = []\n",
    "y_probs_3 = []\n",
    "print(N_SPLITS)\n",
    "folds = StratifiedKFold(n_splits = N_SPLITS, shuffle=True)\n",
    "\n",
    "for fold, (train_id, test_id) in enumerate(folds.split(X, y)):  \n",
    "\n",
    "    print(\"fold : \", fold + 1, end = ' ')\n",
    "\n",
    "    X_train = X.iloc[train_id]\n",
    "    y_train = y.iloc[train_id]\n",
    "    X_valid = X.iloc[test_id]\n",
    "    y_valid = y.iloc[test_id]\n",
    "\n",
    "    # model_2\n",
    "    #Best: depth-10, learning_rate-0.1\n",
    "    #model_2 =  ExtraTreesClassifier(**params)\n",
    "    #model_2 =  RandomForestClassifier(**params)\n",
    "    #model_2 =  CatBoostClassifier(verbose=False, depth=10, learning_rate=0.1)\n",
    "    model_2 =  CatBoostClassifier(verbose=False)\n",
    "    #model_2 = LogisticRegression(C = 0.012742749857031334)\n",
    "\n",
    "    model_2.fit(X_train, y_train)\n",
    "    # validation\n",
    "    valid_pred_2 = model_2.predict(X_valid)\n",
    "    valid_score_2 = accuracy_score(y_valid, valid_pred_2)\n",
    "    #print( \"model_2 :: Accuracy_score: \", valid_score_2, end = ' ')\n",
    "    print( \"Validation score: \", valid_score_2, end = ' ')\n",
    "    scores_2.append(valid_score_2)\n",
    "\n",
    "    # test\n",
    "    y_pred_2 = model_2.predict(test)\n",
    "    y_probs_2.append(model_2.predict_proba(test))\n",
    "    print(\"\")\n",
    "    #scores_on_split.append(statistics.mean(scores_2))\n",
    "\n",
    "\n",
    "#scores_on_split"
   ]
  },
  {
   "cell_type": "code",
   "execution_count": 61,
   "id": "4ac105c2",
   "metadata": {
    "ExecuteTime": {
     "end_time": "2022-02-27T14:10:55.414947Z",
     "start_time": "2022-02-27T14:10:55.414947Z"
    }
   },
   "outputs": [
    {
     "data": {
      "text/plain": [
       "0.8164080459770114"
      ]
     },
     "execution_count": 61,
     "metadata": {},
     "output_type": "execute_result"
    }
   ],
   "source": [
    "# 0.8153986928104575 - 500\n",
    "\n",
    "# 0.8167548783747661 - 100\n",
    "# 0.8182521395655036 - 140\n",
    "# 0.8187900786448881 - 150\n",
    "# 0.8169900557846228 - 155\n",
    "# 0.8145664983164983 - 160\n",
    "# 0.8175317124735729 - 200\n",
    "import statistics\n",
    "statistics.mean(scores_2)"
   ]
  },
  {
   "cell_type": "code",
   "execution_count": 38,
   "id": "b7d9c30a",
   "metadata": {},
   "outputs": [
    {
     "data": {
      "text/plain": [
       "[<matplotlib.lines.Line2D at 0x25854299580>]"
      ]
     },
     "execution_count": 38,
     "metadata": {},
     "output_type": "execute_result"
    },
    {
     "data": {
      "image/png": "[encoded data removed]",
      "text/plain": [
       "<Figure size 432x288 with 1 Axes>"
      ]
     },
     "metadata": {
      "needs_background": "light"
     },
     "output_type": "display_data"
    }
   ],
   "source": [
    "i = np.arange(20, 40, 1)\n",
    "plt.plot(i, scores_on_split)"
   ]
  },
  {
   "cell_type": "markdown",
   "id": "8e9a836d",
   "metadata": {},
   "source": [
    "## Catboost"
   ]
  },
  {
   "cell_type": "code",
   "execution_count": null,
   "id": "1cc8d4a9",
   "metadata": {
    "ExecuteTime": {
     "end_time": "2022-02-27T13:21:17.676742Z",
     "start_time": "2022-02-27T13:21:17.676742Z"
    }
   },
   "outputs": [],
   "source": [
    "model =  CatBoostClassifier(depth=12,verbose=False)\n",
    "model.fit(train,y)\n",
    "model.score(train,y)"
   ]
  },
  {
   "cell_type": "code",
   "execution_count": null,
   "id": "2b7baa8b",
   "metadata": {
    "ExecuteTime": {
     "end_time": "2022-02-27T13:21:17.677742Z",
     "start_time": "2022-02-27T13:21:17.677742Z"
    }
   },
   "outputs": [],
   "source": [
    "y_pred = model.predict(test)\n",
    "y_pred"
   ]
  },
  {
   "cell_type": "markdown",
   "id": "4f452af3",
   "metadata": {},
   "source": [
    "## Pycaret"
   ]
  },
  {
   "cell_type": "code",
   "execution_count": null,
   "id": "ccc6c7af",
   "metadata": {
    "ExecuteTime": {
     "end_time": "2022-02-27T13:21:17.678743Z",
     "start_time": "2022-02-27T13:21:17.678743Z"
    }
   },
   "outputs": [],
   "source": [
    "train['Transported']"
   ]
  },
  {
   "cell_type": "code",
   "execution_count": null,
   "id": "f50f8cad",
   "metadata": {
    "ExecuteTime": {
     "end_time": "2022-02-27T13:21:17.679743Z",
     "start_time": "2022-02-27T13:21:17.679743Z"
    },
    "scrolled": true
   },
   "outputs": [],
   "source": [
    "from pycaret.classification import *\n",
    "#num_cols = list(train.select_dtypes('float64').columns) + list(train.select_dtypes('int64').columns)\n",
    "\n",
    "s = setup(data = train,\n",
    "          target = 'Transported',\n",
    "          train_size = 0.99,\n",
    "          fold_strategy = 'stratifiedkfold',\n",
    "          fold = 5,\n",
    "          fold_shuffle = True,\n",
    "          #numeric_features = num_cols,\n",
    "          ignore_low_variance=True,\n",
    "          remove_multicollinearity = True,\n",
    "          imputation_type='iterative',\n",
    "          #normalize = True,\n",
    "          normalize_method = 'robust',\n",
    "          data_split_stratify = True,\n",
    "          #ignore_features = ['PassengerNo', 'Name', 'PassengerId', 'PassengerGroup', 'Cabin'],\n",
    "          silent = True)"
   ]
  },
  {
   "cell_type": "code",
   "execution_count": null,
   "id": "95d371e6",
   "metadata": {
    "ExecuteTime": {
     "end_time": "2022-02-27T13:21:17.680743Z",
     "start_time": "2022-02-27T13:21:17.680743Z"
    },
    "scrolled": true
   },
   "outputs": [],
   "source": [
    "# best_model = compare_models()"
   ]
  },
  {
   "cell_type": "code",
   "execution_count": null,
   "id": "975d333e",
   "metadata": {
    "ExecuteTime": {
     "end_time": "2022-02-27T13:21:17.681744Z",
     "start_time": "2022-02-27T13:21:17.681744Z"
    }
   },
   "outputs": [],
   "source": [
    "# tuned_catboost = tune_model(catboost_m, optimize = 'Accuracy')"
   ]
  },
  {
   "cell_type": "code",
   "execution_count": null,
   "id": "cb4356ad",
   "metadata": {
    "ExecuteTime": {
     "end_time": "2022-02-27T13:21:17.681744Z",
     "start_time": "2022-02-27T13:21:17.681744Z"
    }
   },
   "outputs": [],
   "source": [
    "# plot_model(catboost_m, plot = 'parameter')"
   ]
  },
  {
   "cell_type": "code",
   "execution_count": null,
   "id": "2c9787e7",
   "metadata": {
    "ExecuteTime": {
     "end_time": "2022-02-27T13:21:17.682744Z",
     "start_time": "2022-02-27T13:21:17.682744Z"
    }
   },
   "outputs": [],
   "source": [
    "# plot_model(tuned_catboost, plot = 'parameter')"
   ]
  },
  {
   "cell_type": "markdown",
   "id": "615355cf",
   "metadata": {},
   "source": [
    "# Submission"
   ]
  },
  {
   "cell_type": "code",
   "execution_count": null,
   "id": "e92db35b",
   "metadata": {
    "ExecuteTime": {
     "end_time": "2022-02-27T13:21:17.683743Z",
     "start_time": "2022-02-27T13:21:17.683743Z"
    },
    "scrolled": true
   },
   "outputs": [],
   "source": [
    "sub.head(2)"
   ]
  },
  {
   "cell_type": "code",
   "execution_count": null,
   "id": "cc066569",
   "metadata": {
    "ExecuteTime": {
     "end_time": "2022-02-27T13:21:17.684743Z",
     "start_time": "2022-02-27T13:21:17.684743Z"
    },
    "scrolled": true
   },
   "outputs": [],
   "source": [
    "# # y_pred = predict_model(lr, data=test)\n",
    "# # y_pred = y_pred['Label']\n",
    "\n",
    "\n",
    "# preds = []\n",
    "# for i in y_pred:\n",
    "#     if i == 0:\n",
    "#         preds.append(False)\n",
    "#     else:\n",
    "#         preds.append(True)\n",
    "\n",
    "# sub['Transported'] = preds\n",
    "\n",
    "# sub.to_csv(\"/home/mikhail/Downloads/sample_submission.csv'\", index=False)\n",
    "# sub.head()"
   ]
  },
  {
   "cell_type": "code",
   "execution_count": 62,
   "id": "e3256257",
   "metadata": {
    "ExecuteTime": {
     "end_time": "2022-02-27T13:21:17.685745Z",
     "start_time": "2022-02-27T13:21:17.685745Z"
    }
   },
   "outputs": [
    {
     "data": {
      "text/html": [
       "<div>\n",
       "<style scoped>\n",
       "    .dataframe tbody tr th:only-of-type {\n",
       "        vertical-align: middle;\n",
       "    }\n",
       "\n",
       "    .dataframe tbody tr th {\n",
       "        vertical-align: top;\n",
       "    }\n",
       "\n",
       "    .dataframe thead th {\n",
       "        text-align: right;\n",
       "    }\n",
       "</style>\n",
       "<table border=\"1\" class=\"dataframe\">\n",
       "  <thead>\n",
       "    <tr style=\"text-align: right;\">\n",
       "      <th></th>\n",
       "      <th>PassengerId</th>\n",
       "      <th>Transported</th>\n",
       "    </tr>\n",
       "  </thead>\n",
       "  <tbody>\n",
       "    <tr>\n",
       "      <th>0</th>\n",
       "      <td>0013_01</td>\n",
       "      <td>True</td>\n",
       "    </tr>\n",
       "    <tr>\n",
       "      <th>1</th>\n",
       "      <td>0018_01</td>\n",
       "      <td>False</td>\n",
       "    </tr>\n",
       "    <tr>\n",
       "      <th>2</th>\n",
       "      <td>0019_01</td>\n",
       "      <td>True</td>\n",
       "    </tr>\n",
       "  </tbody>\n",
       "</table>\n",
       "</div>"
      ],
      "text/plain": [
       "  PassengerId  Transported\n",
       "0     0013_01         True\n",
       "1     0018_01        False\n",
       "2     0019_01         True"
      ]
     },
     "execution_count": 62,
     "metadata": {},
     "output_type": "execute_result"
    }
   ],
   "source": [
    "y_prob_3 = sum(y_probs_2) / len(y_probs_2)\n",
    "y_prob_3\n",
    "\n",
    "preds = []\n",
    "for i in y_prob_3:\n",
    "    if i[0] > i[1]:\n",
    "        preds.append(False)\n",
    "    else:\n",
    "        preds.append(True)\n",
    "        \n",
    "def save_submission(y_pred):  \n",
    "    #classes = label.inverse_transform(y_pred)\n",
    "    sub[\"Transported\"] = y_pred\n",
    "    #assert len(classes) == sub.shape[0]\n",
    "    assert 2 == sub.shape[1]   \n",
    "    sub.to_csv(\"E:/downloads/sample_submission.csv\", index=False)\n",
    "    return sub\n",
    "save_submission(preds).head(3)"
   ]
  },
  {
   "cell_type": "code",
   "execution_count": null,
   "id": "511aae29",
   "metadata": {},
   "outputs": [],
   "source": []
  }
 ],
 "metadata": {
  "hide_input": false,
  "kernelspec": {
   "display_name": "Python 3 (ipykernel)",
   "language": "python",
   "name": "python3"
  },
  "language_info": {
   "codemirror_mode": {
    "name": "ipython",
    "version": 3
   },
   "file_extension": ".py",
   "mimetype": "text/x-python",
   "name": "python",
   "nbconvert_exporter": "python",
   "pygments_lexer": "ipython3",
   "version": "3.9.9"
  },
  "toc": {
   "base_numbering": 1,
   "nav_menu": {},
   "number_sections": true,
   "sideBar": true,
   "skip_h1_title": false,
   "title_cell": "Table of Contents",
   "title_sidebar": "Contents",
   "toc_cell": false,
   "toc_position": {
    "height": "calc(100% - 180px)",
    "left": "10px",
    "top": "150px",
    "width": "335.975px"
   },
   "toc_section_display": true,
   "toc_window_display": true
  },
  "varInspector": {
   "cols": {
    "lenName": 16,
    "lenType": 16,
    "lenVar": 40
   },
   "kernels_config": {
    "python": {
     "delete_cmd_postfix": "",
     "delete_cmd_prefix": "del ",
     "library": "var_list.py",
     "varRefreshCmd": "print(var_dic_list())"
    },
    "r": {
     "delete_cmd_postfix": ") ",
     "delete_cmd_prefix": "rm(",
     "library": "var_list.r",
     "varRefreshCmd": "cat(var_dic_list()) "
    }
   },
   "types_to_exclude": [
    "module",
    "function",
    "builtin_function_or_method",
    "instance",
    "_Feature"
   ],
   "window_display": false
  }
 },
 "nbformat": 4,
 "nbformat_minor": 5
}
