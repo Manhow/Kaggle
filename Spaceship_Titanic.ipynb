{
 "cells": [
  {
   "cell_type": "markdown",
   "id": "12f3fb3e",
   "metadata": {},
   "source": [
    "# Spaceship Titanic"
   ]
  },
  {
   "cell_type": "markdown",
   "id": "128852a3",
   "metadata": {},
   "source": [
    "Welcome to the year 2912, where your data science skills are needed to solve a cosmic mystery. We've received a transmission from four lightyears away and things aren't looking good.\n",
    "\n",
    "The Spaceship Titanic was an interstellar passenger liner launched a month ago. With almost 13,000 passengers on board, the vessel set out on its maiden voyage transporting emigrants from our solar system to three newly habitable exoplanets orbiting nearby stars.\n",
    "\n",
    "While rounding Alpha Centauri en route to its first destination—the torrid 55 Cancri E—the unwary Spaceship Titanic collided with a spacetime anomaly hidden within a dust cloud. Sadly, it met a similar fate as its namesake from 1000 years before. Though the ship stayed intact, almost half of the passengers were transported to an alternate dimension!\n",
    "\n",
    "To help rescue crews and retrieve the lost passengers, you are challenged to predict which passengers were transported by the anomaly using records recovered from the spaceship’s damaged computer system.\n",
    "\n",
    "Help save them and change history!\n",
    "\n",
    "**train.csv - Personal records for about two-thirds (~8700) of the passengers, to be used as training data.**\n",
    "* `PassengerId` - A unique Id for each passenger. Each Id takes the form gggg_pp where gggg indicates a group the passenger is travelling with and pp is their number within the group. People in a group are often family members, but not always.\n",
    "* `HomePlanet` - The planet the passenger departed from, typically their planet of permanent residence.\n",
    "* `CryoSleep` - Indicates whether the passenger elected to be put into suspended animation for the duration of the voyage. Passengers in cryosleep are confined to their cabins.\n",
    "* `Cabin` - The cabin number where the passenger is staying. Takes the form deck/num/side, where side can be either P for Port or S for Starboard.\n",
    "* `Destination` - The planet the passenger will be debarking to.\n",
    "* `Age`- The age of the passenger.\n",
    "* `VIP` - Whether the passenger has paid for special VIP service during the voyage.\n",
    "* `RoomService, FoodCourt, ShoppingMall, Spa, VRDeck` - Amount the passenger has billed at each of the Spaceship Titanic's many luxury amenities.\n",
    "* `Name` - The first and last names of the passenger.\n",
    "* `Transported` - Whether the passenger was transported to another dimension. This is the `target`, the column you are trying to predict.\n",
    "**test.csv - Personal records for the remaining one-third (~4300) of the passengers, to be used as test data.Your task is to predict the value of Transported for the passengers in this set.**\n",
    "**sample_submission.csv - A submission file in the correct format.**\n",
    "* `PassengerId` - Id for each passenger in the test set.\n",
    "* `Transported` - The target. For each passenger, predict either True or False.\n",
    "\n",
    "Metrics: `accuracy`\n"
   ]
  },
  {
   "cell_type": "markdown",
   "id": "a91b170c",
   "metadata": {},
   "source": [
    "# Data overview"
   ]
  },
  {
   "cell_type": "code",
   "execution_count": 1,
   "id": "a1895880",
   "metadata": {
    "ExecuteTime": {
     "end_time": "2022-04-01T10:53:12.528435Z",
     "start_time": "2022-04-01T10:52:54.222544Z"
    }
   },
   "outputs": [
    {
     "name": "stdout",
     "output_type": "stream",
     "text": [
      "Train Shape: (8693, 14)\n",
      "Missing Data: 2324\n",
      "Duplicates: 0\n",
      "\n",
      "Test Shape: (4277, 13)\n",
      "Missing Data: 1117\n",
      "Duplicates: 0\n",
      "\n",
      "No duplicates\n"
     ]
    }
   ],
   "source": [
    "# Import all the tools\n",
    "import warnings\n",
    "from tqdm import tqdm_notebook\n",
    "import seaborn as sns\n",
    "from plotly.offline import init_notebook_mode\n",
    "import matplotlib.pyplot as plt\n",
    "import plotly.graph_objects as go\n",
    "import plotly.express as px\n",
    "import pandas as pd\n",
    "import numpy as np\n",
    "from sklearn.experimental import enable_iterative_imputer\n",
    "from tqdm.notebook import tqdm\n",
    "from sklearn.neighbors import KNeighborsClassifier\n",
    "from sklearn.model_selection import StratifiedKFold\n",
    "import pandas_profiling\n",
    "from sklearn.model_selection import train_test_split\n",
    "from sklearn.ensemble import ExtraTreesClassifier, BaggingClassifier, RandomForestClassifier\n",
    "from sklearn.metrics import accuracy_score\n",
    "# from sklearn.impute import IterativeImputer\n",
    "warnings.filterwarnings(\"ignore\")\n",
    "\n",
    "import os\n",
    "cwd = os.getcwd()\n",
    "cwd = cwd.replace('\\\\','/')\n",
    "train = pd.read_csv(cwd + \"/spaceship/train.csv\")\n",
    "test = pd.read_csv(cwd + \"/spaceship/test.csv\")\n",
    "sub = pd.read_csv(cwd + \"/spaceship/sample_submission.csv\")\n",
    "\n",
    "# plots inside the notebook\n",
    "%matplotlib inline\n",
    "print('Train Shape: {}\\nMissing Data: {}\\nDuplicates: {}\\n'.format(\n",
    "    train.shape, train.isna().sum().sum(), train.duplicated().sum()))\n",
    "print('Test Shape: {}\\nMissing Data: {}\\nDuplicates: {}\\n'.format(\n",
    "    test.shape, test.isna().sum().sum(), test.duplicated().sum()))\n",
    "train_d = train.drop_duplicates()\n",
    "\n",
    "if train.shape == train_d.shape:\n",
    "    print('No duplicates')\n",
    "else:\n",
    "    print('Dropping Duplicates\\nNew Train Shape: {}'.format(train_d.shape))\n",
    "    \n",
    "df_data = pd.concat([train_d, test])"
   ]
  },
  {
   "cell_type": "code",
   "execution_count": 2,
   "id": "1d08ef1e",
   "metadata": {
    "ExecuteTime": {
     "end_time": "2022-04-01T10:53:47.543115Z",
     "start_time": "2022-04-01T10:53:47.513139Z"
    },
    "scrolled": true
   },
   "outputs": [
    {
     "data": {
      "text/html": [
       "<div>\n",
       "<style scoped>\n",
       "    .dataframe tbody tr th:only-of-type {\n",
       "        vertical-align: middle;\n",
       "    }\n",
       "\n",
       "    .dataframe tbody tr th {\n",
       "        vertical-align: top;\n",
       "    }\n",
       "\n",
       "    .dataframe thead th {\n",
       "        text-align: right;\n",
       "    }\n",
       "</style>\n",
       "<table border=\"1\" class=\"dataframe\">\n",
       "  <thead>\n",
       "    <tr style=\"text-align: right;\">\n",
       "      <th></th>\n",
       "      <th>PassengerId</th>\n",
       "      <th>HomePlanet</th>\n",
       "      <th>CryoSleep</th>\n",
       "      <th>Cabin</th>\n",
       "      <th>Destination</th>\n",
       "      <th>Age</th>\n",
       "      <th>VIP</th>\n",
       "      <th>RoomService</th>\n",
       "      <th>FoodCourt</th>\n",
       "      <th>ShoppingMall</th>\n",
       "      <th>Spa</th>\n",
       "      <th>VRDeck</th>\n",
       "      <th>Name</th>\n",
       "      <th>Transported</th>\n",
       "    </tr>\n",
       "  </thead>\n",
       "  <tbody>\n",
       "    <tr>\n",
       "      <th>0</th>\n",
       "      <td>0001_01</td>\n",
       "      <td>Europa</td>\n",
       "      <td>False</td>\n",
       "      <td>B/0/P</td>\n",
       "      <td>TRAPPIST-1e</td>\n",
       "      <td>39.0</td>\n",
       "      <td>False</td>\n",
       "      <td>0.0</td>\n",
       "      <td>0.0</td>\n",
       "      <td>0.0</td>\n",
       "      <td>0.0</td>\n",
       "      <td>0.0</td>\n",
       "      <td>Maham Ofracculy</td>\n",
       "      <td>False</td>\n",
       "    </tr>\n",
       "    <tr>\n",
       "      <th>1</th>\n",
       "      <td>0002_01</td>\n",
       "      <td>Earth</td>\n",
       "      <td>False</td>\n",
       "      <td>F/0/S</td>\n",
       "      <td>TRAPPIST-1e</td>\n",
       "      <td>24.0</td>\n",
       "      <td>False</td>\n",
       "      <td>109.0</td>\n",
       "      <td>9.0</td>\n",
       "      <td>25.0</td>\n",
       "      <td>549.0</td>\n",
       "      <td>44.0</td>\n",
       "      <td>Juanna Vines</td>\n",
       "      <td>True</td>\n",
       "    </tr>\n",
       "  </tbody>\n",
       "</table>\n",
       "</div>"
      ],
      "text/plain": [
       "  PassengerId HomePlanet CryoSleep  Cabin  Destination   Age    VIP  \\\n",
       "0     0001_01     Europa     False  B/0/P  TRAPPIST-1e  39.0  False   \n",
       "1     0002_01      Earth     False  F/0/S  TRAPPIST-1e  24.0  False   \n",
       "\n",
       "   RoomService  FoodCourt  ShoppingMall    Spa  VRDeck             Name  \\\n",
       "0          0.0        0.0           0.0    0.0     0.0  Maham Ofracculy   \n",
       "1        109.0        9.0          25.0  549.0    44.0     Juanna Vines   \n",
       "\n",
       "  Transported  \n",
       "0       False  \n",
       "1        True  "
      ]
     },
     "execution_count": 2,
     "metadata": {},
     "output_type": "execute_result"
    }
   ],
   "source": [
    "df_data.head(2)"
   ]
  },
  {
   "cell_type": "code",
   "execution_count": 3,
   "id": "cb9cb3df",
   "metadata": {
    "ExecuteTime": {
     "end_time": "2022-04-01T10:53:47.986281Z",
     "start_time": "2022-04-01T10:53:47.965250Z"
    }
   },
   "outputs": [],
   "source": [
    "def reduce_mem_usage(df, verbose=True):\n",
    "    numerics = ['int8','int16', 'int32', 'int64', 'float16', 'float32', 'float64']\n",
    "    start_mem = df.memory_usage().sum() / 1024**2\n",
    "\n",
    "    for col in df.columns:\n",
    "        col_type = df[col].dtypes\n",
    "\n",
    "        if col_type in numerics:\n",
    "            c_min = df[col].min()\n",
    "            c_max = df[col].max()\n",
    "\n",
    "            if str(col_type)[:3] == 'int':\n",
    "                if c_min > np.iinfo(np.int8).min and c_max < np.iinfo(np.int8).max:\n",
    "                    df[col] = df[col].astype(np.int8)\n",
    "                elif c_min > np.iinfo(np.int16).min and c_max < np.iinfo(np.int16).max:\n",
    "                    df[col] = df[col].astype(np.int16)\n",
    "                elif c_min > np.iinfo(np.int32).min and c_max < np.iinfo(np.int32).max:\n",
    "                    df[col] = df[col].astype(np.int32)\n",
    "                elif c_min > np.iinfo(np.int64).min and c_max < np.iinfo(np.int64).max:\n",
    "                    df[col] = df[col].astype(np.int64)  \n",
    "            else:\n",
    "                if c_min > np.finfo(np.float32).min and c_max < np.finfo(np.float32).max:\n",
    "                    df[col] = df[col].astype(np.float32)\n",
    "                else:\n",
    "                    df[col] = df[col].astype(np.float64)\n",
    "\n",
    "    end_mem = df.memory_usage().sum() / 1024**2\n",
    "\n",
    "    if verbose:\n",
    "        print('Mem. usage decreased to {:5.2f} Mb ({:.1f}% reduction)'.format(end_mem, 100 * (start_mem - end_mem) / start_mem))\n",
    " \n",
    "    return df"
   ]
  },
  {
   "cell_type": "code",
   "execution_count": 410,
   "id": "065e58bc",
   "metadata": {
    "ExecuteTime": {
     "end_time": "2022-03-29T15:27:56.238307Z",
     "start_time": "2022-03-29T15:27:56.225310Z"
    }
   },
   "outputs": [],
   "source": [
    "# pandas_profiling.ProfileReport(train_d)"
   ]
  },
  {
   "cell_type": "markdown",
   "id": "0f0307e1",
   "metadata": {},
   "source": [
    "# EDA & FE"
   ]
  },
  {
   "cell_type": "code",
   "execution_count": 4,
   "id": "b637614e",
   "metadata": {
    "ExecuteTime": {
     "end_time": "2022-04-01T10:53:54.003943Z",
     "start_time": "2022-04-01T10:53:53.990914Z"
    },
    "scrolled": true
   },
   "outputs": [
    {
     "data": {
      "text/plain": [
       "PassengerId      object\n",
       "HomePlanet       object\n",
       "CryoSleep        object\n",
       "Cabin            object\n",
       "Destination      object\n",
       "Age             float64\n",
       "VIP              object\n",
       "RoomService     float64\n",
       "FoodCourt       float64\n",
       "ShoppingMall    float64\n",
       "Spa             float64\n",
       "VRDeck          float64\n",
       "Name             object\n",
       "Transported        bool\n",
       "dtype: object"
      ]
     },
     "execution_count": 4,
     "metadata": {},
     "output_type": "execute_result"
    }
   ],
   "source": [
    "train.dtypes"
   ]
  },
  {
   "cell_type": "code",
   "execution_count": 5,
   "id": "cd43a4b3",
   "metadata": {
    "ExecuteTime": {
     "end_time": "2022-04-01T10:53:54.396200Z",
     "start_time": "2022-04-01T10:53:54.375201Z"
    },
    "scrolled": false
   },
   "outputs": [
    {
     "data": {
      "text/plain": [
       "PassengerId       0\n",
       "HomePlanet      201\n",
       "CryoSleep       217\n",
       "Cabin           199\n",
       "Destination     182\n",
       "Age             179\n",
       "VIP             203\n",
       "RoomService     181\n",
       "FoodCourt       183\n",
       "ShoppingMall    208\n",
       "Spa             183\n",
       "VRDeck          188\n",
       "Name            200\n",
       "Transported       0\n",
       "dtype: int64"
      ]
     },
     "execution_count": 5,
     "metadata": {},
     "output_type": "execute_result"
    }
   ],
   "source": [
    "train.isna().sum()"
   ]
  },
  {
   "cell_type": "code",
   "execution_count": 6,
   "id": "2d6f2364",
   "metadata": {
    "ExecuteTime": {
     "end_time": "2022-04-01T10:53:54.738387Z",
     "start_time": "2022-04-01T10:53:54.722356Z"
    }
   },
   "outputs": [
    {
     "data": {
      "text/plain": [
       "PassengerId       0\n",
       "HomePlanet       87\n",
       "CryoSleep        93\n",
       "Cabin           100\n",
       "Destination      92\n",
       "Age              91\n",
       "VIP              93\n",
       "RoomService      82\n",
       "FoodCourt       106\n",
       "ShoppingMall     98\n",
       "Spa             101\n",
       "VRDeck           80\n",
       "Name             94\n",
       "dtype: int64"
      ]
     },
     "execution_count": 6,
     "metadata": {},
     "output_type": "execute_result"
    }
   ],
   "source": [
    "test.isna().sum()"
   ]
  },
  {
   "cell_type": "code",
   "execution_count": 22,
   "id": "6feb34fc",
   "metadata": {
    "ExecuteTime": {
     "end_time": "2022-04-01T10:57:29.179926Z",
     "start_time": "2022-04-01T10:57:29.148895Z"
    }
   },
   "outputs": [
    {
     "data": {
      "text/html": [
       "<style type=\"text/css\">\n",
       "#T_441ee_row0_col1 {\n",
       "  width: 10em;\n",
       "  height: 80%;\n",
       "  background: linear-gradient(90deg,#205ff2 34.5%, transparent 34.5%);\n",
       "}\n",
       "#T_441ee_row0_col2 {\n",
       "  background-color: #fc9576;\n",
       "  color: #000000;\n",
       "}\n",
       "#T_441ee_row0_col5, #T_441ee_row1_col5, #T_441ee_row2_col5, #T_441ee_row4_col5, #T_441ee_row5_col5 {\n",
       "  background-color: #3b4cc0;\n",
       "  color: #f1f1f1;\n",
       "}\n",
       "#T_441ee_row1_col1 {\n",
       "  width: 10em;\n",
       "  height: 80%;\n",
       "  background: linear-gradient(90deg,#205ff2 66.1%, transparent 66.1%);\n",
       "}\n",
       "#T_441ee_row1_col2 {\n",
       "  background-color: #d72322;\n",
       "  color: #f1f1f1;\n",
       "}\n",
       "#T_441ee_row2_col1 {\n",
       "  width: 10em;\n",
       "  height: 80%;\n",
       "  background: linear-gradient(90deg,#205ff2 100.0%, transparent 100.0%);\n",
       "}\n",
       "#T_441ee_row2_col2 {\n",
       "  background-color: #67000d;\n",
       "  color: #f1f1f1;\n",
       "}\n",
       "#T_441ee_row3_col1 {\n",
       "  width: 10em;\n",
       "  height: 80%;\n",
       "}\n",
       "#T_441ee_row3_col2 {\n",
       "  background-color: #fff5f0;\n",
       "  color: #000000;\n",
       "}\n",
       "#T_441ee_row3_col5 {\n",
       "  background-color: #b40426;\n",
       "  color: #f1f1f1;\n",
       "}\n",
       "#T_441ee_row4_col1 {\n",
       "  width: 10em;\n",
       "  height: 80%;\n",
       "  background: linear-gradient(90deg,#205ff2 65.7%, transparent 65.7%);\n",
       "}\n",
       "#T_441ee_row4_col2 {\n",
       "  background-color: #cc191e;\n",
       "  color: #f1f1f1;\n",
       "}\n",
       "#T_441ee_row5_col1 {\n",
       "  width: 10em;\n",
       "  height: 80%;\n",
       "  background: linear-gradient(90deg,#205ff2 45.9%, transparent 45.9%);\n",
       "}\n",
       "#T_441ee_row5_col2 {\n",
       "  background-color: #fc8969;\n",
       "  color: #f1f1f1;\n",
       "}\n",
       "</style>\n",
       "<table id=\"T_441ee_\">\n",
       "  <thead>\n",
       "    <tr>\n",
       "      <th class=\"blank level0\" >&nbsp;</th>\n",
       "      <th class=\"col_heading level0 col0\" >count</th>\n",
       "      <th class=\"col_heading level0 col1\" >mean</th>\n",
       "      <th class=\"col_heading level0 col2\" >std</th>\n",
       "      <th class=\"col_heading level0 col3\" >min</th>\n",
       "      <th class=\"col_heading level0 col4\" >25%</th>\n",
       "      <th class=\"col_heading level0 col5\" >50%</th>\n",
       "      <th class=\"col_heading level0 col6\" >75%</th>\n",
       "      <th class=\"col_heading level0 col7\" >max</th>\n",
       "    </tr>\n",
       "  </thead>\n",
       "  <tbody>\n",
       "    <tr>\n",
       "      <th id=\"T_441ee_level0_row0\" class=\"row_heading level0 row0\" >ShoppingMall</th>\n",
       "      <td id=\"T_441ee_row0_col0\" class=\"data row0 col0\" >12664.000000</td>\n",
       "      <td id=\"T_441ee_row0_col1\" class=\"data row0 col1\" >174.906033</td>\n",
       "      <td id=\"T_441ee_row0_col2\" class=\"data row0 col2\" >590.558690</td>\n",
       "      <td id=\"T_441ee_row0_col3\" class=\"data row0 col3\" >0.000000</td>\n",
       "      <td id=\"T_441ee_row0_col4\" class=\"data row0 col4\" >0.000000</td>\n",
       "      <td id=\"T_441ee_row0_col5\" class=\"data row0 col5\" >0.000000</td>\n",
       "      <td id=\"T_441ee_row0_col6\" class=\"data row0 col6\" >29.000000</td>\n",
       "      <td id=\"T_441ee_row0_col7\" class=\"data row0 col7\" >23492.000000</td>\n",
       "    </tr>\n",
       "    <tr>\n",
       "      <th id=\"T_441ee_level0_row1\" class=\"row_heading level0 row1\" >Spa</th>\n",
       "      <td id=\"T_441ee_row1_col0\" class=\"data row1 col0\" >12686.000000</td>\n",
       "      <td id=\"T_441ee_row1_col1\" class=\"data row1 col1\" >308.476904</td>\n",
       "      <td id=\"T_441ee_row1_col2\" class=\"data row1 col2\" >1130.279641</td>\n",
       "      <td id=\"T_441ee_row1_col3\" class=\"data row1 col3\" >0.000000</td>\n",
       "      <td id=\"T_441ee_row1_col4\" class=\"data row1 col4\" >0.000000</td>\n",
       "      <td id=\"T_441ee_row1_col5\" class=\"data row1 col5\" >0.000000</td>\n",
       "      <td id=\"T_441ee_row1_col6\" class=\"data row1 col6\" >57.000000</td>\n",
       "      <td id=\"T_441ee_row1_col7\" class=\"data row1 col7\" >22408.000000</td>\n",
       "    </tr>\n",
       "    <tr>\n",
       "      <th id=\"T_441ee_level0_row2\" class=\"row_heading level0 row2\" >FoodCourt</th>\n",
       "      <td id=\"T_441ee_row2_col0\" class=\"data row2 col0\" >12681.000000</td>\n",
       "      <td id=\"T_441ee_row2_col1\" class=\"data row2 col1\" >451.961675</td>\n",
       "      <td id=\"T_441ee_row2_col2\" class=\"data row2 col2\" >1584.370747</td>\n",
       "      <td id=\"T_441ee_row2_col3\" class=\"data row2 col3\" >0.000000</td>\n",
       "      <td id=\"T_441ee_row2_col4\" class=\"data row2 col4\" >0.000000</td>\n",
       "      <td id=\"T_441ee_row2_col5\" class=\"data row2 col5\" >0.000000</td>\n",
       "      <td id=\"T_441ee_row2_col6\" class=\"data row2 col6\" >77.000000</td>\n",
       "      <td id=\"T_441ee_row2_col7\" class=\"data row2 col7\" >29813.000000</td>\n",
       "    </tr>\n",
       "    <tr>\n",
       "      <th id=\"T_441ee_level0_row3\" class=\"row_heading level0 row3\" >Age</th>\n",
       "      <td id=\"T_441ee_row3_col0\" class=\"data row3 col0\" >12700.000000</td>\n",
       "      <td id=\"T_441ee_row3_col1\" class=\"data row3 col1\" >28.771969</td>\n",
       "      <td id=\"T_441ee_row3_col2\" class=\"data row3 col2\" >14.387261</td>\n",
       "      <td id=\"T_441ee_row3_col3\" class=\"data row3 col3\" >0.000000</td>\n",
       "      <td id=\"T_441ee_row3_col4\" class=\"data row3 col4\" >19.000000</td>\n",
       "      <td id=\"T_441ee_row3_col5\" class=\"data row3 col5\" >27.000000</td>\n",
       "      <td id=\"T_441ee_row3_col6\" class=\"data row3 col6\" >38.000000</td>\n",
       "      <td id=\"T_441ee_row3_col7\" class=\"data row3 col7\" >79.000000</td>\n",
       "    </tr>\n",
       "    <tr>\n",
       "      <th id=\"T_441ee_level0_row4\" class=\"row_heading level0 row4\" >VRDeck</th>\n",
       "      <td id=\"T_441ee_row4_col0\" class=\"data row4 col0\" >12702.000000</td>\n",
       "      <td id=\"T_441ee_row4_col1\" class=\"data row4 col1\" >306.789482</td>\n",
       "      <td id=\"T_441ee_row4_col2\" class=\"data row4 col2\" >1180.097223</td>\n",
       "      <td id=\"T_441ee_row4_col3\" class=\"data row4 col3\" >0.000000</td>\n",
       "      <td id=\"T_441ee_row4_col4\" class=\"data row4 col4\" >0.000000</td>\n",
       "      <td id=\"T_441ee_row4_col5\" class=\"data row4 col5\" >0.000000</td>\n",
       "      <td id=\"T_441ee_row4_col6\" class=\"data row4 col6\" >42.000000</td>\n",
       "      <td id=\"T_441ee_row4_col7\" class=\"data row4 col7\" >24133.000000</td>\n",
       "    </tr>\n",
       "    <tr>\n",
       "      <th id=\"T_441ee_level0_row5\" class=\"row_heading level0 row5\" >RoomService</th>\n",
       "      <td id=\"T_441ee_row5_col0\" class=\"data row5 col0\" >12707.000000</td>\n",
       "      <td id=\"T_441ee_row5_col1\" class=\"data row5 col1\" >222.897852</td>\n",
       "      <td id=\"T_441ee_row5_col2\" class=\"data row5 col2\" >647.596664</td>\n",
       "      <td id=\"T_441ee_row5_col3\" class=\"data row5 col3\" >0.000000</td>\n",
       "      <td id=\"T_441ee_row5_col4\" class=\"data row5 col4\" >0.000000</td>\n",
       "      <td id=\"T_441ee_row5_col5\" class=\"data row5 col5\" >0.000000</td>\n",
       "      <td id=\"T_441ee_row5_col6\" class=\"data row5 col6\" >49.000000</td>\n",
       "      <td id=\"T_441ee_row5_col7\" class=\"data row5 col7\" >14327.000000</td>\n",
       "    </tr>\n",
       "  </tbody>\n",
       "</table>\n"
      ],
      "text/plain": [
       "<pandas.io.formats.style.Styler at 0x19ae7177370>"
      ]
     },
     "execution_count": 22,
     "metadata": {},
     "output_type": "execute_result"
    }
   ],
   "source": [
    "df_data.sample(14, axis=1).describe().T.style.bar(\n",
    "    subset=[\"mean\"], color=\"#205ff2\"\n",
    ").background_gradient(subset=[\"std\"], cmap=\"Reds\").background_gradient(\n",
    "    subset=[\"50%\"], cmap=\"coolwarm\"\n",
    ")"
   ]
  },
  {
   "cell_type": "markdown",
   "id": "ee75ade0",
   "metadata": {},
   "source": [
    "## Target"
   ]
  },
  {
   "cell_type": "code",
   "execution_count": 7,
   "id": "e92f0546",
   "metadata": {
    "ExecuteTime": {
     "end_time": "2022-04-01T10:53:56.907261Z",
     "start_time": "2022-04-01T10:53:56.580400Z"
    }
   },
   "outputs": [
    {
     "data": {
      "image/png": "[encoded data removed]",
      "text/plain": [
       "<Figure size 720x360 with 1 Axes>"
      ]
     },
     "metadata": {
      "needs_background": "light"
     },
     "output_type": "display_data"
    }
   ],
   "source": [
    "plt.figure(figsize=(10,5))\n",
    "sns.countplot(y=train['Transported'], palette='cool', orient='h')\n",
    "plt.show()"
   ]
  },
  {
   "cell_type": "markdown",
   "id": "694e9b98",
   "metadata": {},
   "source": [
    "## Create features"
   ]
  },
  {
   "cell_type": "code",
   "execution_count": 415,
   "id": "fb054080",
   "metadata": {
    "ExecuteTime": {
     "end_time": "2022-03-29T15:27:56.967423Z",
     "start_time": "2022-03-29T15:27:56.379311Z"
    },
    "scrolled": true
   },
   "outputs": [
    {
     "name": "stdout",
     "output_type": "stream",
     "text": [
      "Mem. usage decreased to  1.03 Mb (57.0% reduction)\n",
      "(8693, 30) (4277, 29)\n"
     ]
    }
   ],
   "source": [
    "df_data['Ageismissing'] = df_data['Age'].isnull()\n",
    "df_data['Ageismissing'] = df_data['Ageismissing'].astype(int)\n",
    "df_data['Age'].fillna(df_data['Age'].mean(), inplace=True)\n",
    "\n",
    "df_data['RoomService'].fillna(0, inplace=True)\n",
    "df_data['PaidRoomService'] = df_data['RoomService'] > 0\n",
    "df_data['PaidRoomService'] = df_data['PaidRoomService'].astype(int)\n",
    "\n",
    "\n",
    "df_data['FoodCourt'].fillna(0, inplace=True)\n",
    "df_data['PaidFoodCourt'] = df_data['FoodCourt'] > 0\n",
    "df_data['PaidFoodCourt'] = df_data['PaidFoodCourt'].astype(int)\n",
    "\n",
    "df_data['ShoppingMall'].fillna(0, inplace=True)\n",
    "df_data['PaidShoppingMall'] = df_data['ShoppingMall'] > 0\n",
    "df_data['PaidShoppingMall'] = df_data['PaidShoppingMall'].astype(int)\n",
    "\n",
    "df_data['Spa'].fillna(0, inplace=True)\n",
    "df_data['PaidSpa'] = df_data['Spa'] > 0\n",
    "df_data['PaidSpa'] = df_data['PaidSpa'].astype(int)\n",
    "\n",
    "\n",
    "df_data['VRDeck'].fillna(0, inplace=True)\n",
    "df_data['PaidVRDeck'] = df_data['VRDeck'] > 0\n",
    "df_data['PaidVRDeck'] = df_data['PaidVRDeck'].astype(int)\n",
    "\n",
    "\n",
    "df_data['TotalSpend'] = df_data['RoomService'] + df_data['FoodCourt'] + df_data['ShoppingMall'] + df_data['Spa'] + df_data['VRDeck']\n",
    "df_data['PctRoomService'] = df_data['RoomService']/df_data['TotalSpend']\n",
    "df_data['PctFoodCourt'] = df_data['FoodCourt']/df_data['TotalSpend']\n",
    "df_data['PctShoppingMall'] = df_data['ShoppingMall']/df_data['TotalSpend']\n",
    "df_data['PctSpa'] = df_data['Spa']/df_data['TotalSpend']\n",
    "df_data['PctVRDeck'] = df_data['VRDeck']/df_data['TotalSpend']\n",
    "fill_cols = ['PctRoomService', 'PctFoodCourt', 'PctShoppingMall', 'PctSpa', 'PctVRDeck']\n",
    "df_data[fill_cols] = df_data[fill_cols].fillna(0)\n",
    "\n",
    "\n",
    "# cabin\n",
    "df_data.loc[df_data['Cabin'].isnull(), 'Cabin'] = 'None/None/None'\n",
    "df_data[['deck', 'num','side']] = df_data['Cabin'].str.split('/', expand=True)\n",
    "df_data['deck']=df_data['deck'].replace({'A':0, 'B':1, 'C':2, 'D':3, 'E':4, 'F':5, 'G':6, 'T':7, 'None':8})\n",
    "df_data['side']=df_data['side'].replace({'S':0, 'P':1,'None':2})\n",
    "# HomePlanet\n",
    "df_data['HomePlanet'].fillna('None', inplace=True)\n",
    "df_data['HomePlanet'] = df_data['HomePlanet'].map({'Earth': 0, 'Europa': 1,'Mars': 2, 'None': 3})\n",
    "# Destination\n",
    "df_data['Destination'].fillna('None', inplace=True)\n",
    "df_data['Destination'] = df_data['Destination'].map({'55 Cancri e': 0, 'PSO J318.5-22': 1,'TRAPPIST-1e': 2, 'None': 3})\n",
    "\n",
    "df_data['group']=df_data['PassengerId'].apply(lambda x: x.split('_')[0])\n",
    "\n",
    "# PassengerId\n",
    "df_data.drop('PassengerId', axis=1, inplace=True)\n",
    "\n",
    "\n",
    "# CryoSleep & VIP\n",
    "df_data['CryoSleep'] = df_data['CryoSleep'].fillna(False)\n",
    "df_data['VIP'] = df_data['VIP'].fillna(False)\n",
    "\n",
    "bool_type = ['VIP', 'CryoSleep']\n",
    "df_data[bool_type] = df_data[bool_type].astype(int)\n",
    "df_data['PaidVRDeck'] = df_data['PaidVRDeck'].astype(int)\n",
    "\n",
    "df_data['deck'] = df_data['Cabin'].apply(lambda x: x.split('/')[0])\n",
    "df_data['num'] = df_data['Cabin'].apply(lambda x: x.split('/')[1])\n",
    "df_data['side'] = df_data['Cabin'].apply(lambda x: x.split('/')[2])\n",
    "\n",
    "df_data.drop('Cabin', axis=1, inplace=True)\n",
    "\n",
    "df_data['Adult']=True\n",
    "df_data.loc[df_data['Age']<18, 'Adult']=False\n",
    "df_data['Name']=df_data['Name'].fillna(method='ffill')\n",
    "df_data['Under15'] = df_data['Age'].apply(lambda x: 1 if x < 15 else 0)\n",
    "\n",
    "\n",
    "temp=pd.DataFrame(df_data.groupby(['group'])['Name'])\n",
    "d={}\n",
    "for i in range(len(temp)):#len(temp)\n",
    "    past_last_names=[]\n",
    "    names=list(temp[1][i])\n",
    "    rltvs=1\n",
    "    for j in range(len(list(temp[1][i]))):#len(list(temp[1][i]))\n",
    "        if(names[j].split(' ')[1] in past_last_names):\n",
    "            rltvs+=1\n",
    "        past_last_names.append(names[j].split(' ')[1])\n",
    "\n",
    "    d[f\"{temp[0][i]}\"]=rltvs\n",
    "\n",
    "df_data['has_relatives']=df_data['group'].map(d)\n",
    "\n",
    "# # Name\n",
    "df_data.drop('Name', axis=1, inplace=True)\n",
    "\n",
    "\n",
    "\n",
    "# # # Mean, median, maximum, minimum congestion per roadway / time\n",
    "# keys = ['roadway','hour', 'minute']\n",
    "# df = df_data.groupby(by=keys).mean().reset_index().set_index(keys)\n",
    "# df['mean congestion'] = df['congestion']\n",
    "# df_data = df_data.merge(df['mean congestion'], how='left', left_on=keys, right_on=keys)\n",
    "\n",
    "# df = df_data.groupby(by=keys).median().reset_index().set_index(keys)\n",
    "# df['median congestion'] = df['congestion']\n",
    "# df_data = df_data.merge(df['median congestion'], how='left', left_on=keys, right_on=keys)\n",
    "\n",
    "# df = df_data.groupby(by=keys).min().reset_index().set_index(keys)\n",
    "# df['min congestion'] = df['congestion']\n",
    "# df_data = df_data.merge(df['min congestion'], how='left', left_on=keys, right_on=keys)\n",
    "\n",
    "# df = df_data.groupby(by=keys).max().reset_index().set_index(keys)\n",
    "# df['max congestion'] = df['congestion']\n",
    "# df_data = df_data.merge(df['max congestion'], how='left', left_on=keys, right_on=keys)\n",
    "\n",
    "\n",
    "\n",
    "\n",
    "from sklearn.preprocessing import LabelEncoder\n",
    "qualitative = [col for col in df_data if df_data[col].dtype == 'object']\n",
    "for feature in qualitative:\n",
    "    if feature != \"Transported\":\n",
    "        df_data[feature] = LabelEncoder().fit_transform(df_data[feature])\n",
    "# !!!!!!!!!!!!!!!!!!!!!!!!!!!!!!!!!!!!!memory reduction    \n",
    "df_data = reduce_mem_usage(df_data)\n",
    "\n",
    "df_train = df_data[df_data.Transported.isnull() == False]\n",
    "df_test = df_data[df_data.Transported.isnull() == True]\n",
    "\n",
    "df_train['Transported'] = df_train['Transported'].astype(int)\n",
    "df_test = df_test.drop(['Transported'],axis=1)\n",
    "\n",
    "X = df_train.drop('Transported', axis=1)\n",
    "y = df_train['Transported']\n",
    "\n",
    "print(df_train.shape, df_test.shape)"
   ]
  },
  {
   "cell_type": "code",
   "execution_count": 416,
   "id": "190ede04",
   "metadata": {
    "ExecuteTime": {
     "end_time": "2022-03-29T15:27:56.998309Z",
     "start_time": "2022-03-29T15:27:56.970309Z"
    }
   },
   "outputs": [
    {
     "data": {
      "text/html": [
       "<div>\n",
       "<style scoped>\n",
       "    .dataframe tbody tr th:only-of-type {\n",
       "        vertical-align: middle;\n",
       "    }\n",
       "\n",
       "    .dataframe tbody tr th {\n",
       "        vertical-align: top;\n",
       "    }\n",
       "\n",
       "    .dataframe thead th {\n",
       "        text-align: right;\n",
       "    }\n",
       "</style>\n",
       "<table border=\"1\" class=\"dataframe\">\n",
       "  <thead>\n",
       "    <tr style=\"text-align: right;\">\n",
       "      <th></th>\n",
       "      <th>HomePlanet</th>\n",
       "      <th>CryoSleep</th>\n",
       "      <th>Destination</th>\n",
       "      <th>Age</th>\n",
       "      <th>VIP</th>\n",
       "      <th>RoomService</th>\n",
       "      <th>FoodCourt</th>\n",
       "      <th>ShoppingMall</th>\n",
       "      <th>Spa</th>\n",
       "      <th>VRDeck</th>\n",
       "      <th>...</th>\n",
       "      <th>PctShoppingMall</th>\n",
       "      <th>PctSpa</th>\n",
       "      <th>PctVRDeck</th>\n",
       "      <th>deck</th>\n",
       "      <th>num</th>\n",
       "      <th>side</th>\n",
       "      <th>group</th>\n",
       "      <th>Adult</th>\n",
       "      <th>Under15</th>\n",
       "      <th>has_relatives</th>\n",
       "    </tr>\n",
       "  </thead>\n",
       "  <tbody>\n",
       "    <tr>\n",
       "      <th>0</th>\n",
       "      <td>1</td>\n",
       "      <td>0</td>\n",
       "      <td>2</td>\n",
       "      <td>39.0</td>\n",
       "      <td>0</td>\n",
       "      <td>0.0</td>\n",
       "      <td>0.0</td>\n",
       "      <td>0.0</td>\n",
       "      <td>0.0</td>\n",
       "      <td>0.0</td>\n",
       "      <td>...</td>\n",
       "      <td>0.000000</td>\n",
       "      <td>0.000000</td>\n",
       "      <td>0.000000</td>\n",
       "      <td>1</td>\n",
       "      <td>0</td>\n",
       "      <td>1</td>\n",
       "      <td>0</td>\n",
       "      <td>True</td>\n",
       "      <td>0</td>\n",
       "      <td>1</td>\n",
       "    </tr>\n",
       "    <tr>\n",
       "      <th>1</th>\n",
       "      <td>0</td>\n",
       "      <td>0</td>\n",
       "      <td>2</td>\n",
       "      <td>24.0</td>\n",
       "      <td>0</td>\n",
       "      <td>109.0</td>\n",
       "      <td>9.0</td>\n",
       "      <td>25.0</td>\n",
       "      <td>549.0</td>\n",
       "      <td>44.0</td>\n",
       "      <td>...</td>\n",
       "      <td>0.033967</td>\n",
       "      <td>0.745924</td>\n",
       "      <td>0.059783</td>\n",
       "      <td>5</td>\n",
       "      <td>0</td>\n",
       "      <td>2</td>\n",
       "      <td>1</td>\n",
       "      <td>True</td>\n",
       "      <td>0</td>\n",
       "      <td>1</td>\n",
       "    </tr>\n",
       "    <tr>\n",
       "      <th>2</th>\n",
       "      <td>1</td>\n",
       "      <td>0</td>\n",
       "      <td>2</td>\n",
       "      <td>58.0</td>\n",
       "      <td>1</td>\n",
       "      <td>43.0</td>\n",
       "      <td>3576.0</td>\n",
       "      <td>0.0</td>\n",
       "      <td>6715.0</td>\n",
       "      <td>49.0</td>\n",
       "      <td>...</td>\n",
       "      <td>0.000000</td>\n",
       "      <td>0.646730</td>\n",
       "      <td>0.004719</td>\n",
       "      <td>0</td>\n",
       "      <td>0</td>\n",
       "      <td>2</td>\n",
       "      <td>2</td>\n",
       "      <td>True</td>\n",
       "      <td>0</td>\n",
       "      <td>2</td>\n",
       "    </tr>\n",
       "    <tr>\n",
       "      <th>3</th>\n",
       "      <td>1</td>\n",
       "      <td>0</td>\n",
       "      <td>2</td>\n",
       "      <td>33.0</td>\n",
       "      <td>0</td>\n",
       "      <td>0.0</td>\n",
       "      <td>1283.0</td>\n",
       "      <td>371.0</td>\n",
       "      <td>3329.0</td>\n",
       "      <td>193.0</td>\n",
       "      <td>...</td>\n",
       "      <td>0.071677</td>\n",
       "      <td>0.643161</td>\n",
       "      <td>0.037287</td>\n",
       "      <td>0</td>\n",
       "      <td>0</td>\n",
       "      <td>2</td>\n",
       "      <td>2</td>\n",
       "      <td>True</td>\n",
       "      <td>0</td>\n",
       "      <td>2</td>\n",
       "    </tr>\n",
       "    <tr>\n",
       "      <th>4</th>\n",
       "      <td>0</td>\n",
       "      <td>0</td>\n",
       "      <td>2</td>\n",
       "      <td>16.0</td>\n",
       "      <td>0</td>\n",
       "      <td>303.0</td>\n",
       "      <td>70.0</td>\n",
       "      <td>151.0</td>\n",
       "      <td>565.0</td>\n",
       "      <td>2.0</td>\n",
       "      <td>...</td>\n",
       "      <td>0.138405</td>\n",
       "      <td>0.517874</td>\n",
       "      <td>0.001833</td>\n",
       "      <td>5</td>\n",
       "      <td>1</td>\n",
       "      <td>2</td>\n",
       "      <td>3</td>\n",
       "      <td>False</td>\n",
       "      <td>0</td>\n",
       "      <td>1</td>\n",
       "    </tr>\n",
       "  </tbody>\n",
       "</table>\n",
       "<p>5 rows × 30 columns</p>\n",
       "</div>"
      ],
      "text/plain": [
       "   HomePlanet  CryoSleep  Destination   Age  VIP  RoomService  FoodCourt  \\\n",
       "0           1          0            2  39.0    0          0.0        0.0   \n",
       "1           0          0            2  24.0    0        109.0        9.0   \n",
       "2           1          0            2  58.0    1         43.0     3576.0   \n",
       "3           1          0            2  33.0    0          0.0     1283.0   \n",
       "4           0          0            2  16.0    0        303.0       70.0   \n",
       "\n",
       "   ShoppingMall     Spa  VRDeck  ... PctShoppingMall    PctSpa  PctVRDeck  \\\n",
       "0           0.0     0.0     0.0  ...        0.000000  0.000000   0.000000   \n",
       "1          25.0   549.0    44.0  ...        0.033967  0.745924   0.059783   \n",
       "2           0.0  6715.0    49.0  ...        0.000000  0.646730   0.004719   \n",
       "3         371.0  3329.0   193.0  ...        0.071677  0.643161   0.037287   \n",
       "4         151.0   565.0     2.0  ...        0.138405  0.517874   0.001833   \n",
       "\n",
       "   deck  num  side  group  Adult  Under15  has_relatives  \n",
       "0     1    0     1      0   True        0              1  \n",
       "1     5    0     2      1   True        0              1  \n",
       "2     0    0     2      2   True        0              2  \n",
       "3     0    0     2      2   True        0              2  \n",
       "4     5    1     2      3  False        0              1  \n",
       "\n",
       "[5 rows x 30 columns]"
      ]
     },
     "execution_count": 416,
     "metadata": {},
     "output_type": "execute_result"
    }
   ],
   "source": [
    "df_data.head(5)"
   ]
  },
  {
   "cell_type": "code",
   "execution_count": 417,
   "id": "39f41197",
   "metadata": {
    "ExecuteTime": {
     "end_time": "2022-03-29T15:27:57.029339Z",
     "start_time": "2022-03-29T15:27:56.999311Z"
    },
    "scrolled": true
   },
   "outputs": [
    {
     "data": {
      "text/html": [
       "<div>\n",
       "<style scoped>\n",
       "    .dataframe tbody tr th:only-of-type {\n",
       "        vertical-align: middle;\n",
       "    }\n",
       "\n",
       "    .dataframe tbody tr th {\n",
       "        vertical-align: top;\n",
       "    }\n",
       "\n",
       "    .dataframe thead th {\n",
       "        text-align: right;\n",
       "    }\n",
       "</style>\n",
       "<table border=\"1\" class=\"dataframe\">\n",
       "  <thead>\n",
       "    <tr style=\"text-align: right;\">\n",
       "      <th></th>\n",
       "      <th>HomePlanet</th>\n",
       "      <th>CryoSleep</th>\n",
       "      <th>Destination</th>\n",
       "      <th>Age</th>\n",
       "      <th>VIP</th>\n",
       "      <th>RoomService</th>\n",
       "      <th>FoodCourt</th>\n",
       "      <th>ShoppingMall</th>\n",
       "      <th>Spa</th>\n",
       "      <th>VRDeck</th>\n",
       "      <th>...</th>\n",
       "      <th>PctShoppingMall</th>\n",
       "      <th>PctSpa</th>\n",
       "      <th>PctVRDeck</th>\n",
       "      <th>deck</th>\n",
       "      <th>num</th>\n",
       "      <th>side</th>\n",
       "      <th>group</th>\n",
       "      <th>Adult</th>\n",
       "      <th>Under15</th>\n",
       "      <th>has_relatives</th>\n",
       "    </tr>\n",
       "  </thead>\n",
       "  <tbody>\n",
       "    <tr>\n",
       "      <th>0</th>\n",
       "      <td>0</td>\n",
       "      <td>1</td>\n",
       "      <td>2</td>\n",
       "      <td>27.0</td>\n",
       "      <td>0</td>\n",
       "      <td>0.0</td>\n",
       "      <td>0.0</td>\n",
       "      <td>0.0</td>\n",
       "      <td>0.0</td>\n",
       "      <td>0.0</td>\n",
       "      <td>...</td>\n",
       "      <td>0.000000</td>\n",
       "      <td>0.000000</td>\n",
       "      <td>0.000000</td>\n",
       "      <td>6</td>\n",
       "      <td>1117</td>\n",
       "      <td>2</td>\n",
       "      <td>12</td>\n",
       "      <td>True</td>\n",
       "      <td>0</td>\n",
       "      <td>1</td>\n",
       "    </tr>\n",
       "    <tr>\n",
       "      <th>1</th>\n",
       "      <td>0</td>\n",
       "      <td>0</td>\n",
       "      <td>2</td>\n",
       "      <td>19.0</td>\n",
       "      <td>0</td>\n",
       "      <td>0.0</td>\n",
       "      <td>9.0</td>\n",
       "      <td>0.0</td>\n",
       "      <td>2823.0</td>\n",
       "      <td>0.0</td>\n",
       "      <td>...</td>\n",
       "      <td>0.000000</td>\n",
       "      <td>0.996822</td>\n",
       "      <td>0.000000</td>\n",
       "      <td>5</td>\n",
       "      <td>1228</td>\n",
       "      <td>2</td>\n",
       "      <td>17</td>\n",
       "      <td>True</td>\n",
       "      <td>0</td>\n",
       "      <td>1</td>\n",
       "    </tr>\n",
       "    <tr>\n",
       "      <th>2</th>\n",
       "      <td>1</td>\n",
       "      <td>1</td>\n",
       "      <td>0</td>\n",
       "      <td>31.0</td>\n",
       "      <td>0</td>\n",
       "      <td>0.0</td>\n",
       "      <td>0.0</td>\n",
       "      <td>0.0</td>\n",
       "      <td>0.0</td>\n",
       "      <td>0.0</td>\n",
       "      <td>...</td>\n",
       "      <td>0.000000</td>\n",
       "      <td>0.000000</td>\n",
       "      <td>0.000000</td>\n",
       "      <td>2</td>\n",
       "      <td>0</td>\n",
       "      <td>2</td>\n",
       "      <td>18</td>\n",
       "      <td>True</td>\n",
       "      <td>0</td>\n",
       "      <td>1</td>\n",
       "    </tr>\n",
       "    <tr>\n",
       "      <th>3</th>\n",
       "      <td>1</td>\n",
       "      <td>0</td>\n",
       "      <td>2</td>\n",
       "      <td>38.0</td>\n",
       "      <td>0</td>\n",
       "      <td>0.0</td>\n",
       "      <td>6652.0</td>\n",
       "      <td>0.0</td>\n",
       "      <td>181.0</td>\n",
       "      <td>585.0</td>\n",
       "      <td>...</td>\n",
       "      <td>0.000000</td>\n",
       "      <td>0.024400</td>\n",
       "      <td>0.078862</td>\n",
       "      <td>2</td>\n",
       "      <td>1</td>\n",
       "      <td>2</td>\n",
       "      <td>20</td>\n",
       "      <td>True</td>\n",
       "      <td>0</td>\n",
       "      <td>1</td>\n",
       "    </tr>\n",
       "    <tr>\n",
       "      <th>4</th>\n",
       "      <td>0</td>\n",
       "      <td>0</td>\n",
       "      <td>2</td>\n",
       "      <td>20.0</td>\n",
       "      <td>0</td>\n",
       "      <td>10.0</td>\n",
       "      <td>0.0</td>\n",
       "      <td>635.0</td>\n",
       "      <td>0.0</td>\n",
       "      <td>0.0</td>\n",
       "      <td>...</td>\n",
       "      <td>0.984496</td>\n",
       "      <td>0.000000</td>\n",
       "      <td>0.000000</td>\n",
       "      <td>5</td>\n",
       "      <td>1339</td>\n",
       "      <td>2</td>\n",
       "      <td>22</td>\n",
       "      <td>True</td>\n",
       "      <td>0</td>\n",
       "      <td>1</td>\n",
       "    </tr>\n",
       "  </tbody>\n",
       "</table>\n",
       "<p>5 rows × 29 columns</p>\n",
       "</div>"
      ],
      "text/plain": [
       "   HomePlanet  CryoSleep  Destination   Age  VIP  RoomService  FoodCourt  \\\n",
       "0           0          1            2  27.0    0          0.0        0.0   \n",
       "1           0          0            2  19.0    0          0.0        9.0   \n",
       "2           1          1            0  31.0    0          0.0        0.0   \n",
       "3           1          0            2  38.0    0          0.0     6652.0   \n",
       "4           0          0            2  20.0    0         10.0        0.0   \n",
       "\n",
       "   ShoppingMall     Spa  VRDeck  ...  PctShoppingMall    PctSpa  PctVRDeck  \\\n",
       "0           0.0     0.0     0.0  ...         0.000000  0.000000   0.000000   \n",
       "1           0.0  2823.0     0.0  ...         0.000000  0.996822   0.000000   \n",
       "2           0.0     0.0     0.0  ...         0.000000  0.000000   0.000000   \n",
       "3           0.0   181.0   585.0  ...         0.000000  0.024400   0.078862   \n",
       "4         635.0     0.0     0.0  ...         0.984496  0.000000   0.000000   \n",
       "\n",
       "   deck   num  side  group  Adult  Under15  has_relatives  \n",
       "0     6  1117     2     12   True        0              1  \n",
       "1     5  1228     2     17   True        0              1  \n",
       "2     2     0     2     18   True        0              1  \n",
       "3     2     1     2     20   True        0              1  \n",
       "4     5  1339     2     22   True        0              1  \n",
       "\n",
       "[5 rows x 29 columns]"
      ]
     },
     "execution_count": 417,
     "metadata": {},
     "output_type": "execute_result"
    }
   ],
   "source": [
    "df_test.head(5)"
   ]
  },
  {
   "cell_type": "markdown",
   "id": "31f31d0d",
   "metadata": {},
   "source": [
    "## Mutual Information"
   ]
  },
  {
   "cell_type": "code",
   "execution_count": 418,
   "id": "027f8a88",
   "metadata": {
    "ExecuteTime": {
     "end_time": "2022-03-29T15:27:57.044308Z",
     "start_time": "2022-03-29T15:27:57.031312Z"
    }
   },
   "outputs": [],
   "source": [
    "# # see best parameters by mutial information\n",
    "# from sklearn.feature_selection import mutual_info_regression\n",
    "# from sklearn.model_selection import cross_val_score\n",
    "# from xgboost import XGBRegressor\n",
    "\n",
    "# def make_mi_scores(X, y):\n",
    "#     X = X.copy()\n",
    "#     for colname in X.select_dtypes([\"object\"]):\n",
    "#         X[colname], _ = X[colname].factorize()\n",
    "#     # All discrete features should now have integer dtypes\n",
    "#     #discrete_features = [pd.api.types.is_integer_dtype(t) for t in X.dtypes]\n",
    "#     mi_scores = mutual_info_regression(X, y, random_state=0)\n",
    "#     mi_scores = pd.Series(mi_scores, name=\"MI Scores\", index=X.columns)\n",
    "#     mi_scores = mi_scores.sort_values(ascending=False)\n",
    "#     return mi_scores\n",
    "\n",
    "# y = df_data[df_data['Transported'].isnull() == False]['Transported']\n",
    "# x = df_data[df_data['Transported'].isnull() == False].drop('Transported', axis=1)\n",
    "# mi_scores = make_mi_scores(x, y)\n",
    "# mi_scores = pd.DataFrame(mi_scores).reset_index().rename(columns={'index':'Feature'})"
   ]
  },
  {
   "cell_type": "code",
   "execution_count": 419,
   "id": "94673eb5",
   "metadata": {
    "ExecuteTime": {
     "end_time": "2022-03-29T15:27:57.059307Z",
     "start_time": "2022-03-29T15:27:57.045310Z"
    },
    "scrolled": true
   },
   "outputs": [],
   "source": [
    "# fig = px.bar(mi_scores, x='MI Scores', y='Feature', color=\"MI Scores\",\n",
    "#              color_continuous_scale='darkmint')\n",
    "# fig.update_layout(height = 750, title_text=\"Mutual Information Scores\",\n",
    "#                   title_font=dict(size=29, family=\"Lato, sans-serif\"), xaxis={'categoryorder':'category ascending'}, margin=dict(t=80))"
   ]
  },
  {
   "cell_type": "code",
   "execution_count": 420,
   "id": "24063095",
   "metadata": {
    "ExecuteTime": {
     "end_time": "2022-03-29T15:27:57.074338Z",
     "start_time": "2022-03-29T15:27:57.060311Z"
    },
    "scrolled": true
   },
   "outputs": [],
   "source": [
    "# plt.figure(figsize=(17,17))\n",
    "# corr=df_data.corr(method='spearman')\n",
    "# # Generate a mask for the upper triangle\n",
    "# mask = np.triu(np.ones_like(corr, dtype=bool))\n",
    "\n",
    "# # Set up the matplotlib figure\n",
    "# f, ax = plt.subplots(figsize=(30, 20))\n",
    "\n",
    "# # Generate a custom diverging colormap\n",
    "# cmap = sns.diverging_palette(230, 20, as_cmap=True)\n",
    "# # Draw the heatmap with the mask and correct aspect ratio\n",
    "# g=sns.heatmap(corr, mask=mask,annot=True,cmap=\"YlGnBu\", vmax=.3, center=0, square=True, linewidths=.5, cbar_kws={\"shrink\": .5})"
   ]
  },
  {
   "cell_type": "markdown",
   "id": "b6485620",
   "metadata": {
    "heading_collapsed": true
   },
   "source": [
    "## PCA"
   ]
  },
  {
   "cell_type": "code",
   "execution_count": 421,
   "id": "e4dbcc94",
   "metadata": {
    "ExecuteTime": {
     "end_time": "2022-03-29T15:27:57.090424Z",
     "start_time": "2022-03-29T15:27:57.075341Z"
    },
    "hidden": true,
    "scrolled": true
   },
   "outputs": [],
   "source": [
    "# from sklearn.preprocessing import StandardScaler \n",
    "# train_standard = StandardScaler().fit_transform(train)\n",
    "\n",
    "# train_standard = pd.DataFrame(train_standard, index=train.index, columns=train.columns)\n",
    "# train_standard.head(2)"
   ]
  },
  {
   "cell_type": "code",
   "execution_count": 422,
   "id": "41acb196",
   "metadata": {
    "ExecuteTime": {
     "end_time": "2022-03-29T15:27:57.106333Z",
     "start_time": "2022-03-29T15:27:57.091311Z"
    },
    "hidden": true
   },
   "outputs": [],
   "source": [
    "# from sklearn.decomposition import PCA\n",
    "# pca = PCA(n_components=10)\n",
    "# principalComponents = pca.fit_transform(train_standard)\n",
    "# principalDf = pd.DataFrame(data = principalComponents, columns = ['pc1', 'pc2', 'pc3', 'pc4', 'pc5', 'pc6', 'pc7', 'pc8', 'pc9', 'pc10'])\n",
    "# principalDf.head(2)"
   ]
  },
  {
   "cell_type": "code",
   "execution_count": 423,
   "id": "d97f72c8",
   "metadata": {
    "ExecuteTime": {
     "end_time": "2022-03-29T15:27:57.122309Z",
     "start_time": "2022-03-29T15:27:57.108308Z"
    },
    "hidden": true
   },
   "outputs": [],
   "source": [
    "# pca.explained_variance_ratio_"
   ]
  },
  {
   "cell_type": "code",
   "execution_count": 424,
   "id": "690a623b",
   "metadata": {
    "ExecuteTime": {
     "end_time": "2022-03-29T15:27:57.137341Z",
     "start_time": "2022-03-29T15:27:57.123311Z"
    },
    "hidden": true
   },
   "outputs": [],
   "source": [
    "# print(np.cumsum((pca.explained_variance_ratio_)))"
   ]
  },
  {
   "cell_type": "code",
   "execution_count": 425,
   "id": "d3f5da8b",
   "metadata": {
    "ExecuteTime": {
     "end_time": "2022-03-29T15:27:57.153341Z",
     "start_time": "2022-03-29T15:27:57.138308Z"
    },
    "hidden": true
   },
   "outputs": [],
   "source": [
    "# train = pd.concat([train, principalDf], axis = 1)\n",
    "# train.head(2)"
   ]
  },
  {
   "cell_type": "code",
   "execution_count": 426,
   "id": "dea0feb6",
   "metadata": {
    "ExecuteTime": {
     "end_time": "2022-03-29T15:27:57.169311Z",
     "start_time": "2022-03-29T15:27:57.154310Z"
    },
    "hidden": true
   },
   "outputs": [],
   "source": [
    "# # test\n",
    "# test_standard = StandardScaler().fit_transform(test)\n",
    "# test_standard = pd.DataFrame(test_standard, index=test.index, columns=test.columns)\n",
    "\n",
    "\n",
    "# pca = PCA(n_components=10)\n",
    "# principalComponents = pca.fit_transform(test_standard)\n",
    "# principalDf = pd.DataFrame(data = principalComponents, columns = ['pc1', 'pc2', 'pc3', 'pc4', 'pc5', 'pc6', 'pc7', 'pc8', 'pc9', 'pc10'])\n",
    "# test = pd.concat([test, principalDf], axis = 1)"
   ]
  },
  {
   "cell_type": "code",
   "execution_count": 427,
   "id": "258c448d",
   "metadata": {
    "ExecuteTime": {
     "end_time": "2022-03-29T15:27:57.184343Z",
     "start_time": "2022-03-29T15:27:57.170309Z"
    },
    "hidden": true
   },
   "outputs": [],
   "source": [
    "# print(np.cumsum((pca.explained_variance_ratio_)))"
   ]
  },
  {
   "cell_type": "code",
   "execution_count": 428,
   "id": "0888cc97",
   "metadata": {
    "ExecuteTime": {
     "end_time": "2022-03-29T15:27:57.200333Z",
     "start_time": "2022-03-29T15:27:57.186309Z"
    },
    "hidden": true
   },
   "outputs": [],
   "source": [
    "# print(train.shape, test.shape)"
   ]
  },
  {
   "cell_type": "markdown",
   "id": "d9687b8c",
   "metadata": {},
   "source": [
    "# Modeling"
   ]
  },
  {
   "cell_type": "markdown",
   "id": "eae65fb5",
   "metadata": {},
   "source": [
    "## CV"
   ]
  },
  {
   "cell_type": "code",
   "execution_count": 429,
   "id": "a8cba41c",
   "metadata": {
    "ExecuteTime": {
     "end_time": "2022-03-29T15:27:57.215341Z",
     "start_time": "2022-03-29T15:27:57.201309Z"
    }
   },
   "outputs": [],
   "source": [
    "def scikit_grid():\n",
    "    from sklearn.model_selection import GridSearchCV\n",
    "    from catboost import CatBoostClassifier\n",
    "    parameters = {'depth'         : [4,6,10],\n",
    "                     'learning_rate' : [0.01,0.05],\n",
    "                      'iterations'    : [500, 1000, 1500]\n",
    "                     }\n",
    "    CBC = CatBoostClassifier(task_type=\"GPU\",devices='0:1', verbose=True)\n",
    "    Grid_CBC = GridSearchCV(estimator=CBC, param_grid = parameters, cv = 3)\n",
    "\n",
    "    Grid_CBC.fit(X, y)\n",
    "\n",
    "    # print(\"\\n The best score across ALL searched params:\\n\",Grid_CBC.best_score_)\n",
    "    print(\"\\n The best parameters across ALL searched params:\\n\",Grid_CBC.best_params_)\n",
    "# scikit_grid()"
   ]
  },
  {
   "cell_type": "code",
   "execution_count": 430,
   "id": "973e01b9",
   "metadata": {
    "ExecuteTime": {
     "end_time": "2022-03-29T15:27:57.230309Z",
     "start_time": "2022-03-29T15:27:57.216310Z"
    }
   },
   "outputs": [
    {
     "ename": "NameError",
     "evalue": "name 'stop' is not defined",
     "output_type": "error",
     "traceback": [
      "\u001b[1;31m---------------------------------------------------------------------------\u001b[0m",
      "\u001b[1;31mNameError\u001b[0m                                 Traceback (most recent call last)",
      "Input \u001b[1;32mIn [430]\u001b[0m, in \u001b[0;36m<cell line: 1>\u001b[1;34m()\u001b[0m\n\u001b[1;32m----> 1\u001b[0m \u001b[43mstop\u001b[49m\n",
      "\u001b[1;31mNameError\u001b[0m: name 'stop' is not defined"
     ]
    }
   ],
   "source": [
    "stop"
   ]
  },
  {
   "cell_type": "code",
   "execution_count": null,
   "id": "bd5982da",
   "metadata": {
    "ExecuteTime": {
     "start_time": "2022-03-29T18:03:26.185Z"
    },
    "code_folding": [],
    "scrolled": true
   },
   "outputs": [
    {
     "name": "stdout",
     "output_type": "stream",
     "text": [
      "Total splits:  105\n",
      "fold :  1 Validation score:  0.8192771084337349 \n",
      "fold :  2 Validation score:  0.8072289156626506 \n",
      "fold :  3 Validation score:  0.7469879518072289 \n",
      "fold :  4 Validation score:  0.8072289156626506 \n",
      "fold :  5 Validation score:  0.8192771084337349 \n",
      "fold :  6 Validation score:  0.7951807228915663 \n",
      "fold :  7 Validation score:  0.7469879518072289 \n",
      "fold :  8 Validation score:  0.8072289156626506 \n",
      "fold :  9 Validation score:  0.7108433734939759 \n",
      "fold :  10 Validation score:  0.8072289156626506 \n",
      "fold :  11 Validation score:  0.8192771084337349 \n",
      "fold :  12 Validation score:  0.7951807228915663 \n",
      "fold :  13 Validation score:  0.8674698795180723 \n",
      "fold :  14 Validation score:  0.7590361445783133 \n",
      "fold :  15 Validation score:  0.7831325301204819 \n",
      "fold :  16 Validation score:  0.7951807228915663 \n",
      "fold :  17 Validation score:  0.8192771084337349 \n",
      "fold :  18 Validation score:  0.7590361445783133 \n",
      "fold :  19 Validation score:  0.8072289156626506 \n",
      "fold :  20 "
     ]
    }
   ],
   "source": [
    "from catboost import CatBoostClassifier\n",
    "import statistics\n",
    "\n",
    "scores_on_split = []\n",
    "for N_SPLITS in range(105,121,5):\n",
    "\n",
    "    #N_SPLITS = 5 # 200 is the best score on LB\n",
    "    RANDOM_STATE = 42 \n",
    "    params = {\n",
    "           'n_estimators' : N_ESTIMATORS,\n",
    "            'n_jobs' : -1,\n",
    "             'random_state' : RANDOM_STATE\n",
    "    }\n",
    "\n",
    "    scores = []\n",
    "    y_probs = []\n",
    "    y_probs_final = []\n",
    "\n",
    "    print('Total splits: ', N_SPLITS)\n",
    "    folds = StratifiedKFold(n_splits = N_SPLITS, shuffle=True)\n",
    "\n",
    "    for fold, (train_id, test_id) in enumerate(folds.split(X, y)):  \n",
    "\n",
    "        print(\"fold : \", fold + 1, end = ' ')\n",
    "\n",
    "        X_train = X.iloc[train_id]\n",
    "        y_train = y.iloc[train_id]\n",
    "        X_valid = X.iloc[test_id]\n",
    "        y_valid = y.iloc[test_id]\n",
    "\n",
    "        # model_2\n",
    "        model =  CatBoostClassifier(verbose=False)\n",
    "        model.fit(X_train, y_train)\n",
    "\n",
    "        # validation\n",
    "        valid_pred = model.predict(X_valid)\n",
    "        valid_score = accuracy_score(y_valid, valid_pred)\n",
    "        print( \"Validation score: \", valid_score, end = ' ')\n",
    "        scores.append(valid_score)\n",
    "\n",
    "        # test\n",
    "        #y_pred = model.predict(df_test)\n",
    "        y_probs.append(model.predict_proba(df_test))\n",
    "        print(\"\")\n",
    "    scores_on_split.append(statistics.mean(scores))\n",
    "\n",
    "\n",
    "scores_on_split"
   ]
  },
  {
   "cell_type": "code",
   "execution_count": 447,
   "id": "4ac105c2",
   "metadata": {
    "ExecuteTime": {
     "end_time": "2022-03-29T17:21:43.250704Z",
     "start_time": "2022-03-29T17:21:43.237705Z"
    }
   },
   "outputs": [
    {
     "data": {
      "text/plain": [
       "0.8135351510291365"
      ]
     },
     "execution_count": 447,
     "metadata": {},
     "output_type": "execute_result"
    }
   ],
   "source": [
    "# 0.8153986928104575 - 500\n",
    "\n",
    "# 0.8167548783747661 - 100\n",
    "# 0.8182521395655036 - 140\n",
    "# 0.8187900786448881 - 150\n",
    "# 0.8169900557846228 - 155\n",
    "# 0.8145664983164983 - 160\n",
    "# 0.8175317124735729 - 200\n",
    "import statistics\n",
    "statistics.mean(scores)"
   ]
  },
  {
   "cell_type": "code",
   "execution_count": 453,
   "id": "b7d9c30a",
   "metadata": {
    "ExecuteTime": {
     "end_time": "2022-03-29T18:03:00.091549Z",
     "start_time": "2022-03-29T18:02:59.880553Z"
    }
   },
   "outputs": [
    {
     "data": {
      "text/plain": [
       "[<matplotlib.lines.Line2D at 0x189f9b007c0>]"
      ]
     },
     "execution_count": 453,
     "metadata": {},
     "output_type": "execute_result"
    },
    {
     "data": {
      "image/png": "[encoded data removed]",
      "text/plain": [
       "<Figure size 432x288 with 1 Axes>"
      ]
     },
     "metadata": {
      "needs_background": "light"
     },
     "output_type": "display_data"
    }
   ],
   "source": [
    "i = np.arange(105,121,5)\n",
    "plt.plot(i, scores_on_split)"
   ]
  },
  {
   "cell_type": "markdown",
   "id": "8e9a836d",
   "metadata": {
    "heading_collapsed": true
   },
   "source": [
    "## Catboost"
   ]
  },
  {
   "cell_type": "code",
   "execution_count": null,
   "id": "1cc8d4a9",
   "metadata": {
    "ExecuteTime": {
     "end_time": "2022-03-29T15:27:57.235307Z",
     "start_time": "2022-03-29T15:27:57.235307Z"
    },
    "hidden": true
   },
   "outputs": [],
   "source": [
    "model =  CatBoostClassifier(depth=12,verbose=False)\n",
    "model.fit(train,y)\n",
    "model.score(train,y)"
   ]
  },
  {
   "cell_type": "code",
   "execution_count": null,
   "id": "2b7baa8b",
   "metadata": {
    "ExecuteTime": {
     "end_time": "2022-03-29T15:27:57.236309Z",
     "start_time": "2022-03-29T15:27:57.236309Z"
    },
    "hidden": true
   },
   "outputs": [],
   "source": [
    "y_pred = model.predict(test)\n",
    "y_pred"
   ]
  },
  {
   "cell_type": "markdown",
   "id": "4f452af3",
   "metadata": {
    "heading_collapsed": true
   },
   "source": [
    "## Pycaret"
   ]
  },
  {
   "cell_type": "code",
   "execution_count": null,
   "id": "f50f8cad",
   "metadata": {
    "ExecuteTime": {
     "end_time": "2022-03-29T15:27:57.237309Z",
     "start_time": "2022-03-29T15:27:57.237309Z"
    },
    "hidden": true,
    "scrolled": true
   },
   "outputs": [],
   "source": [
    "from pycaret.classification import *\n",
    "#num_cols = list(train.select_dtypes('float64').columns) + list(train.select_dtypes('int64').columns)\n",
    "\n",
    "s = setup(data = df_train,\n",
    "          target = 'Transported',\n",
    "          train_size = 0.8,\n",
    "          fold_strategy = 'stratifiedkfold',\n",
    "          fold = 5,\n",
    "          fold_shuffle = True,\n",
    "          #numeric_features = num_cols,\n",
    "          ignore_low_variance=True,\n",
    "          remove_multicollinearity = True,\n",
    "          imputation_type='iterative',\n",
    "          #normalize = True,\n",
    "          normalize_method = 'robust',\n",
    "          data_split_stratify = True,\n",
    "          #ignore_features = ['PassengerNo', 'Name', 'PassengerId', 'PassengerGroup', 'Cabin'],\n",
    "          silent = True)"
   ]
  },
  {
   "cell_type": "code",
   "execution_count": null,
   "id": "95d371e6",
   "metadata": {
    "ExecuteTime": {
     "end_time": "2022-03-29T15:27:57.239310Z",
     "start_time": "2022-03-29T15:27:57.239310Z"
    },
    "hidden": true,
    "scrolled": true
   },
   "outputs": [],
   "source": [
    "best_model = compare_models()"
   ]
  },
  {
   "cell_type": "code",
   "execution_count": null,
   "id": "3a55aafb",
   "metadata": {
    "ExecuteTime": {
     "end_time": "2022-03-29T15:27:57.240312Z",
     "start_time": "2022-03-29T15:27:57.240312Z"
    },
    "hidden": true
   },
   "outputs": [],
   "source": [
    "catboost_m = create_model('catboost')"
   ]
  },
  {
   "cell_type": "code",
   "execution_count": null,
   "id": "975d333e",
   "metadata": {
    "ExecuteTime": {
     "end_time": "2022-03-29T15:27:57.242310Z",
     "start_time": "2022-03-29T15:27:57.242310Z"
    },
    "hidden": true
   },
   "outputs": [],
   "source": [
    "tuned_catboost = tune_model(catboost_m, optimize = 'Accuracy')"
   ]
  },
  {
   "cell_type": "code",
   "execution_count": null,
   "id": "cb4356ad",
   "metadata": {
    "ExecuteTime": {
     "end_time": "2022-03-29T15:27:57.243310Z",
     "start_time": "2022-03-29T15:27:57.243310Z"
    },
    "hidden": true
   },
   "outputs": [],
   "source": [
    "#plot_model(catboost_m, plot = 'parameter')"
   ]
  },
  {
   "cell_type": "code",
   "execution_count": null,
   "id": "2c9787e7",
   "metadata": {
    "ExecuteTime": {
     "end_time": "2022-03-29T15:27:57.244310Z",
     "start_time": "2022-03-29T15:27:57.244310Z"
    },
    "hidden": true
   },
   "outputs": [],
   "source": [
    "# plot_model(tuned_catboost, plot = 'parameter')"
   ]
  },
  {
   "cell_type": "markdown",
   "id": "615355cf",
   "metadata": {},
   "source": [
    "# Submission"
   ]
  },
  {
   "cell_type": "code",
   "execution_count": null,
   "id": "e92db35b",
   "metadata": {
    "ExecuteTime": {
     "end_time": "2022-03-29T15:27:57.246311Z",
     "start_time": "2022-03-29T15:27:57.246311Z"
    },
    "scrolled": true
   },
   "outputs": [],
   "source": [
    "sub.head(2)"
   ]
  },
  {
   "cell_type": "code",
   "execution_count": null,
   "id": "cc066569",
   "metadata": {
    "ExecuteTime": {
     "end_time": "2022-03-29T15:27:57.247310Z",
     "start_time": "2022-03-29T15:27:57.247310Z"
    },
    "scrolled": true
   },
   "outputs": [],
   "source": [
    "# # y_pred = predict_model(lr, data=test)\n",
    "# # y_pred = y_pred['Label']\n",
    "\n",
    "\n",
    "# preds = []\n",
    "# for i in y_pred:\n",
    "#     if i == 0:\n",
    "#         preds.append(False)\n",
    "#     else:\n",
    "#         preds.append(True)\n",
    "\n",
    "# sub['Transported'] = preds\n",
    "\n",
    "# sub.to_csv(\"/home/mikhail/Downloads/sample_submission.csv'\", index=False)\n",
    "# sub.head()"
   ]
  },
  {
   "cell_type": "code",
   "execution_count": null,
   "id": "e3256257",
   "metadata": {
    "ExecuteTime": {
     "end_time": "2022-03-29T15:27:57.248310Z",
     "start_time": "2022-03-29T15:27:57.248310Z"
    }
   },
   "outputs": [],
   "source": [
    "y_probs_final = sum(y_probs) / len(y_probs)\n",
    "y_probs_final\n",
    "\n",
    "preds = []\n",
    "for i in y_probs_final:\n",
    "    if i[0] > i[1]:\n",
    "        preds.append(False)\n",
    "    else:\n",
    "        preds.append(True)\n",
    "        \n",
    "def save_submission(y_pred):  \n",
    "    #classes = label.inverse_transform(y_pred)\n",
    "    sub[\"Transported\"] = y_pred\n",
    "    #assert len(classes) == sub.shape[0]\n",
    "    assert 2 == sub.shape[1]   \n",
    "    sub.to_csv(\"E:/downloads/sample_submission.csv\", index=False)\n",
    "    return sub\n",
    "save_submission(preds).head(3)"
   ]
  },
  {
   "cell_type": "markdown",
   "id": "7dd52697",
   "metadata": {},
   "source": [
    "# Exponentially weighted ensemble:"
   ]
  },
  {
   "cell_type": "code",
   "execution_count": null,
   "id": "be8f2f64",
   "metadata": {
    "ExecuteTime": {
     "end_time": "2022-03-29T15:27:57.249310Z",
     "start_time": "2022-03-29T15:27:57.249310Z"
    }
   },
   "outputs": [],
   "source": [
    "sub = pd.read_csv(cwd + \"/spaceship/sample_submission.csv\")\n",
    "sub.sort_values(by=['PassengerId'], inplace=True)\n",
    "sub['Transported'] = sub['Transported'].astype('float')\n",
    "sub.head(10)"
   ]
  },
  {
   "cell_type": "code",
   "execution_count": null,
   "id": "41e97605",
   "metadata": {
    "ExecuteTime": {
     "end_time": "2022-03-29T15:27:57.251312Z",
     "start_time": "2022-03-29T15:27:57.251312Z"
    }
   },
   "outputs": [],
   "source": [
    "sub.sort_values(by=['PassengerId'], inplace=True)\n",
    "sub['Transported'] = sub['Transported'].astype('float')"
   ]
  },
  {
   "cell_type": "code",
   "execution_count": null,
   "id": "511aae29",
   "metadata": {
    "ExecuteTime": {
     "end_time": "2022-03-29T15:27:57.252310Z",
     "start_time": "2022-03-29T15:27:57.252310Z"
    }
   },
   "outputs": [],
   "source": [
    "import os\n",
    "for dirname, _, filenames in os.walk('C:/Users/misha/Desktop/sample_project_1/spaceship'):\n",
    "    for filename in filenames:\n",
    "        print(os.path.join(dirname, filename))"
   ]
  },
  {
   "cell_type": "code",
   "execution_count": null,
   "id": "a295c49b",
   "metadata": {
    "ExecuteTime": {
     "end_time": "2022-03-29T15:27:57.253310Z",
     "start_time": "2022-03-29T15:27:57.253310Z"
    }
   },
   "outputs": [],
   "source": [
    "b = 1000.0\n",
    "S = 0.81014\n",
    "q = 0.0"
   ]
  },
  {
   "cell_type": "code",
   "execution_count": null,
   "id": "5ced1710",
   "metadata": {
    "ExecuteTime": {
     "end_time": "2022-03-29T15:27:57.255310Z",
     "start_time": "2022-03-29T15:27:57.255310Z"
    }
   },
   "outputs": [],
   "source": [
    "sub1 = pd.read_csv('C:/Users/misha/Desktop/sample_project_1/spaceship/sample_submission_mine.csv')\n",
    "sub1.sort_values(by=['PassengerId'], inplace=True)\n",
    "sub1['Transported'] = sub1['Transported'].astype('float')\n",
    "\n",
    "sub2 = pd.read_csv('C:/Users/misha/Desktop/sample_project_1/spaceship/sample_submission_flaml.csv')\n",
    "sub2.sort_values(by=['PassengerId'], inplace=True)\n",
    "sub2['Transported'] = sub2['Transported'].astype('float')\n",
    "\n",
    "\n",
    "sub3 = pd.read_csv('C:/Users/misha/Desktop/sample_project_1/spaceship/submission_pycaret4.csv')\n",
    "sub3.sort_values(by=['PassengerId'], inplace=True)\n",
    "sub3['Transported'] = sub3['Transported'].astype('float')\n",
    "\n",
    "\n",
    "sub4 = pd.read_csv('C:/Users/misha/Desktop/sample_project_1/spaceship/sample_project_1submission_5.csv')\n",
    "sub4.sort_values(by=['PassengerId'], inplace=True)\n",
    "sub4['Transported'] = sub4['Transported'].astype('float')\n",
    "\n",
    "sub5 = pd.read_csv('C:/Users/misha/Desktop/sample_project_1/spaceship/submission6.csv')\n",
    "sub5.sort_values(by=['PassengerId'], inplace=True)\n",
    "sub5['Transported'] = sub5['Transported'].astype('float')\n",
    "\n",
    "# sub6 = pd.read_csv('../input/spaceship-titanic-models/80687_submission_v11.csv')\n",
    "# sub6.sort_values(by=['PassengerId'], inplace=True)\n",
    "# sub6['Transported'] = sub6['Transported'].astype('float')\n",
    "# sub7 = pd.read_csv('../input/spaceship-titanic-models/80640_submission_v16.csv')\n",
    "# sub7.sort_values(by=['PassengerId'], inplace=True)\n",
    "# sub7['Transported'] = sub7['Transported'].astype('float')\n",
    "# sub8 = pd.read_csv('../input/spaceship-titanic-models/80617_submission_stack_v55.csv')\n",
    "# sub8.sort_values(by=['PassengerId'], inplace=True)\n",
    "# sub8['Transported'] = sub8['Transported'].astype('float')\n",
    "# sub9 = pd.read_csv('../input/spaceship-titanic-models/80593_submission_v24.csv')\n",
    "# sub9.sort_values(by=['PassengerId'], inplace=True)\n",
    "# sub9['Transported'] = sub9['Transported'].astype('float')\n",
    "# sub10 = pd.read_csv('../input/spaceship-titanic-models/80570_submission_v9.csv')\n",
    "# sub10.sort_values(by=['PassengerId'], inplace=True)\n",
    "# sub10['Transported'] = sub10['Transported'].astype('float')\n",
    "# sub11 = pd.read_csv('../input/spaceship-titanic-models/80500_submission_v4.csv')\n",
    "# sub11.sort_values(by=['PassengerId'], inplace=True)\n",
    "# sub11['Transported'] = sub11['Transported'].astype('float')\n",
    "# sub12 = pd.read_csv('../input/spaceship-titanic-models/78419_submission_v9.csv')\n",
    "# sub12.sort_values(by=['PassengerId'], inplace=True)\n",
    "# sub12['Transported'] = sub12['Transported'].astype('float')\n",
    "# sub13 = pd.read_csv('../input/spaceship-titanic-models/76689_submission_knn_v3.csv')\n",
    "# sub13.sort_values(by=['PassengerId'], inplace=True)\n",
    "# sub13['Transported'] = sub13['Transported'].astype('float')"
   ]
  },
  {
   "cell_type": "code",
   "execution_count": null,
   "id": "1db4f5b1",
   "metadata": {
    "ExecuteTime": {
     "end_time": "2022-03-29T15:27:57.256310Z",
     "start_time": "2022-03-29T15:27:57.256310Z"
    }
   },
   "outputs": [],
   "source": [
    "sub['Transported'] = sub1['Transported']*np.exp(b*(0.81014-S))\n",
    "q = q + np.exp(b*(0.81014-S))\n",
    "\n",
    "sub['Transported'] = sub['Transported'] + sub2['Transported']*np.exp(b*(0.80921-S))\n",
    "q = q + np.exp(b*(0.80921-S))\n",
    "\n",
    "sub['Transported'] = sub['Transported'] + sub3['Transported']*np.exp(b*(0.80804-S))\n",
    "q = q + np.exp(b*(0.80804-S))\n",
    "\n",
    "sub['Transported'] = sub['Transported'] + sub4['Transported']*np.exp(b*(0.80710-S))\n",
    "q = q + np.exp(b*(0.80710-S))\n",
    "\n",
    "sub['Transported'] = sub['Transported'] + sub5['Transported']*np.exp(b*(0.80687-S))\n",
    "q = q + np.exp(b*(0.80687-S))\n",
    "\n",
    "# sub['Transported'] = sub['Transported'] + sub6['Transported']*np.exp(b*(0.80687-S))\n",
    "# q = q + np.exp(b*(0.80687-S))\n",
    "# sub['Transported'] = sub['Transported'] + sub7['Transported']*np.exp(b*(0.80640-S))\n",
    "# q = q + np.exp(b*(0.80640-S))\n",
    "# sub['Transported'] = sub['Transported'] + sub8['Transported']*np.exp(b*(0.80617-S))\n",
    "# q = q + np.exp(b*(0.80617-S))\n",
    "# sub['Transported'] = sub['Transported'] + sub9['Transported']*np.exp(b*(0.80593-S))\n",
    "# q = q + np.exp(b*(0.80593-S))\n",
    "# sub['Transported'] = sub['Transported'] + sub10['Transported']*np.exp(b*(0.80570-S))\n",
    "# q = q + np.exp(b*(0.80570-S))\n",
    "# sub['Transported'] = sub['Transported'] + sub11['Transported']*np.exp(b*(0.80500-S))\n",
    "# q = q + np.exp(b*(0.80500-S))\n",
    "# sub['Transported'] = sub['Transported'] + sub12['Transported']*np.exp(b*(0.78419-S))\n",
    "# q = q + np.exp(b*(0.78419-S))\n",
    "# sub['Transported'] = sub['Transported'] + sub13['Transported']*np.exp(b*(0.76689-S))\n",
    "# q = q + np.exp(b*(0.76689-S))\n",
    "sub['Transported'] = sub['Transported']/q\n",
    "print(q)\n",
    "sub.head()"
   ]
  },
  {
   "cell_type": "code",
   "execution_count": null,
   "id": "cef43ce7",
   "metadata": {
    "ExecuteTime": {
     "end_time": "2022-03-29T15:27:57.257310Z",
     "start_time": "2022-03-29T15:27:57.257310Z"
    }
   },
   "outputs": [],
   "source": [
    "sub['Transported'] = np.rint(sub['Transported'])\n",
    "sub.head(10)"
   ]
  },
  {
   "cell_type": "code",
   "execution_count": null,
   "id": "e17b0738",
   "metadata": {
    "ExecuteTime": {
     "end_time": "2022-03-29T15:27:57.258311Z",
     "start_time": "2022-03-29T15:27:57.258311Z"
    }
   },
   "outputs": [],
   "source": [
    "sub['Transported'] = sub['Transported'].astype('bool')\n",
    "sub.to_csv('E:/downloads/sample_submission.csv', index=False)\n",
    "sub.head(10)"
   ]
  },
  {
   "cell_type": "code",
   "execution_count": null,
   "id": "3531b8c3",
   "metadata": {},
   "outputs": [],
   "source": []
  }
 ],
 "metadata": {
  "hide_input": false,
  "kernelspec": {
   "display_name": "Python 3 (ipykernel)",
   "language": "python",
   "name": "python3"
  },
  "language_info": {
   "codemirror_mode": {
    "name": "ipython",
    "version": 3
   },
   "file_extension": ".py",
   "mimetype": "text/x-python",
   "name": "python",
   "nbconvert_exporter": "python",
   "pygments_lexer": "ipython3",
   "version": "3.9.10"
  },
  "toc": {
   "base_numbering": 1,
   "nav_menu": {},
   "number_sections": true,
   "sideBar": true,
   "skip_h1_title": false,
   "title_cell": "Table of Contents",
   "title_sidebar": "Contents",
   "toc_cell": false,
   "toc_position": {
    "height": "calc(100% - 180px)",
    "left": "10px",
    "top": "150px",
    "width": "335.962px"
   },
   "toc_section_display": true,
   "toc_window_display": true
  },
  "varInspector": {
   "cols": {
    "lenName": 16,
    "lenType": 16,
    "lenVar": 40
   },
   "kernels_config": {
    "python": {
     "delete_cmd_postfix": "",
     "delete_cmd_prefix": "del ",
     "library": "var_list.py",
     "varRefreshCmd": "print(var_dic_list())"
    },
    "r": {
     "delete_cmd_postfix": ") ",
     "delete_cmd_prefix": "rm(",
     "library": "var_list.r",
     "varRefreshCmd": "cat(var_dic_list()) "
    }
   },
   "types_to_exclude": [
    "module",
    "function",
    "builtin_function_or_method",
    "instance",
    "_Feature"
   ],
   "window_display": false
  }
 },
 "nbformat": 4,
 "nbformat_minor": 5
}
