{
 "cells": [
  {
   "cell_type": "code",
   "execution_count": 1,
   "id": "9401ba3d",
   "metadata": {},
   "outputs": [],
   "source": [
    "# Import all the tools\n",
    "import numpy as np\n",
    "import pandas as pd\n",
    "import matplotlib.pyplot as plt\n",
    "import seaborn as sns\n",
    "# Models from sklearn\n",
    "from sklearn.linear_model import LogisticRegression # see the map\n",
    "from sklearn.neighbors import KNeighborsClassifier\n",
    "from sklearn.ensemble import RandomForestClassifier\n",
    "\n",
    "# Model Evaluations\n",
    "from sklearn.model_selection import train_test_split, cross_val_score\n",
    "from sklearn.model_selection import RandomizedSearchCV, GridSearchCV\n",
    "from sklearn.metrics import confusion_matrix, classification_report\n",
    "from sklearn.metrics import precision_score, recall_score, f1_score\n",
    "from sklearn.metrics import plot_roc_curve"
   ]
  },
  {
   "cell_type": "code",
   "execution_count": 2,
   "id": "69d1f770",
   "metadata": {},
   "outputs": [
    {
     "data": {
      "text/plain": [
       "(1000000, 287)"
      ]
     },
     "execution_count": 2,
     "metadata": {},
     "output_type": "execute_result"
    }
   ],
   "source": [
    "df_train = pd.read_csv(\"data/TabularPlaygroundSeries-Oct2021/train.csv\")\n",
    "df_train.shape"
   ]
  },
  {
   "cell_type": "code",
   "execution_count": 3,
   "id": "5663bbb9",
   "metadata": {},
   "outputs": [
    {
     "data": {
      "text/html": [
       "<div>\n",
       "<style scoped>\n",
       "    .dataframe tbody tr th:only-of-type {\n",
       "        vertical-align: middle;\n",
       "    }\n",
       "\n",
       "    .dataframe tbody tr th {\n",
       "        vertical-align: top;\n",
       "    }\n",
       "\n",
       "    .dataframe thead th {\n",
       "        text-align: right;\n",
       "    }\n",
       "</style>\n",
       "<table border=\"1\" class=\"dataframe\">\n",
       "  <thead>\n",
       "    <tr style=\"text-align: right;\">\n",
       "      <th></th>\n",
       "      <th>id</th>\n",
       "      <th>f0</th>\n",
       "      <th>f1</th>\n",
       "      <th>f2</th>\n",
       "      <th>f3</th>\n",
       "      <th>f4</th>\n",
       "      <th>f5</th>\n",
       "      <th>f6</th>\n",
       "      <th>f7</th>\n",
       "      <th>f8</th>\n",
       "      <th>...</th>\n",
       "      <th>f276</th>\n",
       "      <th>f277</th>\n",
       "      <th>f278</th>\n",
       "      <th>f279</th>\n",
       "      <th>f280</th>\n",
       "      <th>f281</th>\n",
       "      <th>f282</th>\n",
       "      <th>f283</th>\n",
       "      <th>f284</th>\n",
       "      <th>target</th>\n",
       "    </tr>\n",
       "  </thead>\n",
       "  <tbody>\n",
       "    <tr>\n",
       "      <th>0</th>\n",
       "      <td>0</td>\n",
       "      <td>0.205979</td>\n",
       "      <td>0.410993</td>\n",
       "      <td>0.176775</td>\n",
       "      <td>0.223581</td>\n",
       "      <td>0.423543</td>\n",
       "      <td>0.476140</td>\n",
       "      <td>0.413590</td>\n",
       "      <td>0.612021</td>\n",
       "      <td>0.534873</td>\n",
       "      <td>...</td>\n",
       "      <td>0</td>\n",
       "      <td>1</td>\n",
       "      <td>0</td>\n",
       "      <td>0</td>\n",
       "      <td>0</td>\n",
       "      <td>0</td>\n",
       "      <td>0</td>\n",
       "      <td>0</td>\n",
       "      <td>0</td>\n",
       "      <td>1</td>\n",
       "    </tr>\n",
       "    <tr>\n",
       "      <th>1</th>\n",
       "      <td>1</td>\n",
       "      <td>0.181004</td>\n",
       "      <td>0.473119</td>\n",
       "      <td>0.011734</td>\n",
       "      <td>0.213657</td>\n",
       "      <td>0.619678</td>\n",
       "      <td>0.441593</td>\n",
       "      <td>0.230407</td>\n",
       "      <td>0.686013</td>\n",
       "      <td>0.281971</td>\n",
       "      <td>...</td>\n",
       "      <td>0</td>\n",
       "      <td>1</td>\n",
       "      <td>0</td>\n",
       "      <td>0</td>\n",
       "      <td>0</td>\n",
       "      <td>0</td>\n",
       "      <td>0</td>\n",
       "      <td>0</td>\n",
       "      <td>0</td>\n",
       "      <td>1</td>\n",
       "    </tr>\n",
       "    <tr>\n",
       "      <th>2</th>\n",
       "      <td>2</td>\n",
       "      <td>0.182583</td>\n",
       "      <td>0.307431</td>\n",
       "      <td>0.325950</td>\n",
       "      <td>0.207116</td>\n",
       "      <td>0.605699</td>\n",
       "      <td>0.309695</td>\n",
       "      <td>0.493337</td>\n",
       "      <td>0.751107</td>\n",
       "      <td>0.536272</td>\n",
       "      <td>...</td>\n",
       "      <td>0</td>\n",
       "      <td>0</td>\n",
       "      <td>0</td>\n",
       "      <td>1</td>\n",
       "      <td>1</td>\n",
       "      <td>0</td>\n",
       "      <td>0</td>\n",
       "      <td>0</td>\n",
       "      <td>0</td>\n",
       "      <td>1</td>\n",
       "    </tr>\n",
       "    <tr>\n",
       "      <th>3</th>\n",
       "      <td>3</td>\n",
       "      <td>0.180240</td>\n",
       "      <td>0.494592</td>\n",
       "      <td>0.008367</td>\n",
       "      <td>0.223580</td>\n",
       "      <td>0.760618</td>\n",
       "      <td>0.439211</td>\n",
       "      <td>0.432055</td>\n",
       "      <td>0.776147</td>\n",
       "      <td>0.483958</td>\n",
       "      <td>...</td>\n",
       "      <td>0</td>\n",
       "      <td>0</td>\n",
       "      <td>0</td>\n",
       "      <td>0</td>\n",
       "      <td>1</td>\n",
       "      <td>0</td>\n",
       "      <td>0</td>\n",
       "      <td>0</td>\n",
       "      <td>0</td>\n",
       "      <td>1</td>\n",
       "    </tr>\n",
       "    <tr>\n",
       "      <th>4</th>\n",
       "      <td>4</td>\n",
       "      <td>0.177172</td>\n",
       "      <td>0.495513</td>\n",
       "      <td>0.014263</td>\n",
       "      <td>0.548819</td>\n",
       "      <td>0.625396</td>\n",
       "      <td>0.562493</td>\n",
       "      <td>0.117158</td>\n",
       "      <td>0.561255</td>\n",
       "      <td>0.077115</td>\n",
       "      <td>...</td>\n",
       "      <td>0</td>\n",
       "      <td>1</td>\n",
       "      <td>1</td>\n",
       "      <td>0</td>\n",
       "      <td>1</td>\n",
       "      <td>0</td>\n",
       "      <td>0</td>\n",
       "      <td>1</td>\n",
       "      <td>0</td>\n",
       "      <td>1</td>\n",
       "    </tr>\n",
       "    <tr>\n",
       "      <th>...</th>\n",
       "      <td>...</td>\n",
       "      <td>...</td>\n",
       "      <td>...</td>\n",
       "      <td>...</td>\n",
       "      <td>...</td>\n",
       "      <td>...</td>\n",
       "      <td>...</td>\n",
       "      <td>...</td>\n",
       "      <td>...</td>\n",
       "      <td>...</td>\n",
       "      <td>...</td>\n",
       "      <td>...</td>\n",
       "      <td>...</td>\n",
       "      <td>...</td>\n",
       "      <td>...</td>\n",
       "      <td>...</td>\n",
       "      <td>...</td>\n",
       "      <td>...</td>\n",
       "      <td>...</td>\n",
       "      <td>...</td>\n",
       "      <td>...</td>\n",
       "    </tr>\n",
       "    <tr>\n",
       "      <th>999995</th>\n",
       "      <td>999995</td>\n",
       "      <td>0.204312</td>\n",
       "      <td>0.344754</td>\n",
       "      <td>0.262267</td>\n",
       "      <td>0.228333</td>\n",
       "      <td>0.610727</td>\n",
       "      <td>0.357463</td>\n",
       "      <td>0.490586</td>\n",
       "      <td>0.613655</td>\n",
       "      <td>0.509203</td>\n",
       "      <td>...</td>\n",
       "      <td>0</td>\n",
       "      <td>0</td>\n",
       "      <td>0</td>\n",
       "      <td>1</td>\n",
       "      <td>0</td>\n",
       "      <td>0</td>\n",
       "      <td>1</td>\n",
       "      <td>0</td>\n",
       "      <td>0</td>\n",
       "      <td>1</td>\n",
       "    </tr>\n",
       "    <tr>\n",
       "      <th>999996</th>\n",
       "      <td>999996</td>\n",
       "      <td>0.182004</td>\n",
       "      <td>0.564019</td>\n",
       "      <td>0.242564</td>\n",
       "      <td>0.241178</td>\n",
       "      <td>0.453623</td>\n",
       "      <td>0.469513</td>\n",
       "      <td>0.477518</td>\n",
       "      <td>0.659226</td>\n",
       "      <td>0.519219</td>\n",
       "      <td>...</td>\n",
       "      <td>0</td>\n",
       "      <td>0</td>\n",
       "      <td>0</td>\n",
       "      <td>0</td>\n",
       "      <td>0</td>\n",
       "      <td>0</td>\n",
       "      <td>0</td>\n",
       "      <td>0</td>\n",
       "      <td>1</td>\n",
       "      <td>0</td>\n",
       "    </tr>\n",
       "    <tr>\n",
       "      <th>999997</th>\n",
       "      <td>999997</td>\n",
       "      <td>0.250304</td>\n",
       "      <td>0.491553</td>\n",
       "      <td>0.098547</td>\n",
       "      <td>0.235656</td>\n",
       "      <td>0.771272</td>\n",
       "      <td>0.368018</td>\n",
       "      <td>0.531642</td>\n",
       "      <td>0.598111</td>\n",
       "      <td>0.618474</td>\n",
       "      <td>...</td>\n",
       "      <td>0</td>\n",
       "      <td>0</td>\n",
       "      <td>0</td>\n",
       "      <td>0</td>\n",
       "      <td>0</td>\n",
       "      <td>0</td>\n",
       "      <td>0</td>\n",
       "      <td>0</td>\n",
       "      <td>0</td>\n",
       "      <td>0</td>\n",
       "    </tr>\n",
       "    <tr>\n",
       "      <th>999998</th>\n",
       "      <td>999998</td>\n",
       "      <td>0.203572</td>\n",
       "      <td>0.534923</td>\n",
       "      <td>0.180118</td>\n",
       "      <td>0.213109</td>\n",
       "      <td>0.654544</td>\n",
       "      <td>0.535152</td>\n",
       "      <td>0.316271</td>\n",
       "      <td>0.652522</td>\n",
       "      <td>0.398026</td>\n",
       "      <td>...</td>\n",
       "      <td>0</td>\n",
       "      <td>0</td>\n",
       "      <td>0</td>\n",
       "      <td>0</td>\n",
       "      <td>0</td>\n",
       "      <td>0</td>\n",
       "      <td>0</td>\n",
       "      <td>0</td>\n",
       "      <td>0</td>\n",
       "      <td>1</td>\n",
       "    </tr>\n",
       "    <tr>\n",
       "      <th>999999</th>\n",
       "      <td>999999</td>\n",
       "      <td>0.160972</td>\n",
       "      <td>0.596308</td>\n",
       "      <td>0.013061</td>\n",
       "      <td>0.280355</td>\n",
       "      <td>0.579849</td>\n",
       "      <td>0.401904</td>\n",
       "      <td>0.493870</td>\n",
       "      <td>0.611947</td>\n",
       "      <td>0.531370</td>\n",
       "      <td>...</td>\n",
       "      <td>0</td>\n",
       "      <td>0</td>\n",
       "      <td>0</td>\n",
       "      <td>0</td>\n",
       "      <td>0</td>\n",
       "      <td>0</td>\n",
       "      <td>0</td>\n",
       "      <td>0</td>\n",
       "      <td>0</td>\n",
       "      <td>0</td>\n",
       "    </tr>\n",
       "  </tbody>\n",
       "</table>\n",
       "<p>1000000 rows × 287 columns</p>\n",
       "</div>"
      ],
      "text/plain": [
       "            id        f0        f1        f2        f3        f4        f5  \\\n",
       "0            0  0.205979  0.410993  0.176775  0.223581  0.423543  0.476140   \n",
       "1            1  0.181004  0.473119  0.011734  0.213657  0.619678  0.441593   \n",
       "2            2  0.182583  0.307431  0.325950  0.207116  0.605699  0.309695   \n",
       "3            3  0.180240  0.494592  0.008367  0.223580  0.760618  0.439211   \n",
       "4            4  0.177172  0.495513  0.014263  0.548819  0.625396  0.562493   \n",
       "...        ...       ...       ...       ...       ...       ...       ...   \n",
       "999995  999995  0.204312  0.344754  0.262267  0.228333  0.610727  0.357463   \n",
       "999996  999996  0.182004  0.564019  0.242564  0.241178  0.453623  0.469513   \n",
       "999997  999997  0.250304  0.491553  0.098547  0.235656  0.771272  0.368018   \n",
       "999998  999998  0.203572  0.534923  0.180118  0.213109  0.654544  0.535152   \n",
       "999999  999999  0.160972  0.596308  0.013061  0.280355  0.579849  0.401904   \n",
       "\n",
       "              f6        f7        f8  ...  f276  f277  f278  f279  f280  f281  \\\n",
       "0       0.413590  0.612021  0.534873  ...     0     1     0     0     0     0   \n",
       "1       0.230407  0.686013  0.281971  ...     0     1     0     0     0     0   \n",
       "2       0.493337  0.751107  0.536272  ...     0     0     0     1     1     0   \n",
       "3       0.432055  0.776147  0.483958  ...     0     0     0     0     1     0   \n",
       "4       0.117158  0.561255  0.077115  ...     0     1     1     0     1     0   \n",
       "...          ...       ...       ...  ...   ...   ...   ...   ...   ...   ...   \n",
       "999995  0.490586  0.613655  0.509203  ...     0     0     0     1     0     0   \n",
       "999996  0.477518  0.659226  0.519219  ...     0     0     0     0     0     0   \n",
       "999997  0.531642  0.598111  0.618474  ...     0     0     0     0     0     0   \n",
       "999998  0.316271  0.652522  0.398026  ...     0     0     0     0     0     0   \n",
       "999999  0.493870  0.611947  0.531370  ...     0     0     0     0     0     0   \n",
       "\n",
       "        f282  f283  f284  target  \n",
       "0          0     0     0       1  \n",
       "1          0     0     0       1  \n",
       "2          0     0     0       1  \n",
       "3          0     0     0       1  \n",
       "4          0     1     0       1  \n",
       "...      ...   ...   ...     ...  \n",
       "999995     1     0     0       1  \n",
       "999996     0     0     1       0  \n",
       "999997     0     0     0       0  \n",
       "999998     0     0     0       1  \n",
       "999999     0     0     0       0  \n",
       "\n",
       "[1000000 rows x 287 columns]"
      ]
     },
     "execution_count": 3,
     "metadata": {},
     "output_type": "execute_result"
    }
   ],
   "source": [
    "df_train"
   ]
  },
  {
   "cell_type": "code",
   "execution_count": 4,
   "id": "86e31edd",
   "metadata": {},
   "outputs": [
    {
     "name": "stdout",
     "output_type": "stream",
     "text": [
      "<class 'pandas.core.frame.DataFrame'>\n",
      "RangeIndex: 1000000 entries, 0 to 999999\n",
      "Columns: 287 entries, id to target\n",
      "dtypes: float64(240), int64(47)\n",
      "memory usage: 2.1 GB\n"
     ]
    }
   ],
   "source": [
    "df_train.info()"
   ]
  },
  {
   "cell_type": "code",
   "execution_count": 5,
   "id": "d185d2fa",
   "metadata": {},
   "outputs": [
    {
     "data": {
      "text/plain": [
       "id        0\n",
       "f0        0\n",
       "f1        0\n",
       "f2        0\n",
       "f3        0\n",
       "         ..\n",
       "f281      0\n",
       "f282      0\n",
       "f283      0\n",
       "f284      0\n",
       "target    0\n",
       "Length: 287, dtype: int64"
      ]
     },
     "execution_count": 5,
     "metadata": {},
     "output_type": "execute_result"
    }
   ],
   "source": [
    "df_train.isna().sum()"
   ]
  },
  {
   "cell_type": "code",
   "execution_count": 6,
   "id": "14ec43a5",
   "metadata": {},
   "outputs": [
    {
     "data": {
      "text/plain": [
       "0         1\n",
       "1         1\n",
       "2         1\n",
       "3         1\n",
       "4         1\n",
       "         ..\n",
       "999995    1\n",
       "999996    0\n",
       "999997    0\n",
       "999998    1\n",
       "999999    0\n",
       "Name: target, Length: 1000000, dtype: int64"
      ]
     },
     "execution_count": 6,
     "metadata": {},
     "output_type": "execute_result"
    }
   ],
   "source": [
    "x_train = df_train.drop(\"target\", axis=1)\n",
    "y_train = df_train[\"target\"]\n",
    "y_train"
   ]
  },
  {
   "cell_type": "markdown",
   "id": "e8bfb3ea",
   "metadata": {},
   "source": [
    "# CatBoost"
   ]
  },
  {
   "cell_type": "code",
   "execution_count": 52,
   "id": "32db966d",
   "metadata": {},
   "outputs": [
    {
     "data": {
      "application/vnd.jupyter.widget-view+json": {
       "model_id": "2d3ec7faaf43438c894055a3791c963e",
       "version_major": 2,
       "version_minor": 0
      },
      "text/plain": [
       "MetricVisualizer(layout=Layout(align_self='stretch', height='500px'))"
      ]
     },
     "metadata": {},
     "output_type": "display_data"
    },
    {
     "data": {
      "text/plain": [
       "<catboost.core.CatBoostClassifier at 0x14dc5bc04c0>"
      ]
     },
     "execution_count": 52,
     "metadata": {},
     "output_type": "execute_result"
    }
   ],
   "source": [
    "from catboost import CatBoostClassifier\n",
    "\n",
    "\n",
    "model_catboost = CatBoostClassifier(iterations=100000, \n",
    "                           task_type=\"GPU\",\n",
    "                           #depth=6,\n",
    "                           random_seed=42,\n",
    "                           od_type='Iter',\n",
    "                           #learning_rate=0.1,\n",
    "                           od_wait=10,\n",
    "                           devices='0:1')\n",
    "model_catboost.fit(x_train,\n",
    "          y_train,\n",
    "          plot=True,\n",
    "          verbose=False)"
   ]
  },
  {
   "cell_type": "code",
   "execution_count": 53,
   "id": "5bcb8624",
   "metadata": {
    "scrolled": true
   },
   "outputs": [
    {
     "data": {
      "text/plain": [
       "0.771571"
      ]
     },
     "execution_count": 53,
     "metadata": {},
     "output_type": "execute_result"
    }
   ],
   "source": [
    "model_catboost.score(x_train, y_train)"
   ]
  },
  {
   "cell_type": "markdown",
   "id": "c2e25c2b",
   "metadata": {},
   "source": [
    "# Kneighbors"
   ]
  },
  {
   "cell_type": "code",
   "execution_count": null,
   "id": "ef98a539",
   "metadata": {},
   "outputs": [],
   "source": [
    "# Let's tune KNN\n",
    "\n",
    "train_scores = []\n",
    "test_scores = []\n",
    "\n",
    "# Create a list of different values for n_neighbours\n",
    "neighbors = range(1,21)\n",
    "\n",
    "# Setup KNN instance\n",
    "knn = KNeighborsClassifier()\n",
    "\n",
    "# Loop through different n_neughbors\n",
    "for i in neighbors: # default = 5\n",
    "    knn.set_params(n_neighbors=i)\n",
    "    \n",
    "    # Fit the algorithm\n",
    "    knn.fit(x_train, y_train)\n",
    "    \n",
    "    # Update the training scores list\n",
    "    train_scores.append(knn.score(x_train, y_train))\n",
    "    "
   ]
  },
  {
   "cell_type": "code",
   "execution_count": null,
   "id": "fd9f7b27",
   "metadata": {},
   "outputs": [],
   "source": [
    "train_scores"
   ]
  },
  {
   "cell_type": "code",
   "execution_count": null,
   "id": "f091be78",
   "metadata": {},
   "outputs": [],
   "source": [
    "plt.plot(neighbors, train_scores, label=\"Train score\")\n",
    "plt.plot(neighbors, test_scores,label=\"Test score\")\n",
    "plt.xlabel(\"Number of neighbors\")\n",
    "plt.ylabel(\"Model score\")\n",
    "plt.legend()\n",
    "plt.xticks(np.arange(1, 21, 1))\n",
    "print(f\"Maximum KNN score on the test data: {max(test_scores)*100:.2f}%\")"
   ]
  },
  {
   "cell_type": "markdown",
   "id": "c7126c3c",
   "metadata": {},
   "source": [
    "# logisticRegression"
   ]
  },
  {
   "cell_type": "code",
   "execution_count": 10,
   "id": "8d12b550",
   "metadata": {},
   "outputs": [],
   "source": [
    "# Create a hyperparameter grid for logisticRegression\n",
    "log_reg_grid = {\"C\": np.logspace(-4, 4, 20),\n",
    "               \"solver\": [\"liblinear\"]} #return log scale\n",
    "\n",
    "# Create a hyperparameter grid for RandomForestClassifier\n",
    "rf_grid = {\"n_estimators\": np.arange(10, 1000, 50),\n",
    "          \"max_depth\": [None, 3, 5, 10],\n",
    "           \"min_samples_split\": np.arange(2, 20, 2),\n",
    "           \"min_samples_leaf\": np.arange(1, 20, 2)\n",
    "          }"
   ]
  },
  {
   "cell_type": "code",
   "execution_count": null,
   "id": "2fa3f3f4",
   "metadata": {},
   "outputs": [
    {
     "name": "stdout",
     "output_type": "stream",
     "text": [
      "Fitting 5 folds for each of 20 candidates, totalling 100 fits\n"
     ]
    }
   ],
   "source": [
    "# Tune LogisticRegression\n",
    "\n",
    "np.random.seed(42)\n",
    "\n",
    "# Setup\n",
    "rs_log_reg = RandomizedSearchCV(LogisticRegression(),\n",
    "                               param_distributions=log_reg_grid,\n",
    "                               cv=5,\n",
    "                               n_iter=20,\n",
    "                               verbose=True)\n",
    "\n",
    "# Fit \n",
    "rs_log_reg.fit(x_train, y_train)"
   ]
  },
  {
   "cell_type": "code",
   "execution_count": null,
   "id": "630b0eca",
   "metadata": {},
   "outputs": [],
   "source": [
    "rs_log_reg.best_params_"
   ]
  },
  {
   "cell_type": "code",
   "execution_count": 10,
   "id": "367070d6",
   "metadata": {},
   "outputs": [
    {
     "name": "stderr",
     "output_type": "stream",
     "text": [
      "[Parallel(n_jobs=-1)]: Using backend LokyBackend with 12 concurrent workers.\n",
      "[Parallel(n_jobs=-1)]: Done   1 out of   1 | elapsed:   50.9s finished\n"
     ]
    },
    {
     "data": {
      "text/plain": [
       "LogisticRegression(max_iter=20, n_jobs=-1, verbose=True)"
      ]
     },
     "execution_count": 10,
     "metadata": {},
     "output_type": "execute_result"
    }
   ],
   "source": [
    "np.random.seed(42)\n",
    "rs_log_reg = LogisticRegression(max_iter=20, n_jobs=-1, verbose=True)\n",
    "\n",
    "rs_log_reg.fit(x_train, y_train)"
   ]
  },
  {
   "cell_type": "code",
   "execution_count": 11,
   "id": "2e0425c4",
   "metadata": {},
   "outputs": [
    {
     "data": {
      "text/plain": [
       "0.499515"
      ]
     },
     "execution_count": 11,
     "metadata": {},
     "output_type": "execute_result"
    }
   ],
   "source": [
    "rs_log_reg.score(x_train,y_train)"
   ]
  },
  {
   "cell_type": "markdown",
   "id": "9a24854c",
   "metadata": {},
   "source": [
    "# Test"
   ]
  },
  {
   "cell_type": "code",
   "execution_count": 54,
   "id": "ead2f8e3",
   "metadata": {},
   "outputs": [],
   "source": [
    "df_test = pd.read_csv(\"data/TabularPlaygroundSeries-Oct2021/test.csv\")"
   ]
  },
  {
   "cell_type": "code",
   "execution_count": 55,
   "id": "852c0918",
   "metadata": {
    "scrolled": true
   },
   "outputs": [
    {
     "data": {
      "text/html": [
       "<div>\n",
       "<style scoped>\n",
       "    .dataframe tbody tr th:only-of-type {\n",
       "        vertical-align: middle;\n",
       "    }\n",
       "\n",
       "    .dataframe tbody tr th {\n",
       "        vertical-align: top;\n",
       "    }\n",
       "\n",
       "    .dataframe thead th {\n",
       "        text-align: right;\n",
       "    }\n",
       "</style>\n",
       "<table border=\"1\" class=\"dataframe\">\n",
       "  <thead>\n",
       "    <tr style=\"text-align: right;\">\n",
       "      <th></th>\n",
       "      <th>id</th>\n",
       "      <th>f0</th>\n",
       "      <th>f1</th>\n",
       "      <th>f2</th>\n",
       "      <th>f3</th>\n",
       "      <th>f4</th>\n",
       "      <th>f5</th>\n",
       "      <th>f6</th>\n",
       "      <th>f7</th>\n",
       "      <th>f8</th>\n",
       "      <th>...</th>\n",
       "      <th>f275</th>\n",
       "      <th>f276</th>\n",
       "      <th>f277</th>\n",
       "      <th>f278</th>\n",
       "      <th>f279</th>\n",
       "      <th>f280</th>\n",
       "      <th>f281</th>\n",
       "      <th>f282</th>\n",
       "      <th>f283</th>\n",
       "      <th>f284</th>\n",
       "    </tr>\n",
       "  </thead>\n",
       "  <tbody>\n",
       "    <tr>\n",
       "      <th>0</th>\n",
       "      <td>1000000</td>\n",
       "      <td>0.178216</td>\n",
       "      <td>0.435617</td>\n",
       "      <td>0.010230</td>\n",
       "      <td>0.202074</td>\n",
       "      <td>0.390170</td>\n",
       "      <td>0.324221</td>\n",
       "      <td>0.221722</td>\n",
       "      <td>0.738894</td>\n",
       "      <td>0.582588</td>\n",
       "      <td>...</td>\n",
       "      <td>1</td>\n",
       "      <td>0</td>\n",
       "      <td>0</td>\n",
       "      <td>0</td>\n",
       "      <td>0</td>\n",
       "      <td>0</td>\n",
       "      <td>1</td>\n",
       "      <td>1</td>\n",
       "      <td>1</td>\n",
       "      <td>0</td>\n",
       "    </tr>\n",
       "    <tr>\n",
       "      <th>1</th>\n",
       "      <td>1000001</td>\n",
       "      <td>0.181250</td>\n",
       "      <td>0.476455</td>\n",
       "      <td>0.022413</td>\n",
       "      <td>0.283146</td>\n",
       "      <td>0.598020</td>\n",
       "      <td>0.349508</td>\n",
       "      <td>0.283467</td>\n",
       "      <td>0.721575</td>\n",
       "      <td>0.268990</td>\n",
       "      <td>...</td>\n",
       "      <td>0</td>\n",
       "      <td>0</td>\n",
       "      <td>0</td>\n",
       "      <td>0</td>\n",
       "      <td>0</td>\n",
       "      <td>0</td>\n",
       "      <td>0</td>\n",
       "      <td>0</td>\n",
       "      <td>0</td>\n",
       "      <td>0</td>\n",
       "    </tr>\n",
       "    <tr>\n",
       "      <th>2</th>\n",
       "      <td>1000002</td>\n",
       "      <td>0.159721</td>\n",
       "      <td>0.451202</td>\n",
       "      <td>0.259649</td>\n",
       "      <td>0.365274</td>\n",
       "      <td>0.594634</td>\n",
       "      <td>0.413502</td>\n",
       "      <td>0.249318</td>\n",
       "      <td>0.642339</td>\n",
       "      <td>0.411104</td>\n",
       "      <td>...</td>\n",
       "      <td>0</td>\n",
       "      <td>0</td>\n",
       "      <td>0</td>\n",
       "      <td>0</td>\n",
       "      <td>0</td>\n",
       "      <td>0</td>\n",
       "      <td>1</td>\n",
       "      <td>0</td>\n",
       "      <td>0</td>\n",
       "      <td>0</td>\n",
       "    </tr>\n",
       "    <tr>\n",
       "      <th>3</th>\n",
       "      <td>1000003</td>\n",
       "      <td>0.182424</td>\n",
       "      <td>0.520976</td>\n",
       "      <td>0.095344</td>\n",
       "      <td>0.327742</td>\n",
       "      <td>0.741830</td>\n",
       "      <td>0.358711</td>\n",
       "      <td>0.270077</td>\n",
       "      <td>0.601662</td>\n",
       "      <td>0.297742</td>\n",
       "      <td>...</td>\n",
       "      <td>0</td>\n",
       "      <td>0</td>\n",
       "      <td>0</td>\n",
       "      <td>0</td>\n",
       "      <td>0</td>\n",
       "      <td>1</td>\n",
       "      <td>1</td>\n",
       "      <td>0</td>\n",
       "      <td>0</td>\n",
       "      <td>0</td>\n",
       "    </tr>\n",
       "    <tr>\n",
       "      <th>4</th>\n",
       "      <td>1000004</td>\n",
       "      <td>0.229329</td>\n",
       "      <td>0.336513</td>\n",
       "      <td>0.023511</td>\n",
       "      <td>0.300913</td>\n",
       "      <td>0.668738</td>\n",
       "      <td>0.481586</td>\n",
       "      <td>0.545660</td>\n",
       "      <td>0.667849</td>\n",
       "      <td>0.546045</td>\n",
       "      <td>...</td>\n",
       "      <td>0</td>\n",
       "      <td>0</td>\n",
       "      <td>0</td>\n",
       "      <td>0</td>\n",
       "      <td>1</td>\n",
       "      <td>0</td>\n",
       "      <td>0</td>\n",
       "      <td>1</td>\n",
       "      <td>0</td>\n",
       "      <td>0</td>\n",
       "    </tr>\n",
       "    <tr>\n",
       "      <th>...</th>\n",
       "      <td>...</td>\n",
       "      <td>...</td>\n",
       "      <td>...</td>\n",
       "      <td>...</td>\n",
       "      <td>...</td>\n",
       "      <td>...</td>\n",
       "      <td>...</td>\n",
       "      <td>...</td>\n",
       "      <td>...</td>\n",
       "      <td>...</td>\n",
       "      <td>...</td>\n",
       "      <td>...</td>\n",
       "      <td>...</td>\n",
       "      <td>...</td>\n",
       "      <td>...</td>\n",
       "      <td>...</td>\n",
       "      <td>...</td>\n",
       "      <td>...</td>\n",
       "      <td>...</td>\n",
       "      <td>...</td>\n",
       "      <td>...</td>\n",
       "    </tr>\n",
       "    <tr>\n",
       "      <th>499995</th>\n",
       "      <td>1499995</td>\n",
       "      <td>0.185473</td>\n",
       "      <td>0.525338</td>\n",
       "      <td>0.014945</td>\n",
       "      <td>0.204029</td>\n",
       "      <td>0.498957</td>\n",
       "      <td>0.431933</td>\n",
       "      <td>0.470553</td>\n",
       "      <td>0.731268</td>\n",
       "      <td>0.452134</td>\n",
       "      <td>...</td>\n",
       "      <td>1</td>\n",
       "      <td>0</td>\n",
       "      <td>0</td>\n",
       "      <td>0</td>\n",
       "      <td>0</td>\n",
       "      <td>0</td>\n",
       "      <td>1</td>\n",
       "      <td>0</td>\n",
       "      <td>0</td>\n",
       "      <td>0</td>\n",
       "    </tr>\n",
       "    <tr>\n",
       "      <th>499996</th>\n",
       "      <td>1499996</td>\n",
       "      <td>0.183194</td>\n",
       "      <td>0.553266</td>\n",
       "      <td>0.008055</td>\n",
       "      <td>0.280651</td>\n",
       "      <td>0.636591</td>\n",
       "      <td>0.478092</td>\n",
       "      <td>0.450386</td>\n",
       "      <td>0.582647</td>\n",
       "      <td>0.517270</td>\n",
       "      <td>...</td>\n",
       "      <td>1</td>\n",
       "      <td>0</td>\n",
       "      <td>0</td>\n",
       "      <td>0</td>\n",
       "      <td>0</td>\n",
       "      <td>0</td>\n",
       "      <td>0</td>\n",
       "      <td>1</td>\n",
       "      <td>0</td>\n",
       "      <td>0</td>\n",
       "    </tr>\n",
       "    <tr>\n",
       "      <th>499997</th>\n",
       "      <td>1499997</td>\n",
       "      <td>0.184650</td>\n",
       "      <td>0.533643</td>\n",
       "      <td>0.011218</td>\n",
       "      <td>0.201262</td>\n",
       "      <td>0.720698</td>\n",
       "      <td>0.472888</td>\n",
       "      <td>0.427469</td>\n",
       "      <td>0.589259</td>\n",
       "      <td>0.243879</td>\n",
       "      <td>...</td>\n",
       "      <td>1</td>\n",
       "      <td>1</td>\n",
       "      <td>0</td>\n",
       "      <td>0</td>\n",
       "      <td>0</td>\n",
       "      <td>0</td>\n",
       "      <td>0</td>\n",
       "      <td>0</td>\n",
       "      <td>0</td>\n",
       "      <td>0</td>\n",
       "    </tr>\n",
       "    <tr>\n",
       "      <th>499998</th>\n",
       "      <td>1499998</td>\n",
       "      <td>0.227731</td>\n",
       "      <td>0.513247</td>\n",
       "      <td>0.178603</td>\n",
       "      <td>0.313778</td>\n",
       "      <td>0.665656</td>\n",
       "      <td>0.401365</td>\n",
       "      <td>0.183369</td>\n",
       "      <td>0.708233</td>\n",
       "      <td>0.575135</td>\n",
       "      <td>...</td>\n",
       "      <td>0</td>\n",
       "      <td>0</td>\n",
       "      <td>0</td>\n",
       "      <td>0</td>\n",
       "      <td>0</td>\n",
       "      <td>0</td>\n",
       "      <td>1</td>\n",
       "      <td>0</td>\n",
       "      <td>0</td>\n",
       "      <td>0</td>\n",
       "    </tr>\n",
       "    <tr>\n",
       "      <th>499999</th>\n",
       "      <td>1499999</td>\n",
       "      <td>0.185561</td>\n",
       "      <td>0.406225</td>\n",
       "      <td>0.097598</td>\n",
       "      <td>0.327129</td>\n",
       "      <td>0.655168</td>\n",
       "      <td>0.384097</td>\n",
       "      <td>0.330797</td>\n",
       "      <td>0.747355</td>\n",
       "      <td>0.409955</td>\n",
       "      <td>...</td>\n",
       "      <td>1</td>\n",
       "      <td>0</td>\n",
       "      <td>0</td>\n",
       "      <td>0</td>\n",
       "      <td>0</td>\n",
       "      <td>1</td>\n",
       "      <td>0</td>\n",
       "      <td>0</td>\n",
       "      <td>0</td>\n",
       "      <td>0</td>\n",
       "    </tr>\n",
       "  </tbody>\n",
       "</table>\n",
       "<p>500000 rows × 286 columns</p>\n",
       "</div>"
      ],
      "text/plain": [
       "             id        f0        f1        f2        f3        f4        f5  \\\n",
       "0       1000000  0.178216  0.435617  0.010230  0.202074  0.390170  0.324221   \n",
       "1       1000001  0.181250  0.476455  0.022413  0.283146  0.598020  0.349508   \n",
       "2       1000002  0.159721  0.451202  0.259649  0.365274  0.594634  0.413502   \n",
       "3       1000003  0.182424  0.520976  0.095344  0.327742  0.741830  0.358711   \n",
       "4       1000004  0.229329  0.336513  0.023511  0.300913  0.668738  0.481586   \n",
       "...         ...       ...       ...       ...       ...       ...       ...   \n",
       "499995  1499995  0.185473  0.525338  0.014945  0.204029  0.498957  0.431933   \n",
       "499996  1499996  0.183194  0.553266  0.008055  0.280651  0.636591  0.478092   \n",
       "499997  1499997  0.184650  0.533643  0.011218  0.201262  0.720698  0.472888   \n",
       "499998  1499998  0.227731  0.513247  0.178603  0.313778  0.665656  0.401365   \n",
       "499999  1499999  0.185561  0.406225  0.097598  0.327129  0.655168  0.384097   \n",
       "\n",
       "              f6        f7        f8  ...  f275  f276  f277  f278  f279  f280  \\\n",
       "0       0.221722  0.738894  0.582588  ...     1     0     0     0     0     0   \n",
       "1       0.283467  0.721575  0.268990  ...     0     0     0     0     0     0   \n",
       "2       0.249318  0.642339  0.411104  ...     0     0     0     0     0     0   \n",
       "3       0.270077  0.601662  0.297742  ...     0     0     0     0     0     1   \n",
       "4       0.545660  0.667849  0.546045  ...     0     0     0     0     1     0   \n",
       "...          ...       ...       ...  ...   ...   ...   ...   ...   ...   ...   \n",
       "499995  0.470553  0.731268  0.452134  ...     1     0     0     0     0     0   \n",
       "499996  0.450386  0.582647  0.517270  ...     1     0     0     0     0     0   \n",
       "499997  0.427469  0.589259  0.243879  ...     1     1     0     0     0     0   \n",
       "499998  0.183369  0.708233  0.575135  ...     0     0     0     0     0     0   \n",
       "499999  0.330797  0.747355  0.409955  ...     1     0     0     0     0     1   \n",
       "\n",
       "        f281  f282  f283  f284  \n",
       "0          1     1     1     0  \n",
       "1          0     0     0     0  \n",
       "2          1     0     0     0  \n",
       "3          1     0     0     0  \n",
       "4          0     1     0     0  \n",
       "...      ...   ...   ...   ...  \n",
       "499995     1     0     0     0  \n",
       "499996     0     1     0     0  \n",
       "499997     0     0     0     0  \n",
       "499998     1     0     0     0  \n",
       "499999     0     0     0     0  \n",
       "\n",
       "[500000 rows x 286 columns]"
      ]
     },
     "execution_count": 55,
     "metadata": {},
     "output_type": "execute_result"
    }
   ],
   "source": [
    "df_test"
   ]
  },
  {
   "cell_type": "code",
   "execution_count": 56,
   "id": "2b0cc166",
   "metadata": {},
   "outputs": [],
   "source": [
    "x_test = df_test"
   ]
  },
  {
   "cell_type": "markdown",
   "id": "1a2160e4",
   "metadata": {},
   "source": [
    "# ROC"
   ]
  },
  {
   "cell_type": "code",
   "execution_count": 57,
   "id": "18a6acb8",
   "metadata": {},
   "outputs": [
    {
     "data": {
      "text/plain": [
       "array([1, 0, 1, ..., 0, 1, 1], dtype=int64)"
      ]
     },
     "execution_count": 57,
     "metadata": {},
     "output_type": "execute_result"
    }
   ],
   "source": [
    "# Make predcitions with tuned model\n",
    "y_preds = model_catboost.predict(x_train)\n",
    "y_preds"
   ]
  },
  {
   "cell_type": "code",
   "execution_count": 58,
   "id": "1d1f00b0",
   "metadata": {},
   "outputs": [
    {
     "data": {
      "text/plain": [
       "<sklearn.metrics._plot.roc_curve.RocCurveDisplay at 0x14d398bd460>"
      ]
     },
     "execution_count": 58,
     "metadata": {},
     "output_type": "execute_result"
    },
    {
     "data": {
      "image/png": "[encoded data removed]",
      "text/plain": [
       "<Figure size 432x288 with 1 Axes>"
      ]
     },
     "metadata": {
      "needs_background": "light"
     },
     "output_type": "display_data"
    }
   ],
   "source": [
    "plot_roc_curve(model_catboost, x_train, y_train)"
   ]
  },
  {
   "cell_type": "markdown",
   "id": "9d74d8d8",
   "metadata": {},
   "source": [
    "# Probabilities"
   ]
  },
  {
   "cell_type": "code",
   "execution_count": 59,
   "id": "d2d0e3bf",
   "metadata": {},
   "outputs": [
    {
     "data": {
      "text/plain": [
       "(array([[0.2548732 , 0.7451268 ],\n",
       "        [0.7348484 , 0.2651516 ],\n",
       "        [0.106844  , 0.893156  ],\n",
       "        [0.15043965, 0.84956035],\n",
       "        [0.73511749, 0.26488251]]),\n",
       " 500000)"
      ]
     },
     "execution_count": 59,
     "metadata": {},
     "output_type": "execute_result"
    }
   ],
   "source": [
    "# Make predictions with probabilities\n",
    "y_probs = model_catboost.predict_proba(x_test)\n",
    "\n",
    "y_probs[:5], len(y_probs)"
   ]
  },
  {
   "cell_type": "code",
   "execution_count": 60,
   "id": "6e70305f",
   "metadata": {},
   "outputs": [
    {
     "data": {
      "text/plain": [
       "array([0.7451268 , 0.2651516 , 0.893156  , 0.84956035, 0.26488251,\n",
       "       0.24028784, 0.03495599, 0.38323115, 0.96404554, 0.81196763])"
      ]
     },
     "execution_count": 60,
     "metadata": {},
     "output_type": "execute_result"
    }
   ],
   "source": [
    "y_probs_positive = y_probs[:, 1] # all lines 2nd column, 1 - value\n",
    "y_probs_positive[:10]"
   ]
  },
  {
   "cell_type": "markdown",
   "id": "40b79026",
   "metadata": {},
   "source": [
    "# Output"
   ]
  },
  {
   "cell_type": "code",
   "execution_count": 61,
   "id": "ac322bf6",
   "metadata": {},
   "outputs": [
    {
     "data": {
      "text/plain": [
       "(500000,)"
      ]
     },
     "execution_count": 61,
     "metadata": {},
     "output_type": "execute_result"
    }
   ],
   "source": [
    "y_probs_positive.shape"
   ]
  },
  {
   "cell_type": "code",
   "execution_count": 62,
   "id": "1a29a41d",
   "metadata": {},
   "outputs": [],
   "source": [
    "df_sample = pd.read_csv(\"data/TabularPlaygroundSeries-Oct2021/sample_submission.csv\")"
   ]
  },
  {
   "cell_type": "code",
   "execution_count": 63,
   "id": "c5021f2a",
   "metadata": {},
   "outputs": [
    {
     "data": {
      "text/plain": [
       "(500000, 2)"
      ]
     },
     "execution_count": 63,
     "metadata": {},
     "output_type": "execute_result"
    }
   ],
   "source": [
    "df_sample.shape"
   ]
  },
  {
   "cell_type": "code",
   "execution_count": 64,
   "id": "e101f5b7",
   "metadata": {},
   "outputs": [
    {
     "data": {
      "text/plain": [
       "Index(['id', 'target'], dtype='object')"
      ]
     },
     "execution_count": 64,
     "metadata": {},
     "output_type": "execute_result"
    }
   ],
   "source": [
    "df_sample.columns"
   ]
  },
  {
   "cell_type": "code",
   "execution_count": 65,
   "id": "bac27d1e",
   "metadata": {},
   "outputs": [],
   "source": [
    "df_sample[\"target\"] = y_probs_positive"
   ]
  },
  {
   "cell_type": "code",
   "execution_count": 66,
   "id": "a497003e",
   "metadata": {},
   "outputs": [],
   "source": [
    "df_sample.to_csv(\"E:\\downloads\\sample_submission.csv\", index=False)"
   ]
  },
  {
   "cell_type": "code",
   "execution_count": null,
   "id": "0f65ce8d",
   "metadata": {},
   "outputs": [],
   "source": []
  }
 ],
 "metadata": {
  "kernelspec": {
   "display_name": "Python 3 (ipykernel)",
   "language": "python",
   "name": "python3"
  },
  "language_info": {
   "codemirror_mode": {
    "name": "ipython",
    "version": 3
   },
   "file_extension": ".py",
   "mimetype": "text/x-python",
   "name": "python",
   "nbconvert_exporter": "python",
   "pygments_lexer": "ipython3",
   "version": "3.9.6"
  }
 },
 "nbformat": 4,
 "nbformat_minor": 5
}
