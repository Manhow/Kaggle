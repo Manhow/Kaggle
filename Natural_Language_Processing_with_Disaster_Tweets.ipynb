{
 "cells": [
  {
   "cell_type": "markdown",
   "id": "a399d99c",
   "metadata": {
    "id": "a399d99c"
   },
   "source": [
    "This particular challenge is perfect for data scientists looking to get started with Natural Language Processing. You are predicting whether a given tweet is about a real disaster or not. If so, predict a 1. If not, predict a 0."
   ]
  },
  {
   "cell_type": "markdown",
   "id": "397d0c84",
   "metadata": {
    "id": "397d0c84"
   },
   "source": [
    "# Data overview"
   ]
  },
  {
   "cell_type": "markdown",
   "id": "21720dc8",
   "metadata": {
    "id": "21720dc8"
   },
   "source": [
    "* `id` - a unique identifier for each tweet\n",
    "* `text` - the text of the tweet\n",
    "* `location` - the location the tweet was sent from (may be blank)\n",
    "* `keyword` - a particular keyword from the tweet (may be blank)\n",
    "* `target` - in train.csv only, this denotes whether a tweet is about a real disaster (1) or not (0)"
   ]
  },
  {
   "cell_type": "code",
   "execution_count": 221,
   "id": "e8da8268",
   "metadata": {
    "ExecuteTime": {
     "end_time": "2022-03-18T15:52:35.015296Z",
     "start_time": "2022-03-18T15:52:34.943321Z"
    },
    "colab": {
     "base_uri": "https://localhost:8080/"
    },
    "id": "e8da8268",
    "outputId": "6e393cff-2ed0-4b94-9247-bd16cc151428"
   },
   "outputs": [
    {
     "name": "stdout",
     "output_type": "stream",
     "text": [
      "Train Shape: (7613, 5)\n",
      "Missing Data: 2594\n",
      "Duplicates: 0\n",
      "\n",
      "Test Shape: (3263, 4)\n",
      "Missing Data: 1131\n",
      "Duplicates: 0\n",
      "\n",
      "No duplicates\n"
     ]
    }
   ],
   "source": [
    "# Import all the tools\n",
    "import warnings\n",
    "from tqdm import tqdm_notebook\n",
    "import seaborn as sns\n",
    "from plotly.offline import init_notebook_mode\n",
    "import matplotlib.pyplot as plt\n",
    "import plotly.graph_objects as go\n",
    "import plotly.express as px\n",
    "import pandas as pd\n",
    "import numpy as np\n",
    "from wordcloud import WordCloud\n",
    "import nltk\n",
    "from sklearn.experimental import enable_iterative_imputer\n",
    "from tqdm.notebook import tqdm\n",
    "from sklearn.neighbors import KNeighborsClassifier\n",
    "from sklearn.model_selection import StratifiedKFold\n",
    "from sklearn.model_selection import train_test_split\n",
    "from sklearn.ensemble import ExtraTreesClassifier, BaggingClassifier, RandomForestClassifier\n",
    "from sklearn.compose import ColumnTransformer\n",
    "from sklearn.metrics import accuracy_score\n",
    "# from sklearn.impute import IterativeImputer\n",
    "warnings.filterwarnings(\"ignore\")\n",
    "\n",
    "import os\n",
    "cwd = os.getcwd()\n",
    "cwd = cwd.replace('\\\\','/')\n",
    "\n",
    "train = pd.read_csv(cwd + \"/nlp/train.csv\")\n",
    "test = pd.read_csv(cwd + \"/nlp/test.csv\")\n",
    "sub = pd.read_csv(cwd + \"/nlp/sample_submission.csv\")\n",
    "\n",
    "\n",
    "# plots inside the notebook\n",
    "%matplotlib inline\n",
    "print('Train Shape: {}\\nMissing Data: {}\\nDuplicates: {}\\n'.format(\n",
    "    train.shape, train.isna().sum().sum(), train.duplicated().sum()))\n",
    "print('Test Shape: {}\\nMissing Data: {}\\nDuplicates: {}\\n'.format(\n",
    "    test.shape, test.isna().sum().sum(), test.duplicated().sum()))\n",
    "# remove duplicates from train\n",
    "train_d = train.drop_duplicates()\n",
    "\n",
    "if train.shape == train_d.shape:\n",
    "    print('No duplicates')\n",
    "else:\n",
    "    print('Dropping Duplicates\\nNew Train Shape: {}'.format(train_d.shape))\n",
    "    \n",
    "df_data = pd.concat([train_d, test])"
   ]
  },
  {
   "cell_type": "code",
   "execution_count": 222,
   "id": "d01f53e1",
   "metadata": {
    "ExecuteTime": {
     "end_time": "2022-03-18T15:52:35.030320Z",
     "start_time": "2022-03-18T15:52:35.017295Z"
    }
   },
   "outputs": [],
   "source": [
    "def reduce_mem_usage(df, verbose=True):\n",
    "    numerics = ['int8','int16', 'int32', 'int64', 'float16', 'float32', 'float64']\n",
    "    start_mem = df.memory_usage().sum() / 1024**2\n",
    "\n",
    "    for col in df.columns:\n",
    "        col_type = df[col].dtypes\n",
    "\n",
    "        if col_type in numerics:\n",
    "            c_min = df[col].min()\n",
    "            c_max = df[col].max()\n",
    "\n",
    "            if str(col_type)[:3] == 'int':\n",
    "                if c_min > np.iinfo(np.int8).min and c_max < np.iinfo(np.int8).max:\n",
    "                    df[col] = df[col].astype(np.int8)\n",
    "                elif c_min > np.iinfo(np.int16).min and c_max < np.iinfo(np.int16).max:\n",
    "                    df[col] = df[col].astype(np.int16)\n",
    "                elif c_min > np.iinfo(np.int32).min and c_max < np.iinfo(np.int32).max:\n",
    "                    df[col] = df[col].astype(np.int32)\n",
    "                elif c_min > np.iinfo(np.int64).min and c_max < np.iinfo(np.int64).max:\n",
    "                    df[col] = df[col].astype(np.int64)  \n",
    "            else:\n",
    "                if c_min > np.finfo(np.float32).min and c_max < np.finfo(np.float32).max:\n",
    "                    df[col] = df[col].astype(np.float32)\n",
    "                else:\n",
    "                    df[col] = df[col].astype(np.float64)\n",
    "\n",
    "    end_mem = df.memory_usage().sum() / 1024**2\n",
    "\n",
    "    if verbose:\n",
    "        print('Mem. usage decreased to {:5.2f} Mb ({:.1f}% reduction)'.format(end_mem, 100 * (start_mem - end_mem) / start_mem))\n",
    " \n",
    "    return df"
   ]
  },
  {
   "cell_type": "code",
   "execution_count": 223,
   "id": "d1aa8f44",
   "metadata": {
    "ExecuteTime": {
     "end_time": "2022-03-18T15:52:35.045293Z",
     "start_time": "2022-03-18T15:52:35.031296Z"
    },
    "colab": {
     "base_uri": "https://localhost:8080/",
     "height": 206
    },
    "id": "d1aa8f44",
    "outputId": "50123635-bd75-4578-fdd8-f6c49ec0bea1"
   },
   "outputs": [
    {
     "data": {
      "text/html": [
       "<div>\n",
       "<style scoped>\n",
       "    .dataframe tbody tr th:only-of-type {\n",
       "        vertical-align: middle;\n",
       "    }\n",
       "\n",
       "    .dataframe tbody tr th {\n",
       "        vertical-align: top;\n",
       "    }\n",
       "\n",
       "    .dataframe thead th {\n",
       "        text-align: right;\n",
       "    }\n",
       "</style>\n",
       "<table border=\"1\" class=\"dataframe\">\n",
       "  <thead>\n",
       "    <tr style=\"text-align: right;\">\n",
       "      <th></th>\n",
       "      <th>id</th>\n",
       "      <th>keyword</th>\n",
       "      <th>location</th>\n",
       "      <th>text</th>\n",
       "      <th>target</th>\n",
       "    </tr>\n",
       "  </thead>\n",
       "  <tbody>\n",
       "    <tr>\n",
       "      <th>0</th>\n",
       "      <td>1</td>\n",
       "      <td>NaN</td>\n",
       "      <td>NaN</td>\n",
       "      <td>Our Deeds are the Reason of this #earthquake M...</td>\n",
       "      <td>1</td>\n",
       "    </tr>\n",
       "    <tr>\n",
       "      <th>1</th>\n",
       "      <td>4</td>\n",
       "      <td>NaN</td>\n",
       "      <td>NaN</td>\n",
       "      <td>Forest fire near La Ronge Sask. Canada</td>\n",
       "      <td>1</td>\n",
       "    </tr>\n",
       "    <tr>\n",
       "      <th>2</th>\n",
       "      <td>5</td>\n",
       "      <td>NaN</td>\n",
       "      <td>NaN</td>\n",
       "      <td>All residents asked to 'shelter in place' are ...</td>\n",
       "      <td>1</td>\n",
       "    </tr>\n",
       "    <tr>\n",
       "      <th>3</th>\n",
       "      <td>6</td>\n",
       "      <td>NaN</td>\n",
       "      <td>NaN</td>\n",
       "      <td>13,000 people receive #wildfires evacuation or...</td>\n",
       "      <td>1</td>\n",
       "    </tr>\n",
       "    <tr>\n",
       "      <th>4</th>\n",
       "      <td>7</td>\n",
       "      <td>NaN</td>\n",
       "      <td>NaN</td>\n",
       "      <td>Just got sent this photo from Ruby #Alaska as ...</td>\n",
       "      <td>1</td>\n",
       "    </tr>\n",
       "  </tbody>\n",
       "</table>\n",
       "</div>"
      ],
      "text/plain": [
       "   id keyword location                                               text  \\\n",
       "0   1     NaN      NaN  Our Deeds are the Reason of this #earthquake M...   \n",
       "1   4     NaN      NaN             Forest fire near La Ronge Sask. Canada   \n",
       "2   5     NaN      NaN  All residents asked to 'shelter in place' are ...   \n",
       "3   6     NaN      NaN  13,000 people receive #wildfires evacuation or...   \n",
       "4   7     NaN      NaN  Just got sent this photo from Ruby #Alaska as ...   \n",
       "\n",
       "   target  \n",
       "0       1  \n",
       "1       1  \n",
       "2       1  \n",
       "3       1  \n",
       "4       1  "
      ]
     },
     "execution_count": 223,
     "metadata": {},
     "output_type": "execute_result"
    }
   ],
   "source": [
    "train.head()"
   ]
  },
  {
   "cell_type": "code",
   "execution_count": 224,
   "id": "951e7789",
   "metadata": {
    "ExecuteTime": {
     "end_time": "2022-03-18T15:52:35.060428Z",
     "start_time": "2022-03-18T15:52:35.047298Z"
    },
    "colab": {
     "base_uri": "https://localhost:8080/",
     "height": 206
    },
    "id": "951e7789",
    "outputId": "6a4037f1-af66-4727-ff27-1e9720ddf0b9",
    "scrolled": true
   },
   "outputs": [
    {
     "data": {
      "text/html": [
       "<div>\n",
       "<style scoped>\n",
       "    .dataframe tbody tr th:only-of-type {\n",
       "        vertical-align: middle;\n",
       "    }\n",
       "\n",
       "    .dataframe tbody tr th {\n",
       "        vertical-align: top;\n",
       "    }\n",
       "\n",
       "    .dataframe thead th {\n",
       "        text-align: right;\n",
       "    }\n",
       "</style>\n",
       "<table border=\"1\" class=\"dataframe\">\n",
       "  <thead>\n",
       "    <tr style=\"text-align: right;\">\n",
       "      <th></th>\n",
       "      <th>id</th>\n",
       "      <th>keyword</th>\n",
       "      <th>location</th>\n",
       "      <th>text</th>\n",
       "    </tr>\n",
       "  </thead>\n",
       "  <tbody>\n",
       "    <tr>\n",
       "      <th>0</th>\n",
       "      <td>0</td>\n",
       "      <td>NaN</td>\n",
       "      <td>NaN</td>\n",
       "      <td>Just happened a terrible car crash</td>\n",
       "    </tr>\n",
       "    <tr>\n",
       "      <th>1</th>\n",
       "      <td>2</td>\n",
       "      <td>NaN</td>\n",
       "      <td>NaN</td>\n",
       "      <td>Heard about #earthquake is different cities, s...</td>\n",
       "    </tr>\n",
       "    <tr>\n",
       "      <th>2</th>\n",
       "      <td>3</td>\n",
       "      <td>NaN</td>\n",
       "      <td>NaN</td>\n",
       "      <td>there is a forest fire at spot pond, geese are...</td>\n",
       "    </tr>\n",
       "    <tr>\n",
       "      <th>3</th>\n",
       "      <td>9</td>\n",
       "      <td>NaN</td>\n",
       "      <td>NaN</td>\n",
       "      <td>Apocalypse lighting. #Spokane #wildfires</td>\n",
       "    </tr>\n",
       "    <tr>\n",
       "      <th>4</th>\n",
       "      <td>11</td>\n",
       "      <td>NaN</td>\n",
       "      <td>NaN</td>\n",
       "      <td>Typhoon Soudelor kills 28 in China and Taiwan</td>\n",
       "    </tr>\n",
       "  </tbody>\n",
       "</table>\n",
       "</div>"
      ],
      "text/plain": [
       "   id keyword location                                               text\n",
       "0   0     NaN      NaN                 Just happened a terrible car crash\n",
       "1   2     NaN      NaN  Heard about #earthquake is different cities, s...\n",
       "2   3     NaN      NaN  there is a forest fire at spot pond, geese are...\n",
       "3   9     NaN      NaN           Apocalypse lighting. #Spokane #wildfires\n",
       "4  11     NaN      NaN      Typhoon Soudelor kills 28 in China and Taiwan"
      ]
     },
     "execution_count": 224,
     "metadata": {},
     "output_type": "execute_result"
    }
   ],
   "source": [
    "test.head()"
   ]
  },
  {
   "cell_type": "markdown",
   "id": "a6fc31a4",
   "metadata": {
    "heading_collapsed": true,
    "id": "a6fc31a4"
   },
   "source": [
    "# Exploratory Data Analysis (EDA)"
   ]
  },
  {
   "cell_type": "code",
   "execution_count": 225,
   "id": "5a2bbbe2",
   "metadata": {
    "ExecuteTime": {
     "end_time": "2022-03-18T15:52:35.075293Z",
     "start_time": "2022-03-18T15:52:35.062296Z"
    },
    "colab": {
     "base_uri": "https://localhost:8080/"
    },
    "hidden": true,
    "id": "5a2bbbe2",
    "outputId": "5f03fc1e-2c68-497a-bf2a-1b97b5213f43"
   },
   "outputs": [
    {
     "data": {
      "text/plain": [
       "id           int64\n",
       "keyword     object\n",
       "location    object\n",
       "text        object\n",
       "target       int64\n",
       "dtype: object"
      ]
     },
     "execution_count": 225,
     "metadata": {},
     "output_type": "execute_result"
    }
   ],
   "source": [
    "train.dtypes"
   ]
  },
  {
   "cell_type": "code",
   "execution_count": 226,
   "id": "ce6c4ece",
   "metadata": {
    "ExecuteTime": {
     "end_time": "2022-03-18T15:52:35.090294Z",
     "start_time": "2022-03-18T15:52:35.077295Z"
    },
    "colab": {
     "base_uri": "https://localhost:8080/"
    },
    "hidden": true,
    "id": "ce6c4ece",
    "outputId": "9e09c62e-2353-42c8-c355-81163a104a60"
   },
   "outputs": [
    {
     "data": {
      "text/plain": [
       "id             0\n",
       "keyword       61\n",
       "location    2533\n",
       "text           0\n",
       "target         0\n",
       "dtype: int64"
      ]
     },
     "execution_count": 226,
     "metadata": {},
     "output_type": "execute_result"
    }
   ],
   "source": [
    "train.isna().sum()"
   ]
  },
  {
   "cell_type": "code",
   "execution_count": 227,
   "id": "3507d073",
   "metadata": {
    "ExecuteTime": {
     "end_time": "2022-03-18T15:52:35.105295Z",
     "start_time": "2022-03-18T15:52:35.092294Z"
    },
    "colab": {
     "base_uri": "https://localhost:8080/"
    },
    "hidden": true,
    "id": "3507d073",
    "outputId": "73a14791-5108-4a47-ea6e-b3601fe8c953"
   },
   "outputs": [
    {
     "data": {
      "text/plain": [
       "USA                    104\n",
       "New York                71\n",
       "United States           50\n",
       "London                  45\n",
       "Canada                  29\n",
       "                      ... \n",
       "MontrÌ©al, QuÌ©bec       1\n",
       "Montreal                 1\n",
       "ÌÏT: 6.4682,3.18287      1\n",
       "Live4Heed??              1\n",
       "Lincoln                  1\n",
       "Name: location, Length: 3341, dtype: int64"
      ]
     },
     "execution_count": 227,
     "metadata": {},
     "output_type": "execute_result"
    }
   ],
   "source": [
    "train['location'].value_counts()"
   ]
  },
  {
   "cell_type": "code",
   "execution_count": 228,
   "id": "b2bfa7cd",
   "metadata": {
    "ExecuteTime": {
     "end_time": "2022-03-18T15:52:35.120307Z",
     "start_time": "2022-03-18T15:52:35.107298Z"
    },
    "colab": {
     "base_uri": "https://localhost:8080/"
    },
    "hidden": true,
    "id": "b2bfa7cd",
    "outputId": "9e5cdae0-4fd6-42a9-c193-94c29ffb3bdb"
   },
   "outputs": [
    {
     "data": {
      "text/plain": [
       "USA                    104\n",
       "New York                71\n",
       "United States           50\n",
       "London                  45\n",
       "Canada                  29\n",
       "                      ... \n",
       "MontrÌ©al, QuÌ©bec       1\n",
       "Montreal                 1\n",
       "ÌÏT: 6.4682,3.18287      1\n",
       "Live4Heed??              1\n",
       "Lincoln                  1\n",
       "Name: location, Length: 3341, dtype: int64"
      ]
     },
     "execution_count": 228,
     "metadata": {},
     "output_type": "execute_result"
    }
   ],
   "source": [
    "train['location'].value_counts()"
   ]
  },
  {
   "cell_type": "code",
   "execution_count": 229,
   "id": "853f1fdc",
   "metadata": {
    "ExecuteTime": {
     "end_time": "2022-03-18T15:52:35.135309Z",
     "start_time": "2022-03-18T15:52:35.122311Z"
    },
    "colab": {
     "base_uri": "https://localhost:8080/"
    },
    "hidden": true,
    "id": "853f1fdc",
    "outputId": "e2f0f3ae-dcef-4dd6-af87-fe5b2e4ffea6"
   },
   "outputs": [
    {
     "data": {
      "text/plain": [
       "0    4342\n",
       "1    3271\n",
       "Name: target, dtype: int64"
      ]
     },
     "execution_count": 229,
     "metadata": {},
     "output_type": "execute_result"
    }
   ],
   "source": [
    "train['target'].value_counts()"
   ]
  },
  {
   "cell_type": "markdown",
   "id": "e85087c1",
   "metadata": {
    "hidden": true,
    "id": "e85087c1"
   },
   "source": [
    "or"
   ]
  },
  {
   "cell_type": "code",
   "execution_count": 230,
   "id": "d7a87c0d",
   "metadata": {
    "ExecuteTime": {
     "end_time": "2022-03-18T15:52:35.225338Z",
     "start_time": "2022-03-18T15:52:35.138310Z"
    },
    "colab": {
     "base_uri": "https://localhost:8080/",
     "height": 334
    },
    "hidden": true,
    "id": "d7a87c0d",
    "outputId": "d7fb240f-1e8c-4ffc-e8bb-6dcb6035ab9f"
   },
   "outputs": [
    {
     "data": {
      "image/png": "[encoded data removed]",
      "text/plain": [
       "<Figure size 720x360 with 1 Axes>"
      ]
     },
     "metadata": {
      "needs_background": "light"
     },
     "output_type": "display_data"
    }
   ],
   "source": [
    "plt.figure(figsize=(10,5))\n",
    "sns.countplot(y=train['target'], palette='cool', orient='h')\n",
    "plt.show()"
   ]
  },
  {
   "cell_type": "code",
   "execution_count": 231,
   "id": "e693a3e1",
   "metadata": {
    "ExecuteTime": {
     "end_time": "2022-03-18T15:52:37.358514Z",
     "start_time": "2022-03-18T15:52:35.227334Z"
    },
    "colab": {
     "base_uri": "https://localhost:8080/",
     "height": 366
    },
    "hidden": true,
    "id": "e693a3e1",
    "outputId": "332bdbfa-e0fc-4e16-b707-78a23e79d39f"
   },
   "outputs": [
    {
     "data": {
      "image/png": "[encoded data removed]",
      "text/plain": [
       "<Figure size 864x720 with 1 Axes>"
      ]
     },
     "metadata": {
      "needs_background": "light"
     },
     "output_type": "display_data"
    }
   ],
   "source": [
    "#Disaster Tweets wordcloud \n",
    "disaster_tweets = train[train.target == 1]\n",
    "disaster_string = []\n",
    "for t in disaster_tweets.text:\n",
    "    disaster_string.append(t)\n",
    "disaster_string = pd.Series(disaster_string).str.cat(sep=' ')\n",
    "wordcloud = WordCloud(width=1600, height=800,max_font_size=100, background_color='white').generate(disaster_string)\n",
    "plt.figure(figsize=(12,10))\n",
    "plt.imshow(wordcloud, interpolation=\"bilinear\")\n",
    "plt.axis(\"off\")\n",
    "plt.show()"
   ]
  },
  {
   "cell_type": "markdown",
   "id": "edc25076",
   "metadata": {
    "id": "edc25076"
   },
   "source": [
    "# Feature Engineering (FE)"
   ]
  },
  {
   "cell_type": "markdown",
   "id": "9e866e4e",
   "metadata": {
    "id": "9e866e4e"
   },
   "source": [
    "## Feature generation"
   ]
  },
  {
   "cell_type": "code",
   "execution_count": 232,
   "id": "3c59c232",
   "metadata": {
    "ExecuteTime": {
     "end_time": "2022-03-18T15:52:38.004066Z",
     "start_time": "2022-03-18T15:52:37.360030Z"
    },
    "colab": {
     "base_uri": "https://localhost:8080/",
     "height": 147
    },
    "id": "3c59c232",
    "outputId": "ff57da2e-b317-44d3-eeb7-10d76f02b6b4"
   },
   "outputs": [
    {
     "name": "stderr",
     "output_type": "stream",
     "text": [
      "[nltk_data] Downloading package stopwords to\n",
      "[nltk_data]     C:\\Users\\misha\\AppData\\Roaming\\nltk_data...\n",
      "[nltk_data]   Package stopwords is already up-to-date!\n"
     ]
    },
    {
     "data": {
      "text/html": [
       "<div>\n",
       "<style scoped>\n",
       "    .dataframe tbody tr th:only-of-type {\n",
       "        vertical-align: middle;\n",
       "    }\n",
       "\n",
       "    .dataframe tbody tr th {\n",
       "        vertical-align: top;\n",
       "    }\n",
       "\n",
       "    .dataframe thead th {\n",
       "        text-align: right;\n",
       "    }\n",
       "</style>\n",
       "<table border=\"1\" class=\"dataframe\">\n",
       "  <thead>\n",
       "    <tr style=\"text-align: right;\">\n",
       "      <th></th>\n",
       "      <th>id</th>\n",
       "      <th>keyword</th>\n",
       "      <th>location</th>\n",
       "      <th>text</th>\n",
       "      <th>target</th>\n",
       "      <th>body_len</th>\n",
       "      <th>punct%</th>\n",
       "      <th>word_count</th>\n",
       "      <th>unique_word_count</th>\n",
       "      <th>stop_word_count</th>\n",
       "      <th>url_count</th>\n",
       "      <th>mean_word_length</th>\n",
       "      <th>char_count</th>\n",
       "    </tr>\n",
       "  </thead>\n",
       "  <tbody>\n",
       "    <tr>\n",
       "      <th>0</th>\n",
       "      <td>1</td>\n",
       "      <td>NaN</td>\n",
       "      <td>NaN</td>\n",
       "      <td>Our Deeds are the Reason of this #earthquake M...</td>\n",
       "      <td>1.0</td>\n",
       "      <td>57</td>\n",
       "      <td>1.8</td>\n",
       "      <td>13</td>\n",
       "      <td>13</td>\n",
       "      <td>6</td>\n",
       "      <td>0</td>\n",
       "      <td>4.384615</td>\n",
       "      <td>69</td>\n",
       "    </tr>\n",
       "    <tr>\n",
       "      <th>1</th>\n",
       "      <td>4</td>\n",
       "      <td>NaN</td>\n",
       "      <td>NaN</td>\n",
       "      <td>Forest fire near La Ronge Sask. Canada</td>\n",
       "      <td>1.0</td>\n",
       "      <td>32</td>\n",
       "      <td>3.1</td>\n",
       "      <td>7</td>\n",
       "      <td>7</td>\n",
       "      <td>0</td>\n",
       "      <td>0</td>\n",
       "      <td>4.571429</td>\n",
       "      <td>38</td>\n",
       "    </tr>\n",
       "  </tbody>\n",
       "</table>\n",
       "</div>"
      ],
      "text/plain": [
       "   id keyword location                                               text  \\\n",
       "0   1     NaN      NaN  Our Deeds are the Reason of this #earthquake M...   \n",
       "1   4     NaN      NaN             Forest fire near La Ronge Sask. Canada   \n",
       "\n",
       "   target  body_len  punct%  word_count  unique_word_count  stop_word_count  \\\n",
       "0     1.0        57     1.8          13                 13                6   \n",
       "1     1.0        32     3.1           7                  7                0   \n",
       "\n",
       "   url_count  mean_word_length  char_count  \n",
       "0          0          4.384615          69  \n",
       "1          0          4.571429          38  "
      ]
     },
     "execution_count": 232,
     "metadata": {},
     "output_type": "execute_result"
    }
   ],
   "source": [
    "import string\n",
    "import nltk\n",
    "nltk.download('stopwords')\n",
    "stopword = nltk.corpus.stopwords.words('english')\n",
    "\n",
    "# lenth of № of characters\n",
    "df_data['body_len'] = df_data['text'].apply(lambda x: len(x) - x.count(\" \")) # x.count(\" \") - number of spaces; len(x) - each character\n",
    "\n",
    "# % pucntuation\n",
    "def count_punct(text):\n",
    "    count = sum([1 for char in text if char in string.punctuation]) # 1 if comma, etc\n",
    "    return round(count/(len(text) - text.count(\" \")), 3)*100\n",
    "df_data['punct%'] = df_data['text'].apply(lambda x: count_punct(x))\n",
    "\n",
    "# word_count\n",
    "df_data['word_count'] = df_data['text'].apply(lambda x: len(str(x).split())) # split - divides on words\n",
    "# unique_word_count\n",
    "df_data['unique_word_count'] = df_data['text'].apply(lambda x: len(set(str(x).split()))) # unique - use set\n",
    "# stop_word_count\n",
    "df_data['stop_word_count'] = df_data['text'].apply(lambda x: len([w for w in str(x).lower().split() if w in stopword]))\n",
    "# url_count\n",
    "df_data['url_count'] = df_data['text'].apply(lambda x: len([w for w in str(x).lower().split() if 'http' in w or 'https' in w]))\n",
    "# mean_word_length\n",
    "df_data['mean_word_length'] = df_data['text'].apply(lambda x: np.mean([len(w) for w in str(x).split()]))\n",
    "# char_count\n",
    "df_data['char_count'] = df_data['text'].apply(lambda x: len(str(x)))\n",
    "df_data.head(2)"
   ]
  },
  {
   "cell_type": "code",
   "execution_count": 233,
   "id": "8935d130",
   "metadata": {
    "ExecuteTime": {
     "end_time": "2022-03-18T15:52:38.019375Z",
     "start_time": "2022-03-18T15:52:38.006039Z"
    },
    "id": "8935d130"
   },
   "outputs": [],
   "source": [
    "# METAFEATURES = ['word_count', 'unique_word_count', 'stop_word_count', 'url_count', 'mean_word_length',\n",
    "#                 'char_count']\n",
    "# DISASTER_TWEETS = train['target'] == 1\n",
    "\n",
    "# fig, axes = plt.subplots(ncols=2, nrows=len(METAFEATURES), figsize=(20, 50), dpi=100)\n",
    "\n",
    "# for i, feature in enumerate(METAFEATURES):\n",
    "#     sns.distplot(train.loc[~DISASTER_TWEETS][feature], label='Not Disaster', ax=axes[i][0], color='green')\n",
    "#     sns.distplot(train.loc[DISASTER_TWEETS][feature], label='Disaster', ax=axes[i][0], color='red')\n",
    "\n",
    "#     sns.distplot(train[feature], label='Training', ax=axes[i][1])\n",
    "#     sns.distplot(test[feature], label='Test', ax=axes[i][1])\n",
    "    \n",
    "#     for j in range(2):\n",
    "#         axes[i][j].set_xlabel('')\n",
    "#         axes[i][j].tick_params(axis='x', labelsize=12)\n",
    "#         axes[i][j].tick_params(axis='y', labelsize=12)\n",
    "#         axes[i][j].legend()\n",
    "    \n",
    "#     axes[i][0].set_title(f'{feature} Target Distribution in Training Set', fontsize=13)\n",
    "#     axes[i][1].set_title(f'{feature} Training & Test Set Distribution', fontsize=13)\n",
    "\n",
    "# plt.show()"
   ]
  },
  {
   "cell_type": "markdown",
   "id": "b0cf5012",
   "metadata": {
    "id": "b0cf5012"
   },
   "source": [
    "## Punctuation removing, tokenization, stop-words removing, lemmatization"
   ]
  },
  {
   "cell_type": "code",
   "execution_count": 234,
   "id": "0fc994b5",
   "metadata": {
    "ExecuteTime": {
     "end_time": "2022-03-18T15:52:38.034373Z",
     "start_time": "2022-03-18T15:52:38.021343Z"
    }
   },
   "outputs": [
    {
     "data": {
      "text/html": [
       "<div>\n",
       "<style scoped>\n",
       "    .dataframe tbody tr th:only-of-type {\n",
       "        vertical-align: middle;\n",
       "    }\n",
       "\n",
       "    .dataframe tbody tr th {\n",
       "        vertical-align: top;\n",
       "    }\n",
       "\n",
       "    .dataframe thead th {\n",
       "        text-align: right;\n",
       "    }\n",
       "</style>\n",
       "<table border=\"1\" class=\"dataframe\">\n",
       "  <thead>\n",
       "    <tr style=\"text-align: right;\">\n",
       "      <th></th>\n",
       "      <th>id</th>\n",
       "      <th>keyword</th>\n",
       "      <th>location</th>\n",
       "      <th>text</th>\n",
       "      <th>target</th>\n",
       "      <th>body_len</th>\n",
       "      <th>punct%</th>\n",
       "      <th>word_count</th>\n",
       "      <th>unique_word_count</th>\n",
       "      <th>stop_word_count</th>\n",
       "      <th>url_count</th>\n",
       "      <th>mean_word_length</th>\n",
       "      <th>char_count</th>\n",
       "    </tr>\n",
       "  </thead>\n",
       "  <tbody>\n",
       "    <tr>\n",
       "      <th>0</th>\n",
       "      <td>1</td>\n",
       "      <td>NaN</td>\n",
       "      <td>NaN</td>\n",
       "      <td>Our Deeds are the Reason of this #earthquake M...</td>\n",
       "      <td>1.0</td>\n",
       "      <td>57</td>\n",
       "      <td>1.8</td>\n",
       "      <td>13</td>\n",
       "      <td>13</td>\n",
       "      <td>6</td>\n",
       "      <td>0</td>\n",
       "      <td>4.384615</td>\n",
       "      <td>69</td>\n",
       "    </tr>\n",
       "  </tbody>\n",
       "</table>\n",
       "</div>"
      ],
      "text/plain": [
       "   id keyword location                                               text  \\\n",
       "0   1     NaN      NaN  Our Deeds are the Reason of this #earthquake M...   \n",
       "\n",
       "   target  body_len  punct%  word_count  unique_word_count  stop_word_count  \\\n",
       "0     1.0        57     1.8          13                 13                6   \n",
       "\n",
       "   url_count  mean_word_length  char_count  \n",
       "0          0          4.384615          69  "
      ]
     },
     "execution_count": 234,
     "metadata": {},
     "output_type": "execute_result"
    }
   ],
   "source": [
    "df_data.head(1)"
   ]
  },
  {
   "cell_type": "code",
   "execution_count": 235,
   "id": "ee9010a5",
   "metadata": {
    "ExecuteTime": {
     "end_time": "2022-03-18T15:52:38.875639Z",
     "start_time": "2022-03-18T15:52:38.036345Z"
    },
    "cell_style": "center",
    "code_folding": [],
    "colab": {
     "base_uri": "https://localhost:8080/",
     "height": 330
    },
    "id": "ee9010a5",
    "outputId": "a4d1560b-5c50-4bb9-854f-0edaf2677c89"
   },
   "outputs": [
    {
     "name": "stderr",
     "output_type": "stream",
     "text": [
      "[nltk_data] Downloading package omw-1.4 to\n",
      "[nltk_data]     C:\\Users\\misha\\AppData\\Roaming\\nltk_data...\n",
      "[nltk_data]   Package omw-1.4 is already up-to-date!\n",
      "[nltk_data] Downloading package wordnet to\n",
      "[nltk_data]     C:\\Users\\misha\\AppData\\Roaming\\nltk_data...\n",
      "[nltk_data]   Package wordnet is already up-to-date!\n"
     ]
    },
    {
     "data": {
      "text/html": [
       "<div>\n",
       "<style scoped>\n",
       "    .dataframe tbody tr th:only-of-type {\n",
       "        vertical-align: middle;\n",
       "    }\n",
       "\n",
       "    .dataframe tbody tr th {\n",
       "        vertical-align: top;\n",
       "    }\n",
       "\n",
       "    .dataframe thead th {\n",
       "        text-align: right;\n",
       "    }\n",
       "</style>\n",
       "<table border=\"1\" class=\"dataframe\">\n",
       "  <thead>\n",
       "    <tr style=\"text-align: right;\">\n",
       "      <th></th>\n",
       "      <th>id</th>\n",
       "      <th>keyword</th>\n",
       "      <th>location</th>\n",
       "      <th>text</th>\n",
       "      <th>target</th>\n",
       "      <th>body_len</th>\n",
       "      <th>punct%</th>\n",
       "      <th>word_count</th>\n",
       "      <th>unique_word_count</th>\n",
       "      <th>stop_word_count</th>\n",
       "      <th>url_count</th>\n",
       "      <th>mean_word_length</th>\n",
       "      <th>char_count</th>\n",
       "      <th>text_punct</th>\n",
       "      <th>text_tokens</th>\n",
       "      <th>text_stopwords</th>\n",
       "      <th>text_lemmatizing</th>\n",
       "    </tr>\n",
       "  </thead>\n",
       "  <tbody>\n",
       "    <tr>\n",
       "      <th>0</th>\n",
       "      <td>1</td>\n",
       "      <td>NaN</td>\n",
       "      <td>NaN</td>\n",
       "      <td>Our Deeds are the Reason of this #earthquake M...</td>\n",
       "      <td>1.0</td>\n",
       "      <td>57</td>\n",
       "      <td>1.8</td>\n",
       "      <td>13</td>\n",
       "      <td>13</td>\n",
       "      <td>6</td>\n",
       "      <td>0</td>\n",
       "      <td>4.384615</td>\n",
       "      <td>69</td>\n",
       "      <td>Our Deeds are the Reason of this earthquake Ma...</td>\n",
       "      <td>[our, deeds, are, the, reason, of, this, earth...</td>\n",
       "      <td>[deeds, reason, earthquake, may, allah, forgiv...</td>\n",
       "      <td>[deed, reason, earthquake, may, allah, forgive...</td>\n",
       "    </tr>\n",
       "    <tr>\n",
       "      <th>1</th>\n",
       "      <td>4</td>\n",
       "      <td>NaN</td>\n",
       "      <td>NaN</td>\n",
       "      <td>Forest fire near La Ronge Sask. Canada</td>\n",
       "      <td>1.0</td>\n",
       "      <td>32</td>\n",
       "      <td>3.1</td>\n",
       "      <td>7</td>\n",
       "      <td>7</td>\n",
       "      <td>0</td>\n",
       "      <td>0</td>\n",
       "      <td>4.571429</td>\n",
       "      <td>38</td>\n",
       "      <td>Forest fire near La Ronge Sask Canada</td>\n",
       "      <td>[forest, fire, near, la, ronge, sask, canada]</td>\n",
       "      <td>[forest, fire, near, la, ronge, sask, canada]</td>\n",
       "      <td>[forest, fire, near, la, ronge, sask, canada]</td>\n",
       "    </tr>\n",
       "  </tbody>\n",
       "</table>\n",
       "</div>"
      ],
      "text/plain": [
       "   id keyword location                                               text  \\\n",
       "0   1     NaN      NaN  Our Deeds are the Reason of this #earthquake M...   \n",
       "1   4     NaN      NaN             Forest fire near La Ronge Sask. Canada   \n",
       "\n",
       "   target  body_len  punct%  word_count  unique_word_count  stop_word_count  \\\n",
       "0     1.0        57     1.8          13                 13                6   \n",
       "1     1.0        32     3.1           7                  7                0   \n",
       "\n",
       "   url_count  mean_word_length  char_count  \\\n",
       "0          0          4.384615          69   \n",
       "1          0          4.571429          38   \n",
       "\n",
       "                                          text_punct  \\\n",
       "0  Our Deeds are the Reason of this earthquake Ma...   \n",
       "1              Forest fire near La Ronge Sask Canada   \n",
       "\n",
       "                                         text_tokens  \\\n",
       "0  [our, deeds, are, the, reason, of, this, earth...   \n",
       "1      [forest, fire, near, la, ronge, sask, canada]   \n",
       "\n",
       "                                      text_stopwords  \\\n",
       "0  [deeds, reason, earthquake, may, allah, forgiv...   \n",
       "1      [forest, fire, near, la, ronge, sask, canada]   \n",
       "\n",
       "                                    text_lemmatizing  \n",
       "0  [deed, reason, earthquake, may, allah, forgive...  \n",
       "1      [forest, fire, near, la, ronge, sask, canada]  "
      ]
     },
     "execution_count": 235,
     "metadata": {},
     "output_type": "execute_result"
    }
   ],
   "source": [
    "import string\n",
    "import re\n",
    "\n",
    "# Punctuation\n",
    "def remove_punct(text):\n",
    "    text_punct = \"\".join([char for char in text if char not in string.punctuation])\n",
    "    return text_punct\n",
    "\n",
    "# tokenization\n",
    "def tokenize(text):\n",
    "    tokens = re.split(\n",
    "        '\\W+', text\n",
    "    )  # W+ mean that either a word character (A-Za-9) or a dash(-) can go there\n",
    "    return tokens\n",
    "\n",
    "# stopwords removing\n",
    "def remove_stodwords(tokenized_list):\n",
    "    text = [word for word in tokenized_list if word not in stopword]\n",
    "    return text\n",
    "\n",
    "# string.punctuation\n",
    "df_data['text_punct'] = df_data['text'].apply(lambda x: remove_punct(x))\n",
    "df_data['text_tokens'] = df_data['text_punct'].apply(lambda x: tokenize(x.lower()))\n",
    "df_data['text_stopwords'] = df_data['text_tokens'].apply(lambda x: remove_stodwords(x))\n",
    "\n",
    "#Lemmatization is more complex but precise. Choose it.\n",
    "wn = nltk.WordNetLemmatizer()\n",
    "nltk.download('omw-1.4')\n",
    "nltk.download('wordnet')\n",
    "def lemmatizing(text_stopwords):\n",
    "    text = [wn.lemmatize(word) for word in text_stopwords]\n",
    "    return text\n",
    "\n",
    "df_data['text_lemmatizing'] = df_data['text_stopwords'].apply(lambda x:lemmatizing(x))\n",
    "df_data.head(2)"
   ]
  },
  {
   "cell_type": "markdown",
   "id": "75ddfef4",
   "metadata": {
    "id": "75ddfef4"
   },
   "source": [
    "## Join tokenized text"
   ]
  },
  {
   "cell_type": "code",
   "execution_count": 236,
   "id": "41f5061f",
   "metadata": {
    "ExecuteTime": {
     "end_time": "2022-03-18T15:52:38.920674Z",
     "start_time": "2022-03-18T15:52:38.877641Z"
    },
    "colab": {
     "base_uri": "https://localhost:8080/",
     "height": 112
    },
    "id": "41f5061f",
    "outputId": "c9543a74-68ff-4af2-f192-e964b9f314e1"
   },
   "outputs": [
    {
     "data": {
      "text/html": [
       "<div>\n",
       "<style scoped>\n",
       "    .dataframe tbody tr th:only-of-type {\n",
       "        vertical-align: middle;\n",
       "    }\n",
       "\n",
       "    .dataframe tbody tr th {\n",
       "        vertical-align: top;\n",
       "    }\n",
       "\n",
       "    .dataframe thead th {\n",
       "        text-align: right;\n",
       "    }\n",
       "</style>\n",
       "<table border=\"1\" class=\"dataframe\">\n",
       "  <thead>\n",
       "    <tr style=\"text-align: right;\">\n",
       "      <th></th>\n",
       "      <th>target</th>\n",
       "      <th>body_len</th>\n",
       "      <th>punct%</th>\n",
       "      <th>word_count</th>\n",
       "      <th>unique_word_count</th>\n",
       "      <th>stop_word_count</th>\n",
       "      <th>url_count</th>\n",
       "      <th>mean_word_length</th>\n",
       "      <th>char_count</th>\n",
       "      <th>final_text</th>\n",
       "    </tr>\n",
       "  </thead>\n",
       "  <tbody>\n",
       "    <tr>\n",
       "      <th>0</th>\n",
       "      <td>1.0</td>\n",
       "      <td>57</td>\n",
       "      <td>1.8</td>\n",
       "      <td>13</td>\n",
       "      <td>13</td>\n",
       "      <td>6</td>\n",
       "      <td>0</td>\n",
       "      <td>4.384615</td>\n",
       "      <td>69</td>\n",
       "      <td>deed reason earthquake may allah forgive u</td>\n",
       "    </tr>\n",
       "    <tr>\n",
       "      <th>1</th>\n",
       "      <td>1.0</td>\n",
       "      <td>32</td>\n",
       "      <td>3.1</td>\n",
       "      <td>7</td>\n",
       "      <td>7</td>\n",
       "      <td>0</td>\n",
       "      <td>0</td>\n",
       "      <td>4.571429</td>\n",
       "      <td>38</td>\n",
       "      <td>forest fire near la ronge sask canada</td>\n",
       "    </tr>\n",
       "  </tbody>\n",
       "</table>\n",
       "</div>"
      ],
      "text/plain": [
       "   target  body_len  punct%  word_count  unique_word_count  stop_word_count  \\\n",
       "0     1.0        57     1.8          13                 13                6   \n",
       "1     1.0        32     3.1           7                  7                0   \n",
       "\n",
       "   url_count  mean_word_length  char_count  \\\n",
       "0          0          4.384615          69   \n",
       "1          0          4.571429          38   \n",
       "\n",
       "                                   final_text  \n",
       "0  deed reason earthquake may allah forgive u  \n",
       "1       forest fire near la ronge sask canada  "
      ]
     },
     "execution_count": 236,
     "metadata": {},
     "output_type": "execute_result"
    }
   ],
   "source": [
    "df_data.drop('text_punct', axis=1, inplace=True)\n",
    "df_data.drop('text_tokens', axis=1, inplace=True)\n",
    "df_data.drop('text_stopwords', axis=1, inplace=True)\n",
    "df_data.drop('text', axis=1, inplace=True)\n",
    "df_data.drop('keyword', axis=1, inplace=True)\n",
    "df_data.drop('location', axis=1, inplace=True)\n",
    "df_data.drop('id', axis=1, inplace=True)\n",
    "\n",
    "# join clean tokenized text\n",
    "def join_fun(text):\n",
    "    string=\" \"\n",
    "    ans=string.join(text)\n",
    "    return ans\n",
    "\n",
    "df_data['final_text']=df_data['text_lemmatizing'].apply(lambda x:join_fun(x))\n",
    "df_data.drop('text_lemmatizing', axis=1, inplace=True)\n",
    "df_data.head(2)"
   ]
  },
  {
   "cell_type": "markdown",
   "id": "bf7a0f50",
   "metadata": {
    "id": "bf7a0f50"
   },
   "source": [
    "## TD-IDF"
   ]
  },
  {
   "cell_type": "code",
   "execution_count": 237,
   "id": "9582cd50",
   "metadata": {
    "ExecuteTime": {
     "end_time": "2022-03-18T15:52:38.935668Z",
     "start_time": "2022-03-18T15:52:38.922639Z"
    },
    "id": "9582cd50"
   },
   "outputs": [],
   "source": [
    "# from sklearn.feature_extraction.text import TfidfVectorizer\n",
    "# tfidfvec=TfidfVectorizer()\n",
    "\n",
    "# vec_train=tfidfvec.fit_transform(df_data[\"final_text\"])\n",
    "# tdidf = pd.DataFrame(vec_train.toarray())\n",
    "# df_data.drop('final_text', axis=1, inplace=True)\n",
    "\n",
    "# from sklearn.preprocessing import LabelEncoder\n",
    "# qualitative = [col for col in df_data if df_data[col].dtype == 'object']\n",
    "# for feature in qualitative:\n",
    "#     df_data[feature] = LabelEncoder().fit_transform(df_data[feature])\n",
    "    \n",
    "# df_data = reduce_mem_usage(df_data)\n",
    "\n",
    "# df_data = df_data.reset_index()\n",
    "# df_data = pd.concat([df_data, tdidf], axis=1)\n",
    "\n",
    "# print(df_data.shape)"
   ]
  },
  {
   "cell_type": "code",
   "execution_count": 244,
   "id": "b322b394",
   "metadata": {
    "ExecuteTime": {
     "end_time": "2022-03-18T15:54:36.721175Z",
     "start_time": "2022-03-18T15:54:36.699144Z"
    }
   },
   "outputs": [
    {
     "data": {
      "text/html": [
       "<div>\n",
       "<style scoped>\n",
       "    .dataframe tbody tr th:only-of-type {\n",
       "        vertical-align: middle;\n",
       "    }\n",
       "\n",
       "    .dataframe tbody tr th {\n",
       "        vertical-align: top;\n",
       "    }\n",
       "\n",
       "    .dataframe thead th {\n",
       "        text-align: right;\n",
       "    }\n",
       "</style>\n",
       "<table border=\"1\" class=\"dataframe\">\n",
       "  <thead>\n",
       "    <tr style=\"text-align: right;\">\n",
       "      <th></th>\n",
       "      <th>target</th>\n",
       "      <th>body_len</th>\n",
       "      <th>punct%</th>\n",
       "      <th>word_count</th>\n",
       "      <th>unique_word_count</th>\n",
       "      <th>stop_word_count</th>\n",
       "      <th>url_count</th>\n",
       "      <th>mean_word_length</th>\n",
       "      <th>char_count</th>\n",
       "      <th>final_text</th>\n",
       "    </tr>\n",
       "  </thead>\n",
       "  <tbody>\n",
       "    <tr>\n",
       "      <th>0</th>\n",
       "      <td>1.0</td>\n",
       "      <td>57</td>\n",
       "      <td>1.8</td>\n",
       "      <td>13</td>\n",
       "      <td>13</td>\n",
       "      <td>6</td>\n",
       "      <td>0</td>\n",
       "      <td>4.384615</td>\n",
       "      <td>69</td>\n",
       "      <td>deed reason earthquake may allah forgive u</td>\n",
       "    </tr>\n",
       "    <tr>\n",
       "      <th>1</th>\n",
       "      <td>1.0</td>\n",
       "      <td>32</td>\n",
       "      <td>3.1</td>\n",
       "      <td>7</td>\n",
       "      <td>7</td>\n",
       "      <td>0</td>\n",
       "      <td>0</td>\n",
       "      <td>4.571429</td>\n",
       "      <td>38</td>\n",
       "      <td>forest fire near la ronge sask canada</td>\n",
       "    </tr>\n",
       "  </tbody>\n",
       "</table>\n",
       "</div>"
      ],
      "text/plain": [
       "   target  body_len  punct%  word_count  unique_word_count  stop_word_count  \\\n",
       "0     1.0        57     1.8          13                 13                6   \n",
       "1     1.0        32     3.1           7                  7                0   \n",
       "\n",
       "   url_count  mean_word_length  char_count  \\\n",
       "0          0          4.384615          69   \n",
       "1          0          4.571429          38   \n",
       "\n",
       "                                   final_text  \n",
       "0  deed reason earthquake may allah forgive u  \n",
       "1       forest fire near la ronge sask canada  "
      ]
     },
     "execution_count": 244,
     "metadata": {},
     "output_type": "execute_result"
    }
   ],
   "source": [
    "df_data.head(2)"
   ]
  },
  {
   "cell_type": "markdown",
   "id": "450f0b2d",
   "metadata": {
    "id": "450f0b2d"
   },
   "source": [
    "## BertTokenizier"
   ]
  },
  {
   "cell_type": "code",
   "execution_count": 253,
   "id": "49fdf7e7",
   "metadata": {
    "ExecuteTime": {
     "end_time": "2022-03-18T15:58:30.955265Z",
     "start_time": "2022-03-18T15:58:30.928197Z"
    },
    "colab": {
     "base_uri": "https://localhost:8080/",
     "height": 112
    },
    "id": "49fdf7e7",
    "outputId": "f03268f9-4e80-4046-baf3-f56e2cea3a65"
   },
   "outputs": [
    {
     "data": {
      "text/html": [
       "<div>\n",
       "<style scoped>\n",
       "    .dataframe tbody tr th:only-of-type {\n",
       "        vertical-align: middle;\n",
       "    }\n",
       "\n",
       "    .dataframe tbody tr th {\n",
       "        vertical-align: top;\n",
       "    }\n",
       "\n",
       "    .dataframe thead th {\n",
       "        text-align: right;\n",
       "    }\n",
       "</style>\n",
       "<table border=\"1\" class=\"dataframe\">\n",
       "  <thead>\n",
       "    <tr style=\"text-align: right;\">\n",
       "      <th></th>\n",
       "      <th>target</th>\n",
       "      <th>final_text</th>\n",
       "    </tr>\n",
       "  </thead>\n",
       "  <tbody>\n",
       "    <tr>\n",
       "      <th>7611</th>\n",
       "      <td>1.0</td>\n",
       "      <td>police investigating ebike collided car little...</td>\n",
       "    </tr>\n",
       "    <tr>\n",
       "      <th>7612</th>\n",
       "      <td>1.0</td>\n",
       "      <td>latest home razed northern california wildfire...</td>\n",
       "    </tr>\n",
       "  </tbody>\n",
       "</table>\n",
       "</div>"
      ],
      "text/plain": [
       "      target                                         final_text\n",
       "7611     1.0  police investigating ebike collided car little...\n",
       "7612     1.0  latest home razed northern california wildfire..."
      ]
     },
     "execution_count": 253,
     "metadata": {},
     "output_type": "execute_result"
    }
   ],
   "source": [
    "df_train = df_data[df_data.target.isnull() == False]\n",
    "df_test = df_data[df_data.target.isnull() == True]\n",
    "df_test = df_test.drop(['target'],axis=1)\n",
    "\n",
    "df_train.drop('body_len', axis=1, inplace=True)\n",
    "df_train.drop('punct%', axis=1, inplace=True)\n",
    "df_train.drop('word_count', axis=1, inplace=True)\n",
    "df_train.drop('unique_word_count', axis=1, inplace=True)\n",
    "df_train.drop('stop_word_count', axis=1, inplace=True)\n",
    "df_train.drop('url_count', axis=1, inplace=True)\n",
    "df_train.drop('mean_word_length', axis=1, inplace=True)\n",
    "df_train.drop('char_count', axis=1, inplace=True)\n",
    "df_train.tail(2)"
   ]
  },
  {
   "cell_type": "code",
   "execution_count": 255,
   "id": "61eeb18e",
   "metadata": {
    "ExecuteTime": {
     "end_time": "2022-03-18T15:59:02.989748Z",
     "start_time": "2022-03-18T15:58:50.756401Z"
    }
   },
   "outputs": [
    {
     "data": {
      "text/html": [
       "<div>\n",
       "<style scoped>\n",
       "    .dataframe tbody tr th:only-of-type {\n",
       "        vertical-align: middle;\n",
       "    }\n",
       "\n",
       "    .dataframe tbody tr th {\n",
       "        vertical-align: top;\n",
       "    }\n",
       "\n",
       "    .dataframe thead th {\n",
       "        text-align: right;\n",
       "    }\n",
       "</style>\n",
       "<table border=\"1\" class=\"dataframe\">\n",
       "  <thead>\n",
       "    <tr style=\"text-align: right;\">\n",
       "      <th></th>\n",
       "      <th>final_text</th>\n",
       "      <th>tokenized</th>\n",
       "      <th>target</th>\n",
       "    </tr>\n",
       "  </thead>\n",
       "  <tbody>\n",
       "    <tr>\n",
       "      <th>7610</th>\n",
       "      <td>m194 0104 utc5km volcano hawaii httptcozdtoyd8ebj</td>\n",
       "      <td>[3, 347, 2947, 617, 3413, 7709, 486, 238, 758,...</td>\n",
       "      <td>1.0</td>\n",
       "    </tr>\n",
       "    <tr>\n",
       "      <th>7611</th>\n",
       "      <td>police investigating ebike collided car little...</td>\n",
       "      <td>[3, 35206, 32603, 1916, 28, 60142, 61770, 4814...</td>\n",
       "      <td>1.0</td>\n",
       "    </tr>\n",
       "    <tr>\n",
       "      <th>7612</th>\n",
       "      <td>latest home razed northern california wildfire...</td>\n",
       "      <td>[3, 42850, 5368, 1954, 297, 144477, 9022, 7294...</td>\n",
       "      <td>1.0</td>\n",
       "    </tr>\n",
       "  </tbody>\n",
       "</table>\n",
       "</div>"
      ],
      "text/plain": [
       "                                             final_text  \\\n",
       "7610  m194 0104 utc5km volcano hawaii httptcozdtoyd8ebj   \n",
       "7611  police investigating ebike collided car little...   \n",
       "7612  latest home razed northern california wildfire...   \n",
       "\n",
       "                                              tokenized  target  \n",
       "7610  [3, 347, 2947, 617, 3413, 7709, 486, 238, 758,...     1.0  \n",
       "7611  [3, 35206, 32603, 1916, 28, 60142, 61770, 4814...     1.0  \n",
       "7612  [3, 42850, 5368, 1954, 297, 144477, 9022, 7294...     1.0  "
      ]
     },
     "execution_count": 255,
     "metadata": {},
     "output_type": "execute_result"
    }
   ],
   "source": [
    "from transformers import BertTokenizer, TFBertModel, TFAutoModel,AutoTokenizer\n",
    "model_name ='joeddav/xlm-roberta-large-xnli'\n",
    "tokenizer = AutoTokenizer.from_pretrained(model_name)\n",
    "\n",
    "def encode_sentence(s):\n",
    "    tokens=[]\n",
    "    tokens.append('[CLS]')\n",
    "    tokens+=list(tokenizer.tokenize(s))\n",
    "#    print(tokens)\n",
    "    return tokenizer.convert_tokens_to_ids(tokens)\n",
    "main_data=df_train['final_text']\n",
    "main_data=pd.DataFrame(main_data)\n",
    "\n",
    "tokenized=[]\n",
    "for i in range(len(main_data)):\n",
    "    tokenized.append(encode_sentence(main_data['final_text'][i]))\n",
    "main_data['tokenized']=tokenized\n",
    "main_data['target']=df_train['target']\n",
    "main_data.tail(3)"
   ]
  },
  {
   "cell_type": "code",
   "execution_count": 256,
   "id": "2c31ec88",
   "metadata": {
    "ExecuteTime": {
     "end_time": "2022-03-18T15:59:06.734452Z",
     "start_time": "2022-03-18T15:59:05.537124Z"
    }
   },
   "outputs": [
    {
     "data": {
      "text/html": [
       "<div>\n",
       "<style scoped>\n",
       "    .dataframe tbody tr th:only-of-type {\n",
       "        vertical-align: middle;\n",
       "    }\n",
       "\n",
       "    .dataframe tbody tr th {\n",
       "        vertical-align: top;\n",
       "    }\n",
       "\n",
       "    .dataframe thead th {\n",
       "        text-align: right;\n",
       "    }\n",
       "</style>\n",
       "<table border=\"1\" class=\"dataframe\">\n",
       "  <thead>\n",
       "    <tr style=\"text-align: right;\">\n",
       "      <th></th>\n",
       "      <th>final_text</th>\n",
       "      <th>tokenized</th>\n",
       "      <th>target</th>\n",
       "      <th>masked</th>\n",
       "    </tr>\n",
       "  </thead>\n",
       "  <tbody>\n",
       "    <tr>\n",
       "      <th>0</th>\n",
       "      <td>deed reason earthquake may allah forgive u</td>\n",
       "      <td>[3, 8, 297, 31635, 109270, 13722, 350, 1543, 6...</td>\n",
       "      <td>1.0</td>\n",
       "      <td>[input_ids, attention_mask]</td>\n",
       "    </tr>\n",
       "    <tr>\n",
       "      <th>1</th>\n",
       "      <td>forest fire near la ronge sask canada</td>\n",
       "      <td>[3, 100, 525, 11476, 43573, 21, 107629, 13, 57...</td>\n",
       "      <td>1.0</td>\n",
       "      <td>[input_ids, attention_mask]</td>\n",
       "    </tr>\n",
       "    <tr>\n",
       "      <th>2</th>\n",
       "      <td>resident asked shelter place notified officer ...</td>\n",
       "      <td>[3, 45606, 18, 37170, 2412, 1277, 56, 3687, 95...</td>\n",
       "      <td>1.0</td>\n",
       "      <td>[input_ids, attention_mask]</td>\n",
       "    </tr>\n",
       "    <tr>\n",
       "      <th>3</th>\n",
       "      <td>13000 people receive wildfire evacuation order...</td>\n",
       "      <td>[3, 106, 36605, 3395, 53299, 56409, 73702, 166...</td>\n",
       "      <td>1.0</td>\n",
       "      <td>[input_ids, attention_mask]</td>\n",
       "    </tr>\n",
       "    <tr>\n",
       "      <th>4</th>\n",
       "      <td>got sent photo ruby alaska smoke wildfire pour...</td>\n",
       "      <td>[3, 4163, 9325, 16186, 21922, 53, 10, 68465, 2...</td>\n",
       "      <td>1.0</td>\n",
       "      <td>[input_ids, attention_mask]</td>\n",
       "    </tr>\n",
       "  </tbody>\n",
       "</table>\n",
       "</div>"
      ],
      "text/plain": [
       "                                          final_text  \\\n",
       "0         deed reason earthquake may allah forgive u   \n",
       "1              forest fire near la ronge sask canada   \n",
       "2  resident asked shelter place notified officer ...   \n",
       "3  13000 people receive wildfire evacuation order...   \n",
       "4  got sent photo ruby alaska smoke wildfire pour...   \n",
       "\n",
       "                                           tokenized  target  \\\n",
       "0  [3, 8, 297, 31635, 109270, 13722, 350, 1543, 6...     1.0   \n",
       "1  [3, 100, 525, 11476, 43573, 21, 107629, 13, 57...     1.0   \n",
       "2  [3, 45606, 18, 37170, 2412, 1277, 56, 3687, 95...     1.0   \n",
       "3  [3, 106, 36605, 3395, 53299, 56409, 73702, 166...     1.0   \n",
       "4  [3, 4163, 9325, 16186, 21922, 53, 10, 68465, 2...     1.0   \n",
       "\n",
       "                        masked  \n",
       "0  [input_ids, attention_mask]  \n",
       "1  [input_ids, attention_mask]  \n",
       "2  [input_ids, attention_mask]  \n",
       "3  [input_ids, attention_mask]  \n",
       "4  [input_ids, attention_mask]  "
      ]
     },
     "execution_count": 256,
     "metadata": {},
     "output_type": "execute_result"
    }
   ],
   "source": [
    "# see the documentations\n",
    "mask=[]\n",
    "for i in range(len(main_data)):\n",
    "    padded_seq=tokenizer(main_data['final_text'][i],padding=True,add_special_tokens =True)\n",
    "    mask.append(padded_seq)\n",
    "\n",
    "main_data['masked']=mask\n",
    "main_data.head()"
   ]
  },
  {
   "cell_type": "code",
   "execution_count": 257,
   "id": "5f77b647",
   "metadata": {
    "ExecuteTime": {
     "end_time": "2022-03-18T15:59:13.102835Z",
     "start_time": "2022-03-18T15:59:13.095835Z"
    },
    "id": "5f77b647"
   },
   "outputs": [],
   "source": [
    "max_len=32\n",
    "def build_model():\n",
    "    bert_encoder = TFAutoModel.from_pretrained('joeddav/xlm-roberta-large-xnli')\n",
    "    input_word_ids = tf.keras.Input(shape=(max_len,), dtype=tf.int32, name=\"input_word_ids\")\n",
    "    input_mask = tf.keras.Input(shape=(max_len,), dtype=tf.int32, name=\"input_mask\")\n",
    "    embedding = bert_encoder([input_word_ids, input_mask])[0]\n",
    "    output = tf.keras.layers.Dense(3, activation='softmax')(embedding[:,0,:])\n",
    "    \n",
    "    model = tf.keras.Model(inputs=[input_word_ids, input_mask], outputs=output)\n",
    "    model.compile(tf.keras.optimizers.Adam(lr=1e-5), loss='sparse_categorical_crossentropy', metrics=['accuracy'])\n",
    "    \n",
    "    return model"
   ]
  },
  {
   "cell_type": "code",
   "execution_count": 258,
   "id": "bdef3424",
   "metadata": {
    "ExecuteTime": {
     "end_time": "2022-03-18T15:59:13.527169Z",
     "start_time": "2022-03-18T15:59:13.521170Z"
    },
    "id": "bdef3424"
   },
   "outputs": [],
   "source": [
    "def input_convert(data):\n",
    "    inputs={\n",
    "        'input_word_ids':[],\n",
    "        'input_mask':[]\n",
    "    }\n",
    "    for each in data:\n",
    "        inputs['input_word_ids'].append(each['input_ids'])\n",
    "        inputs['input_mask'].append(each['attention_mask'])\n",
    "        \n",
    "    \n",
    "    inputs['input_word_ids']= tf.ragged.constant( inputs['input_word_ids']).to_tensor()\n",
    "    inputs['input_mask']= tf.ragged.constant( inputs['input_mask']).to_tensor()\n",
    "    return inputs"
   ]
  },
  {
   "cell_type": "code",
   "execution_count": 259,
   "id": "3f6cda4b",
   "metadata": {
    "ExecuteTime": {
     "end_time": "2022-03-18T15:59:18.727102Z",
     "start_time": "2022-03-18T15:59:18.708081Z"
    },
    "id": "3f6cda4b",
    "outputId": "9f6e1bb3-5acd-43e7-9e88-eb69d14dc8a4"
   },
   "outputs": [
    {
     "data": {
      "text/html": [
       "<div>\n",
       "<style scoped>\n",
       "    .dataframe tbody tr th:only-of-type {\n",
       "        vertical-align: middle;\n",
       "    }\n",
       "\n",
       "    .dataframe tbody tr th {\n",
       "        vertical-align: top;\n",
       "    }\n",
       "\n",
       "    .dataframe thead th {\n",
       "        text-align: right;\n",
       "    }\n",
       "</style>\n",
       "<table border=\"1\" class=\"dataframe\">\n",
       "  <thead>\n",
       "    <tr style=\"text-align: right;\">\n",
       "      <th></th>\n",
       "      <th>final_text</th>\n",
       "      <th>tokenized</th>\n",
       "      <th>target</th>\n",
       "      <th>masked</th>\n",
       "    </tr>\n",
       "  </thead>\n",
       "  <tbody>\n",
       "    <tr>\n",
       "      <th>0</th>\n",
       "      <td>deed reason earthquake may allah forgive u</td>\n",
       "      <td>[3, 8, 297, 31635, 109270, 13722, 350, 1543, 6...</td>\n",
       "      <td>1.0</td>\n",
       "      <td>[input_ids, attention_mask]</td>\n",
       "    </tr>\n",
       "    <tr>\n",
       "      <th>1</th>\n",
       "      <td>forest fire near la ronge sask canada</td>\n",
       "      <td>[3, 100, 525, 11476, 43573, 21, 107629, 13, 57...</td>\n",
       "      <td>1.0</td>\n",
       "      <td>[input_ids, attention_mask]</td>\n",
       "    </tr>\n",
       "    <tr>\n",
       "      <th>2</th>\n",
       "      <td>resident asked shelter place notified officer ...</td>\n",
       "      <td>[3, 45606, 18, 37170, 2412, 1277, 56, 3687, 95...</td>\n",
       "      <td>1.0</td>\n",
       "      <td>[input_ids, attention_mask]</td>\n",
       "    </tr>\n",
       "    <tr>\n",
       "      <th>3</th>\n",
       "      <td>13000 people receive wildfire evacuation order...</td>\n",
       "      <td>[3, 106, 36605, 3395, 53299, 56409, 73702, 166...</td>\n",
       "      <td>1.0</td>\n",
       "      <td>[input_ids, attention_mask]</td>\n",
       "    </tr>\n",
       "    <tr>\n",
       "      <th>4</th>\n",
       "      <td>got sent photo ruby alaska smoke wildfire pour...</td>\n",
       "      <td>[3, 4163, 9325, 16186, 21922, 53, 10, 68465, 2...</td>\n",
       "      <td>1.0</td>\n",
       "      <td>[input_ids, attention_mask]</td>\n",
       "    </tr>\n",
       "    <tr>\n",
       "      <th>...</th>\n",
       "      <td>...</td>\n",
       "      <td>...</td>\n",
       "      <td>...</td>\n",
       "      <td>...</td>\n",
       "    </tr>\n",
       "    <tr>\n",
       "      <th>7608</th>\n",
       "      <td>two giant crane holding bridge collapse nearby...</td>\n",
       "      <td>[3, 6626, 6051, 18, 501, 60791, 104064, 6, 807...</td>\n",
       "      <td>1.0</td>\n",
       "      <td>[input_ids, attention_mask]</td>\n",
       "    </tr>\n",
       "    <tr>\n",
       "      <th>7609</th>\n",
       "      <td>ariaahrary thetawniest control wild fire calif...</td>\n",
       "      <td>[3, 6, 6232, 11, 11894, 1294, 70, 102, 63205, ...</td>\n",
       "      <td>1.0</td>\n",
       "      <td>[input_ids, attention_mask]</td>\n",
       "    </tr>\n",
       "    <tr>\n",
       "      <th>7610</th>\n",
       "      <td>m194 0104 utc5km volcano hawaii httptcozdtoyd8ebj</td>\n",
       "      <td>[3, 347, 2947, 617, 3413, 7709, 486, 238, 758,...</td>\n",
       "      <td>1.0</td>\n",
       "      <td>[input_ids, attention_mask]</td>\n",
       "    </tr>\n",
       "    <tr>\n",
       "      <th>7611</th>\n",
       "      <td>police investigating ebike collided car little...</td>\n",
       "      <td>[3, 35206, 32603, 1916, 28, 60142, 61770, 4814...</td>\n",
       "      <td>1.0</td>\n",
       "      <td>[input_ids, attention_mask]</td>\n",
       "    </tr>\n",
       "    <tr>\n",
       "      <th>7612</th>\n",
       "      <td>latest home razed northern california wildfire...</td>\n",
       "      <td>[3, 42850, 5368, 1954, 297, 144477, 9022, 7294...</td>\n",
       "      <td>1.0</td>\n",
       "      <td>[input_ids, attention_mask]</td>\n",
       "    </tr>\n",
       "  </tbody>\n",
       "</table>\n",
       "<p>7613 rows × 4 columns</p>\n",
       "</div>"
      ],
      "text/plain": [
       "                                             final_text  \\\n",
       "0            deed reason earthquake may allah forgive u   \n",
       "1                 forest fire near la ronge sask canada   \n",
       "2     resident asked shelter place notified officer ...   \n",
       "3     13000 people receive wildfire evacuation order...   \n",
       "4     got sent photo ruby alaska smoke wildfire pour...   \n",
       "...                                                 ...   \n",
       "7608  two giant crane holding bridge collapse nearby...   \n",
       "7609  ariaahrary thetawniest control wild fire calif...   \n",
       "7610  m194 0104 utc5km volcano hawaii httptcozdtoyd8ebj   \n",
       "7611  police investigating ebike collided car little...   \n",
       "7612  latest home razed northern california wildfire...   \n",
       "\n",
       "                                              tokenized  target  \\\n",
       "0     [3, 8, 297, 31635, 109270, 13722, 350, 1543, 6...     1.0   \n",
       "1     [3, 100, 525, 11476, 43573, 21, 107629, 13, 57...     1.0   \n",
       "2     [3, 45606, 18, 37170, 2412, 1277, 56, 3687, 95...     1.0   \n",
       "3     [3, 106, 36605, 3395, 53299, 56409, 73702, 166...     1.0   \n",
       "4     [3, 4163, 9325, 16186, 21922, 53, 10, 68465, 2...     1.0   \n",
       "...                                                 ...     ...   \n",
       "7608  [3, 6626, 6051, 18, 501, 60791, 104064, 6, 807...     1.0   \n",
       "7609  [3, 6, 6232, 11, 11894, 1294, 70, 102, 63205, ...     1.0   \n",
       "7610  [3, 347, 2947, 617, 3413, 7709, 486, 238, 758,...     1.0   \n",
       "7611  [3, 35206, 32603, 1916, 28, 60142, 61770, 4814...     1.0   \n",
       "7612  [3, 42850, 5368, 1954, 297, 144477, 9022, 7294...     1.0   \n",
       "\n",
       "                           masked  \n",
       "0     [input_ids, attention_mask]  \n",
       "1     [input_ids, attention_mask]  \n",
       "2     [input_ids, attention_mask]  \n",
       "3     [input_ids, attention_mask]  \n",
       "4     [input_ids, attention_mask]  \n",
       "...                           ...  \n",
       "7608  [input_ids, attention_mask]  \n",
       "7609  [input_ids, attention_mask]  \n",
       "7610  [input_ids, attention_mask]  \n",
       "7611  [input_ids, attention_mask]  \n",
       "7612  [input_ids, attention_mask]  \n",
       "\n",
       "[7613 rows x 4 columns]"
      ]
     },
     "execution_count": 259,
     "metadata": {},
     "output_type": "execute_result"
    }
   ],
   "source": [
    "data_for_predictions=main_data[len(train):]\n",
    "data_for_fitting=main_data[:len(train)]\n",
    "data_for_fitting"
   ]
  },
  {
   "cell_type": "code",
   "execution_count": 260,
   "id": "7932d0d0",
   "metadata": {
    "ExecuteTime": {
     "end_time": "2022-03-18T15:59:35.343300Z",
     "start_time": "2022-03-18T15:59:30.798298Z"
    },
    "id": "7932d0d0"
   },
   "outputs": [],
   "source": [
    "import tensorflow as tf\n",
    "train_input=input_convert(data_for_fitting['masked'].values)\n",
    "for key in train_input.keys():\n",
    "    train_input[key] = train_input[key][:,:max_len]"
   ]
  },
  {
   "cell_type": "code",
   "execution_count": null,
   "id": "a829656c",
   "metadata": {
    "ExecuteTime": {
     "start_time": "2022-03-18T15:59:38.236Z"
    },
    "id": "a829656c",
    "outputId": "65caa141-b343-4b51-db8e-43f1bb733ad9",
    "scrolled": true
   },
   "outputs": [],
   "source": [
    "early_stop=tf.keras.callbacks.EarlyStopping(patience=3,restore_best_weights=True)\n",
    "\n",
    "model=build_model()\n",
    "model.summary()"
   ]
  },
  {
   "cell_type": "code",
   "execution_count": null,
   "id": "8742168d",
   "metadata": {
    "ExecuteTime": {
     "end_time": "2022-03-18T15:52:38.980748Z",
     "start_time": "2022-03-18T15:52:38.980748Z"
    },
    "id": "8742168d",
    "outputId": "5be8ba5e-c87a-4d84-e90d-8eec08a62533"
   },
   "outputs": [],
   "source": [
    "# print(\"GPU\", \"available\" if tf.config.list_physical_devices(\"GPU\") else \"not available\")"
   ]
  },
  {
   "cell_type": "markdown",
   "id": "13fb12fc",
   "metadata": {
    "id": "13fb12fc"
   },
   "source": [
    "### Train"
   ]
  },
  {
   "cell_type": "code",
   "execution_count": null,
   "id": "b6e52cd1",
   "metadata": {
    "ExecuteTime": {
     "end_time": "2022-03-18T15:52:38.982639Z",
     "start_time": "2022-03-18T15:52:38.982639Z"
    },
    "id": "b6e52cd1",
    "outputId": "8393921b-929a-4f51-9890-6837311a8c40"
   },
   "outputs": [],
   "source": [
    "# model.fit(train_input,main_data['target'].values,epochs=5,verbose=1,batch_size=128,validation_split=0.1,callbacks=[early_stop])"
   ]
  },
  {
   "cell_type": "code",
   "execution_count": null,
   "id": "0949a8b8",
   "metadata": {
    "ExecuteTime": {
     "end_time": "2022-03-18T15:52:38.984642Z",
     "start_time": "2022-03-18T15:52:38.984642Z"
    },
    "id": "0949a8b8"
   },
   "outputs": [],
   "source": [
    "# test_input=input_convert(data_for_predictions['masked'].values)\n",
    "# for key in train_input.keys():\n",
    "#     test_input[key] = test_input[key][:,:max_len]\n",
    "\n",
    "# predictions=[np.argmax(i) for i in model.predict(test_input)]"
   ]
  },
  {
   "cell_type": "code",
   "execution_count": null,
   "id": "359b9774",
   "metadata": {
    "ExecuteTime": {
     "end_time": "2022-03-18T15:52:38.985641Z",
     "start_time": "2022-03-18T15:52:38.985641Z"
    },
    "id": "359b9774"
   },
   "outputs": [],
   "source": [
    "# sub['target']=predictions\n",
    "# sub.to_csv(\"E:/downloads/sample_submission.csv\",index=False)"
   ]
  },
  {
   "cell_type": "markdown",
   "id": "98494dbb",
   "metadata": {
    "id": "98494dbb"
   },
   "source": [
    "# Modeling"
   ]
  },
  {
   "cell_type": "code",
   "execution_count": null,
   "id": "bb82c530",
   "metadata": {
    "ExecuteTime": {
     "end_time": "2022-03-18T15:52:38.986642Z",
     "start_time": "2022-03-18T15:52:38.986642Z"
    }
   },
   "outputs": [],
   "source": [
    "df_train = df_data[df_data.target.isnull() == False]\n",
    "df_test = df_data[df_data.target.isnull() == True]\n",
    "df_test = df_test.drop(['target'],axis=1)\n",
    "X = df_train.drop('target', axis=1)\n",
    "y = df_train['target']"
   ]
  },
  {
   "cell_type": "code",
   "execution_count": null,
   "id": "440c41e4",
   "metadata": {
    "ExecuteTime": {
     "end_time": "2022-03-18T15:52:38.987641Z",
     "start_time": "2022-03-18T15:52:38.987641Z"
    }
   },
   "outputs": [],
   "source": [
    "from catboost import CatBoostClassifier\n",
    "model = CatBoostClassifier(task_type=\"GPU\",devices='0:1')\n",
    "\n",
    "model.fit(X,y,plot=True)"
   ]
  },
  {
   "cell_type": "code",
   "execution_count": null,
   "id": "f96ee283",
   "metadata": {
    "ExecuteTime": {
     "end_time": "2022-03-18T15:52:38.988642Z",
     "start_time": "2022-03-18T15:52:38.988642Z"
    }
   },
   "outputs": [],
   "source": [
    "y_preds = model.predict(df_test)\n",
    "model.score(X,y)"
   ]
  },
  {
   "cell_type": "markdown",
   "id": "a9fc9d87",
   "metadata": {
    "ExecuteTime": {
     "end_time": "2022-03-18T13:15:25.850645Z",
     "start_time": "2022-03-18T13:15:25.832655Z"
    }
   },
   "source": [
    "## Pycaret"
   ]
  },
  {
   "cell_type": "code",
   "execution_count": null,
   "id": "461f011d",
   "metadata": {
    "ExecuteTime": {
     "end_time": "2022-03-18T15:52:38.990641Z",
     "start_time": "2022-03-18T15:52:38.990641Z"
    }
   },
   "outputs": [],
   "source": [
    "from pycaret.classification import *\n",
    "\n",
    "s = setup(data = df_train,\n",
    "          target = 'target',\n",
    "          train_size = 0.99,\n",
    "          fold_strategy = 'stratifiedkfold',\n",
    "          fold = 2,\n",
    "          fold_shuffle = True)"
   ]
  },
  {
   "cell_type": "code",
   "execution_count": null,
   "id": "b21d259c",
   "metadata": {
    "ExecuteTime": {
     "end_time": "2022-03-18T15:52:38.991641Z",
     "start_time": "2022-03-18T15:52:38.991641Z"
    }
   },
   "outputs": [],
   "source": [
    "best_model = compare_models(exclude='knn')"
   ]
  },
  {
   "cell_type": "code",
   "execution_count": null,
   "id": "b46d3e63",
   "metadata": {
    "ExecuteTime": {
     "end_time": "2022-03-18T15:52:38.992641Z",
     "start_time": "2022-03-18T15:52:38.992641Z"
    }
   },
   "outputs": [],
   "source": [
    "rf = create_model('rf')"
   ]
  },
  {
   "cell_type": "code",
   "execution_count": null,
   "id": "9ee59a6c",
   "metadata": {
    "ExecuteTime": {
     "end_time": "2022-03-18T15:52:38.994641Z",
     "start_time": "2022-03-18T15:52:38.994641Z"
    }
   },
   "outputs": [],
   "source": [
    "plot_model(tuned_rf, plot='feature')"
   ]
  },
  {
   "cell_type": "code",
   "execution_count": null,
   "id": "a3c87093",
   "metadata": {},
   "outputs": [],
   "source": []
  },
  {
   "cell_type": "code",
   "execution_count": null,
   "id": "a6535ae8",
   "metadata": {
    "ExecuteTime": {
     "end_time": "2022-03-18T15:52:38.995641Z",
     "start_time": "2022-03-18T15:52:38.995641Z"
    }
   },
   "outputs": [],
   "source": [
    "y"
   ]
  },
  {
   "cell_type": "markdown",
   "id": "ff01709b",
   "metadata": {
    "id": "ff01709b"
   },
   "source": [
    "## CV"
   ]
  },
  {
   "cell_type": "code",
   "execution_count": null,
   "id": "b8fcbb0a",
   "metadata": {
    "ExecuteTime": {
     "end_time": "2022-03-18T15:52:38.996642Z",
     "start_time": "2022-03-18T15:52:38.996642Z"
    },
    "id": "b8fcbb0a"
   },
   "outputs": [],
   "source": [
    "from catboost import CatBoostClassifier\n",
    "import statistics\n",
    "\n",
    "#scores_on_split = []\n",
    "#for N_SPLITS in range(20,40):\n",
    "\n",
    "N_SPLITS = 5 # 200 is the best score on LB\n",
    "N_ESTIMATORS = 1000 \n",
    "RANDOM_STATE = 42 \n",
    "params = {\n",
    "       'n_estimators' : N_ESTIMATORS,\n",
    "        'n_jobs' : -1,\n",
    "         'random_state' : RANDOM_STATE\n",
    "}\n",
    "\n",
    "    #train_X, valid_X, train_y, valid_y = train_test_split(X, y, test_size = 0.2, random_state = RANDOM_STATE)\n",
    "\n",
    "scores_2 = []\n",
    "scores_3 = []\n",
    "\n",
    "X = train\n",
    "\n",
    "y_probs_2 = []\n",
    "y_probs_3 = []\n",
    "print(N_SPLITS)\n",
    "folds = StratifiedKFold(n_splits = N_SPLITS, shuffle=True)\n",
    "\n",
    "for fold, (train_id, test_id) in enumerate(folds.split(X, y)):  \n",
    "\n",
    "    print(\"fold : \", fold + 1, end = ' ')\n",
    "\n",
    "    X_train = X.iloc[train_id]\n",
    "    y_train = y.iloc[train_id]\n",
    "    X_valid = X.iloc[test_id]\n",
    "    y_valid = y.iloc[test_id]\n",
    "\n",
    "    # model_2\n",
    "    #Best: depth-10, learning_rate-0.1\n",
    "    #model_2 =  ExtraTreesClassifier(**params)\n",
    "    #model_2 =  RandomForestClassifier(**params)\n",
    "    #model_2 =  CatBoostClassifier(verbose=False, depth=10, learning_rate=0.1)\n",
    "    model_2 =  CatBoostClassifier(verbose=False)\n",
    "    #model_2 = LogisticRegression(C = 0.012742749857031334)\n",
    "\n",
    "    model_2.fit(X_train, y_train)\n",
    "    # validation\n",
    "    valid_pred_2 = model_2.predict(X_valid)\n",
    "    valid_score_2 = accuracy_score(y_valid, valid_pred_2)\n",
    "    #print( \"model_2 :: Accuracy_score: \", valid_score_2, end = ' ')\n",
    "    print( \"Validation score: \", valid_score_2, end = ' ')\n",
    "    scores_2.append(valid_score_2)\n",
    "\n",
    "    # test\n",
    "    y_pred_2 = model_2.predict(test)\n",
    "    y_probs_2.append(model_2.predict_proba(test))\n",
    "    print(\"\")\n",
    "    #scores_on_split.append(statistics.mean(scores_2))\n",
    "\n",
    "\n",
    "#scores_on_split"
   ]
  },
  {
   "cell_type": "markdown",
   "id": "d1cc214e",
   "metadata": {
    "id": "d1cc214e"
   },
   "source": [
    "# Submission"
   ]
  },
  {
   "cell_type": "code",
   "execution_count": null,
   "id": "9ca6d310",
   "metadata": {
    "ExecuteTime": {
     "end_time": "2022-03-18T15:52:38.998640Z",
     "start_time": "2022-03-18T15:52:38.998640Z"
    },
    "id": "9ca6d310"
   },
   "outputs": [],
   "source": [
    "sub = pd.read_csv(\"C:/Users/misha/Desktop/sample_project_1/NLP/sample_submission.csv\")"
   ]
  },
  {
   "cell_type": "code",
   "execution_count": null,
   "id": "c9f07e1c",
   "metadata": {
    "ExecuteTime": {
     "end_time": "2022-03-18T15:52:38.999639Z",
     "start_time": "2022-03-18T15:52:38.999639Z"
    },
    "id": "c9f07e1c"
   },
   "outputs": [],
   "source": [
    "sub.head()"
   ]
  },
  {
   "cell_type": "code",
   "execution_count": null,
   "id": "66a94ca3",
   "metadata": {
    "ExecuteTime": {
     "end_time": "2022-03-18T15:52:39.001642Z",
     "start_time": "2022-03-18T15:52:39.001642Z"
    }
   },
   "outputs": [],
   "source": [
    "y_preds.astype(int)"
   ]
  },
  {
   "cell_type": "code",
   "execution_count": null,
   "id": "e3256257",
   "metadata": {
    "ExecuteTime": {
     "end_time": "2022-03-18T15:52:39.002645Z",
     "start_time": "2022-03-18T15:52:39.002645Z"
    },
    "id": "e3256257"
   },
   "outputs": [],
   "source": [
    "# y_prob_3 = sum(y_probs_2) / len(y_probs_2)\n",
    "# y_prob_3\n",
    "\n",
    "# preds = []\n",
    "# for i in y_prob_3:\n",
    "#     if i[0] > i[1]:\n",
    "#         preds.append(0)\n",
    "#     else:\n",
    "#         preds.append(1)\n",
    "\n",
    "y_preds = y_preds.astype(int)        \n",
    "def save_submission(y_pred):  \n",
    "    sub[\"target\"] = y_pred\n",
    "    assert 2 == sub.shape[1]   \n",
    "    sub.to_csv(\"E:/downloads/sample_submission.csv\", index=False)\n",
    "    return sub\n",
    "save_submission(y_preds).head(3)"
   ]
  },
  {
   "cell_type": "code",
   "execution_count": null,
   "id": "f803eba5",
   "metadata": {
    "id": "f803eba5"
   },
   "outputs": [],
   "source": []
  }
 ],
 "metadata": {
  "accelerator": "GPU",
  "colab": {
   "name": "Natural Language Processing with Disaster Tweets.ipynb",
   "provenance": [],
   "toc_visible": true
  },
  "kernelspec": {
   "display_name": "Python 3 (ipykernel)",
   "language": "python",
   "name": "python3"
  },
  "language_info": {
   "codemirror_mode": {
    "name": "ipython",
    "version": 3
   },
   "file_extension": ".py",
   "mimetype": "text/x-python",
   "name": "python",
   "nbconvert_exporter": "python",
   "pygments_lexer": "ipython3",
   "version": "3.9.10"
  },
  "toc": {
   "base_numbering": 1,
   "nav_menu": {},
   "number_sections": true,
   "sideBar": true,
   "skip_h1_title": false,
   "title_cell": "Table of Contents",
   "title_sidebar": "Contents",
   "toc_cell": false,
   "toc_position": {
    "height": "calc(100% - 180px)",
    "left": "10px",
    "top": "150px",
    "width": "284.968px"
   },
   "toc_section_display": true,
   "toc_window_display": true
  },
  "varInspector": {
   "cols": {
    "lenName": 16,
    "lenType": 16,
    "lenVar": 40
   },
   "kernels_config": {
    "python": {
     "delete_cmd_postfix": "",
     "delete_cmd_prefix": "del ",
     "library": "var_list.py",
     "varRefreshCmd": "print(var_dic_list())"
    },
    "r": {
     "delete_cmd_postfix": ") ",
     "delete_cmd_prefix": "rm(",
     "library": "var_list.r",
     "varRefreshCmd": "cat(var_dic_list()) "
    }
   },
   "types_to_exclude": [
    "module",
    "function",
    "builtin_function_or_method",
    "instance",
    "_Feature"
   ],
   "window_display": false
  }
 },
 "nbformat": 4,
 "nbformat_minor": 5
}
