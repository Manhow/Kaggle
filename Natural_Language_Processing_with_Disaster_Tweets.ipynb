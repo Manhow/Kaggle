{
 "cells": [
  {
   "cell_type": "markdown",
   "id": "a399d99c",
   "metadata": {
    "id": "a399d99c"
   },
   "source": [
    "This particular challenge is perfect for data scientists looking to get started with Natural Language Processing. You are predicting whether a given tweet is about a real disaster or not. If so, predict a 1. If not, predict a 0."
   ]
  },
  {
   "cell_type": "markdown",
   "id": "397d0c84",
   "metadata": {
    "id": "397d0c84"
   },
   "source": [
    "# Data overview"
   ]
  },
  {
   "cell_type": "markdown",
   "id": "21720dc8",
   "metadata": {
    "id": "21720dc8"
   },
   "source": [
    "* `id` - a unique identifier for each tweet\n",
    "* `text` - the text of the tweet\n",
    "* `location` - the location the tweet was sent from (may be blank)\n",
    "* `keyword` - a particular keyword from the tweet (may be blank)\n",
    "* `target` - in train.csv only, this denotes whether a tweet is about a real disaster (1) or not (0)"
   ]
  },
  {
   "cell_type": "code",
   "execution_count": 1,
   "id": "e8da8268",
   "metadata": {
    "ExecuteTime": {
     "end_time": "2022-04-02T16:31:37.916028Z",
     "start_time": "2022-04-02T16:31:35.991594Z"
    },
    "colab": {
     "base_uri": "https://localhost:8080/"
    },
    "id": "e8da8268",
    "outputId": "6e393cff-2ed0-4b94-9247-bd16cc151428"
   },
   "outputs": [
    {
     "name": "stdout",
     "output_type": "stream",
     "text": [
      "Train Shape: (7613, 5)\n",
      "Missing Data: 2594\n",
      "Duplicates: 0\n",
      "\n",
      "Test Shape: (3263, 4)\n",
      "Missing Data: 1131\n",
      "Duplicates: 0\n",
      "\n",
      "No duplicates\n"
     ]
    }
   ],
   "source": [
    "# Import all the tools\n",
    "import warnings\n",
    "from tqdm import tqdm_notebook\n",
    "import seaborn as sns\n",
    "from plotly.offline import init_notebook_mode\n",
    "import matplotlib.pyplot as plt\n",
    "import plotly.graph_objects as go\n",
    "import plotly.express as px\n",
    "import pandas as pd\n",
    "import numpy as np\n",
    "from wordcloud import WordCloud\n",
    "import nltk\n",
    "from sklearn.experimental import enable_iterative_imputer\n",
    "from tqdm.notebook import tqdm\n",
    "from sklearn.neighbors import KNeighborsClassifier\n",
    "from sklearn.model_selection import StratifiedKFold\n",
    "from sklearn.model_selection import train_test_split\n",
    "from sklearn.ensemble import ExtraTreesClassifier, BaggingClassifier, RandomForestClassifier\n",
    "from sklearn.compose import ColumnTransformer\n",
    "from sklearn.metrics import accuracy_score\n",
    "# from sklearn.impute import IterativeImputer\n",
    "warnings.filterwarnings(\"ignore\")\n",
    "\n",
    "import os\n",
    "cwd = os.getcwd()\n",
    "cwd = cwd.replace('\\\\','/')\n",
    "\n",
    "train = pd.read_csv(cwd + \"/nlp/train.csv\")\n",
    "test = pd.read_csv(cwd + \"/nlp/test.csv\")\n",
    "sub = pd.read_csv(cwd + \"/nlp/sample_submission.csv\")\n",
    "\n",
    "\n",
    "# plots inside the notebook\n",
    "%matplotlib inline\n",
    "print('Train Shape: {}\\nMissing Data: {}\\nDuplicates: {}\\n'.format(\n",
    "    train.shape, train.isna().sum().sum(), train.duplicated().sum()))\n",
    "print('Test Shape: {}\\nMissing Data: {}\\nDuplicates: {}\\n'.format(\n",
    "    test.shape, test.isna().sum().sum(), test.duplicated().sum()))\n",
    "# remove duplicates from train\n",
    "train_d = train.drop_duplicates()\n",
    "\n",
    "if train.shape == train_d.shape:\n",
    "    print('No duplicates')\n",
    "else:\n",
    "    print('Dropping Duplicates\\nNew Train Shape: {}'.format(train_d.shape))\n",
    "    \n",
    "df_data = pd.concat([train_d, test])"
   ]
  },
  {
   "cell_type": "code",
   "execution_count": 2,
   "id": "d01f53e1",
   "metadata": {
    "ExecuteTime": {
     "end_time": "2022-04-02T16:31:37.931031Z",
     "start_time": "2022-04-02T16:31:37.917030Z"
    }
   },
   "outputs": [],
   "source": [
    "def reduce_mem_usage(df, verbose=True):\n",
    "    numerics = ['int8','int16', 'int32', 'int64', 'float16', 'float32', 'float64']\n",
    "    start_mem = df.memory_usage().sum() / 1024**2\n",
    "\n",
    "    for col in df.columns:\n",
    "        col_type = df[col].dtypes\n",
    "\n",
    "        if col_type in numerics:\n",
    "            c_min = df[col].min()\n",
    "            c_max = df[col].max()\n",
    "\n",
    "            if str(col_type)[:3] == 'int':\n",
    "                if c_min > np.iinfo(np.int8).min and c_max < np.iinfo(np.int8).max:\n",
    "                    df[col] = df[col].astype(np.int8)\n",
    "                elif c_min > np.iinfo(np.int16).min and c_max < np.iinfo(np.int16).max:\n",
    "                    df[col] = df[col].astype(np.int16)\n",
    "                elif c_min > np.iinfo(np.int32).min and c_max < np.iinfo(np.int32).max:\n",
    "                    df[col] = df[col].astype(np.int32)\n",
    "                elif c_min > np.iinfo(np.int64).min and c_max < np.iinfo(np.int64).max:\n",
    "                    df[col] = df[col].astype(np.int64)  \n",
    "            else:\n",
    "                if c_min > np.finfo(np.float32).min and c_max < np.finfo(np.float32).max:\n",
    "                    df[col] = df[col].astype(np.float32)\n",
    "                else:\n",
    "                    df[col] = df[col].astype(np.float64)\n",
    "\n",
    "    end_mem = df.memory_usage().sum() / 1024**2\n",
    "\n",
    "    if verbose:\n",
    "        print('Mem. usage decreased to {:5.2f} Mb ({:.1f}% reduction)'.format(end_mem, 100 * (start_mem - end_mem) / start_mem))\n",
    " \n",
    "    return df"
   ]
  },
  {
   "cell_type": "code",
   "execution_count": 3,
   "id": "d1aa8f44",
   "metadata": {
    "ExecuteTime": {
     "end_time": "2022-04-02T16:31:37.947030Z",
     "start_time": "2022-04-02T16:31:37.934035Z"
    },
    "colab": {
     "base_uri": "https://localhost:8080/",
     "height": 206
    },
    "id": "d1aa8f44",
    "outputId": "50123635-bd75-4578-fdd8-f6c49ec0bea1"
   },
   "outputs": [
    {
     "data": {
      "text/html": [
       "<div>\n",
       "<style scoped>\n",
       "    .dataframe tbody tr th:only-of-type {\n",
       "        vertical-align: middle;\n",
       "    }\n",
       "\n",
       "    .dataframe tbody tr th {\n",
       "        vertical-align: top;\n",
       "    }\n",
       "\n",
       "    .dataframe thead th {\n",
       "        text-align: right;\n",
       "    }\n",
       "</style>\n",
       "<table border=\"1\" class=\"dataframe\">\n",
       "  <thead>\n",
       "    <tr style=\"text-align: right;\">\n",
       "      <th></th>\n",
       "      <th>id</th>\n",
       "      <th>keyword</th>\n",
       "      <th>location</th>\n",
       "      <th>text</th>\n",
       "      <th>target</th>\n",
       "    </tr>\n",
       "  </thead>\n",
       "  <tbody>\n",
       "    <tr>\n",
       "      <th>0</th>\n",
       "      <td>1</td>\n",
       "      <td>NaN</td>\n",
       "      <td>NaN</td>\n",
       "      <td>Our Deeds are the Reason of this #earthquake M...</td>\n",
       "      <td>1</td>\n",
       "    </tr>\n",
       "    <tr>\n",
       "      <th>1</th>\n",
       "      <td>4</td>\n",
       "      <td>NaN</td>\n",
       "      <td>NaN</td>\n",
       "      <td>Forest fire near La Ronge Sask. Canada</td>\n",
       "      <td>1</td>\n",
       "    </tr>\n",
       "    <tr>\n",
       "      <th>2</th>\n",
       "      <td>5</td>\n",
       "      <td>NaN</td>\n",
       "      <td>NaN</td>\n",
       "      <td>All residents asked to 'shelter in place' are ...</td>\n",
       "      <td>1</td>\n",
       "    </tr>\n",
       "    <tr>\n",
       "      <th>3</th>\n",
       "      <td>6</td>\n",
       "      <td>NaN</td>\n",
       "      <td>NaN</td>\n",
       "      <td>13,000 people receive #wildfires evacuation or...</td>\n",
       "      <td>1</td>\n",
       "    </tr>\n",
       "    <tr>\n",
       "      <th>4</th>\n",
       "      <td>7</td>\n",
       "      <td>NaN</td>\n",
       "      <td>NaN</td>\n",
       "      <td>Just got sent this photo from Ruby #Alaska as ...</td>\n",
       "      <td>1</td>\n",
       "    </tr>\n",
       "  </tbody>\n",
       "</table>\n",
       "</div>"
      ],
      "text/plain": [
       "   id keyword location                                               text  \\\n",
       "0   1     NaN      NaN  Our Deeds are the Reason of this #earthquake M...   \n",
       "1   4     NaN      NaN             Forest fire near La Ronge Sask. Canada   \n",
       "2   5     NaN      NaN  All residents asked to 'shelter in place' are ...   \n",
       "3   6     NaN      NaN  13,000 people receive #wildfires evacuation or...   \n",
       "4   7     NaN      NaN  Just got sent this photo from Ruby #Alaska as ...   \n",
       "\n",
       "   target  \n",
       "0       1  \n",
       "1       1  \n",
       "2       1  \n",
       "3       1  \n",
       "4       1  "
      ]
     },
     "execution_count": 3,
     "metadata": {},
     "output_type": "execute_result"
    }
   ],
   "source": [
    "train.head()"
   ]
  },
  {
   "cell_type": "code",
   "execution_count": 4,
   "id": "951e7789",
   "metadata": {
    "ExecuteTime": {
     "end_time": "2022-04-02T16:31:37.963029Z",
     "start_time": "2022-04-02T16:31:37.949031Z"
    },
    "colab": {
     "base_uri": "https://localhost:8080/",
     "height": 206
    },
    "id": "951e7789",
    "outputId": "6a4037f1-af66-4727-ff27-1e9720ddf0b9",
    "scrolled": true
   },
   "outputs": [
    {
     "data": {
      "text/html": [
       "<div>\n",
       "<style scoped>\n",
       "    .dataframe tbody tr th:only-of-type {\n",
       "        vertical-align: middle;\n",
       "    }\n",
       "\n",
       "    .dataframe tbody tr th {\n",
       "        vertical-align: top;\n",
       "    }\n",
       "\n",
       "    .dataframe thead th {\n",
       "        text-align: right;\n",
       "    }\n",
       "</style>\n",
       "<table border=\"1\" class=\"dataframe\">\n",
       "  <thead>\n",
       "    <tr style=\"text-align: right;\">\n",
       "      <th></th>\n",
       "      <th>id</th>\n",
       "      <th>keyword</th>\n",
       "      <th>location</th>\n",
       "      <th>text</th>\n",
       "    </tr>\n",
       "  </thead>\n",
       "  <tbody>\n",
       "    <tr>\n",
       "      <th>0</th>\n",
       "      <td>0</td>\n",
       "      <td>NaN</td>\n",
       "      <td>NaN</td>\n",
       "      <td>Just happened a terrible car crash</td>\n",
       "    </tr>\n",
       "    <tr>\n",
       "      <th>1</th>\n",
       "      <td>2</td>\n",
       "      <td>NaN</td>\n",
       "      <td>NaN</td>\n",
       "      <td>Heard about #earthquake is different cities, s...</td>\n",
       "    </tr>\n",
       "    <tr>\n",
       "      <th>2</th>\n",
       "      <td>3</td>\n",
       "      <td>NaN</td>\n",
       "      <td>NaN</td>\n",
       "      <td>there is a forest fire at spot pond, geese are...</td>\n",
       "    </tr>\n",
       "    <tr>\n",
       "      <th>3</th>\n",
       "      <td>9</td>\n",
       "      <td>NaN</td>\n",
       "      <td>NaN</td>\n",
       "      <td>Apocalypse lighting. #Spokane #wildfires</td>\n",
       "    </tr>\n",
       "    <tr>\n",
       "      <th>4</th>\n",
       "      <td>11</td>\n",
       "      <td>NaN</td>\n",
       "      <td>NaN</td>\n",
       "      <td>Typhoon Soudelor kills 28 in China and Taiwan</td>\n",
       "    </tr>\n",
       "  </tbody>\n",
       "</table>\n",
       "</div>"
      ],
      "text/plain": [
       "   id keyword location                                               text\n",
       "0   0     NaN      NaN                 Just happened a terrible car crash\n",
       "1   2     NaN      NaN  Heard about #earthquake is different cities, s...\n",
       "2   3     NaN      NaN  there is a forest fire at spot pond, geese are...\n",
       "3   9     NaN      NaN           Apocalypse lighting. #Spokane #wildfires\n",
       "4  11     NaN      NaN      Typhoon Soudelor kills 28 in China and Taiwan"
      ]
     },
     "execution_count": 4,
     "metadata": {},
     "output_type": "execute_result"
    }
   ],
   "source": [
    "test.head()"
   ]
  },
  {
   "cell_type": "markdown",
   "id": "a6fc31a4",
   "metadata": {
    "heading_collapsed": true,
    "id": "a6fc31a4"
   },
   "source": [
    "# Exploratory Data Analysis (EDA)"
   ]
  },
  {
   "cell_type": "code",
   "execution_count": 5,
   "id": "5a2bbbe2",
   "metadata": {
    "ExecuteTime": {
     "end_time": "2022-04-02T16:31:37.979058Z",
     "start_time": "2022-04-02T16:31:37.965028Z"
    },
    "colab": {
     "base_uri": "https://localhost:8080/"
    },
    "hidden": true,
    "id": "5a2bbbe2",
    "outputId": "5f03fc1e-2c68-497a-bf2a-1b97b5213f43"
   },
   "outputs": [
    {
     "data": {
      "text/plain": [
       "id           int64\n",
       "keyword     object\n",
       "location    object\n",
       "text        object\n",
       "target       int64\n",
       "dtype: object"
      ]
     },
     "execution_count": 5,
     "metadata": {},
     "output_type": "execute_result"
    }
   ],
   "source": [
    "train.dtypes"
   ]
  },
  {
   "cell_type": "code",
   "execution_count": 6,
   "id": "ce6c4ece",
   "metadata": {
    "ExecuteTime": {
     "end_time": "2022-04-02T16:31:37.995060Z",
     "start_time": "2022-04-02T16:31:37.980030Z"
    },
    "colab": {
     "base_uri": "https://localhost:8080/"
    },
    "hidden": true,
    "id": "ce6c4ece",
    "outputId": "9e09c62e-2353-42c8-c355-81163a104a60"
   },
   "outputs": [
    {
     "data": {
      "text/plain": [
       "id             0\n",
       "keyword       61\n",
       "location    2533\n",
       "text           0\n",
       "target         0\n",
       "dtype: int64"
      ]
     },
     "execution_count": 6,
     "metadata": {},
     "output_type": "execute_result"
    }
   ],
   "source": [
    "train.isna().sum()"
   ]
  },
  {
   "cell_type": "code",
   "execution_count": 7,
   "id": "3507d073",
   "metadata": {
    "ExecuteTime": {
     "end_time": "2022-04-02T16:31:38.011028Z",
     "start_time": "2022-04-02T16:31:37.997029Z"
    },
    "colab": {
     "base_uri": "https://localhost:8080/"
    },
    "hidden": true,
    "id": "3507d073",
    "outputId": "73a14791-5108-4a47-ea6e-b3601fe8c953"
   },
   "outputs": [
    {
     "data": {
      "text/plain": [
       "USA                    104\n",
       "New York                71\n",
       "United States           50\n",
       "London                  45\n",
       "Canada                  29\n",
       "                      ... \n",
       "MontrÌ©al, QuÌ©bec       1\n",
       "Montreal                 1\n",
       "ÌÏT: 6.4682,3.18287      1\n",
       "Live4Heed??              1\n",
       "Lincoln                  1\n",
       "Name: location, Length: 3341, dtype: int64"
      ]
     },
     "execution_count": 7,
     "metadata": {},
     "output_type": "execute_result"
    }
   ],
   "source": [
    "train['location'].value_counts()"
   ]
  },
  {
   "cell_type": "code",
   "execution_count": 8,
   "id": "b2bfa7cd",
   "metadata": {
    "ExecuteTime": {
     "end_time": "2022-04-02T16:31:38.027027Z",
     "start_time": "2022-04-02T16:31:38.013030Z"
    },
    "colab": {
     "base_uri": "https://localhost:8080/"
    },
    "hidden": true,
    "id": "b2bfa7cd",
    "outputId": "9e5cdae0-4fd6-42a9-c193-94c29ffb3bdb"
   },
   "outputs": [
    {
     "data": {
      "text/plain": [
       "USA                    104\n",
       "New York                71\n",
       "United States           50\n",
       "London                  45\n",
       "Canada                  29\n",
       "                      ... \n",
       "MontrÌ©al, QuÌ©bec       1\n",
       "Montreal                 1\n",
       "ÌÏT: 6.4682,3.18287      1\n",
       "Live4Heed??              1\n",
       "Lincoln                  1\n",
       "Name: location, Length: 3341, dtype: int64"
      ]
     },
     "execution_count": 8,
     "metadata": {},
     "output_type": "execute_result"
    }
   ],
   "source": [
    "train['location'].value_counts()"
   ]
  },
  {
   "cell_type": "code",
   "execution_count": 9,
   "id": "853f1fdc",
   "metadata": {
    "ExecuteTime": {
     "end_time": "2022-04-02T16:31:38.043027Z",
     "start_time": "2022-04-02T16:31:38.030032Z"
    },
    "colab": {
     "base_uri": "https://localhost:8080/"
    },
    "hidden": true,
    "id": "853f1fdc",
    "outputId": "e2f0f3ae-dcef-4dd6-af87-fe5b2e4ffea6"
   },
   "outputs": [
    {
     "data": {
      "text/plain": [
       "0    4342\n",
       "1    3271\n",
       "Name: target, dtype: int64"
      ]
     },
     "execution_count": 9,
     "metadata": {},
     "output_type": "execute_result"
    }
   ],
   "source": [
    "train['target'].value_counts()"
   ]
  },
  {
   "cell_type": "markdown",
   "id": "e85087c1",
   "metadata": {
    "hidden": true,
    "id": "e85087c1"
   },
   "source": [
    "or"
   ]
  },
  {
   "cell_type": "code",
   "execution_count": 10,
   "id": "d7a87c0d",
   "metadata": {
    "ExecuteTime": {
     "end_time": "2022-04-02T16:31:38.186050Z",
     "start_time": "2022-04-02T16:31:38.045032Z"
    },
    "colab": {
     "base_uri": "https://localhost:8080/",
     "height": 334
    },
    "hidden": true,
    "id": "d7a87c0d",
    "outputId": "d7fb240f-1e8c-4ffc-e8bb-6dcb6035ab9f"
   },
   "outputs": [
    {
     "data": {
      "image/png": "[encoded data removed]",
      "text/plain": [
       "<Figure size 720x360 with 1 Axes>"
      ]
     },
     "metadata": {
      "needs_background": "light"
     },
     "output_type": "display_data"
    }
   ],
   "source": [
    "plt.figure(figsize=(10,5))\n",
    "sns.countplot(y=train['target'], palette='cool', orient='h')\n",
    "plt.show()"
   ]
  },
  {
   "cell_type": "code",
   "execution_count": 11,
   "id": "e693a3e1",
   "metadata": {
    "ExecuteTime": {
     "end_time": "2022-04-02T16:31:40.215192Z",
     "start_time": "2022-04-02T16:31:38.188030Z"
    },
    "colab": {
     "base_uri": "https://localhost:8080/",
     "height": 366
    },
    "hidden": true,
    "id": "e693a3e1",
    "outputId": "332bdbfa-e0fc-4e16-b707-78a23e79d39f"
   },
   "outputs": [
    {
     "data": {
      "image/png": "[encoded data removed]",
      "text/plain": [
       "<Figure size 864x720 with 1 Axes>"
      ]
     },
     "metadata": {
      "needs_background": "light"
     },
     "output_type": "display_data"
    }
   ],
   "source": [
    "#Disaster Tweets wordcloud \n",
    "disaster_tweets = train[train.target == 1]\n",
    "disaster_string = []\n",
    "for t in disaster_tweets.text:\n",
    "    disaster_string.append(t)\n",
    "disaster_string = pd.Series(disaster_string).str.cat(sep=' ')\n",
    "wordcloud = WordCloud(width=1600, height=800,max_font_size=100, background_color='white').generate(disaster_string)\n",
    "plt.figure(figsize=(12,10))\n",
    "plt.imshow(wordcloud, interpolation=\"bilinear\")\n",
    "plt.axis(\"off\")\n",
    "plt.show()"
   ]
  },
  {
   "cell_type": "markdown",
   "id": "edc25076",
   "metadata": {
    "id": "edc25076"
   },
   "source": [
    "# Feature Engineering (FE)"
   ]
  },
  {
   "cell_type": "markdown",
   "id": "9e866e4e",
   "metadata": {
    "id": "9e866e4e"
   },
   "source": [
    "## Feature generation"
   ]
  },
  {
   "cell_type": "code",
   "execution_count": 12,
   "id": "3c59c232",
   "metadata": {
    "ExecuteTime": {
     "end_time": "2022-04-02T16:31:40.290946Z",
     "start_time": "2022-04-02T16:31:40.217153Z"
    },
    "colab": {
     "base_uri": "https://localhost:8080/",
     "height": 147
    },
    "id": "3c59c232",
    "outputId": "ff57da2e-b317-44d3-eeb7-10d76f02b6b4"
   },
   "outputs": [
    {
     "name": "stderr",
     "output_type": "stream",
     "text": [
      "[nltk_data] Downloading package stopwords to\n",
      "[nltk_data]     C:\\Users\\misha\\AppData\\Roaming\\nltk_data...\n",
      "[nltk_data]   Package stopwords is already up-to-date!\n"
     ]
    }
   ],
   "source": [
    "import string\n",
    "import nltk\n",
    "nltk.download('stopwords')\n",
    "stopword = nltk.corpus.stopwords.words('english')\n",
    "\n",
    "def specs(df_data):\n",
    "    # lenth of № of characters\n",
    "    df_data['body_len'] = df_data['text'].apply(lambda x: len(x) - x.count(\" \")) # x.count(\" \") - number of spaces; len(x) - each character\n",
    "\n",
    "    # % pucntuation\n",
    "    def count_punct(text):\n",
    "        count = sum([1 for char in text if char in string.punctuation]) # 1 if comma, etc\n",
    "        return round(count/(len(text) - text.count(\" \")), 3)*100\n",
    "    df_data['punct%'] = df_data['text'].apply(lambda x: count_punct(x))\n",
    "\n",
    "    # word_count\n",
    "    df_data['word_count'] = df_data['text'].apply(lambda x: len(str(x).split())) # split - divides on words\n",
    "    # unique_word_count\n",
    "    df_data['unique_word_count'] = df_data['text'].apply(lambda x: len(set(str(x).split()))) # unique - use set\n",
    "    # stop_word_count\n",
    "    df_data['stop_word_count'] = df_data['text'].apply(lambda x: len([w for w in str(x).lower().split() if w in stopword]))\n",
    "    # url_count\n",
    "    df_data['url_count'] = df_data['text'].apply(lambda x: len([w for w in str(x).lower().split() if 'http' in w or 'https' in w]))\n",
    "    # mean_word_length\n",
    "    df_data['mean_word_length'] = df_data['text'].apply(lambda x: np.mean([len(w) for w in str(x).split()]))\n",
    "    # char_count\n",
    "    df_data['char_count'] = df_data['text'].apply(lambda x: len(str(x)))\n",
    "    return df_data\n",
    "\n",
    "# df_data = specs(df_data)\n"
   ]
  },
  {
   "cell_type": "code",
   "execution_count": 13,
   "id": "8935d130",
   "metadata": {
    "ExecuteTime": {
     "end_time": "2022-04-02T16:31:40.305916Z",
     "start_time": "2022-04-02T16:31:40.291918Z"
    },
    "id": "8935d130"
   },
   "outputs": [],
   "source": [
    "# METAFEATURES = ['word_count', 'unique_word_count', 'stop_word_count', 'url_count', 'mean_word_length',\n",
    "#                 'char_count']\n",
    "# DISASTER_TWEETS = train['target'] == 1\n",
    "\n",
    "# fig, axes = plt.subplots(ncols=2, nrows=len(METAFEATURES), figsize=(20, 50), dpi=100)\n",
    "\n",
    "# for i, feature in enumerate(METAFEATURES):\n",
    "#     sns.distplot(train.loc[~DISASTER_TWEETS][feature], label='Not Disaster', ax=axes[i][0], color='green')\n",
    "#     sns.distplot(train.loc[DISASTER_TWEETS][feature], label='Disaster', ax=axes[i][0], color='red')\n",
    "\n",
    "#     sns.distplot(train[feature], label='Training', ax=axes[i][1])\n",
    "#     sns.distplot(test[feature], label='Test', ax=axes[i][1])\n",
    "    \n",
    "#     for j in range(2):\n",
    "#         axes[i][j].set_xlabel('')\n",
    "#         axes[i][j].tick_params(axis='x', labelsize=12)\n",
    "#         axes[i][j].tick_params(axis='y', labelsize=12)\n",
    "#         axes[i][j].legend()\n",
    "    \n",
    "#     axes[i][0].set_title(f'{feature} Target Distribution in Training Set', fontsize=13)\n",
    "#     axes[i][1].set_title(f'{feature} Training & Test Set Distribution', fontsize=13)\n",
    "\n",
    "# plt.show()"
   ]
  },
  {
   "cell_type": "markdown",
   "id": "b0cf5012",
   "metadata": {
    "id": "b0cf5012"
   },
   "source": [
    "## Punctuation removing, tokenization, stop-words removing, lemmatization"
   ]
  },
  {
   "cell_type": "code",
   "execution_count": 14,
   "id": "0fc994b5",
   "metadata": {
    "ExecuteTime": {
     "end_time": "2022-04-02T16:31:40.320914Z",
     "start_time": "2022-04-02T16:31:40.307916Z"
    }
   },
   "outputs": [
    {
     "data": {
      "text/html": [
       "<div>\n",
       "<style scoped>\n",
       "    .dataframe tbody tr th:only-of-type {\n",
       "        vertical-align: middle;\n",
       "    }\n",
       "\n",
       "    .dataframe tbody tr th {\n",
       "        vertical-align: top;\n",
       "    }\n",
       "\n",
       "    .dataframe thead th {\n",
       "        text-align: right;\n",
       "    }\n",
       "</style>\n",
       "<table border=\"1\" class=\"dataframe\">\n",
       "  <thead>\n",
       "    <tr style=\"text-align: right;\">\n",
       "      <th></th>\n",
       "      <th>id</th>\n",
       "      <th>keyword</th>\n",
       "      <th>location</th>\n",
       "      <th>text</th>\n",
       "      <th>target</th>\n",
       "    </tr>\n",
       "  </thead>\n",
       "  <tbody>\n",
       "    <tr>\n",
       "      <th>0</th>\n",
       "      <td>1</td>\n",
       "      <td>NaN</td>\n",
       "      <td>NaN</td>\n",
       "      <td>Our Deeds are the Reason of this #earthquake M...</td>\n",
       "      <td>1.0</td>\n",
       "    </tr>\n",
       "  </tbody>\n",
       "</table>\n",
       "</div>"
      ],
      "text/plain": [
       "   id keyword location                                               text  \\\n",
       "0   1     NaN      NaN  Our Deeds are the Reason of this #earthquake M...   \n",
       "\n",
       "   target  \n",
       "0     1.0  "
      ]
     },
     "execution_count": 14,
     "metadata": {},
     "output_type": "execute_result"
    }
   ],
   "source": [
    "df_data.head(1)"
   ]
  },
  {
   "cell_type": "code",
   "execution_count": 15,
   "id": "ee9010a5",
   "metadata": {
    "ExecuteTime": {
     "end_time": "2022-04-02T16:31:42.569978Z",
     "start_time": "2022-04-02T16:31:40.322919Z"
    },
    "cell_style": "center",
    "code_folding": [],
    "colab": {
     "base_uri": "https://localhost:8080/",
     "height": 330
    },
    "id": "ee9010a5",
    "outputId": "a4d1560b-5c50-4bb9-854f-0edaf2677c89"
   },
   "outputs": [
    {
     "name": "stderr",
     "output_type": "stream",
     "text": [
      "[nltk_data] Downloading package omw-1.4 to\n",
      "[nltk_data]     C:\\Users\\misha\\AppData\\Roaming\\nltk_data...\n",
      "[nltk_data]   Package omw-1.4 is already up-to-date!\n",
      "[nltk_data] Downloading package wordnet to\n",
      "[nltk_data]     C:\\Users\\misha\\AppData\\Roaming\\nltk_data...\n",
      "[nltk_data]   Package wordnet is already up-to-date!\n"
     ]
    },
    {
     "data": {
      "text/html": [
       "<div>\n",
       "<style scoped>\n",
       "    .dataframe tbody tr th:only-of-type {\n",
       "        vertical-align: middle;\n",
       "    }\n",
       "\n",
       "    .dataframe tbody tr th {\n",
       "        vertical-align: top;\n",
       "    }\n",
       "\n",
       "    .dataframe thead th {\n",
       "        text-align: right;\n",
       "    }\n",
       "</style>\n",
       "<table border=\"1\" class=\"dataframe\">\n",
       "  <thead>\n",
       "    <tr style=\"text-align: right;\">\n",
       "      <th></th>\n",
       "      <th>id</th>\n",
       "      <th>keyword</th>\n",
       "      <th>location</th>\n",
       "      <th>text</th>\n",
       "      <th>target</th>\n",
       "      <th>text_punct</th>\n",
       "      <th>text_tokens</th>\n",
       "      <th>text_stopwords</th>\n",
       "      <th>text_lemmatizing</th>\n",
       "    </tr>\n",
       "  </thead>\n",
       "  <tbody>\n",
       "    <tr>\n",
       "      <th>0</th>\n",
       "      <td>1</td>\n",
       "      <td>NaN</td>\n",
       "      <td>NaN</td>\n",
       "      <td>Our Deeds are the Reason of this #earthquake M...</td>\n",
       "      <td>1.0</td>\n",
       "      <td>Our Deeds are the Reason of this earthquake Ma...</td>\n",
       "      <td>[our, deeds, are, the, reason, of, this, earth...</td>\n",
       "      <td>[deeds, reason, earthquake, may, allah, forgiv...</td>\n",
       "      <td>[deed, reason, earthquake, may, allah, forgive...</td>\n",
       "    </tr>\n",
       "    <tr>\n",
       "      <th>1</th>\n",
       "      <td>4</td>\n",
       "      <td>NaN</td>\n",
       "      <td>NaN</td>\n",
       "      <td>Forest fire near La Ronge Sask. Canada</td>\n",
       "      <td>1.0</td>\n",
       "      <td>Forest fire near La Ronge Sask Canada</td>\n",
       "      <td>[forest, fire, near, la, ronge, sask, canada]</td>\n",
       "      <td>[forest, fire, near, la, ronge, sask, canada]</td>\n",
       "      <td>[forest, fire, near, la, ronge, sask, canada]</td>\n",
       "    </tr>\n",
       "  </tbody>\n",
       "</table>\n",
       "</div>"
      ],
      "text/plain": [
       "   id keyword location                                               text  \\\n",
       "0   1     NaN      NaN  Our Deeds are the Reason of this #earthquake M...   \n",
       "1   4     NaN      NaN             Forest fire near La Ronge Sask. Canada   \n",
       "\n",
       "   target                                         text_punct  \\\n",
       "0     1.0  Our Deeds are the Reason of this earthquake Ma...   \n",
       "1     1.0              Forest fire near La Ronge Sask Canada   \n",
       "\n",
       "                                         text_tokens  \\\n",
       "0  [our, deeds, are, the, reason, of, this, earth...   \n",
       "1      [forest, fire, near, la, ronge, sask, canada]   \n",
       "\n",
       "                                      text_stopwords  \\\n",
       "0  [deeds, reason, earthquake, may, allah, forgiv...   \n",
       "1      [forest, fire, near, la, ronge, sask, canada]   \n",
       "\n",
       "                                    text_lemmatizing  \n",
       "0  [deed, reason, earthquake, may, allah, forgive...  \n",
       "1      [forest, fire, near, la, ronge, sask, canada]  "
      ]
     },
     "execution_count": 15,
     "metadata": {},
     "output_type": "execute_result"
    }
   ],
   "source": [
    "import string\n",
    "import re\n",
    "\n",
    "# Punctuation\n",
    "def remove_punct(text):\n",
    "    text_punct = \"\".join([char for char in text if char not in string.punctuation])\n",
    "    return text_punct\n",
    "\n",
    "# tokenization\n",
    "def tokenize(text):\n",
    "    tokens = re.split(\n",
    "        '\\W+', text\n",
    "    )  # W+ mean that either a word character (A-Za-9) or a dash(-) can go there\n",
    "    return tokens\n",
    "\n",
    "# stopwords removing\n",
    "def remove_stodwords(tokenized_list):\n",
    "    text = [word for word in tokenized_list if word not in stopword]\n",
    "    return text\n",
    "\n",
    "# string.punctuation\n",
    "df_data['text_punct'] = df_data['text'].apply(lambda x: remove_punct(x))\n",
    "df_data['text_tokens'] = df_data['text_punct'].apply(lambda x: tokenize(x.lower()))\n",
    "df_data['text_stopwords'] = df_data['text_tokens'].apply(lambda x: remove_stodwords(x))\n",
    "\n",
    "#Lemmatization is more complex but precise. Choose it.\n",
    "wn = nltk.WordNetLemmatizer()\n",
    "nltk.download('omw-1.4')\n",
    "nltk.download('wordnet')\n",
    "def lemmatizing(text_stopwords):\n",
    "    text = [wn.lemmatize(word) for word in text_stopwords]\n",
    "    return text\n",
    "\n",
    "df_data['text_lemmatizing'] = df_data['text_stopwords'].apply(lambda x:lemmatizing(x))\n",
    "df_data.head(2)"
   ]
  },
  {
   "cell_type": "markdown",
   "id": "75ddfef4",
   "metadata": {
    "id": "75ddfef4"
   },
   "source": [
    "## Join tokenized text"
   ]
  },
  {
   "cell_type": "code",
   "execution_count": 16,
   "id": "41f5061f",
   "metadata": {
    "ExecuteTime": {
     "end_time": "2022-04-02T16:31:42.601947Z",
     "start_time": "2022-04-02T16:31:42.570950Z"
    },
    "colab": {
     "base_uri": "https://localhost:8080/",
     "height": 112
    },
    "id": "41f5061f",
    "outputId": "c9543a74-68ff-4af2-f192-e964b9f314e1"
   },
   "outputs": [
    {
     "data": {
      "text/html": [
       "<div>\n",
       "<style scoped>\n",
       "    .dataframe tbody tr th:only-of-type {\n",
       "        vertical-align: middle;\n",
       "    }\n",
       "\n",
       "    .dataframe tbody tr th {\n",
       "        vertical-align: top;\n",
       "    }\n",
       "\n",
       "    .dataframe thead th {\n",
       "        text-align: right;\n",
       "    }\n",
       "</style>\n",
       "<table border=\"1\" class=\"dataframe\">\n",
       "  <thead>\n",
       "    <tr style=\"text-align: right;\">\n",
       "      <th></th>\n",
       "      <th>target</th>\n",
       "      <th>final_text</th>\n",
       "    </tr>\n",
       "  </thead>\n",
       "  <tbody>\n",
       "    <tr>\n",
       "      <th>0</th>\n",
       "      <td>1.0</td>\n",
       "      <td>deed reason earthquake may allah forgive u</td>\n",
       "    </tr>\n",
       "    <tr>\n",
       "      <th>1</th>\n",
       "      <td>1.0</td>\n",
       "      <td>forest fire near la ronge sask canada</td>\n",
       "    </tr>\n",
       "  </tbody>\n",
       "</table>\n",
       "</div>"
      ],
      "text/plain": [
       "   target                                  final_text\n",
       "0     1.0  deed reason earthquake may allah forgive u\n",
       "1     1.0       forest fire near la ronge sask canada"
      ]
     },
     "execution_count": 16,
     "metadata": {},
     "output_type": "execute_result"
    }
   ],
   "source": [
    "df_data.drop('text_punct', axis=1, inplace=True)\n",
    "df_data.drop('text_tokens', axis=1, inplace=True)\n",
    "df_data.drop('text_stopwords', axis=1, inplace=True)\n",
    "df_data.drop('text', axis=1, inplace=True)\n",
    "df_data.drop('keyword', axis=1, inplace=True)\n",
    "df_data.drop('location', axis=1, inplace=True)\n",
    "df_data.drop('id', axis=1, inplace=True)\n",
    "\n",
    "# join clean tokenized text\n",
    "def join_fun(text):\n",
    "    string=\" \"\n",
    "    ans=string.join(text)\n",
    "    return ans\n",
    "\n",
    "df_data['final_text']=df_data['text_lemmatizing'].apply(lambda x:join_fun(x))\n",
    "df_data.drop('text_lemmatizing', axis=1, inplace=True)\n",
    "df_data.head(2)"
   ]
  },
  {
   "cell_type": "markdown",
   "id": "bf7a0f50",
   "metadata": {
    "id": "bf7a0f50"
   },
   "source": [
    "## TD-IDF"
   ]
  },
  {
   "cell_type": "code",
   "execution_count": 17,
   "id": "9582cd50",
   "metadata": {
    "ExecuteTime": {
     "end_time": "2022-04-02T16:31:42.617948Z",
     "start_time": "2022-04-02T16:31:42.603949Z"
    },
    "id": "9582cd50"
   },
   "outputs": [],
   "source": [
    "# from sklearn.feature_extraction.text import TfidfVectorizer\n",
    "# tfidfvec=TfidfVectorizer()\n",
    "\n",
    "# vec_train=tfidfvec.fit_transform(df_data[\"final_text\"])\n",
    "# tdidf = pd.DataFrame(vec_train.toarray())\n",
    "# df_data.drop('final_text', axis=1, inplace=True)\n",
    "\n",
    "# from sklearn.preprocessing import LabelEncoder\n",
    "# qualitative = [col for col in df_data if df_data[col].dtype == 'object']\n",
    "# for feature in qualitative:\n",
    "#     df_data[feature] = LabelEncoder().fit_transform(df_data[feature])\n",
    "    \n",
    "# df_data = reduce_mem_usage(df_data)\n",
    "\n",
    "# df_data = df_data.reset_index()\n",
    "# df_data = pd.concat([df_data, tdidf], axis=1)\n",
    "\n",
    "# print(df_data.shape)"
   ]
  },
  {
   "cell_type": "code",
   "execution_count": 18,
   "id": "b322b394",
   "metadata": {
    "ExecuteTime": {
     "end_time": "2022-04-02T16:31:42.632980Z",
     "start_time": "2022-04-02T16:31:42.619948Z"
    }
   },
   "outputs": [
    {
     "data": {
      "text/html": [
       "<div>\n",
       "<style scoped>\n",
       "    .dataframe tbody tr th:only-of-type {\n",
       "        vertical-align: middle;\n",
       "    }\n",
       "\n",
       "    .dataframe tbody tr th {\n",
       "        vertical-align: top;\n",
       "    }\n",
       "\n",
       "    .dataframe thead th {\n",
       "        text-align: right;\n",
       "    }\n",
       "</style>\n",
       "<table border=\"1\" class=\"dataframe\">\n",
       "  <thead>\n",
       "    <tr style=\"text-align: right;\">\n",
       "      <th></th>\n",
       "      <th>target</th>\n",
       "      <th>final_text</th>\n",
       "    </tr>\n",
       "  </thead>\n",
       "  <tbody>\n",
       "    <tr>\n",
       "      <th>0</th>\n",
       "      <td>1.0</td>\n",
       "      <td>deed reason earthquake may allah forgive u</td>\n",
       "    </tr>\n",
       "    <tr>\n",
       "      <th>1</th>\n",
       "      <td>1.0</td>\n",
       "      <td>forest fire near la ronge sask canada</td>\n",
       "    </tr>\n",
       "  </tbody>\n",
       "</table>\n",
       "</div>"
      ],
      "text/plain": [
       "   target                                  final_text\n",
       "0     1.0  deed reason earthquake may allah forgive u\n",
       "1     1.0       forest fire near la ronge sask canada"
      ]
     },
     "execution_count": 18,
     "metadata": {},
     "output_type": "execute_result"
    }
   ],
   "source": [
    "df_data.head(2)"
   ]
  },
  {
   "cell_type": "markdown",
   "id": "450f0b2d",
   "metadata": {
    "id": "450f0b2d"
   },
   "source": [
    "## BertTokenizier"
   ]
  },
  {
   "cell_type": "code",
   "execution_count": 19,
   "id": "49fdf7e7",
   "metadata": {
    "ExecuteTime": {
     "end_time": "2022-04-02T16:31:42.648979Z",
     "start_time": "2022-04-02T16:31:42.633947Z"
    },
    "colab": {
     "base_uri": "https://localhost:8080/",
     "height": 112
    },
    "id": "49fdf7e7",
    "outputId": "f03268f9-4e80-4046-baf3-f56e2cea3a65"
   },
   "outputs": [
    {
     "data": {
      "text/html": [
       "<div>\n",
       "<style scoped>\n",
       "    .dataframe tbody tr th:only-of-type {\n",
       "        vertical-align: middle;\n",
       "    }\n",
       "\n",
       "    .dataframe tbody tr th {\n",
       "        vertical-align: top;\n",
       "    }\n",
       "\n",
       "    .dataframe thead th {\n",
       "        text-align: right;\n",
       "    }\n",
       "</style>\n",
       "<table border=\"1\" class=\"dataframe\">\n",
       "  <thead>\n",
       "    <tr style=\"text-align: right;\">\n",
       "      <th></th>\n",
       "      <th>target</th>\n",
       "      <th>final_text</th>\n",
       "    </tr>\n",
       "  </thead>\n",
       "  <tbody>\n",
       "    <tr>\n",
       "      <th>7611</th>\n",
       "      <td>1.0</td>\n",
       "      <td>police investigating ebike collided car little...</td>\n",
       "    </tr>\n",
       "    <tr>\n",
       "      <th>7612</th>\n",
       "      <td>1.0</td>\n",
       "      <td>latest home razed northern california wildfire...</td>\n",
       "    </tr>\n",
       "  </tbody>\n",
       "</table>\n",
       "</div>"
      ],
      "text/plain": [
       "      target                                         final_text\n",
       "7611     1.0  police investigating ebike collided car little...\n",
       "7612     1.0  latest home razed northern california wildfire..."
      ]
     },
     "execution_count": 19,
     "metadata": {},
     "output_type": "execute_result"
    }
   ],
   "source": [
    "df_train = df_data[df_data.target.isnull() == False]\n",
    "df_test = df_data[df_data.target.isnull() == True]\n",
    "df_test = df_test.drop(['target'],axis=1)\n",
    "\n",
    "# df_train.drop('body_len', axis=1, inplace=True)\n",
    "# df_train.drop('punct%', axis=1, inplace=True)\n",
    "# df_train.drop('word_count', axis=1, inplace=True)\n",
    "# df_train.drop('unique_word_count', axis=1, inplace=True)\n",
    "# df_train.drop('stop_word_count', axis=1, inplace=True)\n",
    "# df_train.drop('url_count', axis=1, inplace=True)\n",
    "# df_train.drop('mean_word_length', axis=1, inplace=True)\n",
    "# df_train.drop('char_count', axis=1, inplace=True)\n",
    "\n",
    "X = df_train.final_text\n",
    "y = df_train.target\n",
    "df_train.tail(2)"
   ]
  },
  {
   "cell_type": "code",
   "execution_count": 20,
   "id": "2b9cd936",
   "metadata": {
    "ExecuteTime": {
     "end_time": "2022-04-02T16:31:42.664966Z",
     "start_time": "2022-04-02T16:31:42.650950Z"
    }
   },
   "outputs": [
    {
     "name": "stdout",
     "output_type": "stream",
     "text": [
      "5709 5709\n",
      "1904 1904\n"
     ]
    }
   ],
   "source": [
    "x_train, x_val, y_train, y_val = train_test_split(X, y, random_state=42)\n",
    "print(len(x_train), len(y_train))\n",
    "print(len(x_val), len(y_val))"
   ]
  },
  {
   "cell_type": "code",
   "execution_count": 21,
   "id": "793716d7",
   "metadata": {
    "ExecuteTime": {
     "end_time": "2022-04-02T16:31:48.727611Z",
     "start_time": "2022-04-02T16:31:42.665969Z"
    },
    "scrolled": true
   },
   "outputs": [
    {
     "name": "stderr",
     "output_type": "stream",
     "text": [
      "emoji is not installed, thus not converting emoticons or emojis into text. Please install emoji: pip3 install emoji\n",
      "Special tokens have been added in the vocabulary, make sure the associated word embeddings are fine-tuned or trained.\n"
     ]
    }
   ],
   "source": [
    "from transformers import AutoTokenizer\n",
    "\n",
    "checkpoint = \"vinai/bertweet-base\" # A pre-trained language model for English Tweets\n",
    "\n",
    "tokenizer = AutoTokenizer.from_pretrained(checkpoint, normalization=True)"
   ]
  },
  {
   "cell_type": "code",
   "execution_count": 22,
   "id": "0eb01864",
   "metadata": {
    "ExecuteTime": {
     "end_time": "2022-04-02T16:31:53.597223Z",
     "start_time": "2022-04-02T16:31:48.728624Z"
    }
   },
   "outputs": [],
   "source": [
    "x_train_input = dict(tokenizer(x_train.to_list(), padding=True, truncation=True, return_tensors=\"tf\"))\n",
    "x_val_input = dict(tokenizer(x_val.to_list(), padding=True, truncation=True, return_tensors=\"tf\"))\n",
    "\n",
    "x_test_input = dict(tokenizer(df_test.final_text.to_list(), padding=True, truncation=True, return_tensors=\"tf\"))"
   ]
  },
  {
   "cell_type": "code",
   "execution_count": 23,
   "id": "f15d88ec",
   "metadata": {
    "ExecuteTime": {
     "end_time": "2022-04-02T16:31:53.613101Z",
     "start_time": "2022-04-02T16:31:53.598098Z"
    }
   },
   "outputs": [
    {
     "data": {
      "text/plain": [
       "'<pad>'"
      ]
     },
     "execution_count": 23,
     "metadata": {},
     "output_type": "execute_result"
    }
   ],
   "source": [
    "tokenizer.pad_token"
   ]
  },
  {
   "cell_type": "code",
   "execution_count": 24,
   "id": "a31138e6",
   "metadata": {
    "ExecuteTime": {
     "end_time": "2022-04-02T16:31:53.883218Z",
     "start_time": "2022-04-02T16:31:53.615100Z"
    }
   },
   "outputs": [],
   "source": [
    "from tensorflow.keras.metrics import Metric\n",
    "import numpy as np\n",
    "\n",
    "\n",
    "class F1_metric(Metric):\n",
    "    def __init__(self, name='f1_score', **kwargs):\n",
    "        super().__init__(name=name, **kwargs)\n",
    "        # Initialize our metric by initializing the two metrics it's based on:\n",
    "        # Precision and Recall\n",
    "        self.precision = tf.keras.metrics.Precision()\n",
    "        self.recall = tf.keras.metrics.Recall()\n",
    "\n",
    "    def update_state(self, y_true, y_pred, sample_weight=None):\n",
    "        # Update our metric by updating the two metrics it's based on\n",
    "        self.precision.update_state(y_true, tf.math.argmax(y_pred, axis=0), sample_weight) # Ensure to get preds not logits \n",
    "        self.recall.update_state(y_true,tf.math.argmax(y_pred, axis=0), sample_weight)\n",
    "\n",
    "    def reset_state(self):\n",
    "        self.precision.reset_state()\n",
    "        self.recall.reset_state()\n",
    "\n",
    "    def result(self):\n",
    "        # To get the F1 result, we compute the harmonic mean of the current\n",
    "        # precision and recall\n",
    "        return 2 / ((1 / self.precision.result()) + (1 / self.recall.result())) "
   ]
  },
  {
   "cell_type": "code",
   "execution_count": 25,
   "id": "7b3cc604",
   "metadata": {
    "ExecuteTime": {
     "end_time": "2022-04-02T16:31:54.266130Z",
     "start_time": "2022-04-02T16:31:53.884098Z"
    }
   },
   "outputs": [
    {
     "ename": "NameError",
     "evalue": "name 'stop' is not defined",
     "output_type": "error",
     "traceback": [
      "\u001b[1;31m---------------------------------------------------------------------------\u001b[0m",
      "\u001b[1;31mNameError\u001b[0m                                 Traceback (most recent call last)",
      "Input \u001b[1;32mIn [25]\u001b[0m, in \u001b[0;36m<cell line: 1>\u001b[1;34m()\u001b[0m\n\u001b[1;32m----> 1\u001b[0m \u001b[43mstop\u001b[49m\n",
      "\u001b[1;31mNameError\u001b[0m: name 'stop' is not defined"
     ]
    }
   ],
   "source": [
    "stop"
   ]
  },
  {
   "cell_type": "code",
   "execution_count": null,
   "id": "cc19ddcb",
   "metadata": {
    "ExecuteTime": {
     "end_time": "2022-04-02T16:31:54.268098Z",
     "start_time": "2022-04-02T16:31:54.268098Z"
    }
   },
   "outputs": [],
   "source": [
    "# # clear gpu memory\n",
    "# from numba import cuda \n",
    "# device = cuda.get_current_device()\n",
    "# device.reset()"
   ]
  },
  {
   "cell_type": "code",
   "execution_count": 26,
   "id": "0390d268",
   "metadata": {
    "ExecuteTime": {
     "end_time": "2022-04-02T16:32:32.148976Z",
     "start_time": "2022-04-02T16:32:00.905194Z"
    }
   },
   "outputs": [
    {
     "name": "stderr",
     "output_type": "stream",
     "text": [
      "All model checkpoint layers were used when initializing TFRobertaForSequenceClassification.\n",
      "\n",
      "Some layers of TFRobertaForSequenceClassification were not initialized from the model checkpoint at vinai/bertweet-base and are newly initialized: ['classifier']\n",
      "You should probably TRAIN this model on a down-stream task to be able to use it for predictions and inference.\n"
     ]
    },
    {
     "name": "stdout",
     "output_type": "stream",
     "text": [
      "Epoch 1/5\n"
     ]
    },
    {
     "ename": "ResourceExhaustedError",
     "evalue": " OOM when allocating tensor with shape[5888,3072] and type float on /job:localhost/replica:0/task:0/device:GPU:0 by allocator GPU_0_bfc\n\t [[node tf_roberta_for_sequence_classification/roberta/encoder/layer_._9/intermediate/dense/Tensordot/MatMul (defined at D:\\miniconda\\lib\\site-packages\\transformers\\models\\roberta\\modeling_tf_roberta.py:390) ]]\nHint: If you want to see a list of allocated tensors when OOM happens, add report_tensor_allocations_upon_oom to RunOptions for current allocation info. This isn't available when running in Eager mode.\n [Op:__inference_train_function_24453]\n\nFunction call stack:\ntrain_function\n",
     "output_type": "error",
     "traceback": [
      "\u001b[1;31m---------------------------------------------------------------------------\u001b[0m",
      "\u001b[1;31mResourceExhaustedError\u001b[0m                    Traceback (most recent call last)",
      "Input \u001b[1;32mIn [26]\u001b[0m, in \u001b[0;36m<cell line: 30>\u001b[1;34m()\u001b[0m\n\u001b[0;32m     26\u001b[0m model \u001b[38;5;241m=\u001b[39m TFAutoModelForSequenceClassification\u001b[38;5;241m.\u001b[39mfrom_pretrained(checkpoint, num_labels\u001b[38;5;241m=\u001b[39m\u001b[38;5;241m2\u001b[39m, return_dict\u001b[38;5;241m=\u001b[39m\u001b[38;5;28;01mFalse\u001b[39;00m) \u001b[38;5;66;03m# TFAutoModel.from_pretrained(checkpoint)\u001b[39;00m\n\u001b[0;32m     27\u001b[0m model\u001b[38;5;241m.\u001b[39mcompile(optimizer\u001b[38;5;241m=\u001b[39mopt, loss\u001b[38;5;241m=\u001b[39mloss, metrics\u001b[38;5;241m=\u001b[39m[\u001b[38;5;124m'\u001b[39m\u001b[38;5;124maccuracy\u001b[39m\u001b[38;5;124m'\u001b[39m])\n\u001b[1;32m---> 30\u001b[0m \u001b[43mmodel\u001b[49m\u001b[38;5;241;43m.\u001b[39;49m\u001b[43mfit\u001b[49m\u001b[43m(\u001b[49m\n\u001b[0;32m     31\u001b[0m \u001b[43m    \u001b[49m\u001b[43mx_train_input\u001b[49m\u001b[43m,\u001b[49m\n\u001b[0;32m     32\u001b[0m \u001b[43m    \u001b[49m\u001b[43mnp\u001b[49m\u001b[38;5;241;43m.\u001b[39;49m\u001b[43marray\u001b[49m\u001b[43m(\u001b[49m\u001b[43my_train\u001b[49m\u001b[43m)\u001b[49m\u001b[43m,\u001b[49m\u001b[43m \u001b[49m\n\u001b[0;32m     33\u001b[0m \u001b[43m    \u001b[49m\u001b[43mvalidation_data\u001b[49m\u001b[38;5;241;43m=\u001b[39;49m\u001b[43m(\u001b[49m\n\u001b[0;32m     34\u001b[0m \u001b[43m        \u001b[49m\u001b[43mx_val_input\u001b[49m\u001b[43m,\u001b[49m\n\u001b[0;32m     35\u001b[0m \u001b[43m        \u001b[49m\u001b[43mnp\u001b[49m\u001b[38;5;241;43m.\u001b[39;49m\u001b[43marray\u001b[49m\u001b[43m(\u001b[49m\u001b[43my_val\u001b[49m\u001b[43m)\u001b[49m\u001b[43m,\u001b[49m\n\u001b[0;32m     36\u001b[0m \u001b[43m    \u001b[49m\u001b[43m)\u001b[49m\u001b[43m,\u001b[49m\n\u001b[0;32m     37\u001b[0m \u001b[43m    \u001b[49m\u001b[43mbatch_size\u001b[49m\u001b[38;5;241;43m=\u001b[39;49m\u001b[43mbatch_size\u001b[49m\u001b[43m,\u001b[49m\u001b[43m \u001b[49m\n\u001b[0;32m     38\u001b[0m \u001b[43m    \u001b[49m\u001b[43mepochs\u001b[49m\u001b[38;5;241;43m=\u001b[39;49m\u001b[43mnum_epochs\u001b[49m\n\u001b[0;32m     39\u001b[0m \u001b[43m)\u001b[49m\n",
      "File \u001b[1;32mD:\\miniconda\\lib\\site-packages\\keras\\engine\\training.py:1184\u001b[0m, in \u001b[0;36mModel.fit\u001b[1;34m(self, x, y, batch_size, epochs, verbose, callbacks, validation_split, validation_data, shuffle, class_weight, sample_weight, initial_epoch, steps_per_epoch, validation_steps, validation_batch_size, validation_freq, max_queue_size, workers, use_multiprocessing)\u001b[0m\n\u001b[0;32m   1177\u001b[0m \u001b[38;5;28;01mwith\u001b[39;00m tf\u001b[38;5;241m.\u001b[39mprofiler\u001b[38;5;241m.\u001b[39mexperimental\u001b[38;5;241m.\u001b[39mTrace(\n\u001b[0;32m   1178\u001b[0m     \u001b[38;5;124m'\u001b[39m\u001b[38;5;124mtrain\u001b[39m\u001b[38;5;124m'\u001b[39m,\n\u001b[0;32m   1179\u001b[0m     epoch_num\u001b[38;5;241m=\u001b[39mepoch,\n\u001b[0;32m   1180\u001b[0m     step_num\u001b[38;5;241m=\u001b[39mstep,\n\u001b[0;32m   1181\u001b[0m     batch_size\u001b[38;5;241m=\u001b[39mbatch_size,\n\u001b[0;32m   1182\u001b[0m     _r\u001b[38;5;241m=\u001b[39m\u001b[38;5;241m1\u001b[39m):\n\u001b[0;32m   1183\u001b[0m   callbacks\u001b[38;5;241m.\u001b[39mon_train_batch_begin(step)\n\u001b[1;32m-> 1184\u001b[0m   tmp_logs \u001b[38;5;241m=\u001b[39m \u001b[38;5;28;43mself\u001b[39;49m\u001b[38;5;241;43m.\u001b[39;49m\u001b[43mtrain_function\u001b[49m\u001b[43m(\u001b[49m\u001b[43miterator\u001b[49m\u001b[43m)\u001b[49m\n\u001b[0;32m   1185\u001b[0m   \u001b[38;5;28;01mif\u001b[39;00m data_handler\u001b[38;5;241m.\u001b[39mshould_sync:\n\u001b[0;32m   1186\u001b[0m     context\u001b[38;5;241m.\u001b[39masync_wait()\n",
      "File \u001b[1;32mD:\\miniconda\\lib\\site-packages\\tensorflow\\python\\eager\\def_function.py:885\u001b[0m, in \u001b[0;36mFunction.__call__\u001b[1;34m(self, *args, **kwds)\u001b[0m\n\u001b[0;32m    882\u001b[0m compiler \u001b[38;5;241m=\u001b[39m \u001b[38;5;124m\"\u001b[39m\u001b[38;5;124mxla\u001b[39m\u001b[38;5;124m\"\u001b[39m \u001b[38;5;28;01mif\u001b[39;00m \u001b[38;5;28mself\u001b[39m\u001b[38;5;241m.\u001b[39m_jit_compile \u001b[38;5;28;01melse\u001b[39;00m \u001b[38;5;124m\"\u001b[39m\u001b[38;5;124mnonXla\u001b[39m\u001b[38;5;124m\"\u001b[39m\n\u001b[0;32m    884\u001b[0m \u001b[38;5;28;01mwith\u001b[39;00m OptionalXlaContext(\u001b[38;5;28mself\u001b[39m\u001b[38;5;241m.\u001b[39m_jit_compile):\n\u001b[1;32m--> 885\u001b[0m   result \u001b[38;5;241m=\u001b[39m \u001b[38;5;28mself\u001b[39m\u001b[38;5;241m.\u001b[39m_call(\u001b[38;5;241m*\u001b[39margs, \u001b[38;5;241m*\u001b[39m\u001b[38;5;241m*\u001b[39mkwds)\n\u001b[0;32m    887\u001b[0m new_tracing_count \u001b[38;5;241m=\u001b[39m \u001b[38;5;28mself\u001b[39m\u001b[38;5;241m.\u001b[39mexperimental_get_tracing_count()\n\u001b[0;32m    888\u001b[0m without_tracing \u001b[38;5;241m=\u001b[39m (tracing_count \u001b[38;5;241m==\u001b[39m new_tracing_count)\n",
      "File \u001b[1;32mD:\\miniconda\\lib\\site-packages\\tensorflow\\python\\eager\\def_function.py:950\u001b[0m, in \u001b[0;36mFunction._call\u001b[1;34m(self, *args, **kwds)\u001b[0m\n\u001b[0;32m    946\u001b[0m     \u001b[38;5;28;01mpass\u001b[39;00m  \u001b[38;5;66;03m# Fall through to cond-based initialization.\u001b[39;00m\n\u001b[0;32m    947\u001b[0m   \u001b[38;5;28;01melse\u001b[39;00m:\n\u001b[0;32m    948\u001b[0m     \u001b[38;5;66;03m# Lifting succeeded, so variables are initialized and we can run the\u001b[39;00m\n\u001b[0;32m    949\u001b[0m     \u001b[38;5;66;03m# stateless function.\u001b[39;00m\n\u001b[1;32m--> 950\u001b[0m     \u001b[38;5;28;01mreturn\u001b[39;00m \u001b[38;5;28mself\u001b[39m\u001b[38;5;241m.\u001b[39m_stateless_fn(\u001b[38;5;241m*\u001b[39margs, \u001b[38;5;241m*\u001b[39m\u001b[38;5;241m*\u001b[39mkwds)\n\u001b[0;32m    951\u001b[0m \u001b[38;5;28;01melse\u001b[39;00m:\n\u001b[0;32m    952\u001b[0m   _, _, _, filtered_flat_args \u001b[38;5;241m=\u001b[39m \\\n\u001b[0;32m    953\u001b[0m       \u001b[38;5;28mself\u001b[39m\u001b[38;5;241m.\u001b[39m_stateful_fn\u001b[38;5;241m.\u001b[39m_function_spec\u001b[38;5;241m.\u001b[39mcanonicalize_function_inputs(  \u001b[38;5;66;03m# pylint: disable=protected-access\u001b[39;00m\n\u001b[0;32m    954\u001b[0m           \u001b[38;5;241m*\u001b[39margs, \u001b[38;5;241m*\u001b[39m\u001b[38;5;241m*\u001b[39mkwds)\n",
      "File \u001b[1;32mD:\\miniconda\\lib\\site-packages\\tensorflow\\python\\eager\\function.py:3039\u001b[0m, in \u001b[0;36mFunction.__call__\u001b[1;34m(self, *args, **kwargs)\u001b[0m\n\u001b[0;32m   3036\u001b[0m \u001b[38;5;28;01mwith\u001b[39;00m \u001b[38;5;28mself\u001b[39m\u001b[38;5;241m.\u001b[39m_lock:\n\u001b[0;32m   3037\u001b[0m   (graph_function,\n\u001b[0;32m   3038\u001b[0m    filtered_flat_args) \u001b[38;5;241m=\u001b[39m \u001b[38;5;28mself\u001b[39m\u001b[38;5;241m.\u001b[39m_maybe_define_function(args, kwargs)\n\u001b[1;32m-> 3039\u001b[0m \u001b[38;5;28;01mreturn\u001b[39;00m \u001b[43mgraph_function\u001b[49m\u001b[38;5;241;43m.\u001b[39;49m\u001b[43m_call_flat\u001b[49m\u001b[43m(\u001b[49m\n\u001b[0;32m   3040\u001b[0m \u001b[43m    \u001b[49m\u001b[43mfiltered_flat_args\u001b[49m\u001b[43m,\u001b[49m\u001b[43m \u001b[49m\u001b[43mcaptured_inputs\u001b[49m\u001b[38;5;241;43m=\u001b[39;49m\u001b[43mgraph_function\u001b[49m\u001b[38;5;241;43m.\u001b[39;49m\u001b[43mcaptured_inputs\u001b[49m\u001b[43m)\u001b[49m\n",
      "File \u001b[1;32mD:\\miniconda\\lib\\site-packages\\tensorflow\\python\\eager\\function.py:1963\u001b[0m, in \u001b[0;36mConcreteFunction._call_flat\u001b[1;34m(self, args, captured_inputs, cancellation_manager)\u001b[0m\n\u001b[0;32m   1959\u001b[0m possible_gradient_type \u001b[38;5;241m=\u001b[39m gradients_util\u001b[38;5;241m.\u001b[39mPossibleTapeGradientTypes(args)\n\u001b[0;32m   1960\u001b[0m \u001b[38;5;28;01mif\u001b[39;00m (possible_gradient_type \u001b[38;5;241m==\u001b[39m gradients_util\u001b[38;5;241m.\u001b[39mPOSSIBLE_GRADIENT_TYPES_NONE\n\u001b[0;32m   1961\u001b[0m     \u001b[38;5;129;01mand\u001b[39;00m executing_eagerly):\n\u001b[0;32m   1962\u001b[0m   \u001b[38;5;66;03m# No tape is watching; skip to running the function.\u001b[39;00m\n\u001b[1;32m-> 1963\u001b[0m   \u001b[38;5;28;01mreturn\u001b[39;00m \u001b[38;5;28mself\u001b[39m\u001b[38;5;241m.\u001b[39m_build_call_outputs(\u001b[38;5;28;43mself\u001b[39;49m\u001b[38;5;241;43m.\u001b[39;49m\u001b[43m_inference_function\u001b[49m\u001b[38;5;241;43m.\u001b[39;49m\u001b[43mcall\u001b[49m\u001b[43m(\u001b[49m\n\u001b[0;32m   1964\u001b[0m \u001b[43m      \u001b[49m\u001b[43mctx\u001b[49m\u001b[43m,\u001b[49m\u001b[43m \u001b[49m\u001b[43margs\u001b[49m\u001b[43m,\u001b[49m\u001b[43m \u001b[49m\u001b[43mcancellation_manager\u001b[49m\u001b[38;5;241;43m=\u001b[39;49m\u001b[43mcancellation_manager\u001b[49m\u001b[43m)\u001b[49m)\n\u001b[0;32m   1965\u001b[0m forward_backward \u001b[38;5;241m=\u001b[39m \u001b[38;5;28mself\u001b[39m\u001b[38;5;241m.\u001b[39m_select_forward_and_backward_functions(\n\u001b[0;32m   1966\u001b[0m     args,\n\u001b[0;32m   1967\u001b[0m     possible_gradient_type,\n\u001b[0;32m   1968\u001b[0m     executing_eagerly)\n\u001b[0;32m   1969\u001b[0m forward_function, args_with_tangents \u001b[38;5;241m=\u001b[39m forward_backward\u001b[38;5;241m.\u001b[39mforward()\n",
      "File \u001b[1;32mD:\\miniconda\\lib\\site-packages\\tensorflow\\python\\eager\\function.py:591\u001b[0m, in \u001b[0;36m_EagerDefinedFunction.call\u001b[1;34m(self, ctx, args, cancellation_manager)\u001b[0m\n\u001b[0;32m    589\u001b[0m \u001b[38;5;28;01mwith\u001b[39;00m _InterpolateFunctionError(\u001b[38;5;28mself\u001b[39m):\n\u001b[0;32m    590\u001b[0m   \u001b[38;5;28;01mif\u001b[39;00m cancellation_manager \u001b[38;5;129;01mis\u001b[39;00m \u001b[38;5;28;01mNone\u001b[39;00m:\n\u001b[1;32m--> 591\u001b[0m     outputs \u001b[38;5;241m=\u001b[39m \u001b[43mexecute\u001b[49m\u001b[38;5;241;43m.\u001b[39;49m\u001b[43mexecute\u001b[49m\u001b[43m(\u001b[49m\n\u001b[0;32m    592\u001b[0m \u001b[43m        \u001b[49m\u001b[38;5;28;43mstr\u001b[39;49m\u001b[43m(\u001b[49m\u001b[38;5;28;43mself\u001b[39;49m\u001b[38;5;241;43m.\u001b[39;49m\u001b[43msignature\u001b[49m\u001b[38;5;241;43m.\u001b[39;49m\u001b[43mname\u001b[49m\u001b[43m)\u001b[49m\u001b[43m,\u001b[49m\n\u001b[0;32m    593\u001b[0m \u001b[43m        \u001b[49m\u001b[43mnum_outputs\u001b[49m\u001b[38;5;241;43m=\u001b[39;49m\u001b[38;5;28;43mself\u001b[39;49m\u001b[38;5;241;43m.\u001b[39;49m\u001b[43m_num_outputs\u001b[49m\u001b[43m,\u001b[49m\n\u001b[0;32m    594\u001b[0m \u001b[43m        \u001b[49m\u001b[43minputs\u001b[49m\u001b[38;5;241;43m=\u001b[39;49m\u001b[43margs\u001b[49m\u001b[43m,\u001b[49m\n\u001b[0;32m    595\u001b[0m \u001b[43m        \u001b[49m\u001b[43mattrs\u001b[49m\u001b[38;5;241;43m=\u001b[39;49m\u001b[43mattrs\u001b[49m\u001b[43m,\u001b[49m\n\u001b[0;32m    596\u001b[0m \u001b[43m        \u001b[49m\u001b[43mctx\u001b[49m\u001b[38;5;241;43m=\u001b[39;49m\u001b[43mctx\u001b[49m\u001b[43m)\u001b[49m\n\u001b[0;32m    597\u001b[0m   \u001b[38;5;28;01melse\u001b[39;00m:\n\u001b[0;32m    598\u001b[0m     outputs \u001b[38;5;241m=\u001b[39m execute\u001b[38;5;241m.\u001b[39mexecute_with_cancellation(\n\u001b[0;32m    599\u001b[0m         \u001b[38;5;28mstr\u001b[39m(\u001b[38;5;28mself\u001b[39m\u001b[38;5;241m.\u001b[39msignature\u001b[38;5;241m.\u001b[39mname),\n\u001b[0;32m    600\u001b[0m         num_outputs\u001b[38;5;241m=\u001b[39m\u001b[38;5;28mself\u001b[39m\u001b[38;5;241m.\u001b[39m_num_outputs,\n\u001b[1;32m   (...)\u001b[0m\n\u001b[0;32m    603\u001b[0m         ctx\u001b[38;5;241m=\u001b[39mctx,\n\u001b[0;32m    604\u001b[0m         cancellation_manager\u001b[38;5;241m=\u001b[39mcancellation_manager)\n",
      "File \u001b[1;32mD:\\miniconda\\lib\\site-packages\\tensorflow\\python\\eager\\execute.py:59\u001b[0m, in \u001b[0;36mquick_execute\u001b[1;34m(op_name, num_outputs, inputs, attrs, ctx, name)\u001b[0m\n\u001b[0;32m     57\u001b[0m \u001b[38;5;28;01mtry\u001b[39;00m:\n\u001b[0;32m     58\u001b[0m   ctx\u001b[38;5;241m.\u001b[39mensure_initialized()\n\u001b[1;32m---> 59\u001b[0m   tensors \u001b[38;5;241m=\u001b[39m \u001b[43mpywrap_tfe\u001b[49m\u001b[38;5;241;43m.\u001b[39;49m\u001b[43mTFE_Py_Execute\u001b[49m\u001b[43m(\u001b[49m\u001b[43mctx\u001b[49m\u001b[38;5;241;43m.\u001b[39;49m\u001b[43m_handle\u001b[49m\u001b[43m,\u001b[49m\u001b[43m \u001b[49m\u001b[43mdevice_name\u001b[49m\u001b[43m,\u001b[49m\u001b[43m \u001b[49m\u001b[43mop_name\u001b[49m\u001b[43m,\u001b[49m\n\u001b[0;32m     60\u001b[0m \u001b[43m                                      \u001b[49m\u001b[43minputs\u001b[49m\u001b[43m,\u001b[49m\u001b[43m \u001b[49m\u001b[43mattrs\u001b[49m\u001b[43m,\u001b[49m\u001b[43m \u001b[49m\u001b[43mnum_outputs\u001b[49m\u001b[43m)\u001b[49m\n\u001b[0;32m     61\u001b[0m \u001b[38;5;28;01mexcept\u001b[39;00m core\u001b[38;5;241m.\u001b[39m_NotOkStatusException \u001b[38;5;28;01mas\u001b[39;00m e:\n\u001b[0;32m     62\u001b[0m   \u001b[38;5;28;01mif\u001b[39;00m name \u001b[38;5;129;01mis\u001b[39;00m \u001b[38;5;129;01mnot\u001b[39;00m \u001b[38;5;28;01mNone\u001b[39;00m:\n",
      "\u001b[1;31mResourceExhaustedError\u001b[0m:  OOM when allocating tensor with shape[5888,3072] and type float on /job:localhost/replica:0/task:0/device:GPU:0 by allocator GPU_0_bfc\n\t [[node tf_roberta_for_sequence_classification/roberta/encoder/layer_._9/intermediate/dense/Tensordot/MatMul (defined at D:\\miniconda\\lib\\site-packages\\transformers\\models\\roberta\\modeling_tf_roberta.py:390) ]]\nHint: If you want to see a list of allocated tensors when OOM happens, add report_tensor_allocations_upon_oom to RunOptions for current allocation info. This isn't available when running in Eager mode.\n [Op:__inference_train_function_24453]\n\nFunction call stack:\ntrain_function\n"
     ]
    }
   ],
   "source": [
    "import numpy as np\n",
    "from tensorflow.keras.losses import SparseCategoricalCrossentropy\n",
    "from tensorflow.keras.optimizers import Adam\n",
    "from tensorflow.keras.optimizers.schedules import PolynomialDecay\n",
    "from transformers import TFAutoModelForSequenceClassification\n",
    "\n",
    "batch_size = 128\n",
    "# batch_size = 16 * strategy.num_replicas_in_sync\n",
    "\n",
    "num_epochs = 5\n",
    "num_train_steps = (len(x_train_input['input_ids']) // batch_size) * num_epochs\n",
    "\n",
    "# Define lr_scheduler\n",
    "lr_scheduler = PolynomialDecay(\n",
    "    initial_learning_rate=5e-5,\n",
    "    end_learning_rate=0.,\n",
    "    decay_steps=num_train_steps\n",
    "    )\n",
    "\n",
    "# Define optimizer with lr_scheduler\n",
    "opt = Adam(learning_rate=lr_scheduler)\n",
    "loss = SparseCategoricalCrossentropy(from_logits=True)\n",
    "\n",
    "\n",
    "\n",
    "model = TFAutoModelForSequenceClassification.from_pretrained(checkpoint, num_labels=2, return_dict=False) # TFAutoModel.from_pretrained(checkpoint)\n",
    "model.compile(optimizer=opt, loss=loss, metrics=['accuracy'])\n",
    "\n",
    "\n",
    "model.fit(\n",
    "    x_train_input,\n",
    "    np.array(y_train), \n",
    "    validation_data=(\n",
    "        x_val_input,\n",
    "        np.array(y_val),\n",
    "    ),\n",
    "    batch_size=batch_size, \n",
    "    epochs=num_epochs\n",
    ")"
   ]
  },
  {
   "cell_type": "code",
   "execution_count": null,
   "id": "02c0ac5b",
   "metadata": {
    "ExecuteTime": {
     "end_time": "2022-04-02T16:31:54.271098Z",
     "start_time": "2022-04-02T16:31:54.271098Z"
    }
   },
   "outputs": [],
   "source": [
    "# # clear gpu memory\n",
    "# from numba import cuda \n",
    "# device = cuda.get_current_device()\n",
    "# device.reset()"
   ]
  },
  {
   "cell_type": "code",
   "execution_count": null,
   "id": "e12a4017",
   "metadata": {
    "ExecuteTime": {
     "end_time": "2022-04-02T16:31:54.272098Z",
     "start_time": "2022-04-02T16:31:54.272098Z"
    }
   },
   "outputs": [],
   "source": [
    "ch = model(x_test_input, return_dict=True)"
   ]
  },
  {
   "cell_type": "code",
   "execution_count": null,
   "id": "b3bc73f7",
   "metadata": {
    "ExecuteTime": {
     "end_time": "2022-04-02T16:31:54.273098Z",
     "start_time": "2022-04-02T16:31:54.273098Z"
    }
   },
   "outputs": [],
   "source": [
    "targets = [np.argmax(x) for x in ch['logits']]\n",
    "# targets\n",
    "ids = test.id.to_list()"
   ]
  },
  {
   "cell_type": "code",
   "execution_count": null,
   "id": "e4598452",
   "metadata": {
    "ExecuteTime": {
     "end_time": "2022-04-02T16:31:54.274096Z",
     "start_time": "2022-04-02T16:31:54.274096Z"
    }
   },
   "outputs": [],
   "source": [
    "submission = pd.DataFrame({'id': ids, 'target': targets})\n",
    "submission.to_csv('E:/downloads/submission.csv', index=False)"
   ]
  },
  {
   "cell_type": "markdown",
   "id": "98494dbb",
   "metadata": {
    "id": "98494dbb"
   },
   "source": [
    "# Modeling"
   ]
  },
  {
   "cell_type": "markdown",
   "id": "9eb0c288",
   "metadata": {},
   "source": [
    "## RNN"
   ]
  },
  {
   "cell_type": "code",
   "execution_count": null,
   "id": "0a10176b",
   "metadata": {
    "ExecuteTime": {
     "end_time": "2022-04-02T16:31:54.275099Z",
     "start_time": "2022-04-02T16:31:54.275099Z"
    }
   },
   "outputs": [],
   "source": [
    "import tensorflow as tf\n",
    "from tensorflow.keras.metrics import AUC\n",
    "import time\n",
    "import logging\n",
    "import gc"
   ]
  },
  {
   "cell_type": "code",
   "execution_count": null,
   "id": "bb82c530",
   "metadata": {
    "ExecuteTime": {
     "end_time": "2022-04-02T16:31:54.276099Z",
     "start_time": "2022-04-02T16:31:54.276099Z"
    }
   },
   "outputs": [],
   "source": [
    "VOCAB_SIZE = 1000\n",
    "encoder = tf.keras.layers.TextVectorization(max_tokens=VOCAB_SIZE)\n",
    "\n",
    "encoder.adapt(df_data[df_data.target.isnull() == False]['final_text'])\n",
    "vocab = np.array(encoder.get_vocabulary())\n",
    "vocab[:20]"
   ]
  },
  {
   "cell_type": "code",
   "execution_count": null,
   "id": "1d391d26",
   "metadata": {
    "ExecuteTime": {
     "end_time": "2022-04-02T16:31:54.277101Z",
     "start_time": "2022-04-02T16:31:54.277101Z"
    }
   },
   "outputs": [],
   "source": [
    "stop"
   ]
  },
  {
   "cell_type": "code",
   "execution_count": null,
   "id": "ebf45c4b",
   "metadata": {
    "ExecuteTime": {
     "end_time": "2022-04-02T16:31:54.278103Z",
     "start_time": "2022-04-02T16:31:54.278103Z"
    }
   },
   "outputs": [],
   "source": [
    "def plot_graphs(history, metric):\n",
    "    plt.plot(history.history[metric])\n",
    "    plt.plot(history.history['val_'+metric], '')\n",
    "    plt.xlabel(\"Epochs\")\n",
    "    plt.ylabel(metric)\n",
    "    plt.legend([metric, 'val_'+metric])\n",
    "    plt.show()"
   ]
  },
  {
   "cell_type": "code",
   "execution_count": null,
   "id": "e197525a",
   "metadata": {
    "ExecuteTime": {
     "end_time": "2022-04-02T16:31:54.280098Z",
     "start_time": "2022-04-02T16:31:54.280098Z"
    }
   },
   "outputs": [],
   "source": [
    "# from keras import backend as K\n",
    "# def recall_m(y_true, y_pred):\n",
    "#     true_positives = K.sum(K.round(K.clip(y_true * y_pred, 0, 1)))\n",
    "#     possible_positives = K.sum(K.round(K.clip(y_true, 0, 1)))\n",
    "#     recall = true_positives / (possible_positives + K.epsilon())\n",
    "#     return recall\n",
    "\n",
    "# def precision_m(y_true, y_pred):\n",
    "#     true_positives = K.sum(K.round(K.clip(y_true * y_pred, 0, 1)))\n",
    "#     predicted_positives = K.sum(K.round(K.clip(y_pred, 0, 1)))\n",
    "#     precision = true_positives / (predicted_positives + K.epsilon())\n",
    "#     return precision\n",
    "\n",
    "# def f1_m(y_true, y_pred):\n",
    "#     precision = precision_m(y_true, y_pred)\n",
    "#     recall = recall_m(y_true, y_pred)\n",
    "#     return 2*((precision*recall)/(precision+recall+K.epsilon()))"
   ]
  },
  {
   "cell_type": "code",
   "execution_count": null,
   "id": "7edc9387",
   "metadata": {
    "ExecuteTime": {
     "end_time": "2022-04-02T16:31:54.281100Z",
     "start_time": "2022-04-02T16:31:54.281100Z"
    }
   },
   "outputs": [],
   "source": [
    "def createModel(): \n",
    "    model = tf.keras.Sequential([\n",
    "        encoder,\n",
    "        tf.keras.layers.Embedding(len(encoder.get_vocabulary()), 64, mask_zero=True),\n",
    "        tf.keras.layers.Bidirectional(tf.keras.layers.LSTM(64,  return_sequences=True)),\n",
    "        tf.keras.layers.Bidirectional(tf.keras.layers.LSTM(32)),\n",
    "        tf.keras.layers.Dense(64, activation='relu'),\n",
    "        tf.keras.layers.Dropout(0.5),\n",
    "        tf.keras.layers.Dense(1)\n",
    "    ])\n",
    "\n",
    "    model.compile(loss=tf.keras.losses.BinaryCrossentropy(from_logits=True),\n",
    "                  optimizer=tf.keras.optimizers.Adam(),\n",
    "                  metrics=['accuracy'])\n",
    "    return(model)"
   ]
  },
  {
   "cell_type": "markdown",
   "id": "ba644dfa",
   "metadata": {},
   "source": [
    "1. The `first layer` is the encoder, which converts the text to a sequence of token indices.\n",
    "2. After the encoder is an embedding layer. An `embedding layer` stores one vector per word. When called, it converts the sequences of word indices to sequences of vectors. These vectors are trainable. After training (on enough data), words with similar meanings often have similar vectors.\n",
    "3. The `tf.keras.layers.Bidirectional` wrapper can also be used with an RNN layer. This propagates the input `forward` and `backwards` through the RNN layer and then concatenates the `final output`."
   ]
  },
  {
   "cell_type": "code",
   "execution_count": null,
   "id": "0ce1c68d",
   "metadata": {
    "ExecuteTime": {
     "end_time": "2022-04-02T16:31:54.282099Z",
     "start_time": "2022-04-02T16:31:54.282099Z"
    }
   },
   "outputs": [],
   "source": [
    "X = df_data[df_data.target.isnull() == False]['final_text']\n",
    "y = df_data[df_data.target.isnull() == False]['target']\n",
    "\n",
    "df_test = df_data[df_data.target.isnull() == True]['final_text']"
   ]
  },
  {
   "cell_type": "code",
   "execution_count": null,
   "id": "d6cff662",
   "metadata": {
    "ExecuteTime": {
     "end_time": "2022-04-02T16:31:54.283100Z",
     "start_time": "2022-04-02T16:31:54.283100Z"
    }
   },
   "outputs": [],
   "source": [
    "from sklearn.model_selection import KFold\n",
    "from keras.callbacks import EarlyStopping\n",
    "kf = KFold(n_splits=2, shuffle=True, random_state=42)\n",
    "\n",
    "test_preds = []\n",
    "\n",
    "for fold, (train_idx, test_idx) in enumerate(kf.split(X, y)):\n",
    "    print(f\"****** fold: {fold+1} *******\")\n",
    "    X_train, X_valid = X[train_idx], X[test_idx]\n",
    "    y_train, y_valid = y[train_idx], y[test_idx]\n",
    "    \n",
    "    es = EarlyStopping(monitor='val_accuracy',mode='max', patience=3, verbose=1, restore_best_weights=True)\n",
    "    \n",
    "    model = createModel()\n",
    "    \n",
    "    history = model.fit(X_train, y_train, validation_data=(X_valid, y_valid), epochs=50, batch_size = 64, callbacks = [es])\n",
    "    test_preds.append(model.predict(df_test).squeeze())\n",
    "    plot_graphs(history, 'accuracy')\n",
    "    del X_train, X_valid, y_train, y_valid, model, history\n",
    "    gc.collect() "
   ]
  },
  {
   "cell_type": "code",
   "execution_count": null,
   "id": "41a20c36",
   "metadata": {
    "ExecuteTime": {
     "end_time": "2022-04-02T16:31:54.284100Z",
     "start_time": "2022-04-02T16:31:54.284100Z"
    }
   },
   "outputs": [],
   "source": [
    "model = createModel()\n",
    "model.fit(X, y,epochs=7, batch_size = 64)"
   ]
  },
  {
   "cell_type": "code",
   "execution_count": null,
   "id": "1463af73",
   "metadata": {
    "ExecuteTime": {
     "end_time": "2022-04-02T16:31:54.286098Z",
     "start_time": "2022-04-02T16:31:54.286098Z"
    }
   },
   "outputs": [],
   "source": [
    "np.array([df_test])"
   ]
  },
  {
   "cell_type": "code",
   "execution_count": null,
   "id": "2251e7cd",
   "metadata": {
    "ExecuteTime": {
     "end_time": "2022-04-02T16:31:54.287098Z",
     "start_time": "2022-04-02T16:31:54.287098Z"
    }
   },
   "outputs": [],
   "source": [
    "predictions = model.predict(np.array([df_test]))\n"
   ]
  },
  {
   "cell_type": "code",
   "execution_count": null,
   "id": "8e90a053",
   "metadata": {
    "ExecuteTime": {
     "end_time": "2022-04-02T16:31:54.288097Z",
     "start_time": "2022-04-02T16:31:54.288097Z"
    }
   },
   "outputs": [],
   "source": [
    "sum(test_preds)/kf.n_splits"
   ]
  },
  {
   "cell_type": "code",
   "execution_count": null,
   "id": "9ca6d310",
   "metadata": {
    "ExecuteTime": {
     "end_time": "2022-04-02T16:21:09.990294Z",
     "start_time": "2022-04-02T16:21:09.990294Z"
    },
    "id": "9ca6d310"
   },
   "outputs": [],
   "source": []
  },
  {
   "cell_type": "code",
   "execution_count": null,
   "id": "c9f07e1c",
   "metadata": {
    "ExecuteTime": {
     "end_time": "2022-04-02T16:31:54.289098Z",
     "start_time": "2022-04-02T16:31:54.289098Z"
    },
    "id": "c9f07e1c"
   },
   "outputs": [],
   "source": [
    "sub.head()"
   ]
  },
  {
   "cell_type": "code",
   "execution_count": null,
   "id": "4616a1b2",
   "metadata": {
    "ExecuteTime": {
     "end_time": "2022-04-02T16:31:54.290098Z",
     "start_time": "2022-04-02T16:31:54.290098Z"
    }
   },
   "outputs": [],
   "source": [
    "len(test_preds[0])"
   ]
  },
  {
   "cell_type": "code",
   "execution_count": null,
   "id": "4ca7124c",
   "metadata": {
    "ExecuteTime": {
     "end_time": "2022-04-02T16:31:54.291098Z",
     "start_time": "2022-04-02T16:31:54.291098Z"
    }
   },
   "outputs": [],
   "source": [
    "sum(test_preds[2]/3263)"
   ]
  },
  {
   "cell_type": "code",
   "execution_count": null,
   "id": "e3256257",
   "metadata": {
    "ExecuteTime": {
     "end_time": "2022-04-02T16:31:54.292099Z",
     "start_time": "2022-04-02T16:31:54.292099Z"
    },
    "id": "e3256257"
   },
   "outputs": [],
   "source": [
    "       \n",
    "def save_submission(y_pred):  \n",
    "    sub[\"target\"] = y_pred\n",
    "    assert 2 == sub.shape[1]   \n",
    "    sub.to_csv(\"E:/downloads/sample_submission.csv\", index=False)\n",
    "    return sub\n",
    "save_submission(y_preds).head(3)"
   ]
  },
  {
   "cell_type": "code",
   "execution_count": null,
   "id": "f803eba5",
   "metadata": {
    "id": "f803eba5"
   },
   "outputs": [],
   "source": []
  }
 ],
 "metadata": {
  "accelerator": "GPU",
  "colab": {
   "name": "Natural Language Processing with Disaster Tweets.ipynb",
   "provenance": [],
   "toc_visible": true
  },
  "kernelspec": {
   "display_name": "Python 3 (ipykernel)",
   "language": "python",
   "name": "python3"
  },
  "language_info": {
   "codemirror_mode": {
    "name": "ipython",
    "version": 3
   },
   "file_extension": ".py",
   "mimetype": "text/x-python",
   "name": "python",
   "nbconvert_exporter": "python",
   "pygments_lexer": "ipython3",
   "version": "3.9.10"
  },
  "toc": {
   "base_numbering": 1,
   "nav_menu": {},
   "number_sections": true,
   "sideBar": true,
   "skip_h1_title": false,
   "title_cell": "Table of Contents",
   "title_sidebar": "Contents",
   "toc_cell": false,
   "toc_position": {
    "height": "calc(100% - 180px)",
    "left": "10px",
    "top": "150px",
    "width": "284.968px"
   },
   "toc_section_display": true,
   "toc_window_display": true
  },
  "varInspector": {
   "cols": {
    "lenName": 16,
    "lenType": 16,
    "lenVar": 40
   },
   "kernels_config": {
    "python": {
     "delete_cmd_postfix": "",
     "delete_cmd_prefix": "del ",
     "library": "var_list.py",
     "varRefreshCmd": "print(var_dic_list())"
    },
    "r": {
     "delete_cmd_postfix": ") ",
     "delete_cmd_prefix": "rm(",
     "library": "var_list.r",
     "varRefreshCmd": "cat(var_dic_list()) "
    }
   },
   "types_to_exclude": [
    "module",
    "function",
    "builtin_function_or_method",
    "instance",
    "_Feature"
   ],
   "window_display": false
  }
 },
 "nbformat": 4,
 "nbformat_minor": 5
}
